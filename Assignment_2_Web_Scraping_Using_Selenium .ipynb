{
 "cells": [
  {
   "cell_type": "markdown",
   "metadata": {},
   "source": [
    "##### Q.No. 1:- Write a python program to scrape data for “Data Analyst” Job position in “Bangalore” location. You have to scrape the job-title, job-location, company_name, experience_required. You have to scrape first 10 jobs data.\n",
    "\n",
    "\n",
    "-------------------------------------------------------------------------------------------------------------------------------\n"
   ]
  },
  {
   "cell_type": "code",
   "execution_count": 1,
   "metadata": {},
   "outputs": [
    {
     "name": "stdout",
     "output_type": "stream",
     "text": [
      "Requirement already satisfied: selenium in c:\\users\\ajitesh\\anaconda3\\lib\\site-packages (3.141.0)\n",
      "Requirement already satisfied: urllib3 in c:\\users\\ajitesh\\anaconda3\\lib\\site-packages (from selenium) (1.25.11)\n"
     ]
    }
   ],
   "source": [
    "# First we'll install Selenium Library \n",
    "\n",
    "!pip install selenium"
   ]
  },
  {
   "cell_type": "markdown",
   "metadata": {},
   "source": [
    "- Since I've already installed the selenium Library in my system so it is showing Requirement already satisfied"
   ]
  },
  {
   "cell_type": "markdown",
   "metadata": {},
   "source": [
    "###### Now we'll import all the required Libraries"
   ]
  },
  {
   "cell_type": "code",
   "execution_count": 1,
   "metadata": {},
   "outputs": [
    {
     "name": "stdout",
     "output_type": "stream",
     "text": [
      "Required Libraries imported successfully\n"
     ]
    }
   ],
   "source": [
    "# Importing required libraries\n",
    "\n",
    "import pandas as pd\n",
    "import selenium\n",
    "import time\n",
    "from selenium import webdriver\n",
    "from selenium.common.exceptions import NoSuchElementException\n",
    "\n",
    "print('Required Libraries imported successfully')"
   ]
  },
  {
   "cell_type": "code",
   "execution_count": 2,
   "metadata": {},
   "outputs": [],
   "source": [
    "# Now we'll connect with the webdriver\n",
    "\n",
    "driver = webdriver.Chrome('chromedriver.exe')"
   ]
  },
  {
   "cell_type": "markdown",
   "metadata": {},
   "source": [
    "- The above mentioned steps are common for all the questions. So, we'll not repeat the steps. It'll be used in all the questions."
   ]
  },
  {
   "cell_type": "code",
   "execution_count": 5,
   "metadata": {},
   "outputs": [],
   "source": [
    "# We're successfully connected with the web-driver. Now we'll load the webpage from where we need to scrape the data.\n",
    "\n",
    "url1 = 'https://www.naukri.com/'\n",
    "\n",
    "driver.get(url1)"
   ]
  },
  {
   "cell_type": "code",
   "execution_count": 7,
   "metadata": {},
   "outputs": [
    {
     "data": {
      "text/plain": [
       "<selenium.webdriver.remote.webelement.WebElement (session=\"c4a6abc83e189c51ed3fda8a1b775ee2\", element=\"a06b283b-34c5-48ac-88ce-86dce21505c6\")>"
      ]
     },
     "execution_count": 7,
     "metadata": {},
     "output_type": "execute_result"
    }
   ],
   "source": [
    "# We've successfully loaded the webpage. Now we'll extract the web elements of the search panel to enter the desired value.\n",
    "# For this we're using xpath\n",
    "\n",
    "search_job = driver.find_element_by_xpath('//input[@class=\"sugInp\"]')\n",
    "\n",
    "search_job"
   ]
  },
  {
   "cell_type": "code",
   "execution_count": 8,
   "metadata": {},
   "outputs": [],
   "source": [
    "# Writing value in the search bar\n",
    "# For this we'll use send_keys\n",
    "\n",
    "search_job.send_keys(\"Data Analyst\")"
   ]
  },
  {
   "cell_type": "code",
   "execution_count": 9,
   "metadata": {},
   "outputs": [
    {
     "data": {
      "text/plain": [
       "<selenium.webdriver.remote.webelement.WebElement (session=\"c4a6abc83e189c51ed3fda8a1b775ee2\", element=\"cb7356e1-6c25-48af-bcca-dac45d23374e\")>"
      ]
     },
     "execution_count": 9,
     "metadata": {},
     "output_type": "execute_result"
    }
   ],
   "source": [
    "# Now we'll enter the value of locations for which we are searching the job.\n",
    "# I'm using xpath for this.\n",
    "\n",
    "loc_tag = driver.find_element_by_xpath('//input[@name=\"location\"]')\n",
    "\n",
    "loc_tag"
   ]
  },
  {
   "cell_type": "code",
   "execution_count": 10,
   "metadata": {},
   "outputs": [],
   "source": [
    "# Writing the value of location in the location search bar\n",
    "\n",
    "loc_tag.send_keys(\"Bangalore\")"
   ]
  },
  {
   "cell_type": "code",
   "execution_count": 11,
   "metadata": {},
   "outputs": [
    {
     "data": {
      "text/plain": [
       "<selenium.webdriver.remote.webelement.WebElement (session=\"c4a6abc83e189c51ed3fda8a1b775ee2\", element=\"f020841c-6d36-4f67-bf59-39dd58baae08\")>"
      ]
     },
     "execution_count": 11,
     "metadata": {},
     "output_type": "execute_result"
    }
   ],
   "source": [
    "# Now we'll find the web-element of the search button using xpath.\n",
    "\n",
    "src_btn = driver.find_element_by_xpath('//button[@class=\"btn\"]')\n",
    "\n",
    "src_btn"
   ]
  },
  {
   "cell_type": "code",
   "execution_count": 12,
   "metadata": {},
   "outputs": [],
   "source": [
    "# Clickig on the serach button\n",
    "# For this we'll use click function.\n",
    "\n",
    "src_btn.click()"
   ]
  },
  {
   "cell_type": "code",
   "execution_count": 13,
   "metadata": {},
   "outputs": [
    {
     "data": {
      "text/plain": [
       "[<selenium.webdriver.remote.webelement.WebElement (session=\"c4a6abc83e189c51ed3fda8a1b775ee2\", element=\"ea26b5ee-1831-4d92-95ff-02d1445a3e45\")>,\n",
       " <selenium.webdriver.remote.webelement.WebElement (session=\"c4a6abc83e189c51ed3fda8a1b775ee2\", element=\"2920d264-2421-450e-ad67-38e3131e2aff\")>,\n",
       " <selenium.webdriver.remote.webelement.WebElement (session=\"c4a6abc83e189c51ed3fda8a1b775ee2\", element=\"0e4ca154-fde4-4f30-ba1e-7a05a114e8f5\")>,\n",
       " <selenium.webdriver.remote.webelement.WebElement (session=\"c4a6abc83e189c51ed3fda8a1b775ee2\", element=\"a1a82119-13b7-45b0-ad83-7a37f8050144\")>,\n",
       " <selenium.webdriver.remote.webelement.WebElement (session=\"c4a6abc83e189c51ed3fda8a1b775ee2\", element=\"25c870d3-03b9-4c22-970c-17baf08649f5\")>,\n",
       " <selenium.webdriver.remote.webelement.WebElement (session=\"c4a6abc83e189c51ed3fda8a1b775ee2\", element=\"84f785ff-e865-4a85-9a5c-8efae20664ff\")>,\n",
       " <selenium.webdriver.remote.webelement.WebElement (session=\"c4a6abc83e189c51ed3fda8a1b775ee2\", element=\"1a80ab46-ec69-4dab-afa4-324776482e6d\")>,\n",
       " <selenium.webdriver.remote.webelement.WebElement (session=\"c4a6abc83e189c51ed3fda8a1b775ee2\", element=\"e9dcf058-a7b5-4e80-8319-de10736fea0e\")>,\n",
       " <selenium.webdriver.remote.webelement.WebElement (session=\"c4a6abc83e189c51ed3fda8a1b775ee2\", element=\"5c4245bf-215d-4ae5-992b-867fcde41b33\")>,\n",
       " <selenium.webdriver.remote.webelement.WebElement (session=\"c4a6abc83e189c51ed3fda8a1b775ee2\", element=\"ff4cd856-0ebc-41ad-8658-842723eb87b8\")>,\n",
       " <selenium.webdriver.remote.webelement.WebElement (session=\"c4a6abc83e189c51ed3fda8a1b775ee2\", element=\"85d237eb-c014-48f5-838c-569c8538083b\")>,\n",
       " <selenium.webdriver.remote.webelement.WebElement (session=\"c4a6abc83e189c51ed3fda8a1b775ee2\", element=\"58b11e85-7180-46eb-84f7-c5e8569ade87\")>,\n",
       " <selenium.webdriver.remote.webelement.WebElement (session=\"c4a6abc83e189c51ed3fda8a1b775ee2\", element=\"ae09b518-ac80-426f-852c-b7fee4d1566f\")>,\n",
       " <selenium.webdriver.remote.webelement.WebElement (session=\"c4a6abc83e189c51ed3fda8a1b775ee2\", element=\"14a9f913-3197-46f0-b179-a82531363e9c\")>,\n",
       " <selenium.webdriver.remote.webelement.WebElement (session=\"c4a6abc83e189c51ed3fda8a1b775ee2\", element=\"0d60d50b-c70e-4c91-b848-0b8fb9eac1c6\")>,\n",
       " <selenium.webdriver.remote.webelement.WebElement (session=\"c4a6abc83e189c51ed3fda8a1b775ee2\", element=\"df480b65-76e2-40d2-9116-fca8291be395\")>,\n",
       " <selenium.webdriver.remote.webelement.WebElement (session=\"c4a6abc83e189c51ed3fda8a1b775ee2\", element=\"4552ba7c-1c8f-429a-9462-a6b2dacf5a5d\")>,\n",
       " <selenium.webdriver.remote.webelement.WebElement (session=\"c4a6abc83e189c51ed3fda8a1b775ee2\", element=\"22c508ca-8850-438e-acf1-715fab2b0f15\")>,\n",
       " <selenium.webdriver.remote.webelement.WebElement (session=\"c4a6abc83e189c51ed3fda8a1b775ee2\", element=\"e4b55747-bc82-44ed-ac61-3fa3ee51e5d6\")>,\n",
       " <selenium.webdriver.remote.webelement.WebElement (session=\"c4a6abc83e189c51ed3fda8a1b775ee2\", element=\"4d6e1a1b-37ed-4c56-885f-4f5a2c3e1f53\")>]"
      ]
     },
     "execution_count": 13,
     "metadata": {},
     "output_type": "execute_result"
    }
   ],
   "source": [
    "# Now using xpath we'll extract the web elements of the job titles.\n",
    "\n",
    "title_tag = driver.find_elements_by_xpath('//a[@class=\"title fw500 ellipsis\"]')\n",
    "\n",
    "title_tag"
   ]
  },
  {
   "cell_type": "code",
   "execution_count": 14,
   "metadata": {},
   "outputs": [
    {
     "data": {
      "text/plain": [
       "['Business Analyst / Data Analyst - SQL Queries, Power BI & Python exp.',\n",
       " 'Senior Data Analyst',\n",
       " 'Immediate job openings For Partner Consultant - Sizing(Data Analyst) ',\n",
       " 'Data Analyst',\n",
       " 'Data Analyst',\n",
       " 'Senior Data Analyst',\n",
       " 'Senior Data Analyst',\n",
       " 'Hiring- SR Data Analyst /Bangalore Start Up Company',\n",
       " 'Senior Data Analyst',\n",
       " 'Data Analyst, Component Engineering',\n",
       " 'Data Analyst(Immediate) - GSR Buz Services - Bangalore',\n",
       " 'Excel VBA Jobs Bangalore | VBA data analyst Jobs',\n",
       " 'Data Analyst',\n",
       " 'Business Analyst / Data Analyst - SQL Queries, Power BI & Python exp.',\n",
       " 'Data Analyst',\n",
       " 'Hiring For Data Analyst @ Flipkart on Contract',\n",
       " 'Business Data Analyst - MIS & Reporting',\n",
       " 'Data Analyst',\n",
       " 'Lab Data Analyst - SAS Progamming',\n",
       " 'Lead Data Analyst']"
      ]
     },
     "execution_count": 14,
     "metadata": {},
     "output_type": "execute_result"
    }
   ],
   "source": [
    "# Now we'll extract the text from the extracted web elements\n",
    "\n",
    "# We're using For Loop for this \n",
    "\n",
    "job_title = []\n",
    "\n",
    "for j in title_tag:\n",
    "    job_title.append(j.text)\n",
    "    \n",
    "job_title"
   ]
  },
  {
   "cell_type": "code",
   "execution_count": 15,
   "metadata": {},
   "outputs": [
    {
     "data": {
      "text/plain": [
       "['Business Analyst / Data Analyst - SQL Queries, Power BI & Python exp.',\n",
       " 'Senior Data Analyst',\n",
       " 'Immediate job openings For Partner Consultant - Sizing(Data Analyst) ',\n",
       " 'Data Analyst',\n",
       " 'Data Analyst',\n",
       " 'Senior Data Analyst',\n",
       " 'Senior Data Analyst',\n",
       " 'Hiring- SR Data Analyst /Bangalore Start Up Company',\n",
       " 'Senior Data Analyst',\n",
       " 'Data Analyst, Component Engineering']"
      ]
     },
     "execution_count": 15,
     "metadata": {},
     "output_type": "execute_result"
    }
   ],
   "source": [
    "# As per the question's requirement, we need only 10 jobs. So we're using indexing for this.\n",
    "\n",
    "jobs_titles = job_title[:10]\n",
    "\n",
    "jobs_titles"
   ]
  },
  {
   "cell_type": "code",
   "execution_count": 18,
   "metadata": {},
   "outputs": [
    {
     "data": {
      "text/plain": [
       "[<selenium.webdriver.remote.webelement.WebElement (session=\"c4a6abc83e189c51ed3fda8a1b775ee2\", element=\"3a899d40-0d19-4047-a8fc-2acb750123fd\")>,\n",
       " <selenium.webdriver.remote.webelement.WebElement (session=\"c4a6abc83e189c51ed3fda8a1b775ee2\", element=\"ef353210-3c40-4cf0-9933-8300d34f406b\")>,\n",
       " <selenium.webdriver.remote.webelement.WebElement (session=\"c4a6abc83e189c51ed3fda8a1b775ee2\", element=\"e38c9733-0dd4-4119-8a60-5fa43bfdad93\")>,\n",
       " <selenium.webdriver.remote.webelement.WebElement (session=\"c4a6abc83e189c51ed3fda8a1b775ee2\", element=\"00fc9d5c-7a05-47ed-bf43-faf39fce9965\")>,\n",
       " <selenium.webdriver.remote.webelement.WebElement (session=\"c4a6abc83e189c51ed3fda8a1b775ee2\", element=\"3bfe2003-3a39-4f21-9d1d-f676f415ed41\")>,\n",
       " <selenium.webdriver.remote.webelement.WebElement (session=\"c4a6abc83e189c51ed3fda8a1b775ee2\", element=\"2758f8e0-dac5-41f9-8c62-527c32e5c5d2\")>,\n",
       " <selenium.webdriver.remote.webelement.WebElement (session=\"c4a6abc83e189c51ed3fda8a1b775ee2\", element=\"ffcef50a-5092-48a8-a0d5-dcb9a63f6a2b\")>,\n",
       " <selenium.webdriver.remote.webelement.WebElement (session=\"c4a6abc83e189c51ed3fda8a1b775ee2\", element=\"1d8ea0ff-1c7e-4ec9-b12d-15cdda924aef\")>,\n",
       " <selenium.webdriver.remote.webelement.WebElement (session=\"c4a6abc83e189c51ed3fda8a1b775ee2\", element=\"a99b3cdb-7c70-4854-af67-87cb308d2ef9\")>,\n",
       " <selenium.webdriver.remote.webelement.WebElement (session=\"c4a6abc83e189c51ed3fda8a1b775ee2\", element=\"8f2a352b-9b53-4d33-9b99-7ed78d1d9202\")>,\n",
       " <selenium.webdriver.remote.webelement.WebElement (session=\"c4a6abc83e189c51ed3fda8a1b775ee2\", element=\"7b426d9c-23a2-422d-8810-a9224f14be75\")>,\n",
       " <selenium.webdriver.remote.webelement.WebElement (session=\"c4a6abc83e189c51ed3fda8a1b775ee2\", element=\"3bffac07-19d9-4eb7-a2f9-22fd35ad6038\")>,\n",
       " <selenium.webdriver.remote.webelement.WebElement (session=\"c4a6abc83e189c51ed3fda8a1b775ee2\", element=\"56846d95-4ed8-42cb-a08a-68af4a3921f9\")>,\n",
       " <selenium.webdriver.remote.webelement.WebElement (session=\"c4a6abc83e189c51ed3fda8a1b775ee2\", element=\"7cd7155f-3ef6-4a95-b1b7-740ed520610d\")>,\n",
       " <selenium.webdriver.remote.webelement.WebElement (session=\"c4a6abc83e189c51ed3fda8a1b775ee2\", element=\"b284d71a-b450-4f56-b9ff-6aa36b1c610e\")>,\n",
       " <selenium.webdriver.remote.webelement.WebElement (session=\"c4a6abc83e189c51ed3fda8a1b775ee2\", element=\"95ef413e-9a1d-4140-a95d-44c8d3bcd9e7\")>,\n",
       " <selenium.webdriver.remote.webelement.WebElement (session=\"c4a6abc83e189c51ed3fda8a1b775ee2\", element=\"6dde8181-d514-44e6-bf43-ef9d5327b9ac\")>,\n",
       " <selenium.webdriver.remote.webelement.WebElement (session=\"c4a6abc83e189c51ed3fda8a1b775ee2\", element=\"0be84cac-a172-431b-afad-f087744dd7f3\")>,\n",
       " <selenium.webdriver.remote.webelement.WebElement (session=\"c4a6abc83e189c51ed3fda8a1b775ee2\", element=\"8ff874e8-c2d4-4618-afd7-feb04e3b272f\")>,\n",
       " <selenium.webdriver.remote.webelement.WebElement (session=\"c4a6abc83e189c51ed3fda8a1b775ee2\", element=\"dfef4cf5-cabd-42cf-9d4b-c343ff707149\")>]"
      ]
     },
     "execution_count": 18,
     "metadata": {},
     "output_type": "execute_result"
    }
   ],
   "source": [
    "# Now we're extracting the locations web elements using xpath.\n",
    "\n",
    "loc_tag = driver.find_elements_by_xpath('//li[@class=\"fleft grey-text br2 placeHolderLi location\"]')\n",
    "\n",
    "loc_tag"
   ]
  },
  {
   "cell_type": "code",
   "execution_count": 19,
   "metadata": {},
   "outputs": [
    {
     "data": {
      "text/plain": [
       "['Chennai, Coimbatore, Bangalore/Bengaluru',\n",
       " 'Bangalore/Bengaluru',\n",
       " 'Bangalore/Bengaluru(Marathahalli)',\n",
       " 'Bangalore/Bengaluru',\n",
       " 'Bangalore/Bengaluru',\n",
       " 'Bangalore/Bengaluru',\n",
       " 'Bangalore/Bengaluru',\n",
       " 'Bangalore/Bengaluru',\n",
       " 'Bangalore/Bengaluru(2nd Phase JP Nagar)',\n",
       " 'Bangalore/Bengaluru',\n",
       " 'Bangalore/Bengaluru',\n",
       " 'Mysore/Mysuru, Coimbatore, Bangalore/Bengaluru',\n",
       " 'Bangalore/Bengaluru(Ulsoor)',\n",
       " 'Bangalore/Bengaluru',\n",
       " 'Bangalore/Bengaluru',\n",
       " 'Bangalore/Bengaluru',\n",
       " 'Mumbai, Bangalore/Bengaluru',\n",
       " 'Bangalore/Bengaluru',\n",
       " 'Bangalore/Bengaluru, Mumbai (All Areas)',\n",
       " 'Bangalore/Bengaluru']"
      ]
     },
     "execution_count": 19,
     "metadata": {},
     "output_type": "execute_result"
    }
   ],
   "source": [
    "# now we're extracting the texts from the web elements. We're using For loop for this.\n",
    "\n",
    "locations = []\n",
    "\n",
    "for l in loc_tag:\n",
    "    locations.append(l.text)\n",
    "    \n",
    "locations"
   ]
  },
  {
   "cell_type": "code",
   "execution_count": 20,
   "metadata": {},
   "outputs": [
    {
     "data": {
      "text/plain": [
       "['Chennai, Coimbatore, Bangalore/Bengaluru',\n",
       " 'Bangalore/Bengaluru',\n",
       " 'Bangalore/Bengaluru(Marathahalli)',\n",
       " 'Bangalore/Bengaluru',\n",
       " 'Bangalore/Bengaluru',\n",
       " 'Bangalore/Bengaluru',\n",
       " 'Bangalore/Bengaluru',\n",
       " 'Bangalore/Bengaluru',\n",
       " 'Bangalore/Bengaluru(2nd Phase JP Nagar)',\n",
       " 'Bangalore/Bengaluru']"
      ]
     },
     "execution_count": 20,
     "metadata": {},
     "output_type": "execute_result"
    }
   ],
   "source": [
    "# Now we'll use indexing to extract the locations of the first 10 listed jobs\n",
    "\n",
    "job_location = locations[:10]\n",
    "\n",
    "job_location"
   ]
  },
  {
   "cell_type": "code",
   "execution_count": 21,
   "metadata": {},
   "outputs": [
    {
     "data": {
      "text/plain": [
       "[<selenium.webdriver.remote.webelement.WebElement (session=\"c4a6abc83e189c51ed3fda8a1b775ee2\", element=\"e0bc9ed9-548b-491e-9ac3-c46f11325624\")>,\n",
       " <selenium.webdriver.remote.webelement.WebElement (session=\"c4a6abc83e189c51ed3fda8a1b775ee2\", element=\"a80bc14e-0083-414e-9874-8c79bac1e351\")>,\n",
       " <selenium.webdriver.remote.webelement.WebElement (session=\"c4a6abc83e189c51ed3fda8a1b775ee2\", element=\"b844e853-23fc-44ea-ad8d-b24564f96deb\")>,\n",
       " <selenium.webdriver.remote.webelement.WebElement (session=\"c4a6abc83e189c51ed3fda8a1b775ee2\", element=\"27edfd68-551e-402e-bef0-24411b4746be\")>,\n",
       " <selenium.webdriver.remote.webelement.WebElement (session=\"c4a6abc83e189c51ed3fda8a1b775ee2\", element=\"bc08b607-8a23-4825-b4d3-ed125065f530\")>,\n",
       " <selenium.webdriver.remote.webelement.WebElement (session=\"c4a6abc83e189c51ed3fda8a1b775ee2\", element=\"8f0544f2-66b2-4f14-925a-f69754c4a1b5\")>,\n",
       " <selenium.webdriver.remote.webelement.WebElement (session=\"c4a6abc83e189c51ed3fda8a1b775ee2\", element=\"cd96d481-6332-423d-aa68-9751871d0d77\")>,\n",
       " <selenium.webdriver.remote.webelement.WebElement (session=\"c4a6abc83e189c51ed3fda8a1b775ee2\", element=\"810166fe-cf20-445e-b65c-836563b5bcba\")>,\n",
       " <selenium.webdriver.remote.webelement.WebElement (session=\"c4a6abc83e189c51ed3fda8a1b775ee2\", element=\"e9e63506-bf23-4536-b9cd-1da59975ae60\")>,\n",
       " <selenium.webdriver.remote.webelement.WebElement (session=\"c4a6abc83e189c51ed3fda8a1b775ee2\", element=\"8d438d94-8812-43bb-b901-eae9676a04f0\")>,\n",
       " <selenium.webdriver.remote.webelement.WebElement (session=\"c4a6abc83e189c51ed3fda8a1b775ee2\", element=\"59751770-fe2f-4cd0-b631-1a321699bb91\")>,\n",
       " <selenium.webdriver.remote.webelement.WebElement (session=\"c4a6abc83e189c51ed3fda8a1b775ee2\", element=\"c6f60b66-f80e-4e9a-9152-efaa9fe0e9ae\")>,\n",
       " <selenium.webdriver.remote.webelement.WebElement (session=\"c4a6abc83e189c51ed3fda8a1b775ee2\", element=\"e332802e-ac52-4eb8-8c3b-fbdba45f575d\")>,\n",
       " <selenium.webdriver.remote.webelement.WebElement (session=\"c4a6abc83e189c51ed3fda8a1b775ee2\", element=\"19bb8d6f-45f0-446d-974a-23f667d35412\")>,\n",
       " <selenium.webdriver.remote.webelement.WebElement (session=\"c4a6abc83e189c51ed3fda8a1b775ee2\", element=\"7abefb5b-0dee-4582-96d5-aff9f8b80957\")>,\n",
       " <selenium.webdriver.remote.webelement.WebElement (session=\"c4a6abc83e189c51ed3fda8a1b775ee2\", element=\"2d761664-9975-4b59-9881-5b28e90004e3\")>,\n",
       " <selenium.webdriver.remote.webelement.WebElement (session=\"c4a6abc83e189c51ed3fda8a1b775ee2\", element=\"53c228b2-9b0c-40a3-a07d-56e098e2398e\")>,\n",
       " <selenium.webdriver.remote.webelement.WebElement (session=\"c4a6abc83e189c51ed3fda8a1b775ee2\", element=\"13afb4d5-54f1-4720-8425-4addf50bc679\")>,\n",
       " <selenium.webdriver.remote.webelement.WebElement (session=\"c4a6abc83e189c51ed3fda8a1b775ee2\", element=\"28590241-955b-45fe-b37e-9e325b57fa57\")>,\n",
       " <selenium.webdriver.remote.webelement.WebElement (session=\"c4a6abc83e189c51ed3fda8a1b775ee2\", element=\"15d266fb-020a-4161-b7f0-b27c53c8cb0b\")>]"
      ]
     },
     "execution_count": 21,
     "metadata": {},
     "output_type": "execute_result"
    }
   ],
   "source": [
    "# Let's find the web elements of the companies.\n",
    "\n",
    "cmp_tag = driver.find_elements_by_xpath('//a[@class=\"subTitle ellipsis fleft\"]')\n",
    "\n",
    "cmp_tag"
   ]
  },
  {
   "cell_type": "code",
   "execution_count": 22,
   "metadata": {},
   "outputs": [
    {
     "data": {
      "text/plain": [
       "['AN INFRACON PRIVATE LIMITED',\n",
       " 'Flipkart Internet Private Limited',\n",
       " 'RANDSTAD INDIA PVT LTD',\n",
       " 'Philips India Limited',\n",
       " 'Applied Materials',\n",
       " 'Microland Limited',\n",
       " 'Verizon Data Services India Pvt.Ltd',\n",
       " 'Jobs Territory',\n",
       " 'Liventus, Inc.',\n",
       " 'Rockwell Automation',\n",
       " 'GSR Business Services Private Limited.',\n",
       " 'Mind Circus Innovation',\n",
       " 'WEIWO Communication Pvt. Ltd.',\n",
       " 'Rivera Manpower Services',\n",
       " 'Flipkart Internet Private Limited',\n",
       " 'Flipkart Internet Private Limited',\n",
       " 'INTERTRUST GROUP',\n",
       " 'COLLABERA',\n",
       " 'IQVIA RDS India Pvt Ltd',\n",
       " 'Nalashaa Solutions India Pvt Ltd']"
      ]
     },
     "execution_count": 22,
     "metadata": {},
     "output_type": "execute_result"
    }
   ],
   "source": [
    "# Now we'll extract the texts from the web elements.\n",
    "\n",
    "company = []\n",
    "\n",
    "for c in cmp_tag:\n",
    "    company.append(c.text)\n",
    "    \n",
    "company"
   ]
  },
  {
   "cell_type": "code",
   "execution_count": 23,
   "metadata": {},
   "outputs": [
    {
     "data": {
      "text/plain": [
       "['AN INFRACON PRIVATE LIMITED',\n",
       " 'Flipkart Internet Private Limited',\n",
       " 'RANDSTAD INDIA PVT LTD',\n",
       " 'Philips India Limited',\n",
       " 'Applied Materials',\n",
       " 'Microland Limited',\n",
       " 'Verizon Data Services India Pvt.Ltd',\n",
       " 'Jobs Territory',\n",
       " 'Liventus, Inc.',\n",
       " 'Rockwell Automation']"
      ]
     },
     "execution_count": 23,
     "metadata": {},
     "output_type": "execute_result"
    }
   ],
   "source": [
    "# Extracting first 10 listed companies.\n",
    "\n",
    "job_company = company[:10]\n",
    "job_company"
   ]
  },
  {
   "cell_type": "code",
   "execution_count": 24,
   "metadata": {},
   "outputs": [
    {
     "data": {
      "text/plain": [
       "[<selenium.webdriver.remote.webelement.WebElement (session=\"c4a6abc83e189c51ed3fda8a1b775ee2\", element=\"edf554b4-e600-418e-b23a-64002c8a3085\")>,\n",
       " <selenium.webdriver.remote.webelement.WebElement (session=\"c4a6abc83e189c51ed3fda8a1b775ee2\", element=\"b3dd4f90-6f92-423e-9f25-3a6a8be20963\")>,\n",
       " <selenium.webdriver.remote.webelement.WebElement (session=\"c4a6abc83e189c51ed3fda8a1b775ee2\", element=\"c552754d-2f4f-41d6-8854-0b5ac81e6ba1\")>,\n",
       " <selenium.webdriver.remote.webelement.WebElement (session=\"c4a6abc83e189c51ed3fda8a1b775ee2\", element=\"4b81aa7a-b0bb-4f31-8787-39ac3c5bacd8\")>,\n",
       " <selenium.webdriver.remote.webelement.WebElement (session=\"c4a6abc83e189c51ed3fda8a1b775ee2\", element=\"ea6aba42-fb8c-4e79-9d3d-526ff7d076eb\")>,\n",
       " <selenium.webdriver.remote.webelement.WebElement (session=\"c4a6abc83e189c51ed3fda8a1b775ee2\", element=\"ee9a1c75-80d8-43dd-b951-57d428199640\")>,\n",
       " <selenium.webdriver.remote.webelement.WebElement (session=\"c4a6abc83e189c51ed3fda8a1b775ee2\", element=\"f613fa42-a106-40b4-a57c-1745ee9b22e9\")>,\n",
       " <selenium.webdriver.remote.webelement.WebElement (session=\"c4a6abc83e189c51ed3fda8a1b775ee2\", element=\"b64334aa-e23e-4d2d-80ac-fd8c342faee7\")>,\n",
       " <selenium.webdriver.remote.webelement.WebElement (session=\"c4a6abc83e189c51ed3fda8a1b775ee2\", element=\"d0a875e3-1bef-4b5b-a569-0bc2de35ce75\")>,\n",
       " <selenium.webdriver.remote.webelement.WebElement (session=\"c4a6abc83e189c51ed3fda8a1b775ee2\", element=\"30a8b8d0-9166-4b92-aaa3-26adb8bb8dee\")>,\n",
       " <selenium.webdriver.remote.webelement.WebElement (session=\"c4a6abc83e189c51ed3fda8a1b775ee2\", element=\"901346c0-0701-46dd-8de6-816a46fb192a\")>,\n",
       " <selenium.webdriver.remote.webelement.WebElement (session=\"c4a6abc83e189c51ed3fda8a1b775ee2\", element=\"fd66111e-a2f1-4b2f-9f7c-73a65ff0589c\")>,\n",
       " <selenium.webdriver.remote.webelement.WebElement (session=\"c4a6abc83e189c51ed3fda8a1b775ee2\", element=\"340b2023-15ca-402e-a669-802973cda6ee\")>,\n",
       " <selenium.webdriver.remote.webelement.WebElement (session=\"c4a6abc83e189c51ed3fda8a1b775ee2\", element=\"701a7a64-a6c9-4a7f-aeb4-805d0b447716\")>,\n",
       " <selenium.webdriver.remote.webelement.WebElement (session=\"c4a6abc83e189c51ed3fda8a1b775ee2\", element=\"c9fa419a-2528-4903-9286-677e5a3fd3f5\")>,\n",
       " <selenium.webdriver.remote.webelement.WebElement (session=\"c4a6abc83e189c51ed3fda8a1b775ee2\", element=\"7894b44f-cfc7-4cdb-8415-6ae7ca2bfe77\")>,\n",
       " <selenium.webdriver.remote.webelement.WebElement (session=\"c4a6abc83e189c51ed3fda8a1b775ee2\", element=\"6911bbc6-938e-4375-9ec6-eac668625ab7\")>,\n",
       " <selenium.webdriver.remote.webelement.WebElement (session=\"c4a6abc83e189c51ed3fda8a1b775ee2\", element=\"33625fda-f4ce-421f-9488-118c15e6426e\")>,\n",
       " <selenium.webdriver.remote.webelement.WebElement (session=\"c4a6abc83e189c51ed3fda8a1b775ee2\", element=\"02580479-9122-463c-b025-a3f77318ba80\")>,\n",
       " <selenium.webdriver.remote.webelement.WebElement (session=\"c4a6abc83e189c51ed3fda8a1b775ee2\", element=\"b27254b5-d2f5-4232-a9e0-f4af707505bc\")>]"
      ]
     },
     "execution_count": 24,
     "metadata": {},
     "output_type": "execute_result"
    }
   ],
   "source": [
    "exp_tag = driver.find_elements_by_xpath('//li[@class=\"fleft grey-text br2 placeHolderLi experience\"]')\n",
    "\n",
    "exp_tag"
   ]
  },
  {
   "cell_type": "code",
   "execution_count": 25,
   "metadata": {},
   "outputs": [
    {
     "data": {
      "text/plain": [
       "['1-5 Yrs',\n",
       " '2-5 Yrs',\n",
       " '1-5 Yrs',\n",
       " '3-6 Yrs',\n",
       " '7-10 Yrs',\n",
       " '3-5 Yrs',\n",
       " '3-6 Yrs',\n",
       " '4-9 Yrs',\n",
       " '5-8 Yrs',\n",
       " '2-3 Yrs',\n",
       " '3-7 Yrs',\n",
       " '1-2 Yrs',\n",
       " '5-8 Yrs',\n",
       " '1-5 Yrs',\n",
       " '1-3 Yrs',\n",
       " '2-6 Yrs',\n",
       " '3-8 Yrs',\n",
       " '2-6 Yrs',\n",
       " '1-6 Yrs',\n",
       " '5-8 Yrs']"
      ]
     },
     "execution_count": 25,
     "metadata": {},
     "output_type": "execute_result"
    }
   ],
   "source": [
    "# Now we'll extract the texts from the web elements using For Loop.\n",
    "\n",
    "exprience = []\n",
    "\n",
    "for e in exp_tag:\n",
    "    exprience.append(e.text)\n",
    "    \n",
    "exprience"
   ]
  },
  {
   "cell_type": "code",
   "execution_count": 26,
   "metadata": {},
   "outputs": [
    {
     "data": {
      "text/plain": [
       "['1-5 Yrs',\n",
       " '2-5 Yrs',\n",
       " '1-5 Yrs',\n",
       " '3-6 Yrs',\n",
       " '7-10 Yrs',\n",
       " '3-5 Yrs',\n",
       " '3-6 Yrs',\n",
       " '4-9 Yrs',\n",
       " '5-8 Yrs',\n",
       " '2-3 Yrs']"
      ]
     },
     "execution_count": 26,
     "metadata": {},
     "output_type": "execute_result"
    }
   ],
   "source": [
    "# Now using indexing for the first 10 listed job exprience.\n",
    "\n",
    "job_exprience = exprience[:10]\n",
    "\n",
    "job_exprience"
   ]
  },
  {
   "cell_type": "code",
   "execution_count": 27,
   "metadata": {},
   "outputs": [
    {
     "name": "stdout",
     "output_type": "stream",
     "text": [
      "10 10 10 10\n"
     ]
    }
   ],
   "source": [
    "# Now we'll check the length of all the data which we've extracted. For this we're using len function.\n",
    "\n",
    "print(len(jobs_titles),len(job_location),len(job_company),len(job_exprience))"
   ]
  },
  {
   "cell_type": "code",
   "execution_count": 28,
   "metadata": {},
   "outputs": [
    {
     "data": {
      "text/html": [
       "<div>\n",
       "<style scoped>\n",
       "    .dataframe tbody tr th:only-of-type {\n",
       "        vertical-align: middle;\n",
       "    }\n",
       "\n",
       "    .dataframe tbody tr th {\n",
       "        vertical-align: top;\n",
       "    }\n",
       "\n",
       "    .dataframe thead th {\n",
       "        text-align: right;\n",
       "    }\n",
       "</style>\n",
       "<table border=\"1\" class=\"dataframe\">\n",
       "  <thead>\n",
       "    <tr style=\"text-align: right;\">\n",
       "      <th></th>\n",
       "      <th>Job Title</th>\n",
       "      <th>Location</th>\n",
       "      <th>Company Name</th>\n",
       "      <th>Exprience Required</th>\n",
       "    </tr>\n",
       "  </thead>\n",
       "  <tbody>\n",
       "    <tr>\n",
       "      <th>0</th>\n",
       "      <td>Business Analyst / Data Analyst - SQL Queries,...</td>\n",
       "      <td>Chennai, Coimbatore, Bangalore/Bengaluru</td>\n",
       "      <td>AN INFRACON PRIVATE LIMITED</td>\n",
       "      <td>1-5 Yrs</td>\n",
       "    </tr>\n",
       "    <tr>\n",
       "      <th>1</th>\n",
       "      <td>Senior Data Analyst</td>\n",
       "      <td>Bangalore/Bengaluru</td>\n",
       "      <td>Flipkart Internet Private Limited</td>\n",
       "      <td>2-5 Yrs</td>\n",
       "    </tr>\n",
       "    <tr>\n",
       "      <th>2</th>\n",
       "      <td>Immediate job openings For Partner Consultant ...</td>\n",
       "      <td>Bangalore/Bengaluru(Marathahalli)</td>\n",
       "      <td>RANDSTAD INDIA PVT LTD</td>\n",
       "      <td>1-5 Yrs</td>\n",
       "    </tr>\n",
       "    <tr>\n",
       "      <th>3</th>\n",
       "      <td>Data Analyst</td>\n",
       "      <td>Bangalore/Bengaluru</td>\n",
       "      <td>Philips India Limited</td>\n",
       "      <td>3-6 Yrs</td>\n",
       "    </tr>\n",
       "    <tr>\n",
       "      <th>4</th>\n",
       "      <td>Data Analyst</td>\n",
       "      <td>Bangalore/Bengaluru</td>\n",
       "      <td>Applied Materials</td>\n",
       "      <td>7-10 Yrs</td>\n",
       "    </tr>\n",
       "    <tr>\n",
       "      <th>5</th>\n",
       "      <td>Senior Data Analyst</td>\n",
       "      <td>Bangalore/Bengaluru</td>\n",
       "      <td>Microland Limited</td>\n",
       "      <td>3-5 Yrs</td>\n",
       "    </tr>\n",
       "    <tr>\n",
       "      <th>6</th>\n",
       "      <td>Senior Data Analyst</td>\n",
       "      <td>Bangalore/Bengaluru</td>\n",
       "      <td>Verizon Data Services India Pvt.Ltd</td>\n",
       "      <td>3-6 Yrs</td>\n",
       "    </tr>\n",
       "    <tr>\n",
       "      <th>7</th>\n",
       "      <td>Hiring- SR Data Analyst /Bangalore Start Up Co...</td>\n",
       "      <td>Bangalore/Bengaluru</td>\n",
       "      <td>Jobs Territory</td>\n",
       "      <td>4-9 Yrs</td>\n",
       "    </tr>\n",
       "    <tr>\n",
       "      <th>8</th>\n",
       "      <td>Senior Data Analyst</td>\n",
       "      <td>Bangalore/Bengaluru(2nd Phase JP Nagar)</td>\n",
       "      <td>Liventus, Inc.</td>\n",
       "      <td>5-8 Yrs</td>\n",
       "    </tr>\n",
       "    <tr>\n",
       "      <th>9</th>\n",
       "      <td>Data Analyst, Component Engineering</td>\n",
       "      <td>Bangalore/Bengaluru</td>\n",
       "      <td>Rockwell Automation</td>\n",
       "      <td>2-3 Yrs</td>\n",
       "    </tr>\n",
       "  </tbody>\n",
       "</table>\n",
       "</div>"
      ],
      "text/plain": [
       "                                          Job Title   \\\n",
       "0  Business Analyst / Data Analyst - SQL Queries,...   \n",
       "1                                Senior Data Analyst   \n",
       "2  Immediate job openings For Partner Consultant ...   \n",
       "3                                       Data Analyst   \n",
       "4                                       Data Analyst   \n",
       "5                                Senior Data Analyst   \n",
       "6                                Senior Data Analyst   \n",
       "7  Hiring- SR Data Analyst /Bangalore Start Up Co...   \n",
       "8                                Senior Data Analyst   \n",
       "9                Data Analyst, Component Engineering   \n",
       "\n",
       "                                  Location   \\\n",
       "0  Chennai, Coimbatore, Bangalore/Bengaluru   \n",
       "1                       Bangalore/Bengaluru   \n",
       "2         Bangalore/Bengaluru(Marathahalli)   \n",
       "3                       Bangalore/Bengaluru   \n",
       "4                       Bangalore/Bengaluru   \n",
       "5                       Bangalore/Bengaluru   \n",
       "6                       Bangalore/Bengaluru   \n",
       "7                       Bangalore/Bengaluru   \n",
       "8   Bangalore/Bengaluru(2nd Phase JP Nagar)   \n",
       "9                       Bangalore/Bengaluru   \n",
       "\n",
       "                         Company Name   Exprience Required   \n",
       "0          AN INFRACON PRIVATE LIMITED              1-5 Yrs  \n",
       "1    Flipkart Internet Private Limited              2-5 Yrs  \n",
       "2               RANDSTAD INDIA PVT LTD              1-5 Yrs  \n",
       "3                Philips India Limited              3-6 Yrs  \n",
       "4                    Applied Materials             7-10 Yrs  \n",
       "5                    Microland Limited              3-5 Yrs  \n",
       "6  Verizon Data Services India Pvt.Ltd              3-6 Yrs  \n",
       "7                       Jobs Territory              4-9 Yrs  \n",
       "8                       Liventus, Inc.              5-8 Yrs  \n",
       "9                  Rockwell Automation              2-3 Yrs  "
      ]
     },
     "execution_count": 28,
     "metadata": {},
     "output_type": "execute_result"
    }
   ],
   "source": [
    "# Now we'll make the dataframe with the results.\n",
    "\n",
    "job_details = pd.DataFrame({})\n",
    "\n",
    "job_details[' Job Title '] = jobs_titles\n",
    "job_details[' Location '] = job_location\n",
    "job_details[' Company Name ']= job_company\n",
    "job_details[' Exprience Required '] = job_exprience\n",
    "\n",
    "job_details"
   ]
  },
  {
   "cell_type": "code",
   "execution_count": null,
   "metadata": {},
   "outputs": [],
   "source": []
  },
  {
   "cell_type": "markdown",
   "metadata": {},
   "source": [
    "------------------------------------------------------------------------------------------------------------------------------\n",
    "\n",
    "##### Q. No. 2:- Write a python program to scrape data for “Data Scientist” Job position in “Bangalore” location. You have to scrape the job-title, job-location, company_name, full job-description. You have to scrape first 10 jobs data.\n",
    "\n",
    "\n",
    "------------------------------------------------------------------------------------------------------------------------------"
   ]
  },
  {
   "cell_type": "code",
   "execution_count": 3,
   "metadata": {},
   "outputs": [],
   "source": [
    "# Loading the web-page\n",
    "\n",
    "url2 = 'https://www.naukri.com/'\n",
    "\n",
    "driver.get(url2)"
   ]
  },
  {
   "cell_type": "code",
   "execution_count": 4,
   "metadata": {},
   "outputs": [
    {
     "data": {
      "text/plain": [
       "<selenium.webdriver.remote.webelement.WebElement (session=\"82eecaf5c4d24f1ec1f9c110567c9f20\", element=\"792aa56c-8a84-4354-b9e3-8ec4daaa9c52\")>"
      ]
     },
     "execution_count": 4,
     "metadata": {},
     "output_type": "execute_result"
    }
   ],
   "source": [
    "# The web-page is loaded successfully. Now we'll extract the web element of the serach bar.\n",
    "\n",
    "src_tag = driver.find_element_by_xpath('//input[@class=\"sugInp\"]')\n",
    "\n",
    "src_tag"
   ]
  },
  {
   "cell_type": "code",
   "execution_count": 5,
   "metadata": {},
   "outputs": [],
   "source": [
    "# the web-element is extracted now we'll enter the value in the job search bar.\n",
    "# We're using send_keys for this.\n",
    "\n",
    "src_tag.send_keys('Data Scientist')"
   ]
  },
  {
   "cell_type": "code",
   "execution_count": 6,
   "metadata": {},
   "outputs": [
    {
     "data": {
      "text/plain": [
       "<selenium.webdriver.remote.webelement.WebElement (session=\"82eecaf5c4d24f1ec1f9c110567c9f20\", element=\"892907c7-6408-424f-8d24-a53b4a63f438\")>"
      ]
     },
     "execution_count": 6,
     "metadata": {},
     "output_type": "execute_result"
    }
   ],
   "source": [
    "# Now we'll enter the required value in the location search bar.\n",
    "# For this we'll first extract the web-element of the location search bar.\n",
    "\n",
    "src_loc = driver.find_element_by_xpath('//input[@name=\"location\"]')\n",
    "src_loc"
   ]
  },
  {
   "cell_type": "code",
   "execution_count": 7,
   "metadata": {},
   "outputs": [],
   "source": [
    "# Entering the value in the field.\n",
    "\n",
    "src_loc.send_keys('Bangalore')"
   ]
  },
  {
   "cell_type": "code",
   "execution_count": 8,
   "metadata": {},
   "outputs": [
    {
     "data": {
      "text/plain": [
       "<selenium.webdriver.remote.webelement.WebElement (session=\"82eecaf5c4d24f1ec1f9c110567c9f20\", element=\"efb228af-6bed-4dd5-81ce-626dc6cdcf85\")>"
      ]
     },
     "execution_count": 8,
     "metadata": {},
     "output_type": "execute_result"
    }
   ],
   "source": [
    "# we're extracting the web element of the search bar.\n",
    "\n",
    "src_bar = driver.find_element_by_xpath('//button[@class=\"btn\"]')\n",
    "src_bar"
   ]
  },
  {
   "cell_type": "code",
   "execution_count": 9,
   "metadata": {},
   "outputs": [],
   "source": [
    "# After extracting the web element of the search bar, we'll click on it to get the desired results.\n",
    "\n",
    "src_bar.click()"
   ]
  },
  {
   "cell_type": "code",
   "execution_count": 10,
   "metadata": {},
   "outputs": [
    {
     "data": {
      "text/plain": [
       "[<selenium.webdriver.remote.webelement.WebElement (session=\"82eecaf5c4d24f1ec1f9c110567c9f20\", element=\"e787d2b2-cfb1-4b75-9c6c-61fae8df5c8e\")>,\n",
       " <selenium.webdriver.remote.webelement.WebElement (session=\"82eecaf5c4d24f1ec1f9c110567c9f20\", element=\"22f5c2cf-843a-4a50-93b6-9c0241f1b2a2\")>,\n",
       " <selenium.webdriver.remote.webelement.WebElement (session=\"82eecaf5c4d24f1ec1f9c110567c9f20\", element=\"3c38ceb1-2907-40d1-a684-6c33a34e52fd\")>,\n",
       " <selenium.webdriver.remote.webelement.WebElement (session=\"82eecaf5c4d24f1ec1f9c110567c9f20\", element=\"cf60d919-79f9-451c-8327-bcc8dc40f154\")>,\n",
       " <selenium.webdriver.remote.webelement.WebElement (session=\"82eecaf5c4d24f1ec1f9c110567c9f20\", element=\"50a8c927-a77e-4f66-be70-85ad39ba7b08\")>,\n",
       " <selenium.webdriver.remote.webelement.WebElement (session=\"82eecaf5c4d24f1ec1f9c110567c9f20\", element=\"91eee3e5-4d91-4df2-b322-99487ae1acd9\")>,\n",
       " <selenium.webdriver.remote.webelement.WebElement (session=\"82eecaf5c4d24f1ec1f9c110567c9f20\", element=\"a8bfc219-e8cf-464d-8e5e-ae95fc7e0a1a\")>,\n",
       " <selenium.webdriver.remote.webelement.WebElement (session=\"82eecaf5c4d24f1ec1f9c110567c9f20\", element=\"81740eb6-6fc6-4947-a044-2b694c607015\")>,\n",
       " <selenium.webdriver.remote.webelement.WebElement (session=\"82eecaf5c4d24f1ec1f9c110567c9f20\", element=\"26c7e00b-decc-4805-a4eb-c18443b83914\")>,\n",
       " <selenium.webdriver.remote.webelement.WebElement (session=\"82eecaf5c4d24f1ec1f9c110567c9f20\", element=\"618c4025-35a4-4c8a-9eb5-d04e72dd3b68\")>,\n",
       " <selenium.webdriver.remote.webelement.WebElement (session=\"82eecaf5c4d24f1ec1f9c110567c9f20\", element=\"4be209b4-08a2-48cc-bbac-075f0eb61e0f\")>,\n",
       " <selenium.webdriver.remote.webelement.WebElement (session=\"82eecaf5c4d24f1ec1f9c110567c9f20\", element=\"0eda18c3-1dd3-4545-96d5-ed914d4a235d\")>,\n",
       " <selenium.webdriver.remote.webelement.WebElement (session=\"82eecaf5c4d24f1ec1f9c110567c9f20\", element=\"dd73b4db-cfcb-432f-b43b-7b8c6c61f79b\")>,\n",
       " <selenium.webdriver.remote.webelement.WebElement (session=\"82eecaf5c4d24f1ec1f9c110567c9f20\", element=\"9822251f-fe57-4de5-acfd-b8540e127383\")>,\n",
       " <selenium.webdriver.remote.webelement.WebElement (session=\"82eecaf5c4d24f1ec1f9c110567c9f20\", element=\"265add75-fbbe-443e-a49f-7ef541a16b05\")>,\n",
       " <selenium.webdriver.remote.webelement.WebElement (session=\"82eecaf5c4d24f1ec1f9c110567c9f20\", element=\"837e1fa7-afb3-42d7-a858-9f7f265687e5\")>,\n",
       " <selenium.webdriver.remote.webelement.WebElement (session=\"82eecaf5c4d24f1ec1f9c110567c9f20\", element=\"034d0e3a-ebf5-43b3-a51c-549085e73945\")>,\n",
       " <selenium.webdriver.remote.webelement.WebElement (session=\"82eecaf5c4d24f1ec1f9c110567c9f20\", element=\"6da514d5-8e29-463d-9043-35ba8af0a74a\")>,\n",
       " <selenium.webdriver.remote.webelement.WebElement (session=\"82eecaf5c4d24f1ec1f9c110567c9f20\", element=\"aea4c68d-28d6-450f-8e23-a84e46608054\")>,\n",
       " <selenium.webdriver.remote.webelement.WebElement (session=\"82eecaf5c4d24f1ec1f9c110567c9f20\", element=\"cc142684-530f-4512-b537-86a7962e3393\")>]"
      ]
     },
     "execution_count": 10,
     "metadata": {},
     "output_type": "execute_result"
    }
   ],
   "source": [
    "# Now we'll extract the web elements of the job title.\n",
    "\n",
    "ttl_tag = driver.find_elements_by_xpath('//a[@class=\"title fw500 ellipsis\"]')\n",
    "\n",
    "ttl_tag"
   ]
  },
  {
   "cell_type": "code",
   "execution_count": 11,
   "metadata": {},
   "outputs": [
    {
     "data": {
      "text/plain": [
       "['Data Scientist',\n",
       " 'Data Scientist',\n",
       " 'Senior Data Scientist I',\n",
       " 'IDM - Lead Data Scientist',\n",
       " 'Senior/Lead Data Scientist',\n",
       " 'Principal Data Scientist',\n",
       " 'Data Scientist - Business Analytics',\n",
       " 'Data Scientist',\n",
       " 'Senior Data Scientist',\n",
       " 'SENIOR DATA SCIENTIST',\n",
       " 'Senior Data Scientist',\n",
       " 'Data Scientist',\n",
       " 'Immediately hiring For Data Scientist - (Bangalore)',\n",
       " 'Immediately hiring For Data Scientist - (Bangalore)',\n",
       " 'Immediate job opening - Senior Data Scientist',\n",
       " 'Senior Data Scientist',\n",
       " 'Senior/ Lead Data Scientist',\n",
       " 'Data Analyst/Scientist- (Counterparty Credit risk)',\n",
       " 'Associate Data Scientist ( B2 / B3 )',\n",
       " 'Data Scientist']"
      ]
     },
     "execution_count": 11,
     "metadata": {},
     "output_type": "execute_result"
    }
   ],
   "source": [
    "# Now we'll extract the texts from the web elements.\n",
    "\n",
    "titles = []\n",
    "for t in ttl_tag:\n",
    "    titles.append(t.text)\\\n",
    "    \n",
    "titles"
   ]
  },
  {
   "cell_type": "code",
   "execution_count": 12,
   "metadata": {},
   "outputs": [
    {
     "data": {
      "text/plain": [
       "['Data Scientist',\n",
       " 'Data Scientist',\n",
       " 'Senior Data Scientist I',\n",
       " 'IDM - Lead Data Scientist',\n",
       " 'Senior/Lead Data Scientist',\n",
       " 'Principal Data Scientist',\n",
       " 'Data Scientist - Business Analytics',\n",
       " 'Data Scientist',\n",
       " 'Senior Data Scientist',\n",
       " 'SENIOR DATA SCIENTIST']"
      ]
     },
     "execution_count": 12,
     "metadata": {},
     "output_type": "execute_result"
    }
   ],
   "source": [
    "# Since we require 10 listed jobs only, so we'll use indexing to remove the extra data.\n",
    "\n",
    "job_title = titles[:10]\n",
    "\n",
    "job_title"
   ]
  },
  {
   "cell_type": "code",
   "execution_count": 13,
   "metadata": {},
   "outputs": [
    {
     "data": {
      "text/plain": [
       "[<selenium.webdriver.remote.webelement.WebElement (session=\"82eecaf5c4d24f1ec1f9c110567c9f20\", element=\"c759b184-408f-4095-8b69-f3371f881607\")>,\n",
       " <selenium.webdriver.remote.webelement.WebElement (session=\"82eecaf5c4d24f1ec1f9c110567c9f20\", element=\"ee186b04-45fb-4678-8fbb-8eebf091b407\")>,\n",
       " <selenium.webdriver.remote.webelement.WebElement (session=\"82eecaf5c4d24f1ec1f9c110567c9f20\", element=\"2af65681-73a3-4f0a-94c6-fbd277cef373\")>,\n",
       " <selenium.webdriver.remote.webelement.WebElement (session=\"82eecaf5c4d24f1ec1f9c110567c9f20\", element=\"fac18111-af9b-48e6-bd1c-47311152631f\")>,\n",
       " <selenium.webdriver.remote.webelement.WebElement (session=\"82eecaf5c4d24f1ec1f9c110567c9f20\", element=\"e137f04e-70db-4283-9710-95491bad69e5\")>,\n",
       " <selenium.webdriver.remote.webelement.WebElement (session=\"82eecaf5c4d24f1ec1f9c110567c9f20\", element=\"058f35e9-6880-4e4c-b394-f0587782c9ce\")>,\n",
       " <selenium.webdriver.remote.webelement.WebElement (session=\"82eecaf5c4d24f1ec1f9c110567c9f20\", element=\"4dcfef95-f0aa-43ae-bf01-5de9c0bb3ab4\")>,\n",
       " <selenium.webdriver.remote.webelement.WebElement (session=\"82eecaf5c4d24f1ec1f9c110567c9f20\", element=\"6c4ec9c3-a6b8-4aaa-9710-3840f4126667\")>,\n",
       " <selenium.webdriver.remote.webelement.WebElement (session=\"82eecaf5c4d24f1ec1f9c110567c9f20\", element=\"c1244675-0bf4-4367-b7c4-a92bed71e23b\")>,\n",
       " <selenium.webdriver.remote.webelement.WebElement (session=\"82eecaf5c4d24f1ec1f9c110567c9f20\", element=\"c90bf306-52a8-4ba4-9171-2c16d1259f02\")>,\n",
       " <selenium.webdriver.remote.webelement.WebElement (session=\"82eecaf5c4d24f1ec1f9c110567c9f20\", element=\"bdd96058-b6cd-44af-9445-7405b514bef8\")>,\n",
       " <selenium.webdriver.remote.webelement.WebElement (session=\"82eecaf5c4d24f1ec1f9c110567c9f20\", element=\"ee6b2d38-217f-4e57-be63-0529d36f84b2\")>,\n",
       " <selenium.webdriver.remote.webelement.WebElement (session=\"82eecaf5c4d24f1ec1f9c110567c9f20\", element=\"6339381d-6255-4d4a-a529-3695bb6ae35f\")>,\n",
       " <selenium.webdriver.remote.webelement.WebElement (session=\"82eecaf5c4d24f1ec1f9c110567c9f20\", element=\"b7d54f7e-28f9-4266-8a20-04e64962cb10\")>,\n",
       " <selenium.webdriver.remote.webelement.WebElement (session=\"82eecaf5c4d24f1ec1f9c110567c9f20\", element=\"a622a4be-a5e5-44ed-be15-2ede0cba914f\")>,\n",
       " <selenium.webdriver.remote.webelement.WebElement (session=\"82eecaf5c4d24f1ec1f9c110567c9f20\", element=\"cf09f82e-62f2-445c-92bd-164c77d26736\")>,\n",
       " <selenium.webdriver.remote.webelement.WebElement (session=\"82eecaf5c4d24f1ec1f9c110567c9f20\", element=\"4f958c45-ba46-480a-b715-942a68790c96\")>,\n",
       " <selenium.webdriver.remote.webelement.WebElement (session=\"82eecaf5c4d24f1ec1f9c110567c9f20\", element=\"407f6b7a-ad45-4e85-ac9e-07e1c50f72fd\")>,\n",
       " <selenium.webdriver.remote.webelement.WebElement (session=\"82eecaf5c4d24f1ec1f9c110567c9f20\", element=\"24a54e7b-b853-4342-a23a-87f01d1b442e\")>,\n",
       " <selenium.webdriver.remote.webelement.WebElement (session=\"82eecaf5c4d24f1ec1f9c110567c9f20\", element=\"104d6cc6-b180-44cd-99df-d92cc986f914\")>]"
      ]
     },
     "execution_count": 13,
     "metadata": {},
     "output_type": "execute_result"
    }
   ],
   "source": [
    "# Next we require to get the details of the job-locations. So we'll find the web elements first.\n",
    "\n",
    "loc = driver.find_elements_by_xpath('//li[@class=\"fleft grey-text br2 placeHolderLi location\"]')\n",
    "\n",
    "loc"
   ]
  },
  {
   "cell_type": "code",
   "execution_count": 14,
   "metadata": {},
   "outputs": [
    {
     "data": {
      "text/plain": [
       "['Kolkata, Hyderabad/Secunderabad, Pune, Ahmedabad, Chennai, Bangalore/Bengaluru, Delhi / NCR, Mumbai (All Areas)',\n",
       " 'Kolkata, Hyderabad/Secunderabad, Pune, Ahmedabad, Chennai, Bangalore/Bengaluru, Delhi / NCR, Mumbai (All Areas)',\n",
       " 'Bangalore/Bengaluru',\n",
       " 'Bangalore/Bengaluru',\n",
       " 'Hyderabad/Secunderabad, Chennai, Bangalore/Bengaluru',\n",
       " 'Bangalore/Bengaluru',\n",
       " 'Bangalore/Bengaluru',\n",
       " 'Bangalore/Bengaluru',\n",
       " 'Bangalore/Bengaluru',\n",
       " 'Bangalore/Bengaluru',\n",
       " 'Kolkata, Hyderabad/Secunderabad, Pune, Ahmedabad, Chennai, Bangalore/Bengaluru, Delhi / NCR, Mumbai (All Areas)',\n",
       " 'Bangalore/Bengaluru',\n",
       " 'Bangalore/Bengaluru',\n",
       " 'Bangalore/Bengaluru',\n",
       " 'Bangalore/Bengaluru',\n",
       " 'Mumbai, Gurgaon/Gurugram, Bangalore/Bengaluru',\n",
       " 'Bangalore/Bengaluru',\n",
       " 'Hyderabad/Secunderabad, Ahmedabad, Bangalore/Bengaluru, Delhi / NCR, Mumbai (All Areas)',\n",
       " 'Kolkata, Gurgaon/Gurugram, Bangalore/Bengaluru',\n",
       " 'Bangalore/Bengaluru']"
      ]
     },
     "execution_count": 14,
     "metadata": {},
     "output_type": "execute_result"
    }
   ],
   "source": [
    "# Extracting the texts from the web-elements.\n",
    "\n",
    "location2 = []\n",
    "for lc in loc:\n",
    "    location2.append(lc.text)\n",
    "    \n",
    "location2"
   ]
  },
  {
   "cell_type": "code",
   "execution_count": 15,
   "metadata": {},
   "outputs": [
    {
     "data": {
      "text/plain": [
       "['Kolkata, Hyderabad/Secunderabad, Pune, Ahmedabad, Chennai, Bangalore/Bengaluru, Delhi / NCR, Mumbai (All Areas)',\n",
       " 'Kolkata, Hyderabad/Secunderabad, Pune, Ahmedabad, Chennai, Bangalore/Bengaluru, Delhi / NCR, Mumbai (All Areas)',\n",
       " 'Bangalore/Bengaluru',\n",
       " 'Bangalore/Bengaluru',\n",
       " 'Hyderabad/Secunderabad, Chennai, Bangalore/Bengaluru',\n",
       " 'Bangalore/Bengaluru',\n",
       " 'Bangalore/Bengaluru',\n",
       " 'Bangalore/Bengaluru',\n",
       " 'Bangalore/Bengaluru',\n",
       " 'Bangalore/Bengaluru']"
      ]
     },
     "execution_count": 15,
     "metadata": {},
     "output_type": "execute_result"
    }
   ],
   "source": [
    "# Finding the 10 job locations as per the requirement.\n",
    "\n",
    "job_loc = location2[:10]\n",
    "job_loc"
   ]
  },
  {
   "cell_type": "code",
   "execution_count": 16,
   "metadata": {},
   "outputs": [
    {
     "data": {
      "text/plain": [
       "[<selenium.webdriver.remote.webelement.WebElement (session=\"82eecaf5c4d24f1ec1f9c110567c9f20\", element=\"4fe2d47e-8a91-4e64-9d9f-261be825e733\")>,\n",
       " <selenium.webdriver.remote.webelement.WebElement (session=\"82eecaf5c4d24f1ec1f9c110567c9f20\", element=\"78e9d04b-fadc-44a4-be07-4d5604ea254b\")>,\n",
       " <selenium.webdriver.remote.webelement.WebElement (session=\"82eecaf5c4d24f1ec1f9c110567c9f20\", element=\"215cab8f-a9c9-450b-b4b9-70fe5fe3faab\")>,\n",
       " <selenium.webdriver.remote.webelement.WebElement (session=\"82eecaf5c4d24f1ec1f9c110567c9f20\", element=\"33eac7a3-14c8-4791-b3e9-bec3c4fff8e6\")>,\n",
       " <selenium.webdriver.remote.webelement.WebElement (session=\"82eecaf5c4d24f1ec1f9c110567c9f20\", element=\"6f1849f4-5228-4e03-9007-7815ce0cfd0b\")>,\n",
       " <selenium.webdriver.remote.webelement.WebElement (session=\"82eecaf5c4d24f1ec1f9c110567c9f20\", element=\"f145a636-5710-420a-a32a-05dd16826b00\")>,\n",
       " <selenium.webdriver.remote.webelement.WebElement (session=\"82eecaf5c4d24f1ec1f9c110567c9f20\", element=\"c324cb81-c37a-4ffc-b356-65d14c6d2cca\")>,\n",
       " <selenium.webdriver.remote.webelement.WebElement (session=\"82eecaf5c4d24f1ec1f9c110567c9f20\", element=\"59227978-09db-40f1-85fe-7a1b5411f99e\")>,\n",
       " <selenium.webdriver.remote.webelement.WebElement (session=\"82eecaf5c4d24f1ec1f9c110567c9f20\", element=\"509aa2fb-0e27-41fc-88c2-996fd93e2236\")>,\n",
       " <selenium.webdriver.remote.webelement.WebElement (session=\"82eecaf5c4d24f1ec1f9c110567c9f20\", element=\"07bfa37d-79e2-4daf-9720-3a68d1093c24\")>,\n",
       " <selenium.webdriver.remote.webelement.WebElement (session=\"82eecaf5c4d24f1ec1f9c110567c9f20\", element=\"8eabc8f5-41a1-4633-b488-4ecabfe814a1\")>,\n",
       " <selenium.webdriver.remote.webelement.WebElement (session=\"82eecaf5c4d24f1ec1f9c110567c9f20\", element=\"88ac0bfd-5088-4b5f-aa3a-439acb0f8c7c\")>,\n",
       " <selenium.webdriver.remote.webelement.WebElement (session=\"82eecaf5c4d24f1ec1f9c110567c9f20\", element=\"3d5bc148-b44d-433b-ab72-8db0b3f3f38e\")>,\n",
       " <selenium.webdriver.remote.webelement.WebElement (session=\"82eecaf5c4d24f1ec1f9c110567c9f20\", element=\"fb4fc843-0bc6-459e-ba32-3f5a6821e735\")>,\n",
       " <selenium.webdriver.remote.webelement.WebElement (session=\"82eecaf5c4d24f1ec1f9c110567c9f20\", element=\"ac90313c-284c-48cb-8db1-50a044e11b1e\")>,\n",
       " <selenium.webdriver.remote.webelement.WebElement (session=\"82eecaf5c4d24f1ec1f9c110567c9f20\", element=\"e7164e4b-4542-4038-b735-e7f06e6feabf\")>,\n",
       " <selenium.webdriver.remote.webelement.WebElement (session=\"82eecaf5c4d24f1ec1f9c110567c9f20\", element=\"e50ca1ab-9b6e-48b6-b867-a87efa826896\")>,\n",
       " <selenium.webdriver.remote.webelement.WebElement (session=\"82eecaf5c4d24f1ec1f9c110567c9f20\", element=\"bac1a2f5-6682-4a04-b455-bbb491920457\")>,\n",
       " <selenium.webdriver.remote.webelement.WebElement (session=\"82eecaf5c4d24f1ec1f9c110567c9f20\", element=\"211c3186-05b6-4efb-80ca-6cbbe8f20842\")>,\n",
       " <selenium.webdriver.remote.webelement.WebElement (session=\"82eecaf5c4d24f1ec1f9c110567c9f20\", element=\"76fa57d8-5a66-43df-ab01-32dc83a304c8\")>]"
      ]
     },
     "execution_count": 16,
     "metadata": {},
     "output_type": "execute_result"
    }
   ],
   "source": [
    "# Finding the web-elements of the company names.\n",
    "\n",
    "cmp_tag = driver.find_elements_by_xpath('//a[@class=\"subTitle ellipsis fleft\"]')\n",
    "\n",
    "cmp_tag"
   ]
  },
  {
   "cell_type": "code",
   "execution_count": 17,
   "metadata": {},
   "outputs": [
    {
     "data": {
      "text/plain": [
       "['Replicon Software',\n",
       " 'Replicon Software',\n",
       " 'Philips India Limited',\n",
       " 'Philips India Limited',\n",
       " 'AUREUSTECH SYSTEMS PRIVATE LIMITED',\n",
       " 'Philips India Limited',\n",
       " 'Philips India Limited',\n",
       " 'Philips India Limited',\n",
       " 'Kwalee India Pvt Ltd.',\n",
       " 'Happiest Minds Technologies Pvt.Ltd',\n",
       " 'ZAZMIC INDIA PRIVATE LIMITED',\n",
       " 'Applied Materials',\n",
       " 'Trigent Software',\n",
       " 'Trigent Software',\n",
       " 'RedBus',\n",
       " 'Fractal Analytics',\n",
       " 'Superior Group',\n",
       " 'GENPACT India Private Limited',\n",
       " 'Blue Ocean Catalyst Private Limited',\n",
       " 'SA Technologies']"
      ]
     },
     "execution_count": 17,
     "metadata": {},
     "output_type": "execute_result"
    }
   ],
   "source": [
    "# Finding the texts for the companies name.\n",
    "\n",
    "cmp_name = []\n",
    "for c in cmp_tag:\n",
    "    cmp_name.append(c.text)\n",
    "    \n",
    "cmp_name"
   ]
  },
  {
   "cell_type": "code",
   "execution_count": 18,
   "metadata": {},
   "outputs": [
    {
     "data": {
      "text/plain": [
       "['Replicon Software',\n",
       " 'Replicon Software',\n",
       " 'Philips India Limited',\n",
       " 'Philips India Limited',\n",
       " 'AUREUSTECH SYSTEMS PRIVATE LIMITED',\n",
       " 'Philips India Limited',\n",
       " 'Philips India Limited',\n",
       " 'Philips India Limited',\n",
       " 'Kwalee India Pvt Ltd.',\n",
       " 'Happiest Minds Technologies Pvt.Ltd']"
      ]
     },
     "execution_count": 18,
     "metadata": {},
     "output_type": "execute_result"
    }
   ],
   "source": [
    "# scraping 10 companies name.\n",
    "\n",
    "company = cmp_name[:10]\n",
    "\n",
    "company"
   ]
  },
  {
   "cell_type": "code",
   "execution_count": 19,
   "metadata": {},
   "outputs": [
    {
     "data": {
      "text/plain": [
       "['https://www.naukri.com/job-listings-data-scientist-replicon-software-kolkata-hyderabad-secunderabad-pune-ahmedabad-chennai-bangalore-bengaluru-delhi-ncr-mumbai-all-areas-5-to-10-years-260621603052?src=jobsearchDesk&sid=16248480177322439&xp=1&px=1',\n",
       " 'https://www.naukri.com/job-listings-data-scientist-replicon-software-kolkata-hyderabad-secunderabad-pune-ahmedabad-chennai-bangalore-bengaluru-delhi-ncr-mumbai-all-areas-5-to-10-years-260621003050?src=jobsearchDesk&sid=16248480177322439&xp=2&px=1',\n",
       " 'https://www.naukri.com/job-listings-senior-data-scientist-i-philips-india-limited-bangalore-bengaluru-6-to-10-years-250621500799?src=jobsearchDesk&sid=16248480177322439&xp=3&px=1',\n",
       " 'https://www.naukri.com/job-listings-idm-lead-data-scientist-philips-india-limited-bangalore-bengaluru-10-to-15-years-250621500736?src=jobsearchDesk&sid=16248480177322439&xp=4&px=1',\n",
       " 'https://www.naukri.com/job-listings-senior-lead-data-scientist-aureustech-systems-private-limited-hyderabad-secunderabad-chennai-bangalore-bengaluru-9-to-14-years-230621004832?src=jobsearchDesk&sid=16248480177322439&xp=5&px=1',\n",
       " 'https://www.naukri.com/job-listings-principal-data-scientist-philips-india-limited-bangalore-bengaluru-9-to-13-years-250621500764?src=jobsearchDesk&sid=16248480177322439&xp=6&px=1',\n",
       " 'https://www.naukri.com/job-listings-data-scientist-business-analytics-philips-india-limited-bangalore-bengaluru-4-to-8-years-250621500272?src=jobsearchDesk&sid=16248480177322439&xp=7&px=1',\n",
       " 'https://www.naukri.com/job-listings-data-scientist-philips-india-limited-bangalore-bengaluru-2-to-15-years-250621500719?src=jobsearchDesk&sid=16248480177322439&xp=8&px=1',\n",
       " 'https://www.naukri.com/job-listings-senior-data-scientist-kwalee-india-pvt-ltd-bangalore-bengaluru-5-to-10-years-260321000780?src=jobsearchDesk&sid=16248480177322439&xp=9&px=1',\n",
       " 'https://www.naukri.com/job-listings-senior-data-scientist-happiest-minds-technologies-pvt-ltd-bangalore-bengaluru-5-to-10-years-220621501398?src=jobsearchDesk&sid=16248480177322439&xp=10&px=1',\n",
       " 'https://www.naukri.com/job-listings-senior-data-scientist-zazmic-india-private-limited-kolkata-hyderabad-secunderabad-pune-ahmedabad-chennai-bangalore-bengaluru-delhi-ncr-mumbai-all-areas-3-to-8-years-210621007920?src=jobsearchDesk&sid=16248480177322439&xp=11&px=1',\n",
       " 'https://www.naukri.com/job-listings-data-scientist-applied-materials-india-private-limited-bangalore-bengaluru-2-to-4-years-250621903137?src=jobsearchDesk&sid=16248480177322439&xp=12&px=1',\n",
       " 'https://www.naukri.com/job-listings-immediately-hiring-for-data-scientist-bangalore-trigent-software-private-limited-bangalore-bengaluru-5-to-8-years-250621601292?src=jobsearchDesk&sid=16248480177322439&xp=13&px=1',\n",
       " 'https://www.naukri.com/job-listings-immediately-hiring-for-data-scientist-bangalore-trigent-software-private-limited-bangalore-bengaluru-5-to-8-years-250621001290?src=jobsearchDesk&sid=16248480177322439&xp=14&px=1',\n",
       " 'https://www.naukri.com/job-listings-immediate-opening-senior-data-scientist-redbus-in-ibibo-group-private-limited-bangalore-bengaluru-5-to-8-years-140621005528?src=jobsearchDesk&sid=16248480177322439&xp=15&px=1',\n",
       " 'https://www.naukri.com/job-listings-senior-data-scientist-fractal-analytics-ltd-mumbai-gurgaon-gurugram-bangalore-bengaluru-5-to-9-years-140621500966?src=jobsearchDesk&sid=16248480177322439&xp=16&px=1',\n",
       " 'https://www.naukri.com/job-listings-senior-lead-data-scientist-superior-group-bangalore-bengaluru-6-to-11-years-180621500299?src=jobsearchDesk&sid=16248480177322439&xp=17&px=1',\n",
       " 'https://www.naukri.com/job-listings-data-analyst-scientist-counterparty-credit-risk-genpact-india-private-limited-hyderabad-secunderabad-ahmedabad-bangalore-bengaluru-delhi-ncr-mumbai-all-areas-4-to-9-years-230621007989?src=jobsearchDesk&sid=16248480177322439&xp=18&px=1',\n",
       " 'https://www.naukri.com/job-listings-associate-data-scientist-b2-b3-blue-ocean-catalyst-private-limited-kolkata-gurgaon-gurugram-bangalore-bengaluru-7-to-10-years-220621501243?src=jobsearchDesk&sid=16248480177322439&xp=19&px=1',\n",
       " 'https://www.naukri.com/job-listings-data-scientist-sa-technologies-bangalore-bengaluru-4-to-5-years-250621501585?src=jobsearchDesk&sid=16248480177322439&xp=20&px=1']"
      ]
     },
     "execution_count": 19,
     "metadata": {},
     "output_type": "execute_result"
    }
   ],
   "source": [
    "# Now we'll extract the JDs (Job Descriptions). For this we'll extract the web elements.\n",
    "\n",
    "jd_urls = []\n",
    "\n",
    "urls = driver.find_elements_by_xpath('//a[@class=\"title fw500 ellipsis\"]')\n",
    "\n",
    "for u in urls:\n",
    "    jd_urls.append(u.get_attribute('href'))\n",
    "    \n",
    "jd_urls"
   ]
  },
  {
   "cell_type": "code",
   "execution_count": 23,
   "metadata": {},
   "outputs": [
    {
     "data": {
      "text/plain": [
       "[\"Job descriptionBrief JDExperience: 5 - 10 YrsSkills and Qualifications• Bachelor's or Master degree in Statistics, Applied Mathematics or related discipline• Proficiency with data mining, mathematics, and statistical analysis• Advanced pattern recognition and predictive modelling experience• Programming experience (Python, R, etc.)Preferred Qualifications• 5-10 years experience in data science• Professional certifications• Experience with visualization tools such as PowerBI and Tableau• Experience with NLP/NLU technologies (Amazon Lex, Google DialogFlow, etc)• Experience with AI/ML technologies (Tensorflow, Amazon Sagemaker, etc)• Experience with SQL• Experience working in an Agile environment• A portfolio of relevant work to shareTo apply for the role, Share your resumes or refer your friends toMail ID: damodharan.j@replicon.comRoleSoftware DeveloperIndustry TypeSoftware ProductFunctional AreaIT Software - OtherEmployment TypeFull Time, PermanentRole CategoryProgramming & DesignEducationUG :BCA in Any Specialization, B.Sc/B.Sc(Hons) in Any Specialization, B.Tech/BE in Any SpecializationPG :MCA in Any Specialization, M.Tech/ME in Any Specialization, PG Diploma in Any Specialization, M.Sc/MS in Any SpecializationKey SkillsPower BiPredictive ModelingTensorflowArtificial IntelligenceAIData MiningTableauSQLData ScienceRPattern RecognitionNLPNLUGoogle DialogFlowAmazon LexPythonMLSkills highlighted with ‘‘ are preferred keyskills\",\n",
       " \"Job descriptionBrief JDExperience: 5 - 10 YrsSkills and Qualifications• Bachelor's or Master degree in Statistics, Applied Mathematics or related discipline• Proficiency with data mining, mathematics, and statistical analysis• Advanced pattern recognition and predictive modelling experience• Programming experience (Python, R, etc.)Preferred Qualifications• 5-10 years experience in data science• Professional certifications• Experience with visualization tools such as PowerBI and Tableau• Experience with NLP/NLU technologies (Amazon Lex, Google DialogFlow, etc)• Experience with AI/ML technologies (Tensorflow, Amazon Sagemaker, etc)• Experience with SQL• Experience working in an Agile environment• A portfolio of relevant work to shareTo apply for the role, Share your resumes or refer your friends toMail ID: damodharan.j@replicon.comRoleSoftware DeveloperIndustry TypeSoftware ProductFunctional AreaIT Software - OtherEmployment TypeFull Time, PermanentRole CategoryProgramming & DesignEducationUG :B.Sc/B.Sc(Hons) in Any Specialization, BCA in Any Specialization, B.Tech/BE in Any SpecializationPG :M.Sc/MS in Any Specialization, MCA in Any Specialization, M.Tech/ME in Any Specialization, PG Diploma in Any SpecializationKey SkillsPower BiPredictive ModelingTensorflowArtificial IntelligenceAIData MiningTableauSQLData ScienceRPattern RecognitionNLPNLUGoogle DialogFlowAmazon LexPythonMLSkills highlighted with ‘‘ are preferred keyskills\",\n",
       " 'Job descriptionJob ResponsibilitiesUse predictive modeling to increase and optimize customer experiences, revenue generation, campaign optimization and other business outcomesWork with product management to develop data use cases and embed predictive models in workflows on resource constrained platforms and cloud enabled.Selecting features, building and optimizing classifiers using machine learning and deep learning techniquesCollaborates with Data Engineers to enhance data collection and ingestion/curation techniques to include information that is relevant for building analytic systemsProcessing, cleansing, and verifying the integrity of data used for analysisDevelop processes and tools to monitor and analyze model performance and data accuracy. Life cycle management of predictive models.Adherence to compliance procedures in accordance with regulatory standards, requirements, and policies. Managing and designing the reporting environment, including data sources security, and metadata.Job Qualifications:Master s degree or PhD in Computer Science, Information management, Statistics or related field, with 10+ years of experience in the Consumer or Healthcare industry manipulating data sets and building predictive models with focus on product developmentExperience in statistical modelling, machine learning, data mining, unstructured data analytics and natural language processing. Sound understanding of - Bayesian Modelling, Classification Models, Cluster Analysis, Neural Network, Nonparametric Methods, Multivariate Statistics, etc.Strong hands on knowledge of ML techniques like regression algorithms, K-NN, Na ve Bayes, SVM and ensemble techniques like Random forest, AdaBoost etcHaving strong knowledge in unsupervised learning algorithms using Neural networks and Deep-LearningStrong knowledge in Data Wrangling and Exploration techniques to identify the patterns, trends and outliners.Deep knowledge and practical experience with data science toolkits, such as NumPy, Pandas, scikit-learn or equivalentExperience with data visualization tools, such as QlikView, Matplotlib, seaborn or equivalent tools.Proficiency in using query languages, such as SQL, PL/SQLHands on experience in the one or more databases like Hadoop, AWS Redshift, Snowflake etc.Good applied statistics skills, such as distributions, statistical testing, regression, etc.Good ETL scripting and programming skills, such as Python, R or Scala to integrate developed solution into the proposition.A team player capable of working and integrating across cross-functional team for implementing project requirements. Experience in technical requirements gathering and documentation.Ability to work effectively and independently in a fast-paced global collaborative agile team environment with tight deadlinesA flexible, pragmatic and collaborative team player with innate ability to engage with stakeholders at all levels in the organization.A self-starter with high levels of drive, energy, resilience and a desire for professional excellence with a passion for data and data scienceRoleSoftware DeveloperIndustry TypeMedical Services / HospitalFunctional AreaIT Software - Application Programming, MaintenanceEmployment TypeFull Time, PermanentRole CategoryProgramming & DesignEducationUG :Any GraduatePG :Post Graduation Not RequiredKey SkillsProduct managementComputer sciencemetadataMachine learningAgilePLSQLHealthcareQlikViewData miningPython',\n",
       " 'Job descriptionYour responsibilitiesEnsure strategic direction for data science capabilities for Philips is created and kept up to date on a regular basisContinuously evaluate the latest techniques in Artificial intelligence, machine learning, robotics, statistical analysisImplement advanced algorithms for business problems based on statistical analysis, coding, deep learning, advanced data mining techniques etc.Develop new algorithms if necessary, to bring predictive, advanced statistics / learning based solutionsDevelop algorithms to further automate processes and feed insights back into PIL for better business outcomeCo-create with business / market / functions or IT platforms on requirementsEnsure quality of data and solution developedLead and drive data mining, creating algorithms, collection of data, collection of procedures during the design, build phases of a projectLead and drive in deploy and testing of the solutions and insightsSpot and evaluate emerging/cutting edge, open source, data science/machine learning librariesYou are part of:You will be part of Group IT , Information and Data Management team that drives business impact through Data Science and Advanced analytics. A team that instigates collaboration across diverse teams globally to manage Data as an asset at Philips.Core competencies needed to be successful:A Master s Degree or PhD in Computer Science, Econometrics, Artificial Intelligence, Applied Mathematics, Statistics or equivalent;10-15 years of overall experience in data science, data analytics roles10+ years of experience in multiple of machine learning, data mining, deep learning, artificial intelligence, pattern recognition areasExperience in driving implementation of solutions, data and algorithms on data warehouse and lakes like Azure , AWS, SQL etcDemonstrable advanced programming experience in Python or another programming language such as Azure ML/R/Python etc ;Strong analytical and social skills and the capability to translate data intelligence into valuable insights for the senior stakeholders in the companyAbility to formulate multiple complex business problems into hypothesis and proof of concepts for testingManage Projects and lead a sub-portfolio of data science project teams to deliver resultsCoach, Guide and direct teams of internal and vendor resourcesCollaborate across IT platform teams to deploy solutions and drive continuous improvementsManage senior stakeholder in the company in a matrix organization i.e. Market / BG / Function leadersRoleTeam Lead/Technical LeadIndustry TypeMedical Services / HospitalFunctional AreaIT Software - Application Programming, MaintenanceEmployment TypeFull Time, PermanentRole CategoryProgramming & DesignEducationUG :Any GraduatePG :Post Graduation Not RequiredKey SkillsComputer scienceData managementCodingAnalyticalMachine learningHealthcareData miningRoboticsSQLPython',\n",
       " 'Job descriptionResponsibilitiesIdentify valuable data sources and automate collection processesUndertake preprocessing of structured and unstructured dataAnalyze large amounts of information to discover trends and patternsBuild predictive models and machine-learning algorithmsCombine models through ensemble modelingPresent information using data visualization techniquesPropose solutions and strategies to business challengesCollaborate with engineering and product development teamsRequirementsProven experience as a Data Scientist or Data AnalystExperience in data mining, Deep LearningUnderstanding of machine-learning and operations researchExperience with NLPExperience with PythonExperience using business intelligence tools (e.g. Tableau) and data frameworks (e.g. Hadoop)Analytical mind and business acumenVery Strong math skills (e.g. statistics, algebra etc.,)Problem-solving aptitudeExcellent communication and presentation skillsRoleProduct ManagerIndustry TypeIT Services & ConsultingFunctional AreaIT Software - Application Programming, MaintenanceEmployment TypeFull Time, PermanentRole CategoryProgramming & DesignEducationPG :Any PostgraduateDoctorate :Any DoctorateKey SkillsNLPAlgorithmsData AnalysisData MiningData VisualizationTableauStatisticsDeep LearningPython',\n",
       " 'Job descriptionIn this role, you have the opportunity toProvide data science solutions using advanced techniques, tools and methods to complex business problems. Create and maintain standards around data science for the company. Partner with businesses, markets and functions. Reporting Head of Information Data ManagementYou are responsible forCo-create with business / market / functions or IT platforms on data science projects to meet the business need for insights and analytics using sophisticated data science techniques i.e. automation, crunching big data sets, machine learning or AISetup projects to drive the business needsParticipate in budgeting cycle, leading resources and running vendorsWork on continuously updating data science strategy including evaluate emerging/cutting edge, open source, data science/machine learning libraries/big data platformsStrong proven experience in solving business problems through data science techniques, statistical modeling where simple analysis will not be sufficientProvide technical and people leadership to the data science teamAbility to formulate multiple sophisticated business problems into hypothesis and proof of concepts for testingCoach, Guide and lead teams of internal and vendor resourcesDirect a team of 10-12 FTE data scientists and their priorities together with the partners and data information strategyLead PL for the sub-department and the data science project portfolioLead senior partner in the company in a matrix organization up to Executive committee levels, Market / BG / Function leadersFormulate strategies for incorporating new, latest and cutting-edge techniques and toolsTo succeed in this role, you should have the following skills and experienceDemonstrable sophisticated programming experience in Python or another programming language such as Java/C/C++/R;Strong analytical and interpersonal skills and the capability to translate data intelligence into valuable insights for the senior partners in the companyExperience in data analytics and in statistical (regression, clustering and classification), descriptive and diagnosis methods; knowledge of forecasting methodsA Master s Degree or PhD in Computer Science, Econometrics, Artificial Intelligence, Applied Mathematics, Statistics or equivalent;Certifications or training in leadership MBA is a plus15+ years of overall experience in data science, data analytics rolesproven experience in multiple of machine learning, data mining, deep learning, artificial intelligence, pattern recognition areasdemonstrated ability in creating and leading data science and analytics teamsvalidated experience in creating and leading data science and / or data analytics strategydemonstrated ability in working in multinational companies with matrix structures including handling conflicting priorities from multiple partnersRoleTeam Lead/Technical LeadIndustry TypeMedical Services / HospitalFunctional AreaIT Software - Application Programming, MaintenanceEmployment TypeFull Time, PermanentRole CategoryProgramming & DesignEducationUG :Any GraduatePG :Post Graduation Not RequiredKey SkillsComputer scienceC++AutomationData managementAnalyticalBudgetingData miningEconometricsForecastingMonitoring',\n",
       " 'Job descriptionSupport business in their decision making needs (Operational/ Strategic) by providing insights from Data.Assess solutions for business opportunities by leveraging data (Transactional Data/ Big Data, External and Internal Data, Structured and Unstructured Data) and analytics methods.Provide consulting, advice, training and support in analytics. Furthermore, will build the application related part of analytics knowledge base in the organization domain.Deliver high impact Business insights enabled by Analytics to various functions under the Philips Group Operations. (Markets/ BGs/ Functions would also be consumers of the related Insights from Group Operations)Drive Digital Innovation and deliver Value services to enable the Group Operations Transformation agenda. Enable improvement programs across Philips Sites- using levers such as process automation, digital technologies, analytics, artificial intelligence, etcHarmonize and optimize various Analytics efforts happening under the wider Group Operations to maximize ROI from data analytics for PhilipsKey Areas of ResponsibilitiesExpertise in analytics techniques/ methods and tools; Expertise in translating business requirements in to analytics and vice versa; strong execution and drive for results; focus on customers; change management skills; E2E operational excellence.Analytical bent of mindExpertize in analytics solutions design, development and deploymentExpertize in predictive analytics techniques, and data miningExperience in the areas of analytics, exposure to emerging digital technologies/ landscape. (eg Cloud computing, designing and embedding predictive analytics models into workflows/ processes)Expertize in R, Python toolsExpertize in Machine learning AI techniquesAbility to manage stakeholders within the organisationAbility to present facts based on data and in working with very large quantum of dataHave Business context across the multiple functions in an Organization - accelerating the ability to connect the dots across the breadth depth of large Organizations to enable Business resultsExperience QualificationsAbility to communicate clearly (oral, written and remote) to remote audience with clear business articulationExpertise in multiple tools and techniquesUnderstands and supports many business processes with analytics solutions/ deliveriesManaging direct and indirect stakeholders (support functions) like Finance, IT etc.Collaborates and influences with known stakeholdersIdentify and replicate best practices across the domain/tools techniquesKeep abreast with latest develop in analytics domain, emerging technologyAdvises business champions in the domain where analytics can contributeYear of industry Exp: 8 10 Years; Relevant Exp in analytics domain: 5+ yearsRoleBusiness AnalystIndustry TypeMedical Services / HospitalFunctional AreaIT Software - OtherEmployment TypeFull Time, PermanentRole CategorySystem Design/Implementation/ERP/CRMEducationUG :Any GraduatePG :Post Graduation Not RequiredKey SkillsProcess automationCloud computingChange managementOperational excellenceBusiness analyticsAnalyticalConsultingMachine learningData miningPython',\n",
       " 'Job descriptionIn this role, you have the opportunity toProvide data science solutions using advanced techniques, tools and methods to complex business problems. Create and maintain standards around data science for the company. Partner with businesses, markets and functions.You are responsible forCo-create with business / market / functions or IT platforms on requirementsInterpret and analyze data problems and come up with viable solutions, hypothesis and proof of conceptsEnsure quality of data and solution developedLead and drive data mining, creating algorithms, collection of data, collection of procedures during the design, build phases of a projectLead and drive in deploy and testing of the solutions and insightsWorking with big data and databasesProvide support to inexperienced analystsSpot and evaluate emerging/cutting edge, open source, data science/machine learning librariesTo succeed in this role, you should have the following skills and experienceDemonstrable advanced programming experience in Python or another programming language such as Java/C/C++/R;Strong analytical and social skills and the capability to translate data intelligence into valuable insights for the senior stakeholders in the companyExperience in data analytics and in statistical (regression, clustering and classification), descriptive and diagnosis methods; knowledge of forecasting methodsAbility to formulate multiple complex business problems into hypothesis and proof of concepts for testingCoach, Guide and direct teams of internal and vendor resourcesManage and lead a sub-portfolio of data science projectsManage data science project budgets for sub-areasManage senior stakeholder in the company in a matrix organization i.e. Market / BG / Function leadersA Master s Degree or PhD in Computer Science, Econometrics, Artificial Intelligence, Applied Mathematics, Statistics or equivalent;10-15 years of overall experience in data science, data analytics roles 10+ years of experience in multiple of machine learning, data mining, deep learning, artificial intelligence, pattern recognition areas10+ years of experience in using programming languages such as python, R, JAVA, C/C++ etc. to build data science solution2+ years of experience in working in multinational companies with matrix structures2+ years of making choices for high impact solution-based data science techniqueExperience in driving implementation of solutions, data and algorithms on data warehouse and lakesRoleBusiness/EDP AnalystIndustry TypeMedical Services / HospitalFunctional AreaITES, BPO, KPO, LPO, Customer Service, OperationsEmployment TypeFull Time, PermanentRole CategoryOperationsEducationUG :Any GraduatePG :Post Graduation Not RequiredKey SkillsComputer scienceC++data scienceAnalyticalData collectionData miningEconometricsForecastingMonitoring',\n",
       " 'Job descriptionKwalee is one of the world\\'s leading multiplatform game publishers, with well over 600 million downloads worldwide for mobile hits such as Draw It, Teacher Simulator, Lets Be Cops 3D and Makeover Studio 3D. Alongside this, we also have a growing PC and console team of incredible pedigree that is on the hunt for great new titles to join TENS! and Eternal Hope.With a team of talented people collaborating daily between our studios in Leamington Spa, Bangalore and Beijing, or on a remote basis from Turkey, Brazil, the Philippines and many more, we have a truly global team making games for a global audience. And its paying off: Kwalee games have been downloaded in every country on earth! If you think you\\'re a good fit for one of our remote vacancies, we want to hear from you wherever you are based.Founded in 2011 by David Darling CBE, a key architect of the UK games industry who previously co-founded and led Codemasters for many years, our team also includes legends such as Andrew Graham (creator of Micro Machines series) and Jason Falcus (programmer of classics including NBA Jam) alongside a growing and diverse team of global gaming experts. Everyone contributes creatively to Kwalees success, with all employees eligible to pitch their own game ideas on Creative Wednesdays, and we’re proud to have built our success on this inclusive principle. Could your idea be the next global hit?As a Senior Data Scientist you will help utilise masses of data generated by Kwalee players all over the world to solve complex problems using cutting edge techniques.You\\'ll be part of a team that will be based in the new office that we\\'re going to open in Bangalore.What you tell your friends you do\"My models optimise the performance of Kwalee games and advertising every day!”What you will really be doingBuild data solutions to solve business problemsUse statistical testing and predictive modelling to recommend and implement changes to marketing strategy along with in game features and designLeverage the huge amount of data generated by our players and advertising campaigns everyday to build models and iterate existing services to improve and automate decision making across the companyWork with the marketing, publishing and development teams to understand the problems they are facing and how to solve themHow you will be doing thisYou’ll be part of an agile, multidisciplinary and creative team and work closely with them to ensure the best results.You\\'ll think creatively and be motivated by challenges and constantly striving for the best.You’ll work with cutting edge technology, if you need software or hardware to get the job done efficiently, you can get it. We even have a robot!TeamOur talented team is our signature. We have a highly creative atmosphere with more than 150 staff where you’ll have the opportunity to contribute daily to important decisions. You’ll work within an extremely experienced, passionate and diverse team, including David Darling and the creator of the Micro Machines video games.Skills and requirementsA degree in a numerically focussed degree discipline such as, Maths, Physics, Economics, Chemistry, Engineering, Biological Sciences5+Years experience using Python for data analysis and visualisation and using libraries such as Tensorflow, Keras and Scikit-LearnA proven track record of solving problems with dataKnowledge of NoSQL or SQL databases like Couchbase, Elasticsearch and PostgreSQLAn avid interest in the development, marketing and monetisation of mobile gamesDesirableExperience with AWS - Redshift, EC2, LambdaExperience managing data projects from prototype to production toolsWe offerWe want everyone involved in our games to share our success, that’s why we have a generous team profit sharing scheme from day 1 of employmentIn addition to a competitive salary we also offer private medical cover and life assuranceCreative Wednesdays! (Design and make your own games every Wednesday)20 days of paid holidays plus bank holidaysGreat work-life balance with flexible working hoursQuarterly team building days - work hard, play hard!Monthly employee awardsFree snacks, fruit and drinksOur philosophyWe firmly believe in creativity and innovation and that a fundamental requirement for a successful and happy company is having the right mix of individuals. With the right people in the right environment anything and everything is possible.RoleSenior Data ScientistIndustry TypeAnimation & VFXFunctional AreaAnalytics & Business IntelligenceEmployment TypeFull Time, PermanentRole CategoryNot mentionedEducationUG :Any GraduateKey SkillsTensorflowPredictive ModelingData ManagementScikit-LearnPhysicsSQLNoSQLAws LambdaAmazon RedshiftEc2Data AnalysisKerasPython',\n",
       " 'Job description.Roles and responsibilitiesEnable the power of data analytics in the medical/healthcare domain.Enable the power of data science in the Marketing/customer analytics domain.Work with multiple business units to develop solutions and accelerators for high-performance and scalable AI.Discover customer and patient findings/potential insights using advanced analytics techniques such as NLP, statistical analysis, machine learning, etc.Analyze unstructured data from multiple feedback sources including customer feedback from listening, surveys, research, forums, online communities, social media/publicly available information, etc.Drive insights from unstructured data by doing information extraction, sentiment analysis, RCA to answer medical business questions.Work with multiple business units to develop solutions and accelerators for high-performance and scalable AI.Perform R&D and implementation and provide effective solutions for short-term and long-term needs.Comprehend business requirements and map that to technical data requirements.Mentor team members and Data Scientists.Understand and recommend open-source technologies and as well as a partnership-driven approach like AWS/Azure etc.Must haveWorking experience in statistical techniques, Machine Learning, text analytics/NLP, and reporting tools.Proven work experience in customer analytics, CRM analytics, lifetime value, attribution, experimentation, channel analysis, cohort analysis, etc.Past exposure to programming languages (like R/Python, HIVE, SQL, etc.).Ability to handle and summarize large data sets using SQL or Hive-SQL or SparkProven skills in translating analytics output to actionable recommendations.Desire to expand knowledge in Big Data and the overall data ecosystem.Ability to work with onsite and remote teams.Communication - be able to communicate information to persons with varying degrees of computer knowledge.Proficiency in one or more modern programming languages (Python)Creative Problem solving and troubleshooting skills.Effective written and verbal communication skills.Good to have :Exposure to marketing automation stack and applied analytics.Overall Azure or AWS ecosystem.Exposure to Big Data (Spark/Airflow), Cloud (Azure or/and AWS)Ability to design and develop scalable microservices.What We re Looking ForMaster s or Bachelor s degree in Computer Science or STEM (Science, Technology, Engineering, and Mathematics) or MBA with strong fundamentals and problem-solving skills8-11 years of experience in the Analytics industry with Medical analytics or Marketing analytics.Experience in using Azure or/and AWS stack is desired.RoleBusiness/EDP AnalystIndustry TypeIT Services & ConsultingFunctional AreaITES, BPO, KPO, LPO, Customer Service, OperationsEmployment TypeFull Time, PermanentRole CategoryOperationsEducationUG :Any GraduatePG :Post Graduation Not RequiredKey SkillsComputer scienceHospitalitycustomer analyticsBfsiSocial mediaHealthcareTroubleshootingAutomotiveCRMSQL',\n",
       " 'Job descriptionDevelop algorithms that utilize deep learning and traditional methods in machine learning.Create experiments, algorithms and prototypes that not only yield high-accuracy but are also designed and engineered to scale.Understand business domain, formulate the problem, create and organize data for improving overall machine learning outcome.Debug & improve models and their variations in a multi-tenant environment.Understand and explain model and automated decisions to business and technical stakeholders.Excellent proficiency in Python and SQL.Experience in building Bigdata pipelines and proven track record of implementing Machine learning models.Experience in Model development and deployment in GCP is big plus.3+ years in applying AI/ML principles to real world applications.Strong fundamentals in Probability, Statistics and Optimization.Broad Machine Learning experience - Algorithm Evaluation, Preparation, Analysis, Modeling and Execution.Exposure to Deep Learning, Reinforcement Learning and/or Time-Series techniques is a plus.RoleTechnical ArchitectIndustry TypeIT Services & ConsultingFunctional AreaIT Software - Application Programming, MaintenanceEmployment TypeFull Time, PermanentRole CategoryProgramming & DesignEducationUG :B.Tech/BE in Any SpecializationKey SkillsArtificial IntelligenceMachine LearningPythonAlgorithmsReinforcement LearningProbabilityStatisticsDeep LearningSQLModel DevelopmentSkills highlighted with ‘‘ are preferred keyskills',\n",
       " 'Job descriptionPreferred Qualifications5-8 years experience in data science.Professional certifications.Experience with visualization tools such as PowerBI and TableauExperience with NLP/NLU technologies (Amazon Lex, Google DialogFlow, etc)Experience with AI/ML technologies (Tensorflow, Amazon Sagemaker, etc)Experience with SQLExperience working in an Agile environmentA portfolio of relevant work to shareNote: If you are interested, kindly revert back with your updated resume ASAP. (sharan_c@trigent.com)RoleIT/Technical Content DeveloperIndustry TypeIT Services & ConsultingFunctional AreaIT Software - Application Programming, MaintenanceEmployment TypeFull Time, PermanentRole CategoryOtherEducationUG :Any GraduateKey SkillsData ScienceTableauSQLTensorflowNLPArtificial IntelligenceSkills highlighted with ‘‘ are preferred keyskills',\n",
       " 'Job descriptionPreferred Qualifications5-8 years experience in data science.Professional certifications.Experience with visualization tools such as PowerBI and TableauExperience with NLP/NLU technologies (Amazon Lex, Google DialogFlow, etc)Experience with AI/ML technologies (Tensorflow, Amazon Sagemaker, etc)Experience with SQLExperience working in an Agile environmentA portfolio of relevant work to shareNote: If you are interested, kindly revert back with your updated resume ASAP. (sharan_c@trigent.com)RoleIT/Technical Content DeveloperIndustry TypeIT Services & ConsultingFunctional AreaIT Software - Application Programming, MaintenanceEmployment TypeFull Time, PermanentRole CategoryOtherEducationUG :Any GraduateKey SkillsData ScienceTableauSQLTensorflowNLPArtificial IntelligenceSkills highlighted with ‘‘ are preferred keyskills',\n",
       " 'Job descriptionServe as primary technical lead on all phases of the projects from providing solutioning, experimentation and deployment.Willing to get your hands dirty with data analysis as well as be comfortable delegating tasks to junior members on the project team, thus providing technical guidance and oversight to the overall project.Hands-on solutioning within the chosen AI platform to partner with both customer and internal data solution architects.Must Have8 years of experience delivering results from advanced analytics projects; with at least 2 years experience leading a project or large workstreamExperience working on data analytics problems in commercial problems space such as pricing, supply chain, marketing or customer experience. Proven track record with building and deploying supervised classification, regression, deep learning and unsupervised clustering models and time series analysis.5 years of Knowledge and or experience with data transformations using SQL, leveraging SAS or SAS Viya platform.Statistical model building with 5 years of experienceBasic understanding of machine learning models development in python and leveraging AWS.Bachelors Degree in Engineering, Mathematics Analytics, Economics or BusinessNice to Have5 years of Knowledge and experience with SAS or SAS Viya platformExperience working with remote teams spread across the globeMachine Learning modelling experiencePython programming to build ML modelsAWS or equivalent other cloud based services knowledge SAS EGExperience working in a data analytics COE or in an analytics consulting companyRoleTechnical ArchitectIndustry TypeManagement ConsultingFunctional AreaIT Software - DBA, DatawarehousingEmployment TypeFull Time, PermanentRole CategoryProgramming & DesignEducationUG :B.Tech/BE in Production/IndustrialPG :Any PostgraduateKey SkillsSupply chainData analysisSASTime series analysisArtificial IntelligenceConsultingMachine learningData analyticsSQLPython',\n",
       " 'Job descriptionResponsibilitiesProvide advanced analytical capabilities to support data science initiativesSolves highly complex problems that do not yet have solutions in the research and span much of the Data Science portfolioInfluences the thought process and methodology for other team membersJob RequirementsSkill seet required6+ years of experience in analytics AND 2 years of programming experience (Python, Java, Scala, Rust, etc.)3 years of experience performing predictive analytics at a large scale enterprise3 years of experience in data science or advanced analytics in industrySQL ExperienceExperience using multiple data systems and sources (such as Hadoop, Spark, Aster, Teradata, etc.RoleDatabase Architect/DesignerIndustry TypeRecruitment / StaffingFunctional AreaIT Software - Application Programming, MaintenanceEmployment TypeFull Time, PermanentRole CategoryProgramming & DesignEducationUG :Any GraduatePG :Post Graduation Not RequiredKey Skillsadvanced analyticsdata scienceAnalyticalSCALALeadTeradataPredictive analyticsSQLPython',\n",
       " 'Job descriptionPrimary responsibilityDevelop Artificial intelligence solutions for clients business problems to drive business outcomeDevelop data platforms to support analytical and / or AI/ML solutionsDevelop end-to-end integrated applications for operationalizing AI/ML models and InsightsDevelop impactful presentations to convey insights to technical and non-technical audienceContribute to internal innovation / solution development charted by leveragingContribute to internal competency building initiatives on Analytics and AI / ML areasSupport consulting and sales team in relevant opportunitiesSkills & Experience:Masters in Business Administration / Engineering / Statistics / Economics / Operations Research / Computer Science / Data ScienceExperience in developing Artificial Intelligence applications leveraging Statistical / Machine Learning / Deep learning methodologiesData Visualization (technology agnostic)SQL, R or Python, Hive, Spark,RoleAssociate/Senior Associate -(NonTechnical)Industry TypeRecruitment / StaffingFunctional AreaITES, BPO, KPO, LPO, Customer Service, OperationsEmployment TypeFull Time, PermanentRole CategoryVoiceEducationUG :Any GraduatePG :Post Graduation Not RequiredKey SkillsComputer scienceOperations researchAnalyticalArtificial IntelligenceConsultingMachine learningdata visualizationAnalyticsSQLPython',\n",
       " 'Job description  Job Description Data ScientistExcellent, accurate d ata analysis and timely action required to organizational monitoring and control over the performance management system. Should have experience in handling large size of data sets which are in structured unstructured data. This role involves development of solutions. This role provides on the ground, day to day analysis and support to customers [internal counterparts], to predict the future analysis through various modelling algorithm techniques to provide analysis and key insights to the findings which is a vital part of enabling GTS-OPM to deliver a top class service to its customers/end users.Skill Sets Proficient in Python/R 3 + years Experience in Machine Learning concepts - Regression, Classification, Clustering, Time series, Anomaly Detection, NLP. Experience in model tuning and Experience in Neural Network concepts Experience building dashboards using shiny/dash/streamlit Experience building and providing data visualizations to explain data much more intuitively.Ability to extract and analyze data, patterns, and related trends is needed, with the subsequent ability to synthesize the data into information consumable by senior business decision makers.Working knowledge of setting up and consuming from data pipelines using Fluentd / Kafka / ELK StackGood understanding and usage of data base management systems - SQL, Postgre, NO-SQLDevelops and maintains scalable data pipelines and builds out new API integrations to support continuing increases in data volume and complexitySetting up and scheduling Machine learning projects using Apache airflow Automations using python shell scripting Proficient knowledge in Git CI-CD toolsEducation, Experience, and Licensing Requirements:BS or MS degree in Computer Science or a related technical field 3-5 years of Data Science/ Machine Learning experience Good knowledge of taking solutions to production. Maintain excellent communications (by phone and in writing) with Customers at all levels. 3-5 years of experience with schema design and dimensional data modeling Agile methodologyRoleOutside Technical ConsultantIndustry TypeIT Services & ConsultingFunctional AreaIT Software - OtherEmployment TypeFull Time, PermanentRole CategorySystem Design/Implementation/ERP/CRMEducationUG :Any GraduatePG :Post Graduation Not RequiredKey SkillsSANData analysisData modelingSOCShell scriptingSMSApacheSQLCRMPython']"
      ]
     },
     "execution_count": 23,
     "metadata": {},
     "output_type": "execute_result"
    }
   ],
   "source": [
    "job_desc = []\n",
    "\n",
    "for j in jd_urls:\n",
    "    driver.get(j)\n",
    "    try:\n",
    "        job_jd = driver.find_element_by_xpath('//section[@class=\"job-desc\"]')\n",
    "        job_desc.append(job_jd.text.replace('\\n',''))\n",
    "    except:\n",
    "        pass\n",
    "job_desc"
   ]
  },
  {
   "cell_type": "code",
   "execution_count": 24,
   "metadata": {},
   "outputs": [
    {
     "data": {
      "text/plain": [
       "[\"Job descriptionBrief JDExperience: 5 - 10 YrsSkills and Qualifications• Bachelor's or Master degree in Statistics, Applied Mathematics or related discipline• Proficiency with data mining, mathematics, and statistical analysis• Advanced pattern recognition and predictive modelling experience• Programming experience (Python, R, etc.)Preferred Qualifications• 5-10 years experience in data science• Professional certifications• Experience with visualization tools such as PowerBI and Tableau• Experience with NLP/NLU technologies (Amazon Lex, Google DialogFlow, etc)• Experience with AI/ML technologies (Tensorflow, Amazon Sagemaker, etc)• Experience with SQL• Experience working in an Agile environment• A portfolio of relevant work to shareTo apply for the role, Share your resumes or refer your friends toMail ID: damodharan.j@replicon.comRoleSoftware DeveloperIndustry TypeSoftware ProductFunctional AreaIT Software - OtherEmployment TypeFull Time, PermanentRole CategoryProgramming & DesignEducationUG :BCA in Any Specialization, B.Sc/B.Sc(Hons) in Any Specialization, B.Tech/BE in Any SpecializationPG :MCA in Any Specialization, M.Tech/ME in Any Specialization, PG Diploma in Any Specialization, M.Sc/MS in Any SpecializationKey SkillsPower BiPredictive ModelingTensorflowArtificial IntelligenceAIData MiningTableauSQLData ScienceRPattern RecognitionNLPNLUGoogle DialogFlowAmazon LexPythonMLSkills highlighted with ‘‘ are preferred keyskills\",\n",
       " \"Job descriptionBrief JDExperience: 5 - 10 YrsSkills and Qualifications• Bachelor's or Master degree in Statistics, Applied Mathematics or related discipline• Proficiency with data mining, mathematics, and statistical analysis• Advanced pattern recognition and predictive modelling experience• Programming experience (Python, R, etc.)Preferred Qualifications• 5-10 years experience in data science• Professional certifications• Experience with visualization tools such as PowerBI and Tableau• Experience with NLP/NLU technologies (Amazon Lex, Google DialogFlow, etc)• Experience with AI/ML technologies (Tensorflow, Amazon Sagemaker, etc)• Experience with SQL• Experience working in an Agile environment• A portfolio of relevant work to shareTo apply for the role, Share your resumes or refer your friends toMail ID: damodharan.j@replicon.comRoleSoftware DeveloperIndustry TypeSoftware ProductFunctional AreaIT Software - OtherEmployment TypeFull Time, PermanentRole CategoryProgramming & DesignEducationUG :B.Sc/B.Sc(Hons) in Any Specialization, BCA in Any Specialization, B.Tech/BE in Any SpecializationPG :M.Sc/MS in Any Specialization, MCA in Any Specialization, M.Tech/ME in Any Specialization, PG Diploma in Any SpecializationKey SkillsPower BiPredictive ModelingTensorflowArtificial IntelligenceAIData MiningTableauSQLData ScienceRPattern RecognitionNLPNLUGoogle DialogFlowAmazon LexPythonMLSkills highlighted with ‘‘ are preferred keyskills\",\n",
       " 'Job descriptionJob ResponsibilitiesUse predictive modeling to increase and optimize customer experiences, revenue generation, campaign optimization and other business outcomesWork with product management to develop data use cases and embed predictive models in workflows on resource constrained platforms and cloud enabled.Selecting features, building and optimizing classifiers using machine learning and deep learning techniquesCollaborates with Data Engineers to enhance data collection and ingestion/curation techniques to include information that is relevant for building analytic systemsProcessing, cleansing, and verifying the integrity of data used for analysisDevelop processes and tools to monitor and analyze model performance and data accuracy. Life cycle management of predictive models.Adherence to compliance procedures in accordance with regulatory standards, requirements, and policies. Managing and designing the reporting environment, including data sources security, and metadata.Job Qualifications:Master s degree or PhD in Computer Science, Information management, Statistics or related field, with 10+ years of experience in the Consumer or Healthcare industry manipulating data sets and building predictive models with focus on product developmentExperience in statistical modelling, machine learning, data mining, unstructured data analytics and natural language processing. Sound understanding of - Bayesian Modelling, Classification Models, Cluster Analysis, Neural Network, Nonparametric Methods, Multivariate Statistics, etc.Strong hands on knowledge of ML techniques like regression algorithms, K-NN, Na ve Bayes, SVM and ensemble techniques like Random forest, AdaBoost etcHaving strong knowledge in unsupervised learning algorithms using Neural networks and Deep-LearningStrong knowledge in Data Wrangling and Exploration techniques to identify the patterns, trends and outliners.Deep knowledge and practical experience with data science toolkits, such as NumPy, Pandas, scikit-learn or equivalentExperience with data visualization tools, such as QlikView, Matplotlib, seaborn or equivalent tools.Proficiency in using query languages, such as SQL, PL/SQLHands on experience in the one or more databases like Hadoop, AWS Redshift, Snowflake etc.Good applied statistics skills, such as distributions, statistical testing, regression, etc.Good ETL scripting and programming skills, such as Python, R or Scala to integrate developed solution into the proposition.A team player capable of working and integrating across cross-functional team for implementing project requirements. Experience in technical requirements gathering and documentation.Ability to work effectively and independently in a fast-paced global collaborative agile team environment with tight deadlinesA flexible, pragmatic and collaborative team player with innate ability to engage with stakeholders at all levels in the organization.A self-starter with high levels of drive, energy, resilience and a desire for professional excellence with a passion for data and data scienceRoleSoftware DeveloperIndustry TypeMedical Services / HospitalFunctional AreaIT Software - Application Programming, MaintenanceEmployment TypeFull Time, PermanentRole CategoryProgramming & DesignEducationUG :Any GraduatePG :Post Graduation Not RequiredKey SkillsProduct managementComputer sciencemetadataMachine learningAgilePLSQLHealthcareQlikViewData miningPython',\n",
       " 'Job descriptionYour responsibilitiesEnsure strategic direction for data science capabilities for Philips is created and kept up to date on a regular basisContinuously evaluate the latest techniques in Artificial intelligence, machine learning, robotics, statistical analysisImplement advanced algorithms for business problems based on statistical analysis, coding, deep learning, advanced data mining techniques etc.Develop new algorithms if necessary, to bring predictive, advanced statistics / learning based solutionsDevelop algorithms to further automate processes and feed insights back into PIL for better business outcomeCo-create with business / market / functions or IT platforms on requirementsEnsure quality of data and solution developedLead and drive data mining, creating algorithms, collection of data, collection of procedures during the design, build phases of a projectLead and drive in deploy and testing of the solutions and insightsSpot and evaluate emerging/cutting edge, open source, data science/machine learning librariesYou are part of:You will be part of Group IT , Information and Data Management team that drives business impact through Data Science and Advanced analytics. A team that instigates collaboration across diverse teams globally to manage Data as an asset at Philips.Core competencies needed to be successful:A Master s Degree or PhD in Computer Science, Econometrics, Artificial Intelligence, Applied Mathematics, Statistics or equivalent;10-15 years of overall experience in data science, data analytics roles10+ years of experience in multiple of machine learning, data mining, deep learning, artificial intelligence, pattern recognition areasExperience in driving implementation of solutions, data and algorithms on data warehouse and lakes like Azure , AWS, SQL etcDemonstrable advanced programming experience in Python or another programming language such as Azure ML/R/Python etc ;Strong analytical and social skills and the capability to translate data intelligence into valuable insights for the senior stakeholders in the companyAbility to formulate multiple complex business problems into hypothesis and proof of concepts for testingManage Projects and lead a sub-portfolio of data science project teams to deliver resultsCoach, Guide and direct teams of internal and vendor resourcesCollaborate across IT platform teams to deploy solutions and drive continuous improvementsManage senior stakeholder in the company in a matrix organization i.e. Market / BG / Function leadersRoleTeam Lead/Technical LeadIndustry TypeMedical Services / HospitalFunctional AreaIT Software - Application Programming, MaintenanceEmployment TypeFull Time, PermanentRole CategoryProgramming & DesignEducationUG :Any GraduatePG :Post Graduation Not RequiredKey SkillsComputer scienceData managementCodingAnalyticalMachine learningHealthcareData miningRoboticsSQLPython',\n",
       " 'Job descriptionResponsibilitiesIdentify valuable data sources and automate collection processesUndertake preprocessing of structured and unstructured dataAnalyze large amounts of information to discover trends and patternsBuild predictive models and machine-learning algorithmsCombine models through ensemble modelingPresent information using data visualization techniquesPropose solutions and strategies to business challengesCollaborate with engineering and product development teamsRequirementsProven experience as a Data Scientist or Data AnalystExperience in data mining, Deep LearningUnderstanding of machine-learning and operations researchExperience with NLPExperience with PythonExperience using business intelligence tools (e.g. Tableau) and data frameworks (e.g. Hadoop)Analytical mind and business acumenVery Strong math skills (e.g. statistics, algebra etc.,)Problem-solving aptitudeExcellent communication and presentation skillsRoleProduct ManagerIndustry TypeIT Services & ConsultingFunctional AreaIT Software - Application Programming, MaintenanceEmployment TypeFull Time, PermanentRole CategoryProgramming & DesignEducationPG :Any PostgraduateDoctorate :Any DoctorateKey SkillsNLPAlgorithmsData AnalysisData MiningData VisualizationTableauStatisticsDeep LearningPython',\n",
       " 'Job descriptionIn this role, you have the opportunity toProvide data science solutions using advanced techniques, tools and methods to complex business problems. Create and maintain standards around data science for the company. Partner with businesses, markets and functions. Reporting Head of Information Data ManagementYou are responsible forCo-create with business / market / functions or IT platforms on data science projects to meet the business need for insights and analytics using sophisticated data science techniques i.e. automation, crunching big data sets, machine learning or AISetup projects to drive the business needsParticipate in budgeting cycle, leading resources and running vendorsWork on continuously updating data science strategy including evaluate emerging/cutting edge, open source, data science/machine learning libraries/big data platformsStrong proven experience in solving business problems through data science techniques, statistical modeling where simple analysis will not be sufficientProvide technical and people leadership to the data science teamAbility to formulate multiple sophisticated business problems into hypothesis and proof of concepts for testingCoach, Guide and lead teams of internal and vendor resourcesDirect a team of 10-12 FTE data scientists and their priorities together with the partners and data information strategyLead PL for the sub-department and the data science project portfolioLead senior partner in the company in a matrix organization up to Executive committee levels, Market / BG / Function leadersFormulate strategies for incorporating new, latest and cutting-edge techniques and toolsTo succeed in this role, you should have the following skills and experienceDemonstrable sophisticated programming experience in Python or another programming language such as Java/C/C++/R;Strong analytical and interpersonal skills and the capability to translate data intelligence into valuable insights for the senior partners in the companyExperience in data analytics and in statistical (regression, clustering and classification), descriptive and diagnosis methods; knowledge of forecasting methodsA Master s Degree or PhD in Computer Science, Econometrics, Artificial Intelligence, Applied Mathematics, Statistics or equivalent;Certifications or training in leadership MBA is a plus15+ years of overall experience in data science, data analytics rolesproven experience in multiple of machine learning, data mining, deep learning, artificial intelligence, pattern recognition areasdemonstrated ability in creating and leading data science and analytics teamsvalidated experience in creating and leading data science and / or data analytics strategydemonstrated ability in working in multinational companies with matrix structures including handling conflicting priorities from multiple partnersRoleTeam Lead/Technical LeadIndustry TypeMedical Services / HospitalFunctional AreaIT Software - Application Programming, MaintenanceEmployment TypeFull Time, PermanentRole CategoryProgramming & DesignEducationUG :Any GraduatePG :Post Graduation Not RequiredKey SkillsComputer scienceC++AutomationData managementAnalyticalBudgetingData miningEconometricsForecastingMonitoring',\n",
       " 'Job descriptionSupport business in their decision making needs (Operational/ Strategic) by providing insights from Data.Assess solutions for business opportunities by leveraging data (Transactional Data/ Big Data, External and Internal Data, Structured and Unstructured Data) and analytics methods.Provide consulting, advice, training and support in analytics. Furthermore, will build the application related part of analytics knowledge base in the organization domain.Deliver high impact Business insights enabled by Analytics to various functions under the Philips Group Operations. (Markets/ BGs/ Functions would also be consumers of the related Insights from Group Operations)Drive Digital Innovation and deliver Value services to enable the Group Operations Transformation agenda. Enable improvement programs across Philips Sites- using levers such as process automation, digital technologies, analytics, artificial intelligence, etcHarmonize and optimize various Analytics efforts happening under the wider Group Operations to maximize ROI from data analytics for PhilipsKey Areas of ResponsibilitiesExpertise in analytics techniques/ methods and tools; Expertise in translating business requirements in to analytics and vice versa; strong execution and drive for results; focus on customers; change management skills; E2E operational excellence.Analytical bent of mindExpertize in analytics solutions design, development and deploymentExpertize in predictive analytics techniques, and data miningExperience in the areas of analytics, exposure to emerging digital technologies/ landscape. (eg Cloud computing, designing and embedding predictive analytics models into workflows/ processes)Expertize in R, Python toolsExpertize in Machine learning AI techniquesAbility to manage stakeholders within the organisationAbility to present facts based on data and in working with very large quantum of dataHave Business context across the multiple functions in an Organization - accelerating the ability to connect the dots across the breadth depth of large Organizations to enable Business resultsExperience QualificationsAbility to communicate clearly (oral, written and remote) to remote audience with clear business articulationExpertise in multiple tools and techniquesUnderstands and supports many business processes with analytics solutions/ deliveriesManaging direct and indirect stakeholders (support functions) like Finance, IT etc.Collaborates and influences with known stakeholdersIdentify and replicate best practices across the domain/tools techniquesKeep abreast with latest develop in analytics domain, emerging technologyAdvises business champions in the domain where analytics can contributeYear of industry Exp: 8 10 Years; Relevant Exp in analytics domain: 5+ yearsRoleBusiness AnalystIndustry TypeMedical Services / HospitalFunctional AreaIT Software - OtherEmployment TypeFull Time, PermanentRole CategorySystem Design/Implementation/ERP/CRMEducationUG :Any GraduatePG :Post Graduation Not RequiredKey SkillsProcess automationCloud computingChange managementOperational excellenceBusiness analyticsAnalyticalConsultingMachine learningData miningPython',\n",
       " 'Job descriptionIn this role, you have the opportunity toProvide data science solutions using advanced techniques, tools and methods to complex business problems. Create and maintain standards around data science for the company. Partner with businesses, markets and functions.You are responsible forCo-create with business / market / functions or IT platforms on requirementsInterpret and analyze data problems and come up with viable solutions, hypothesis and proof of conceptsEnsure quality of data and solution developedLead and drive data mining, creating algorithms, collection of data, collection of procedures during the design, build phases of a projectLead and drive in deploy and testing of the solutions and insightsWorking with big data and databasesProvide support to inexperienced analystsSpot and evaluate emerging/cutting edge, open source, data science/machine learning librariesTo succeed in this role, you should have the following skills and experienceDemonstrable advanced programming experience in Python or another programming language such as Java/C/C++/R;Strong analytical and social skills and the capability to translate data intelligence into valuable insights for the senior stakeholders in the companyExperience in data analytics and in statistical (regression, clustering and classification), descriptive and diagnosis methods; knowledge of forecasting methodsAbility to formulate multiple complex business problems into hypothesis and proof of concepts for testingCoach, Guide and direct teams of internal and vendor resourcesManage and lead a sub-portfolio of data science projectsManage data science project budgets for sub-areasManage senior stakeholder in the company in a matrix organization i.e. Market / BG / Function leadersA Master s Degree or PhD in Computer Science, Econometrics, Artificial Intelligence, Applied Mathematics, Statistics or equivalent;10-15 years of overall experience in data science, data analytics roles 10+ years of experience in multiple of machine learning, data mining, deep learning, artificial intelligence, pattern recognition areas10+ years of experience in using programming languages such as python, R, JAVA, C/C++ etc. to build data science solution2+ years of experience in working in multinational companies with matrix structures2+ years of making choices for high impact solution-based data science techniqueExperience in driving implementation of solutions, data and algorithms on data warehouse and lakesRoleBusiness/EDP AnalystIndustry TypeMedical Services / HospitalFunctional AreaITES, BPO, KPO, LPO, Customer Service, OperationsEmployment TypeFull Time, PermanentRole CategoryOperationsEducationUG :Any GraduatePG :Post Graduation Not RequiredKey SkillsComputer scienceC++data scienceAnalyticalData collectionData miningEconometricsForecastingMonitoring',\n",
       " 'Job descriptionKwalee is one of the world\\'s leading multiplatform game publishers, with well over 600 million downloads worldwide for mobile hits such as Draw It, Teacher Simulator, Lets Be Cops 3D and Makeover Studio 3D. Alongside this, we also have a growing PC and console team of incredible pedigree that is on the hunt for great new titles to join TENS! and Eternal Hope.With a team of talented people collaborating daily between our studios in Leamington Spa, Bangalore and Beijing, or on a remote basis from Turkey, Brazil, the Philippines and many more, we have a truly global team making games for a global audience. And its paying off: Kwalee games have been downloaded in every country on earth! If you think you\\'re a good fit for one of our remote vacancies, we want to hear from you wherever you are based.Founded in 2011 by David Darling CBE, a key architect of the UK games industry who previously co-founded and led Codemasters for many years, our team also includes legends such as Andrew Graham (creator of Micro Machines series) and Jason Falcus (programmer of classics including NBA Jam) alongside a growing and diverse team of global gaming experts. Everyone contributes creatively to Kwalees success, with all employees eligible to pitch their own game ideas on Creative Wednesdays, and we’re proud to have built our success on this inclusive principle. Could your idea be the next global hit?As a Senior Data Scientist you will help utilise masses of data generated by Kwalee players all over the world to solve complex problems using cutting edge techniques.You\\'ll be part of a team that will be based in the new office that we\\'re going to open in Bangalore.What you tell your friends you do\"My models optimise the performance of Kwalee games and advertising every day!”What you will really be doingBuild data solutions to solve business problemsUse statistical testing and predictive modelling to recommend and implement changes to marketing strategy along with in game features and designLeverage the huge amount of data generated by our players and advertising campaigns everyday to build models and iterate existing services to improve and automate decision making across the companyWork with the marketing, publishing and development teams to understand the problems they are facing and how to solve themHow you will be doing thisYou’ll be part of an agile, multidisciplinary and creative team and work closely with them to ensure the best results.You\\'ll think creatively and be motivated by challenges and constantly striving for the best.You’ll work with cutting edge technology, if you need software or hardware to get the job done efficiently, you can get it. We even have a robot!TeamOur talented team is our signature. We have a highly creative atmosphere with more than 150 staff where you’ll have the opportunity to contribute daily to important decisions. You’ll work within an extremely experienced, passionate and diverse team, including David Darling and the creator of the Micro Machines video games.Skills and requirementsA degree in a numerically focussed degree discipline such as, Maths, Physics, Economics, Chemistry, Engineering, Biological Sciences5+Years experience using Python for data analysis and visualisation and using libraries such as Tensorflow, Keras and Scikit-LearnA proven track record of solving problems with dataKnowledge of NoSQL or SQL databases like Couchbase, Elasticsearch and PostgreSQLAn avid interest in the development, marketing and monetisation of mobile gamesDesirableExperience with AWS - Redshift, EC2, LambdaExperience managing data projects from prototype to production toolsWe offerWe want everyone involved in our games to share our success, that’s why we have a generous team profit sharing scheme from day 1 of employmentIn addition to a competitive salary we also offer private medical cover and life assuranceCreative Wednesdays! (Design and make your own games every Wednesday)20 days of paid holidays plus bank holidaysGreat work-life balance with flexible working hoursQuarterly team building days - work hard, play hard!Monthly employee awardsFree snacks, fruit and drinksOur philosophyWe firmly believe in creativity and innovation and that a fundamental requirement for a successful and happy company is having the right mix of individuals. With the right people in the right environment anything and everything is possible.RoleSenior Data ScientistIndustry TypeAnimation & VFXFunctional AreaAnalytics & Business IntelligenceEmployment TypeFull Time, PermanentRole CategoryNot mentionedEducationUG :Any GraduateKey SkillsTensorflowPredictive ModelingData ManagementScikit-LearnPhysicsSQLNoSQLAws LambdaAmazon RedshiftEc2Data AnalysisKerasPython',\n",
       " 'Job description.Roles and responsibilitiesEnable the power of data analytics in the medical/healthcare domain.Enable the power of data science in the Marketing/customer analytics domain.Work with multiple business units to develop solutions and accelerators for high-performance and scalable AI.Discover customer and patient findings/potential insights using advanced analytics techniques such as NLP, statistical analysis, machine learning, etc.Analyze unstructured data from multiple feedback sources including customer feedback from listening, surveys, research, forums, online communities, social media/publicly available information, etc.Drive insights from unstructured data by doing information extraction, sentiment analysis, RCA to answer medical business questions.Work with multiple business units to develop solutions and accelerators for high-performance and scalable AI.Perform R&D and implementation and provide effective solutions for short-term and long-term needs.Comprehend business requirements and map that to technical data requirements.Mentor team members and Data Scientists.Understand and recommend open-source technologies and as well as a partnership-driven approach like AWS/Azure etc.Must haveWorking experience in statistical techniques, Machine Learning, text analytics/NLP, and reporting tools.Proven work experience in customer analytics, CRM analytics, lifetime value, attribution, experimentation, channel analysis, cohort analysis, etc.Past exposure to programming languages (like R/Python, HIVE, SQL, etc.).Ability to handle and summarize large data sets using SQL or Hive-SQL or SparkProven skills in translating analytics output to actionable recommendations.Desire to expand knowledge in Big Data and the overall data ecosystem.Ability to work with onsite and remote teams.Communication - be able to communicate information to persons with varying degrees of computer knowledge.Proficiency in one or more modern programming languages (Python)Creative Problem solving and troubleshooting skills.Effective written and verbal communication skills.Good to have :Exposure to marketing automation stack and applied analytics.Overall Azure or AWS ecosystem.Exposure to Big Data (Spark/Airflow), Cloud (Azure or/and AWS)Ability to design and develop scalable microservices.What We re Looking ForMaster s or Bachelor s degree in Computer Science or STEM (Science, Technology, Engineering, and Mathematics) or MBA with strong fundamentals and problem-solving skills8-11 years of experience in the Analytics industry with Medical analytics or Marketing analytics.Experience in using Azure or/and AWS stack is desired.RoleBusiness/EDP AnalystIndustry TypeIT Services & ConsultingFunctional AreaITES, BPO, KPO, LPO, Customer Service, OperationsEmployment TypeFull Time, PermanentRole CategoryOperationsEducationUG :Any GraduatePG :Post Graduation Not RequiredKey SkillsComputer scienceHospitalitycustomer analyticsBfsiSocial mediaHealthcareTroubleshootingAutomotiveCRMSQL']"
      ]
     },
     "execution_count": 24,
     "metadata": {},
     "output_type": "execute_result"
    }
   ],
   "source": [
    "job_description = job_desc[:10]\n",
    "\n",
    "job_description"
   ]
  },
  {
   "cell_type": "code",
   "execution_count": 25,
   "metadata": {},
   "outputs": [
    {
     "name": "stdout",
     "output_type": "stream",
     "text": [
      "10 10 10 10\n"
     ]
    }
   ],
   "source": [
    "# Now printing the length of all the data which we've extracted.\n",
    "\n",
    "print(len(job_title),len(job_loc),len(company),len(job_description))"
   ]
  },
  {
   "cell_type": "code",
   "execution_count": 26,
   "metadata": {},
   "outputs": [
    {
     "data": {
      "text/html": [
       "<div>\n",
       "<style scoped>\n",
       "    .dataframe tbody tr th:only-of-type {\n",
       "        vertical-align: middle;\n",
       "    }\n",
       "\n",
       "    .dataframe tbody tr th {\n",
       "        vertical-align: top;\n",
       "    }\n",
       "\n",
       "    .dataframe thead th {\n",
       "        text-align: right;\n",
       "    }\n",
       "</style>\n",
       "<table border=\"1\" class=\"dataframe\">\n",
       "  <thead>\n",
       "    <tr style=\"text-align: right;\">\n",
       "      <th></th>\n",
       "      <th>Job Title</th>\n",
       "      <th>Location</th>\n",
       "      <th>Company Name</th>\n",
       "      <th>Job Description</th>\n",
       "    </tr>\n",
       "  </thead>\n",
       "  <tbody>\n",
       "    <tr>\n",
       "      <th>0</th>\n",
       "      <td>Data Scientist</td>\n",
       "      <td>Kolkata, Hyderabad/Secunderabad, Pune, Ahmedab...</td>\n",
       "      <td>Replicon Software</td>\n",
       "      <td>Job descriptionBrief JDExperience: 5 - 10 YrsS...</td>\n",
       "    </tr>\n",
       "    <tr>\n",
       "      <th>1</th>\n",
       "      <td>Data Scientist</td>\n",
       "      <td>Kolkata, Hyderabad/Secunderabad, Pune, Ahmedab...</td>\n",
       "      <td>Replicon Software</td>\n",
       "      <td>Job descriptionBrief JDExperience: 5 - 10 YrsS...</td>\n",
       "    </tr>\n",
       "    <tr>\n",
       "      <th>2</th>\n",
       "      <td>Senior Data Scientist I</td>\n",
       "      <td>Bangalore/Bengaluru</td>\n",
       "      <td>Philips India Limited</td>\n",
       "      <td>Job descriptionJob ResponsibilitiesUse predict...</td>\n",
       "    </tr>\n",
       "    <tr>\n",
       "      <th>3</th>\n",
       "      <td>IDM - Lead Data Scientist</td>\n",
       "      <td>Bangalore/Bengaluru</td>\n",
       "      <td>Philips India Limited</td>\n",
       "      <td>Job descriptionYour responsibilitiesEnsure str...</td>\n",
       "    </tr>\n",
       "    <tr>\n",
       "      <th>4</th>\n",
       "      <td>Senior/Lead Data Scientist</td>\n",
       "      <td>Hyderabad/Secunderabad, Chennai, Bangalore/Ben...</td>\n",
       "      <td>AUREUSTECH SYSTEMS PRIVATE LIMITED</td>\n",
       "      <td>Job descriptionResponsibilitiesIdentify valuab...</td>\n",
       "    </tr>\n",
       "    <tr>\n",
       "      <th>5</th>\n",
       "      <td>Principal Data Scientist</td>\n",
       "      <td>Bangalore/Bengaluru</td>\n",
       "      <td>Philips India Limited</td>\n",
       "      <td>Job descriptionIn this role, you have the oppo...</td>\n",
       "    </tr>\n",
       "    <tr>\n",
       "      <th>6</th>\n",
       "      <td>Data Scientist - Business Analytics</td>\n",
       "      <td>Bangalore/Bengaluru</td>\n",
       "      <td>Philips India Limited</td>\n",
       "      <td>Job descriptionSupport business in their decis...</td>\n",
       "    </tr>\n",
       "    <tr>\n",
       "      <th>7</th>\n",
       "      <td>Data Scientist</td>\n",
       "      <td>Bangalore/Bengaluru</td>\n",
       "      <td>Philips India Limited</td>\n",
       "      <td>Job descriptionIn this role, you have the oppo...</td>\n",
       "    </tr>\n",
       "    <tr>\n",
       "      <th>8</th>\n",
       "      <td>Senior Data Scientist</td>\n",
       "      <td>Bangalore/Bengaluru</td>\n",
       "      <td>Kwalee India Pvt Ltd.</td>\n",
       "      <td>Job descriptionKwalee is one of the world's le...</td>\n",
       "    </tr>\n",
       "    <tr>\n",
       "      <th>9</th>\n",
       "      <td>SENIOR DATA SCIENTIST</td>\n",
       "      <td>Bangalore/Bengaluru</td>\n",
       "      <td>Happiest Minds Technologies Pvt.Ltd</td>\n",
       "      <td>Job description.Roles and responsibilitiesEnab...</td>\n",
       "    </tr>\n",
       "  </tbody>\n",
       "</table>\n",
       "</div>"
      ],
      "text/plain": [
       "                            Job Title   \\\n",
       "0                       Data Scientist   \n",
       "1                       Data Scientist   \n",
       "2              Senior Data Scientist I   \n",
       "3            IDM - Lead Data Scientist   \n",
       "4           Senior/Lead Data Scientist   \n",
       "5             Principal Data Scientist   \n",
       "6  Data Scientist - Business Analytics   \n",
       "7                       Data Scientist   \n",
       "8                Senior Data Scientist   \n",
       "9                SENIOR DATA SCIENTIST   \n",
       "\n",
       "                                           Location   \\\n",
       "0  Kolkata, Hyderabad/Secunderabad, Pune, Ahmedab...   \n",
       "1  Kolkata, Hyderabad/Secunderabad, Pune, Ahmedab...   \n",
       "2                                Bangalore/Bengaluru   \n",
       "3                                Bangalore/Bengaluru   \n",
       "4  Hyderabad/Secunderabad, Chennai, Bangalore/Ben...   \n",
       "5                                Bangalore/Bengaluru   \n",
       "6                                Bangalore/Bengaluru   \n",
       "7                                Bangalore/Bengaluru   \n",
       "8                                Bangalore/Bengaluru   \n",
       "9                                Bangalore/Bengaluru   \n",
       "\n",
       "                         Company Name   \\\n",
       "0                    Replicon Software   \n",
       "1                    Replicon Software   \n",
       "2                Philips India Limited   \n",
       "3                Philips India Limited   \n",
       "4   AUREUSTECH SYSTEMS PRIVATE LIMITED   \n",
       "5                Philips India Limited   \n",
       "6                Philips India Limited   \n",
       "7                Philips India Limited   \n",
       "8                Kwalee India Pvt Ltd.   \n",
       "9  Happiest Minds Technologies Pvt.Ltd   \n",
       "\n",
       "                                    Job Description   \n",
       "0  Job descriptionBrief JDExperience: 5 - 10 YrsS...  \n",
       "1  Job descriptionBrief JDExperience: 5 - 10 YrsS...  \n",
       "2  Job descriptionJob ResponsibilitiesUse predict...  \n",
       "3  Job descriptionYour responsibilitiesEnsure str...  \n",
       "4  Job descriptionResponsibilitiesIdentify valuab...  \n",
       "5  Job descriptionIn this role, you have the oppo...  \n",
       "6  Job descriptionSupport business in their decis...  \n",
       "7  Job descriptionIn this role, you have the oppo...  \n",
       "8  Job descriptionKwalee is one of the world's le...  \n",
       "9  Job description.Roles and responsibilitiesEnab...  "
      ]
     },
     "execution_count": 26,
     "metadata": {},
     "output_type": "execute_result"
    }
   ],
   "source": [
    "# Now we'll make the DataFrame using Pandas\n",
    "\n",
    "jobs = pd.DataFrame({})\n",
    "\n",
    "jobs[' Job Title ']= job_title\n",
    "jobs[' Location ']= job_loc\n",
    "jobs[' Company Name ']= company\n",
    "jobs[' Job Description ']= job_description\n",
    "\n",
    "jobs"
   ]
  },
  {
   "cell_type": "markdown",
   "metadata": {},
   "source": [
    "------------------------------------------------------------------------------------------------------------------------------"
   ]
  },
  {
   "cell_type": "markdown",
   "metadata": {},
   "source": [
    "###### Q.No. 3 :- scrape data for “Data Scientist” designation for first 10 job results using filters on location and salary\n",
    "\n",
    "\n",
    "--------------------------------------------------------------------------------------------------------------------------"
   ]
  },
  {
   "cell_type": "code",
   "execution_count": 3,
   "metadata": {},
   "outputs": [],
   "source": [
    "#Getting the web-page \n",
    "\n",
    "url3 = 'https://www.naukri.com/'\n",
    "\n",
    "driver.get(url3)"
   ]
  },
  {
   "cell_type": "code",
   "execution_count": 5,
   "metadata": {},
   "outputs": [
    {
     "data": {
      "text/plain": [
       "<selenium.webdriver.remote.webelement.WebElement (session=\"a137d3cd868d6ed91be53c53bce44f0c\", element=\"db912ab9-e414-4fda-8ad7-a7f92b04ff2c\")>"
      ]
     },
     "execution_count": 5,
     "metadata": {},
     "output_type": "execute_result"
    }
   ],
   "source": [
    "#Extracting the web element of the search bar.\n",
    "\n",
    "src1_tag = driver.find_element_by_xpath('//input[@class=\"sugInp\"]')\n",
    "\n",
    "src1_tag"
   ]
  },
  {
   "cell_type": "code",
   "execution_count": 6,
   "metadata": {},
   "outputs": [],
   "source": [
    "#Entering the value inside the search bar. \n",
    "\n",
    "src1_tag.send_keys('Data Scientist')"
   ]
  },
  {
   "cell_type": "code",
   "execution_count": 8,
   "metadata": {},
   "outputs": [
    {
     "data": {
      "text/plain": [
       "<selenium.webdriver.remote.webelement.WebElement (session=\"a137d3cd868d6ed91be53c53bce44f0c\", element=\"9ac8b4d3-1470-4a42-82ff-8c4da0b906de\")>"
      ]
     },
     "execution_count": 8,
     "metadata": {},
     "output_type": "execute_result"
    }
   ],
   "source": [
    "#Finding the web element of the search button\n",
    "\n",
    "src1_bar = driver.find_element_by_xpath('//button[@class=\"btn\"]')\n",
    "\n",
    "src1_bar"
   ]
  },
  {
   "cell_type": "code",
   "execution_count": 9,
   "metadata": {},
   "outputs": [],
   "source": [
    "# Clicking on the search button\n",
    "\n",
    "src1_bar.click()"
   ]
  },
  {
   "cell_type": "code",
   "execution_count": 13,
   "metadata": {},
   "outputs": [
    {
     "data": {
      "text/plain": [
       "<selenium.webdriver.remote.webelement.WebElement (session=\"a137d3cd868d6ed91be53c53bce44f0c\", element=\"3c6bc759-9fb1-46fe-95a0-adfeddb872ec\")>"
      ]
     },
     "execution_count": 13,
     "metadata": {},
     "output_type": "execute_result"
    }
   ],
   "source": [
    "# Extracting the web element of the location filter to apply filter on the location.\n",
    "\n",
    "loc_filter = driver.find_element_by_xpath('//*[@id=\"root\"]/div[3]/div[2]/section[1]/div[2]/div[1]/div[2]/div[2]/label/p/span[1]')\n",
    "\n",
    "loc_filter"
   ]
  },
  {
   "cell_type": "code",
   "execution_count": 14,
   "metadata": {},
   "outputs": [],
   "source": [
    "# Clicking on the location filter.\n",
    "\n",
    "loc_filter.click()"
   ]
  },
  {
   "cell_type": "code",
   "execution_count": 15,
   "metadata": {},
   "outputs": [],
   "source": [
    "# Extracting web element of the salary filter\n",
    "\n",
    "salary_filter = driver.find_element_by_xpath('//*[@id=\"root\"]/div[3]/div[2]/section[1]/div[2]/div[3]/div[2]/div[2]/label/p/span[1]')\n",
    "\n",
    "salary_filter.click()  # Checking the checkbox to apply filter on the salary"
   ]
  },
  {
   "cell_type": "code",
   "execution_count": 16,
   "metadata": {},
   "outputs": [
    {
     "data": {
      "text/plain": [
       "[<selenium.webdriver.remote.webelement.WebElement (session=\"a137d3cd868d6ed91be53c53bce44f0c\", element=\"edaf78be-4db6-40f1-87a3-405650b4adbd\")>,\n",
       " <selenium.webdriver.remote.webelement.WebElement (session=\"a137d3cd868d6ed91be53c53bce44f0c\", element=\"a99d0d0c-32d2-416f-97e7-322e4291d86d\")>,\n",
       " <selenium.webdriver.remote.webelement.WebElement (session=\"a137d3cd868d6ed91be53c53bce44f0c\", element=\"85dcdeb8-7015-46fb-8158-bd74fe850666\")>,\n",
       " <selenium.webdriver.remote.webelement.WebElement (session=\"a137d3cd868d6ed91be53c53bce44f0c\", element=\"1009cfa2-be20-477f-9853-28d2a57d000c\")>,\n",
       " <selenium.webdriver.remote.webelement.WebElement (session=\"a137d3cd868d6ed91be53c53bce44f0c\", element=\"37cc3a69-01fa-411a-a1be-87a271af65bd\")>,\n",
       " <selenium.webdriver.remote.webelement.WebElement (session=\"a137d3cd868d6ed91be53c53bce44f0c\", element=\"1538468f-75f2-409c-98eb-8e81ad1a6731\")>,\n",
       " <selenium.webdriver.remote.webelement.WebElement (session=\"a137d3cd868d6ed91be53c53bce44f0c\", element=\"90ee882d-d872-47bf-8120-3b37a5f7034b\")>,\n",
       " <selenium.webdriver.remote.webelement.WebElement (session=\"a137d3cd868d6ed91be53c53bce44f0c\", element=\"ea5ccac3-beb7-46b8-af8d-02231ff6fd3b\")>,\n",
       " <selenium.webdriver.remote.webelement.WebElement (session=\"a137d3cd868d6ed91be53c53bce44f0c\", element=\"f76692f9-a43c-4433-a766-7175022eab38\")>,\n",
       " <selenium.webdriver.remote.webelement.WebElement (session=\"a137d3cd868d6ed91be53c53bce44f0c\", element=\"f362eba1-f0a4-49d8-ba8a-7c44a0032ecb\")>,\n",
       " <selenium.webdriver.remote.webelement.WebElement (session=\"a137d3cd868d6ed91be53c53bce44f0c\", element=\"feef41d1-52c7-484c-85d6-47936c2fa764\")>,\n",
       " <selenium.webdriver.remote.webelement.WebElement (session=\"a137d3cd868d6ed91be53c53bce44f0c\", element=\"d79c1089-043d-4b9d-8d3a-0207c847570f\")>,\n",
       " <selenium.webdriver.remote.webelement.WebElement (session=\"a137d3cd868d6ed91be53c53bce44f0c\", element=\"30e07180-9dce-46b7-8919-6171f8a5e1cc\")>,\n",
       " <selenium.webdriver.remote.webelement.WebElement (session=\"a137d3cd868d6ed91be53c53bce44f0c\", element=\"270e26c8-9e72-496b-a48c-c32953277b2f\")>,\n",
       " <selenium.webdriver.remote.webelement.WebElement (session=\"a137d3cd868d6ed91be53c53bce44f0c\", element=\"998255f7-1f79-4ee1-9860-803c8c7c8b9d\")>,\n",
       " <selenium.webdriver.remote.webelement.WebElement (session=\"a137d3cd868d6ed91be53c53bce44f0c\", element=\"f277ecd7-0c8f-4083-9baf-9897ab7212a4\")>,\n",
       " <selenium.webdriver.remote.webelement.WebElement (session=\"a137d3cd868d6ed91be53c53bce44f0c\", element=\"3031ed06-ed31-4f35-b8d3-7c46339b0143\")>,\n",
       " <selenium.webdriver.remote.webelement.WebElement (session=\"a137d3cd868d6ed91be53c53bce44f0c\", element=\"adcbfbfc-b148-494c-9de9-41af05fa879c\")>,\n",
       " <selenium.webdriver.remote.webelement.WebElement (session=\"a137d3cd868d6ed91be53c53bce44f0c\", element=\"918e8364-560d-40c4-ad98-aca7c874b4d7\")>,\n",
       " <selenium.webdriver.remote.webelement.WebElement (session=\"a137d3cd868d6ed91be53c53bce44f0c\", element=\"62e20574-3b91-491e-b97c-dab3de63d56f\")>]"
      ]
     },
     "execution_count": 16,
     "metadata": {},
     "output_type": "execute_result"
    }
   ],
   "source": [
    "# Extracting the web element of the job title\n",
    "\n",
    "jb_ttl = driver.find_elements_by_xpath('//a[@class=\"title fw500 ellipsis\"]')\n",
    "\n",
    "jb_ttl"
   ]
  },
  {
   "cell_type": "code",
   "execution_count": 17,
   "metadata": {},
   "outputs": [
    {
     "data": {
      "text/plain": [
       "['Only Fresher / Data Scientist / Data Analyst / Analytics - MNC OSC',\n",
       " 'Data Scientist / Data Analyst -Business Analyst',\n",
       " 'Data Scientist - Text NLP | Noida',\n",
       " 'Data Scientist - Machine Learning/NLP',\n",
       " 'Data Scientist -Delhi',\n",
       " 'Data Scientist',\n",
       " 'Data Scientist - Machine Learning/NLP',\n",
       " 'Data analytics / Data scientist intern (work from Home)',\n",
       " 'Data Scientist',\n",
       " 'Chaayos is Looking For Data Scientist',\n",
       " 'Data Scientist',\n",
       " 'We are hiring- Data Scientist +Python- Noida',\n",
       " 'Senior Data Scientist',\n",
       " 'Data Scientist',\n",
       " 'Data Scientist',\n",
       " 'Data Scientist',\n",
       " 'Associate Data Scientist',\n",
       " 'Associate Data Scientist',\n",
       " 'Data Scientist Machine Learning',\n",
       " 'Data Scientist']"
      ]
     },
     "execution_count": 17,
     "metadata": {},
     "output_type": "execute_result"
    }
   ],
   "source": [
    "# Extracting text from the web elements of the job titles.\n",
    "\n",
    "job_ttl = []\n",
    "\n",
    "for jb in jb_ttl:\n",
    "    job_ttl.append(jb.text)\n",
    "    \n",
    "job_ttl"
   ]
  },
  {
   "cell_type": "code",
   "execution_count": 18,
   "metadata": {},
   "outputs": [
    {
     "data": {
      "text/plain": [
       "['Only Fresher / Data Scientist / Data Analyst / Analytics - MNC OSC',\n",
       " 'Data Scientist / Data Analyst -Business Analyst',\n",
       " 'Data Scientist - Text NLP | Noida',\n",
       " 'Data Scientist - Machine Learning/NLP',\n",
       " 'Data Scientist -Delhi',\n",
       " 'Data Scientist',\n",
       " 'Data Scientist - Machine Learning/NLP',\n",
       " 'Data analytics / Data scientist intern (work from Home)',\n",
       " 'Data Scientist',\n",
       " 'Chaayos is Looking For Data Scientist']"
      ]
     },
     "execution_count": 18,
     "metadata": {},
     "output_type": "execute_result"
    }
   ],
   "source": [
    "# Using indexing to extract only 10 results.\n",
    "\n",
    "job_title3 = job_ttl[:10]\n",
    "\n",
    "job_title3"
   ]
  },
  {
   "cell_type": "code",
   "execution_count": 19,
   "metadata": {},
   "outputs": [
    {
     "data": {
      "text/plain": [
       "[<selenium.webdriver.remote.webelement.WebElement (session=\"a137d3cd868d6ed91be53c53bce44f0c\", element=\"3a1f997c-b6cf-491a-9215-c9360e0a22f3\")>,\n",
       " <selenium.webdriver.remote.webelement.WebElement (session=\"a137d3cd868d6ed91be53c53bce44f0c\", element=\"e191a5de-c8b7-4ea1-be20-54c8f9525527\")>,\n",
       " <selenium.webdriver.remote.webelement.WebElement (session=\"a137d3cd868d6ed91be53c53bce44f0c\", element=\"c9a9656a-cd57-48c5-b83c-1c420241c3f9\")>,\n",
       " <selenium.webdriver.remote.webelement.WebElement (session=\"a137d3cd868d6ed91be53c53bce44f0c\", element=\"5aba63c1-343e-4393-b38f-a7820437a351\")>,\n",
       " <selenium.webdriver.remote.webelement.WebElement (session=\"a137d3cd868d6ed91be53c53bce44f0c\", element=\"bbccf41e-c35d-4eb4-9ad3-5d9ada0e6bf7\")>,\n",
       " <selenium.webdriver.remote.webelement.WebElement (session=\"a137d3cd868d6ed91be53c53bce44f0c\", element=\"992a3a55-d29b-46cb-8c51-912517011eea\")>,\n",
       " <selenium.webdriver.remote.webelement.WebElement (session=\"a137d3cd868d6ed91be53c53bce44f0c\", element=\"a6709fdf-44a2-4cb5-bbf2-890957cc5903\")>,\n",
       " <selenium.webdriver.remote.webelement.WebElement (session=\"a137d3cd868d6ed91be53c53bce44f0c\", element=\"0c66800b-2880-4660-9607-a33d1a667491\")>,\n",
       " <selenium.webdriver.remote.webelement.WebElement (session=\"a137d3cd868d6ed91be53c53bce44f0c\", element=\"5d736afb-6321-4494-8905-5be485c5592e\")>,\n",
       " <selenium.webdriver.remote.webelement.WebElement (session=\"a137d3cd868d6ed91be53c53bce44f0c\", element=\"2248fbaf-cde7-4be7-8906-a74cc5399ebd\")>,\n",
       " <selenium.webdriver.remote.webelement.WebElement (session=\"a137d3cd868d6ed91be53c53bce44f0c\", element=\"16d3bc42-b061-47a7-bc66-456de553aec9\")>,\n",
       " <selenium.webdriver.remote.webelement.WebElement (session=\"a137d3cd868d6ed91be53c53bce44f0c\", element=\"be8bd5e5-15e4-4d68-b7b9-b03d0c8789df\")>,\n",
       " <selenium.webdriver.remote.webelement.WebElement (session=\"a137d3cd868d6ed91be53c53bce44f0c\", element=\"76305cef-875e-42a0-adff-6ce706a54e94\")>,\n",
       " <selenium.webdriver.remote.webelement.WebElement (session=\"a137d3cd868d6ed91be53c53bce44f0c\", element=\"df54b9eb-3048-463a-b659-10b8a5fd0bec\")>,\n",
       " <selenium.webdriver.remote.webelement.WebElement (session=\"a137d3cd868d6ed91be53c53bce44f0c\", element=\"1721fcb7-be51-4649-9e36-ea211682fdd0\")>,\n",
       " <selenium.webdriver.remote.webelement.WebElement (session=\"a137d3cd868d6ed91be53c53bce44f0c\", element=\"e95455ac-2f46-4d85-98d0-ab62c9cd8db6\")>,\n",
       " <selenium.webdriver.remote.webelement.WebElement (session=\"a137d3cd868d6ed91be53c53bce44f0c\", element=\"f64005c2-6ab6-4b4a-b681-93bdd1a6858f\")>,\n",
       " <selenium.webdriver.remote.webelement.WebElement (session=\"a137d3cd868d6ed91be53c53bce44f0c\", element=\"6a709f2b-bfa3-4f47-b230-41acc2ce1d11\")>,\n",
       " <selenium.webdriver.remote.webelement.WebElement (session=\"a137d3cd868d6ed91be53c53bce44f0c\", element=\"0d17fe7a-799d-49e5-a457-f9ddabe12c61\")>,\n",
       " <selenium.webdriver.remote.webelement.WebElement (session=\"a137d3cd868d6ed91be53c53bce44f0c\", element=\"c11b8a52-8916-402d-9053-b744df3675ed\")>]"
      ]
     },
     "execution_count": 19,
     "metadata": {},
     "output_type": "execute_result"
    }
   ],
   "source": [
    "# now we'll extract the web element for the job locations.\n",
    "\n",
    "jb_loc = driver.find_elements_by_xpath('//li[@class=\"fleft grey-text br2 placeHolderLi location\"]')\n",
    "\n",
    "jb_loc"
   ]
  },
  {
   "cell_type": "code",
   "execution_count": 20,
   "metadata": {},
   "outputs": [
    {
     "data": {
      "text/plain": [
       "['Noida, Gurgaon/Gurugram, Delhi / NCR',\n",
       " 'Mumbai, Hyderabad/Secunderabad, Pune, Gurgaon/Gurugram, Chennai, Bangalore/Bengaluru',\n",
       " 'Noida',\n",
       " 'Gurgaon/Gurugram',\n",
       " 'New Delhi',\n",
       " 'Noida',\n",
       " 'Gurgaon/Gurugram',\n",
       " 'Kolkata, Bangalore/Bengaluru, Delhi / NCR',\n",
       " 'Bharuch, Jaipur, Bhopal, Mumbai, Jhansi, Nagpur, Ghaziabad, Jaunpur, Kanpur, New Delhi, Lucknow, Agra, Gurgaon/Gurugram, Rajkot, Bangalore/Bengaluru',\n",
       " 'New Delhi',\n",
       " 'Mumbai, Gurgaon/Gurugram, Bangalore/Bengaluru',\n",
       " 'Noida, Gurgaon/Gurugram, Delhi / NCR',\n",
       " 'Delhi',\n",
       " 'Gurgaon/Gurugram, Bangalore/Bengaluru',\n",
       " 'New Delhi',\n",
       " 'Delhi',\n",
       " 'Noida',\n",
       " 'New Delhi',\n",
       " 'Gurgaon/Gurugram',\n",
       " 'Gurgaon/Gurugram, Delhi / NCR']"
      ]
     },
     "execution_count": 20,
     "metadata": {},
     "output_type": "execute_result"
    }
   ],
   "source": [
    "# Now we'll extract the text from the web elements.\n",
    "\n",
    "job_loc = []\n",
    "\n",
    "for lc in jb_loc:\n",
    "    job_loc.append(lc.text)\n",
    "    \n",
    "job_loc"
   ]
  },
  {
   "cell_type": "code",
   "execution_count": 21,
   "metadata": {},
   "outputs": [
    {
     "data": {
      "text/plain": [
       "['Noida, Gurgaon/Gurugram, Delhi / NCR',\n",
       " 'Mumbai, Hyderabad/Secunderabad, Pune, Gurgaon/Gurugram, Chennai, Bangalore/Bengaluru',\n",
       " 'Noida',\n",
       " 'Gurgaon/Gurugram',\n",
       " 'New Delhi',\n",
       " 'Noida',\n",
       " 'Gurgaon/Gurugram',\n",
       " 'Kolkata, Bangalore/Bengaluru, Delhi / NCR',\n",
       " 'Bharuch, Jaipur, Bhopal, Mumbai, Jhansi, Nagpur, Ghaziabad, Jaunpur, Kanpur, New Delhi, Lucknow, Agra, Gurgaon/Gurugram, Rajkot, Bangalore/Bengaluru',\n",
       " 'New Delhi']"
      ]
     },
     "execution_count": 21,
     "metadata": {},
     "output_type": "execute_result"
    }
   ],
   "source": [
    "# Using indexing to extract only 10 results.\n",
    "\n",
    "job_location3 = job_loc[:10]\n",
    "\n",
    "job_location3"
   ]
  },
  {
   "cell_type": "code",
   "execution_count": 23,
   "metadata": {},
   "outputs": [
    {
     "data": {
      "text/plain": [
       "[<selenium.webdriver.remote.webelement.WebElement (session=\"a137d3cd868d6ed91be53c53bce44f0c\", element=\"bfe22971-5520-4bee-89ed-fe33c9c472d9\")>,\n",
       " <selenium.webdriver.remote.webelement.WebElement (session=\"a137d3cd868d6ed91be53c53bce44f0c\", element=\"98c11db9-1b6c-431b-9d24-018318720f80\")>,\n",
       " <selenium.webdriver.remote.webelement.WebElement (session=\"a137d3cd868d6ed91be53c53bce44f0c\", element=\"c67d6f82-0d0d-4565-a595-c4f7408e1b08\")>,\n",
       " <selenium.webdriver.remote.webelement.WebElement (session=\"a137d3cd868d6ed91be53c53bce44f0c\", element=\"a1e9e318-4cce-4585-ae07-1c7fed90ce17\")>,\n",
       " <selenium.webdriver.remote.webelement.WebElement (session=\"a137d3cd868d6ed91be53c53bce44f0c\", element=\"63f58b1d-b743-44f5-9b69-7835e429a4d3\")>,\n",
       " <selenium.webdriver.remote.webelement.WebElement (session=\"a137d3cd868d6ed91be53c53bce44f0c\", element=\"9867bfc2-7fe2-4694-9155-c41aaeb07d9a\")>,\n",
       " <selenium.webdriver.remote.webelement.WebElement (session=\"a137d3cd868d6ed91be53c53bce44f0c\", element=\"a11b7a12-72d1-44f5-a5e0-ab763046be1e\")>,\n",
       " <selenium.webdriver.remote.webelement.WebElement (session=\"a137d3cd868d6ed91be53c53bce44f0c\", element=\"6437af2d-10a0-44e2-b397-44561b206907\")>,\n",
       " <selenium.webdriver.remote.webelement.WebElement (session=\"a137d3cd868d6ed91be53c53bce44f0c\", element=\"b8819cc6-5c0a-4252-8b96-222614d8de08\")>,\n",
       " <selenium.webdriver.remote.webelement.WebElement (session=\"a137d3cd868d6ed91be53c53bce44f0c\", element=\"7e27ae4c-e85f-4ce9-acf6-6afd3619de83\")>,\n",
       " <selenium.webdriver.remote.webelement.WebElement (session=\"a137d3cd868d6ed91be53c53bce44f0c\", element=\"d6347c54-756e-4f1b-aedb-5b433abe62a6\")>,\n",
       " <selenium.webdriver.remote.webelement.WebElement (session=\"a137d3cd868d6ed91be53c53bce44f0c\", element=\"686cff5d-541f-4442-83b3-a8785677f58b\")>,\n",
       " <selenium.webdriver.remote.webelement.WebElement (session=\"a137d3cd868d6ed91be53c53bce44f0c\", element=\"75b6f776-0896-43e6-8c36-e71d8e0a7d75\")>,\n",
       " <selenium.webdriver.remote.webelement.WebElement (session=\"a137d3cd868d6ed91be53c53bce44f0c\", element=\"cdb6d2c1-cc63-4090-a08e-4c6048602885\")>,\n",
       " <selenium.webdriver.remote.webelement.WebElement (session=\"a137d3cd868d6ed91be53c53bce44f0c\", element=\"a2dd0ad8-8108-4db9-944d-a75a38d36bae\")>,\n",
       " <selenium.webdriver.remote.webelement.WebElement (session=\"a137d3cd868d6ed91be53c53bce44f0c\", element=\"ead2f604-573d-47e6-8e94-9f8d470cb3bf\")>,\n",
       " <selenium.webdriver.remote.webelement.WebElement (session=\"a137d3cd868d6ed91be53c53bce44f0c\", element=\"0dd1549a-b7d1-4435-a58c-c85be989de17\")>,\n",
       " <selenium.webdriver.remote.webelement.WebElement (session=\"a137d3cd868d6ed91be53c53bce44f0c\", element=\"8b1b05e8-cf53-478c-a2cb-53a8b7ee72a8\")>,\n",
       " <selenium.webdriver.remote.webelement.WebElement (session=\"a137d3cd868d6ed91be53c53bce44f0c\", element=\"71647523-7adf-4d9b-9222-eac9b18ca5d3\")>,\n",
       " <selenium.webdriver.remote.webelement.WebElement (session=\"a137d3cd868d6ed91be53c53bce44f0c\", element=\"335e3a03-9043-40f5-93a2-e902226ee105\")>]"
      ]
     },
     "execution_count": 23,
     "metadata": {},
     "output_type": "execute_result"
    }
   ],
   "source": [
    "# Now we'll extract the web elements for the company names.\n",
    "\n",
    "cmp_nm = driver.find_elements_by_xpath('//a[@class=\"subTitle ellipsis fleft\"]')\n",
    "\n",
    "cmp_nm"
   ]
  },
  {
   "cell_type": "code",
   "execution_count": 24,
   "metadata": {},
   "outputs": [
    {
     "data": {
      "text/plain": [
       "['GABA Consultancy services',\n",
       " 'Inflexion Analytix Private Limited',\n",
       " 'Acidaes Solutions Pvt. Ltd.',\n",
       " 'TalPro',\n",
       " 'CHANGE LEADERS CONSULTING',\n",
       " 'NEC CORPORATION INDIA PRIVATE LIMITED',\n",
       " 'TalPro',\n",
       " 'TalkValley LLC',\n",
       " 'Country Veggie',\n",
       " 'Chaayos (Sunshine Teahouse Pvt. Ltd.)',\n",
       " 'Fractal Analytics',\n",
       " 'RANDSTAD INDIA PVT LTD',\n",
       " 'iNICU',\n",
       " 'BlackBuck',\n",
       " 'Mahajan Imaging',\n",
       " 'Mahajan Imaging',\n",
       " 'Right Step Consulting',\n",
       " 'Blow Trumpet Solutions',\n",
       " 'Delhivery',\n",
       " 'Milliman India Pvt Ltd']"
      ]
     },
     "execution_count": 24,
     "metadata": {},
     "output_type": "execute_result"
    }
   ],
   "source": [
    "# Extracting the texts from the web elements of the company names.\n",
    "\n",
    "cmp_nme = []\n",
    "\n",
    "for cmp in cmp_nm:\n",
    "    cmp_nme.append(cmp.text)\n",
    "    \n",
    "cmp_nme"
   ]
  },
  {
   "cell_type": "code",
   "execution_count": 25,
   "metadata": {},
   "outputs": [
    {
     "data": {
      "text/plain": [
       "['GABA Consultancy services',\n",
       " 'Inflexion Analytix Private Limited',\n",
       " 'Acidaes Solutions Pvt. Ltd.',\n",
       " 'TalPro',\n",
       " 'CHANGE LEADERS CONSULTING',\n",
       " 'NEC CORPORATION INDIA PRIVATE LIMITED',\n",
       " 'TalPro',\n",
       " 'TalkValley LLC',\n",
       " 'Country Veggie',\n",
       " 'Chaayos (Sunshine Teahouse Pvt. Ltd.)']"
      ]
     },
     "execution_count": 25,
     "metadata": {},
     "output_type": "execute_result"
    }
   ],
   "source": [
    "# Using indexing to extract only 10 results.\n",
    "\n",
    "company_name3 = cmp_nme[:10]\n",
    "company_name3"
   ]
  },
  {
   "cell_type": "code",
   "execution_count": 26,
   "metadata": {},
   "outputs": [
    {
     "data": {
      "text/plain": [
       "[<selenium.webdriver.remote.webelement.WebElement (session=\"a137d3cd868d6ed91be53c53bce44f0c\", element=\"2d68f942-04f9-40c9-92c0-d995dbc8d6e4\")>,\n",
       " <selenium.webdriver.remote.webelement.WebElement (session=\"a137d3cd868d6ed91be53c53bce44f0c\", element=\"1ed645b2-2ecb-4596-9982-bf484c291611\")>,\n",
       " <selenium.webdriver.remote.webelement.WebElement (session=\"a137d3cd868d6ed91be53c53bce44f0c\", element=\"52f5c960-6114-461f-96b0-ad5a4411533f\")>,\n",
       " <selenium.webdriver.remote.webelement.WebElement (session=\"a137d3cd868d6ed91be53c53bce44f0c\", element=\"65b503cf-856c-45d8-9093-c84e22fa7abd\")>,\n",
       " <selenium.webdriver.remote.webelement.WebElement (session=\"a137d3cd868d6ed91be53c53bce44f0c\", element=\"dc3d4a1d-b956-4e0b-bfb8-8d7ba2fed8fa\")>,\n",
       " <selenium.webdriver.remote.webelement.WebElement (session=\"a137d3cd868d6ed91be53c53bce44f0c\", element=\"2a12df23-58ac-4b1b-aa10-d9a7ebb8109a\")>,\n",
       " <selenium.webdriver.remote.webelement.WebElement (session=\"a137d3cd868d6ed91be53c53bce44f0c\", element=\"5195d66b-683b-4461-b930-43879c42ae8d\")>,\n",
       " <selenium.webdriver.remote.webelement.WebElement (session=\"a137d3cd868d6ed91be53c53bce44f0c\", element=\"2f5db82b-bbbc-43c0-8fd4-fdc6b29a46ac\")>,\n",
       " <selenium.webdriver.remote.webelement.WebElement (session=\"a137d3cd868d6ed91be53c53bce44f0c\", element=\"d3a52042-8233-4069-b093-0dd9c5877e82\")>,\n",
       " <selenium.webdriver.remote.webelement.WebElement (session=\"a137d3cd868d6ed91be53c53bce44f0c\", element=\"17e39a1f-531f-4acd-9235-ba68ec914055\")>,\n",
       " <selenium.webdriver.remote.webelement.WebElement (session=\"a137d3cd868d6ed91be53c53bce44f0c\", element=\"a37e8154-30af-42b9-a77e-4bb7de0c41ee\")>,\n",
       " <selenium.webdriver.remote.webelement.WebElement (session=\"a137d3cd868d6ed91be53c53bce44f0c\", element=\"27f769cb-043f-4e54-b6f7-c5b562fc5ba9\")>,\n",
       " <selenium.webdriver.remote.webelement.WebElement (session=\"a137d3cd868d6ed91be53c53bce44f0c\", element=\"8608bb15-77e2-4725-b406-8ffcbef63500\")>,\n",
       " <selenium.webdriver.remote.webelement.WebElement (session=\"a137d3cd868d6ed91be53c53bce44f0c\", element=\"f1425427-9d3f-4844-a2c6-70ccbfdcd1a5\")>,\n",
       " <selenium.webdriver.remote.webelement.WebElement (session=\"a137d3cd868d6ed91be53c53bce44f0c\", element=\"fb39ad05-4e6f-4710-949c-7d052469a813\")>,\n",
       " <selenium.webdriver.remote.webelement.WebElement (session=\"a137d3cd868d6ed91be53c53bce44f0c\", element=\"62805bf9-1a3f-4a1c-a141-de236a905c2d\")>,\n",
       " <selenium.webdriver.remote.webelement.WebElement (session=\"a137d3cd868d6ed91be53c53bce44f0c\", element=\"eeb0e946-655d-4a9d-857b-3194cf196dbb\")>,\n",
       " <selenium.webdriver.remote.webelement.WebElement (session=\"a137d3cd868d6ed91be53c53bce44f0c\", element=\"f72c7d26-406d-424d-91fd-310afd2b9cbf\")>,\n",
       " <selenium.webdriver.remote.webelement.WebElement (session=\"a137d3cd868d6ed91be53c53bce44f0c\", element=\"80f2ffc7-2fd9-4f81-8e5b-33ac66a562ba\")>,\n",
       " <selenium.webdriver.remote.webelement.WebElement (session=\"a137d3cd868d6ed91be53c53bce44f0c\", element=\"f33ec1f5-2cc9-4392-8335-c636ff15729f\")>]"
      ]
     },
     "execution_count": 26,
     "metadata": {},
     "output_type": "execute_result"
    }
   ],
   "source": [
    "# Now we will extract the web elements of the exprience required.\n",
    "\n",
    "exp = driver.find_elements_by_xpath('//li[@class=\"fleft grey-text br2 placeHolderLi experience\"]')\n",
    "\n",
    "exp"
   ]
  },
  {
   "cell_type": "code",
   "execution_count": 27,
   "metadata": {},
   "outputs": [
    {
     "data": {
      "text/plain": [
       "['0-0 Yrs',\n",
       " '0-3 Yrs',\n",
       " '3-5 Yrs',\n",
       " '2-6 Yrs',\n",
       " '5-8 Yrs',\n",
       " '3-8 Yrs',\n",
       " '2-4 Yrs',\n",
       " '0-5 Yrs',\n",
       " '1-3 Yrs',\n",
       " '0-5 Yrs',\n",
       " '3-7 Yrs',\n",
       " '4-7 Yrs',\n",
       " '1-5 Yrs',\n",
       " '3-7 Yrs',\n",
       " '2-6 Yrs',\n",
       " '2-6 Yrs',\n",
       " '3-6 Yrs',\n",
       " '1-5 Yrs',\n",
       " '1-3 Yrs',\n",
       " '2-5 Yrs']"
      ]
     },
     "execution_count": 27,
     "metadata": {},
     "output_type": "execute_result"
    }
   ],
   "source": [
    "# Extracting the texts from the web elements of the exprience required.\n",
    "\n",
    "exp_req = []\n",
    "\n",
    "for ex in exp:\n",
    "    exp_req.append(ex.text)\n",
    "    \n",
    "exp_req"
   ]
  },
  {
   "cell_type": "code",
   "execution_count": 29,
   "metadata": {},
   "outputs": [
    {
     "data": {
      "text/plain": [
       "['0-0 Yrs',\n",
       " '0-3 Yrs',\n",
       " '3-5 Yrs',\n",
       " '2-6 Yrs',\n",
       " '5-8 Yrs',\n",
       " '3-8 Yrs',\n",
       " '2-4 Yrs',\n",
       " '0-5 Yrs',\n",
       " '1-3 Yrs',\n",
       " '0-5 Yrs']"
      ]
     },
     "execution_count": 29,
     "metadata": {},
     "output_type": "execute_result"
    }
   ],
   "source": [
    "exprience3 = exp_req[:10]\n",
    "\n",
    "exprience3"
   ]
  },
  {
   "cell_type": "code",
   "execution_count": 30,
   "metadata": {},
   "outputs": [
    {
     "name": "stdout",
     "output_type": "stream",
     "text": [
      "10 10 10 10\n"
     ]
    }
   ],
   "source": [
    "# Now we've find all the required values. So, we'll check the length of all the values for checking purpose.\n",
    "\n",
    "print(len(job_title3), len(job_location3), len(company_name3), len(exprience3))"
   ]
  },
  {
   "cell_type": "code",
   "execution_count": 31,
   "metadata": {},
   "outputs": [
    {
     "data": {
      "text/html": [
       "<div>\n",
       "<style scoped>\n",
       "    .dataframe tbody tr th:only-of-type {\n",
       "        vertical-align: middle;\n",
       "    }\n",
       "\n",
       "    .dataframe tbody tr th {\n",
       "        vertical-align: top;\n",
       "    }\n",
       "\n",
       "    .dataframe thead th {\n",
       "        text-align: right;\n",
       "    }\n",
       "</style>\n",
       "<table border=\"1\" class=\"dataframe\">\n",
       "  <thead>\n",
       "    <tr style=\"text-align: right;\">\n",
       "      <th></th>\n",
       "      <th>Job Titles</th>\n",
       "      <th>Locations</th>\n",
       "      <th>Company Name</th>\n",
       "      <th>Exprience Required</th>\n",
       "    </tr>\n",
       "  </thead>\n",
       "  <tbody>\n",
       "    <tr>\n",
       "      <th>0</th>\n",
       "      <td>Only Fresher / Data Scientist / Data Analyst /...</td>\n",
       "      <td>Noida, Gurgaon/Gurugram, Delhi / NCR</td>\n",
       "      <td>GABA Consultancy services</td>\n",
       "      <td>0-0 Yrs</td>\n",
       "    </tr>\n",
       "    <tr>\n",
       "      <th>1</th>\n",
       "      <td>Data Scientist / Data Analyst -Business Analyst</td>\n",
       "      <td>Mumbai, Hyderabad/Secunderabad, Pune, Gurgaon/...</td>\n",
       "      <td>Inflexion Analytix Private Limited</td>\n",
       "      <td>0-3 Yrs</td>\n",
       "    </tr>\n",
       "    <tr>\n",
       "      <th>2</th>\n",
       "      <td>Data Scientist - Text NLP | Noida</td>\n",
       "      <td>Noida</td>\n",
       "      <td>Acidaes Solutions Pvt. Ltd.</td>\n",
       "      <td>3-5 Yrs</td>\n",
       "    </tr>\n",
       "    <tr>\n",
       "      <th>3</th>\n",
       "      <td>Data Scientist - Machine Learning/NLP</td>\n",
       "      <td>Gurgaon/Gurugram</td>\n",
       "      <td>TalPro</td>\n",
       "      <td>2-6 Yrs</td>\n",
       "    </tr>\n",
       "    <tr>\n",
       "      <th>4</th>\n",
       "      <td>Data Scientist -Delhi</td>\n",
       "      <td>New Delhi</td>\n",
       "      <td>CHANGE LEADERS CONSULTING</td>\n",
       "      <td>5-8 Yrs</td>\n",
       "    </tr>\n",
       "    <tr>\n",
       "      <th>5</th>\n",
       "      <td>Data Scientist</td>\n",
       "      <td>Noida</td>\n",
       "      <td>NEC CORPORATION INDIA PRIVATE LIMITED</td>\n",
       "      <td>3-8 Yrs</td>\n",
       "    </tr>\n",
       "    <tr>\n",
       "      <th>6</th>\n",
       "      <td>Data Scientist - Machine Learning/NLP</td>\n",
       "      <td>Gurgaon/Gurugram</td>\n",
       "      <td>TalPro</td>\n",
       "      <td>2-4 Yrs</td>\n",
       "    </tr>\n",
       "    <tr>\n",
       "      <th>7</th>\n",
       "      <td>Data analytics / Data scientist intern (work f...</td>\n",
       "      <td>Kolkata, Bangalore/Bengaluru, Delhi / NCR</td>\n",
       "      <td>TalkValley LLC</td>\n",
       "      <td>0-5 Yrs</td>\n",
       "    </tr>\n",
       "    <tr>\n",
       "      <th>8</th>\n",
       "      <td>Data Scientist</td>\n",
       "      <td>Bharuch, Jaipur, Bhopal, Mumbai, Jhansi, Nagpu...</td>\n",
       "      <td>Country Veggie</td>\n",
       "      <td>1-3 Yrs</td>\n",
       "    </tr>\n",
       "    <tr>\n",
       "      <th>9</th>\n",
       "      <td>Chaayos is Looking For Data Scientist</td>\n",
       "      <td>New Delhi</td>\n",
       "      <td>Chaayos (Sunshine Teahouse Pvt. Ltd.)</td>\n",
       "      <td>0-5 Yrs</td>\n",
       "    </tr>\n",
       "  </tbody>\n",
       "</table>\n",
       "</div>"
      ],
      "text/plain": [
       "                                         Job Titles   \\\n",
       "0  Only Fresher / Data Scientist / Data Analyst /...   \n",
       "1    Data Scientist / Data Analyst -Business Analyst   \n",
       "2                  Data Scientist - Text NLP | Noida   \n",
       "3              Data Scientist - Machine Learning/NLP   \n",
       "4                              Data Scientist -Delhi   \n",
       "5                                     Data Scientist   \n",
       "6              Data Scientist - Machine Learning/NLP   \n",
       "7  Data analytics / Data scientist intern (work f...   \n",
       "8                                     Data Scientist   \n",
       "9              Chaayos is Looking For Data Scientist   \n",
       "\n",
       "                                          Locations   \\\n",
       "0               Noida, Gurgaon/Gurugram, Delhi / NCR   \n",
       "1  Mumbai, Hyderabad/Secunderabad, Pune, Gurgaon/...   \n",
       "2                                              Noida   \n",
       "3                                   Gurgaon/Gurugram   \n",
       "4                                          New Delhi   \n",
       "5                                              Noida   \n",
       "6                                   Gurgaon/Gurugram   \n",
       "7          Kolkata, Bangalore/Bengaluru, Delhi / NCR   \n",
       "8  Bharuch, Jaipur, Bhopal, Mumbai, Jhansi, Nagpu...   \n",
       "9                                          New Delhi   \n",
       "\n",
       "                           Company Name   Exprience Required   \n",
       "0              GABA Consultancy services              0-0 Yrs  \n",
       "1     Inflexion Analytix Private Limited              0-3 Yrs  \n",
       "2            Acidaes Solutions Pvt. Ltd.              3-5 Yrs  \n",
       "3                                 TalPro              2-6 Yrs  \n",
       "4              CHANGE LEADERS CONSULTING              5-8 Yrs  \n",
       "5  NEC CORPORATION INDIA PRIVATE LIMITED              3-8 Yrs  \n",
       "6                                 TalPro              2-4 Yrs  \n",
       "7                         TalkValley LLC              0-5 Yrs  \n",
       "8                         Country Veggie              1-3 Yrs  \n",
       "9  Chaayos (Sunshine Teahouse Pvt. Ltd.)              0-5 Yrs  "
      ]
     },
     "execution_count": 31,
     "metadata": {},
     "output_type": "execute_result"
    }
   ],
   "source": [
    "# We found that the length of all the extracted data is same. So, now we're good to go for the dataframe.\n",
    "\n",
    "job3 = pd.DataFrame({})\n",
    "\n",
    "job3[' Job Titles '] = job_title3\n",
    "job3[' Locations '] = job_location3\n",
    "job3[' Company Name '] = company_name3\n",
    "job3[' Exprience Required '] = exprience3\n",
    "\n",
    "job3"
   ]
  },
  {
   "cell_type": "markdown",
   "metadata": {},
   "source": [
    "-------------------------------------------------------------------------------------------------------------------------------"
   ]
  },
  {
   "cell_type": "markdown",
   "metadata": {},
   "source": [
    "##### Q. No. 4 :- Write a python program to scrape data for first 10 job results for Data scientist Designation in Noida location. You have to scrape company_name, No. of days ago when job was posted, Rating of the company.\n",
    "\n",
    "\n",
    "\n",
    "------------------------------------------------------------------------------------------------------------------------------"
   ]
  },
  {
   "cell_type": "code",
   "execution_count": 3,
   "metadata": {},
   "outputs": [],
   "source": [
    "# Loading the web-page\n",
    "\n",
    "url4 = 'https://www.glassdoor.co.in/index.htm'\n",
    "\n",
    "driver.get(url4)"
   ]
  },
  {
   "cell_type": "code",
   "execution_count": 4,
   "metadata": {},
   "outputs": [],
   "source": [
    "# Extracting the web element of the sign in button and clicking on it.\n",
    "\n",
    "sign_in_tag = driver.find_element_by_xpath('//button[@class=\"d-none d-lg-block p-0 LockedHomeHeaderStyles__signInButton\"]')\n",
    "\n",
    "sign_in_tag.click()"
   ]
  },
  {
   "cell_type": "code",
   "execution_count": 5,
   "metadata": {},
   "outputs": [
    {
     "data": {
      "text/plain": [
       "<selenium.webdriver.remote.webelement.WebElement (session=\"a7657e4fc912a0b50df17e087906ce70\", element=\"dffdb54d-c999-4dd8-a2be-50d891875dd3\")>"
      ]
     },
     "execution_count": 5,
     "metadata": {},
     "output_type": "execute_result"
    }
   ],
   "source": [
    "# Extracting the web element of the email input field.\n",
    "\n",
    "email_tag = driver.find_element_by_xpath('//input[@id=\"userEmail\"]')\n",
    "\n",
    "email_tag"
   ]
  },
  {
   "cell_type": "code",
   "execution_count": 6,
   "metadata": {},
   "outputs": [],
   "source": [
    "# Entering my email id.\n",
    "\n",
    "email_tag.send_keys('ajitr0312@gmail.com')"
   ]
  },
  {
   "cell_type": "code",
   "execution_count": 7,
   "metadata": {},
   "outputs": [],
   "source": [
    "# Extracting the web element and entering the password of my account.\n",
    "\n",
    "password_tag = driver.find_element_by_xpath('//input[@id=\"userPassword\"]')\n",
    "\n",
    "password_tag.send_keys('8298942408')"
   ]
  },
  {
   "cell_type": "code",
   "execution_count": 9,
   "metadata": {},
   "outputs": [],
   "source": [
    "# Clicking on the sign in button.\n",
    "\n",
    "sign_tag = driver.find_element_by_xpath('//button[@class=\"gd-ui-button minWidthBtn css-8i7bc2\"]')\n",
    "\n",
    "sign_tag.click()"
   ]
  },
  {
   "cell_type": "code",
   "execution_count": 10,
   "metadata": {},
   "outputs": [],
   "source": [
    "# Extracting the web element of the job search bar and entering 'Data Scientist'.\n",
    "\n",
    "jb_src_tag4 = driver.find_element_by_xpath('//input[@id=\"sc.keyword\"]')\n",
    "\n",
    "jb_src_tag4.send_keys('Data Scientist')"
   ]
  },
  {
   "cell_type": "code",
   "execution_count": 17,
   "metadata": {},
   "outputs": [],
   "source": [
    "# Extracting the web element of the location search bar and entering 'Noida'.\n",
    "\n",
    "loc_src_tag4 = driver.find_element_by_xpath('//input[@id=\"sc.location\"]')\n",
    "\n",
    "\n",
    "loc_src_tag4.send_keys('Noida')"
   ]
  },
  {
   "cell_type": "code",
   "execution_count": 18,
   "metadata": {},
   "outputs": [],
   "source": [
    "# Extracting the web element of the search button and clicking on it.\n",
    "\n",
    "src_btn_tag4 = driver.find_element_by_xpath('//button[@class=\"gd-ui-button ml-std col-auto SearchStyles__newSearchButton css-iixdfr\"]')\n",
    "\n",
    "src_btn_tag4.click()"
   ]
  },
  {
   "cell_type": "code",
   "execution_count": 21,
   "metadata": {},
   "outputs": [
    {
     "data": {
      "text/plain": [
       "[<selenium.webdriver.remote.webelement.WebElement (session=\"a7657e4fc912a0b50df17e087906ce70\", element=\"c6c7d300-66a1-46fa-82c9-d6d759db95c3\")>,\n",
       " <selenium.webdriver.remote.webelement.WebElement (session=\"a7657e4fc912a0b50df17e087906ce70\", element=\"7bed065a-32f3-4ff4-9a80-7533e7d67134\")>,\n",
       " <selenium.webdriver.remote.webelement.WebElement (session=\"a7657e4fc912a0b50df17e087906ce70\", element=\"61d33a47-e332-4f17-b4f5-1ad9ad01f394\")>,\n",
       " <selenium.webdriver.remote.webelement.WebElement (session=\"a7657e4fc912a0b50df17e087906ce70\", element=\"84dc7b11-f54d-41d1-b4c2-4891c9549828\")>,\n",
       " <selenium.webdriver.remote.webelement.WebElement (session=\"a7657e4fc912a0b50df17e087906ce70\", element=\"d0bd02dc-c31a-4ea4-8775-69eaedef7780\")>,\n",
       " <selenium.webdriver.remote.webelement.WebElement (session=\"a7657e4fc912a0b50df17e087906ce70\", element=\"7f9ea560-ba8d-42b4-ab87-ca2a530508a3\")>,\n",
       " <selenium.webdriver.remote.webelement.WebElement (session=\"a7657e4fc912a0b50df17e087906ce70\", element=\"965fe10e-10d2-4c9e-97da-00b9daf81ac4\")>,\n",
       " <selenium.webdriver.remote.webelement.WebElement (session=\"a7657e4fc912a0b50df17e087906ce70\", element=\"7c606bc8-76d8-4886-a2c3-f4dc80fd6bae\")>,\n",
       " <selenium.webdriver.remote.webelement.WebElement (session=\"a7657e4fc912a0b50df17e087906ce70\", element=\"cbabb20c-151d-40c7-9c19-acf47d328583\")>,\n",
       " <selenium.webdriver.remote.webelement.WebElement (session=\"a7657e4fc912a0b50df17e087906ce70\", element=\"af377282-d9d3-429b-ae21-74359b69b6af\")>,\n",
       " <selenium.webdriver.remote.webelement.WebElement (session=\"a7657e4fc912a0b50df17e087906ce70\", element=\"330e636c-6aa4-44c5-aac2-43e1a20ab949\")>,\n",
       " <selenium.webdriver.remote.webelement.WebElement (session=\"a7657e4fc912a0b50df17e087906ce70\", element=\"ef2ae12f-1ab8-45c5-b959-1ca2e79afa59\")>,\n",
       " <selenium.webdriver.remote.webelement.WebElement (session=\"a7657e4fc912a0b50df17e087906ce70\", element=\"566daaaf-ef0c-46a4-b604-7a86c247e41d\")>,\n",
       " <selenium.webdriver.remote.webelement.WebElement (session=\"a7657e4fc912a0b50df17e087906ce70\", element=\"e5de7eb3-9553-4def-b454-db7396778655\")>,\n",
       " <selenium.webdriver.remote.webelement.WebElement (session=\"a7657e4fc912a0b50df17e087906ce70\", element=\"274afd2d-1bab-4a53-a8fd-424775a489e9\")>,\n",
       " <selenium.webdriver.remote.webelement.WebElement (session=\"a7657e4fc912a0b50df17e087906ce70\", element=\"6a585a7c-9a09-492e-9924-ccf2c6b555fd\")>,\n",
       " <selenium.webdriver.remote.webelement.WebElement (session=\"a7657e4fc912a0b50df17e087906ce70\", element=\"6091de6b-9bbc-4556-a4fb-dca506351d22\")>,\n",
       " <selenium.webdriver.remote.webelement.WebElement (session=\"a7657e4fc912a0b50df17e087906ce70\", element=\"814bb33d-61db-4f02-9b1b-6fdf67a4ffc0\")>,\n",
       " <selenium.webdriver.remote.webelement.WebElement (session=\"a7657e4fc912a0b50df17e087906ce70\", element=\"36afaeee-e599-4937-8ae5-16240e31d6f3\")>,\n",
       " <selenium.webdriver.remote.webelement.WebElement (session=\"a7657e4fc912a0b50df17e087906ce70\", element=\"427c9836-4bdf-4fa0-ac58-93457f2ed056\")>,\n",
       " <selenium.webdriver.remote.webelement.WebElement (session=\"a7657e4fc912a0b50df17e087906ce70\", element=\"05407ccd-ebcc-403e-8985-20093fa487c2\")>,\n",
       " <selenium.webdriver.remote.webelement.WebElement (session=\"a7657e4fc912a0b50df17e087906ce70\", element=\"84e389ed-100f-490d-b4dd-8a9cae14dd58\")>,\n",
       " <selenium.webdriver.remote.webelement.WebElement (session=\"a7657e4fc912a0b50df17e087906ce70\", element=\"8aafe99e-f710-4482-a1f6-3ac44fa644b7\")>,\n",
       " <selenium.webdriver.remote.webelement.WebElement (session=\"a7657e4fc912a0b50df17e087906ce70\", element=\"d1e53434-f8a0-4801-9425-13dadc03aa6c\")>,\n",
       " <selenium.webdriver.remote.webelement.WebElement (session=\"a7657e4fc912a0b50df17e087906ce70\", element=\"9aa1d7ad-04db-4f45-9ec5-e197806bcb39\")>,\n",
       " <selenium.webdriver.remote.webelement.WebElement (session=\"a7657e4fc912a0b50df17e087906ce70\", element=\"9a72f83a-b7fb-46e3-b3dd-f938efaefda6\")>,\n",
       " <selenium.webdriver.remote.webelement.WebElement (session=\"a7657e4fc912a0b50df17e087906ce70\", element=\"324ea626-e669-4e50-a258-5805ba7a0646\")>,\n",
       " <selenium.webdriver.remote.webelement.WebElement (session=\"a7657e4fc912a0b50df17e087906ce70\", element=\"a5c7388d-5107-40b3-b869-f33d96a47e67\")>,\n",
       " <selenium.webdriver.remote.webelement.WebElement (session=\"a7657e4fc912a0b50df17e087906ce70\", element=\"f6f1d2cf-5449-4457-95af-19ac92252599\")>,\n",
       " <selenium.webdriver.remote.webelement.WebElement (session=\"a7657e4fc912a0b50df17e087906ce70\", element=\"63c5f4f4-c763-4a00-8f56-3be10559d1ea\")>,\n",
       " <selenium.webdriver.remote.webelement.WebElement (session=\"a7657e4fc912a0b50df17e087906ce70\", element=\"49bea7be-b5d9-4a0b-897b-7fd76210f7ad\")>,\n",
       " <selenium.webdriver.remote.webelement.WebElement (session=\"a7657e4fc912a0b50df17e087906ce70\", element=\"4dee885d-8c12-4c4d-b539-907becca82b8\")>]"
      ]
     },
     "execution_count": 21,
     "metadata": {},
     "output_type": "execute_result"
    }
   ],
   "source": [
    "# Extracting the web elements of the company name.\n",
    "\n",
    "cmp_nme_tag4 = driver.find_elements_by_xpath('//div[@class=\"d-flex justify-content-between align-items-start\"]//a//span')\n",
    "\n",
    "cmp_nme_tag4"
   ]
  },
  {
   "cell_type": "code",
   "execution_count": 30,
   "metadata": {},
   "outputs": [
    {
     "data": {
      "text/plain": [
       "['Bechtel',\n",
       " '',\n",
       " 'Crowe',\n",
       " 'Siemens Technology and Services Private Limited',\n",
       " 'Priority Vendor',\n",
       " 'Ericsson',\n",
       " 'Biz2Credit Inc',\n",
       " 'Algoscale',\n",
       " 'Gauge Data Solutions',\n",
       " 'Data Patterns']"
      ]
     },
     "execution_count": 30,
     "metadata": {},
     "output_type": "execute_result"
    }
   ],
   "source": [
    "# Extracting the texts from the web elements of the company name.\n",
    "\n",
    "cmp_name4=[]\n",
    "for c4 in cmp_nme_tag4:\n",
    "    cmp_name4.append(c4.text)\n",
    "    \n",
    "companies4 = cmp_name4[:10]\n",
    "\n",
    "companies4"
   ]
  },
  {
   "cell_type": "code",
   "execution_count": 23,
   "metadata": {},
   "outputs": [
    {
     "data": {
      "text/plain": [
       "[<selenium.webdriver.remote.webelement.WebElement (session=\"a7657e4fc912a0b50df17e087906ce70\", element=\"0cd5bc43-9bfa-4e9c-b5a0-cc8d766afa9e\")>,\n",
       " <selenium.webdriver.remote.webelement.WebElement (session=\"a7657e4fc912a0b50df17e087906ce70\", element=\"f4d27e21-aa20-42d5-affa-5f5c2a0ad582\")>,\n",
       " <selenium.webdriver.remote.webelement.WebElement (session=\"a7657e4fc912a0b50df17e087906ce70\", element=\"f3691ddf-0c31-45a6-8f3b-4e072e13b71d\")>,\n",
       " <selenium.webdriver.remote.webelement.WebElement (session=\"a7657e4fc912a0b50df17e087906ce70\", element=\"2882b055-8fd6-41ee-a9b1-b1ca90862f1b\")>,\n",
       " <selenium.webdriver.remote.webelement.WebElement (session=\"a7657e4fc912a0b50df17e087906ce70\", element=\"d9958a35-5090-4737-be62-0bfa7390f1f0\")>,\n",
       " <selenium.webdriver.remote.webelement.WebElement (session=\"a7657e4fc912a0b50df17e087906ce70\", element=\"d3ac94d5-d502-4af7-8e5b-19145a18013b\")>,\n",
       " <selenium.webdriver.remote.webelement.WebElement (session=\"a7657e4fc912a0b50df17e087906ce70\", element=\"cf21fa00-f6f6-43d2-bf6c-6f53c396da0f\")>,\n",
       " <selenium.webdriver.remote.webelement.WebElement (session=\"a7657e4fc912a0b50df17e087906ce70\", element=\"f4ea17b0-78cd-4800-9206-b7a3604faed4\")>,\n",
       " <selenium.webdriver.remote.webelement.WebElement (session=\"a7657e4fc912a0b50df17e087906ce70\", element=\"738095b3-8c6c-4958-91e4-67bc1ae3aa17\")>,\n",
       " <selenium.webdriver.remote.webelement.WebElement (session=\"a7657e4fc912a0b50df17e087906ce70\", element=\"15bd66e8-f95d-49a5-9fd8-7a31dfc00ea9\")>,\n",
       " <selenium.webdriver.remote.webelement.WebElement (session=\"a7657e4fc912a0b50df17e087906ce70\", element=\"2cc82276-ffd8-456b-a1dd-274ef642b59d\")>,\n",
       " <selenium.webdriver.remote.webelement.WebElement (session=\"a7657e4fc912a0b50df17e087906ce70\", element=\"5429e953-123e-49ba-b54f-12422ac903f3\")>,\n",
       " <selenium.webdriver.remote.webelement.WebElement (session=\"a7657e4fc912a0b50df17e087906ce70\", element=\"54e6f463-872f-43c6-8635-b84349fc7192\")>,\n",
       " <selenium.webdriver.remote.webelement.WebElement (session=\"a7657e4fc912a0b50df17e087906ce70\", element=\"aea4306e-bcb9-4272-8f0b-296d4f9aeaa5\")>,\n",
       " <selenium.webdriver.remote.webelement.WebElement (session=\"a7657e4fc912a0b50df17e087906ce70\", element=\"7a541365-5391-49c4-b415-91ab2d4268e4\")>,\n",
       " <selenium.webdriver.remote.webelement.WebElement (session=\"a7657e4fc912a0b50df17e087906ce70\", element=\"96d5fb2b-e079-4109-925b-e9a55a095ff1\")>,\n",
       " <selenium.webdriver.remote.webelement.WebElement (session=\"a7657e4fc912a0b50df17e087906ce70\", element=\"d7ec3e6c-d284-4e46-b3fa-2ac418aa9590\")>,\n",
       " <selenium.webdriver.remote.webelement.WebElement (session=\"a7657e4fc912a0b50df17e087906ce70\", element=\"833da60e-7814-4627-82c7-7813fae5d243\")>,\n",
       " <selenium.webdriver.remote.webelement.WebElement (session=\"a7657e4fc912a0b50df17e087906ce70\", element=\"c49a4c94-1d34-46d4-afe5-a9c0b70ea93d\")>,\n",
       " <selenium.webdriver.remote.webelement.WebElement (session=\"a7657e4fc912a0b50df17e087906ce70\", element=\"59f3d6a1-ec78-4d49-bdd5-ad12cb4d4592\")>,\n",
       " <selenium.webdriver.remote.webelement.WebElement (session=\"a7657e4fc912a0b50df17e087906ce70\", element=\"9f7a41b9-1904-4b42-bd2c-bba6f173249c\")>,\n",
       " <selenium.webdriver.remote.webelement.WebElement (session=\"a7657e4fc912a0b50df17e087906ce70\", element=\"7fae5d67-8239-4b66-a8ec-b4b56311db1d\")>,\n",
       " <selenium.webdriver.remote.webelement.WebElement (session=\"a7657e4fc912a0b50df17e087906ce70\", element=\"d8754991-9dc2-459b-a811-9eebb8c2dc44\")>,\n",
       " <selenium.webdriver.remote.webelement.WebElement (session=\"a7657e4fc912a0b50df17e087906ce70\", element=\"86a8ec66-4b1c-4c21-b4b3-1a6afd8821ff\")>,\n",
       " <selenium.webdriver.remote.webelement.WebElement (session=\"a7657e4fc912a0b50df17e087906ce70\", element=\"cb152a89-cb28-4601-9374-c566734fe653\")>,\n",
       " <selenium.webdriver.remote.webelement.WebElement (session=\"a7657e4fc912a0b50df17e087906ce70\", element=\"d4fb72f7-1b13-4649-8b0c-cfea7184c987\")>,\n",
       " <selenium.webdriver.remote.webelement.WebElement (session=\"a7657e4fc912a0b50df17e087906ce70\", element=\"41ca3d61-f286-46b4-a396-7c08c470a215\")>,\n",
       " <selenium.webdriver.remote.webelement.WebElement (session=\"a7657e4fc912a0b50df17e087906ce70\", element=\"ecb7c73d-7c56-47a1-9918-78e78ae9643e\")>,\n",
       " <selenium.webdriver.remote.webelement.WebElement (session=\"a7657e4fc912a0b50df17e087906ce70\", element=\"899edaae-19ac-425f-a47a-43331daf5665\")>,\n",
       " <selenium.webdriver.remote.webelement.WebElement (session=\"a7657e4fc912a0b50df17e087906ce70\", element=\"db17b240-9e38-4c18-808d-38bffffccd16\")>,\n",
       " <selenium.webdriver.remote.webelement.WebElement (session=\"a7657e4fc912a0b50df17e087906ce70\", element=\"7900aeb3-dd92-47bf-8415-d2872894e18a\")>,\n",
       " <selenium.webdriver.remote.webelement.WebElement (session=\"a7657e4fc912a0b50df17e087906ce70\", element=\"e9a5c376-353d-446e-abcc-d60c22c3d94c\")>]"
      ]
     },
     "execution_count": 23,
     "metadata": {},
     "output_type": "execute_result"
    }
   ],
   "source": [
    "# Extracting the web elements of the job titles.\n",
    "\n",
    "jb_ttl_tag4 = driver.find_elements_by_xpath('//a[@class=\"jobLink css-1rd3saf eigr9kq2\"]//span')\n",
    "\n",
    "jb_ttl_tag4"
   ]
  },
  {
   "cell_type": "code",
   "execution_count": 29,
   "metadata": {},
   "outputs": [
    {
     "data": {
      "text/plain": [
       "['Data Engineer - Python with Azure ADF',\n",
       " 'Data Analyst',\n",
       " 'Data Scientist',\n",
       " 'Data Scientist',\n",
       " 'Data Scientist',\n",
       " 'Data Scientist',\n",
       " 'Data Scientist',\n",
       " 'Data Scientist',\n",
       " 'Data Scientist',\n",
       " 'Data Scientist']"
      ]
     },
     "execution_count": 29,
     "metadata": {},
     "output_type": "execute_result"
    }
   ],
   "source": [
    "# Extracting the texts from the web elements of the job title.\n",
    "\n",
    "jb_ttl4 = []\n",
    "\n",
    "for j4 in jb_ttl_tag4:\n",
    "    jb_ttl4.append(j4.text)\n",
    "    \n",
    "title4 = jb_ttl4[:10]\n",
    "title4"
   ]
  },
  {
   "cell_type": "code",
   "execution_count": 25,
   "metadata": {},
   "outputs": [
    {
     "data": {
      "text/plain": [
       "[<selenium.webdriver.remote.webelement.WebElement (session=\"a7657e4fc912a0b50df17e087906ce70\", element=\"516c3bad-14a4-4e59-9cc2-8c8c1d3352f4\")>,\n",
       " <selenium.webdriver.remote.webelement.WebElement (session=\"a7657e4fc912a0b50df17e087906ce70\", element=\"6977f988-0b24-4f46-9a71-9f343184c954\")>,\n",
       " <selenium.webdriver.remote.webelement.WebElement (session=\"a7657e4fc912a0b50df17e087906ce70\", element=\"3454bac9-f96d-4f87-9f14-c2cf7e4e0bc2\")>,\n",
       " <selenium.webdriver.remote.webelement.WebElement (session=\"a7657e4fc912a0b50df17e087906ce70\", element=\"3c181cf0-8689-44e5-ac31-4b905f335610\")>,\n",
       " <selenium.webdriver.remote.webelement.WebElement (session=\"a7657e4fc912a0b50df17e087906ce70\", element=\"0e73df51-6d49-4dc2-a6fb-60092852dde3\")>,\n",
       " <selenium.webdriver.remote.webelement.WebElement (session=\"a7657e4fc912a0b50df17e087906ce70\", element=\"ab5d4e12-d593-4000-b048-7181852a302d\")>,\n",
       " <selenium.webdriver.remote.webelement.WebElement (session=\"a7657e4fc912a0b50df17e087906ce70\", element=\"d62b183c-7b91-4e7f-b10f-bad055059774\")>,\n",
       " <selenium.webdriver.remote.webelement.WebElement (session=\"a7657e4fc912a0b50df17e087906ce70\", element=\"b9fbc8c9-a5b2-446e-8f39-4869dbd128aa\")>,\n",
       " <selenium.webdriver.remote.webelement.WebElement (session=\"a7657e4fc912a0b50df17e087906ce70\", element=\"03577668-e945-449d-a697-dca57ba6524e\")>,\n",
       " <selenium.webdriver.remote.webelement.WebElement (session=\"a7657e4fc912a0b50df17e087906ce70\", element=\"493c387c-efaa-4fef-b692-d3985ab4589e\")>,\n",
       " <selenium.webdriver.remote.webelement.WebElement (session=\"a7657e4fc912a0b50df17e087906ce70\", element=\"5845ca38-eca3-43ee-ab6a-aaa1fdff0497\")>,\n",
       " <selenium.webdriver.remote.webelement.WebElement (session=\"a7657e4fc912a0b50df17e087906ce70\", element=\"6b179bc8-418e-42e1-ae76-50a8ee6dd156\")>,\n",
       " <selenium.webdriver.remote.webelement.WebElement (session=\"a7657e4fc912a0b50df17e087906ce70\", element=\"ddefeb50-abff-49ea-a5a2-6a238359be24\")>,\n",
       " <selenium.webdriver.remote.webelement.WebElement (session=\"a7657e4fc912a0b50df17e087906ce70\", element=\"3758fbe1-628e-49ae-b711-06a75e19a8be\")>,\n",
       " <selenium.webdriver.remote.webelement.WebElement (session=\"a7657e4fc912a0b50df17e087906ce70\", element=\"018fb867-c9a9-4efa-9930-25ce7f7c2776\")>,\n",
       " <selenium.webdriver.remote.webelement.WebElement (session=\"a7657e4fc912a0b50df17e087906ce70\", element=\"0fa44c1d-8553-4ab0-bd48-c73dd09c1c80\")>,\n",
       " <selenium.webdriver.remote.webelement.WebElement (session=\"a7657e4fc912a0b50df17e087906ce70\", element=\"3519cd44-c370-4a34-8413-1ccfaf8e03f2\")>,\n",
       " <selenium.webdriver.remote.webelement.WebElement (session=\"a7657e4fc912a0b50df17e087906ce70\", element=\"ef78a6b2-7e4e-4dcc-a17d-b125020d6432\")>,\n",
       " <selenium.webdriver.remote.webelement.WebElement (session=\"a7657e4fc912a0b50df17e087906ce70\", element=\"eb078f90-0838-43d9-af19-b28bf02fe5bd\")>,\n",
       " <selenium.webdriver.remote.webelement.WebElement (session=\"a7657e4fc912a0b50df17e087906ce70\", element=\"9034f06d-0528-4668-a66f-e5c15a19dc63\")>,\n",
       " <selenium.webdriver.remote.webelement.WebElement (session=\"a7657e4fc912a0b50df17e087906ce70\", element=\"65479235-1490-4d30-b40a-0e3e79bbd85e\")>,\n",
       " <selenium.webdriver.remote.webelement.WebElement (session=\"a7657e4fc912a0b50df17e087906ce70\", element=\"ba9f7b8d-2021-4519-9af3-587c3ed2d2f8\")>,\n",
       " <selenium.webdriver.remote.webelement.WebElement (session=\"a7657e4fc912a0b50df17e087906ce70\", element=\"2c73a741-6603-4f7a-8d9e-22f058291fa0\")>,\n",
       " <selenium.webdriver.remote.webelement.WebElement (session=\"a7657e4fc912a0b50df17e087906ce70\", element=\"a4009196-62ae-473f-ba03-0d6b621f3c2b\")>,\n",
       " <selenium.webdriver.remote.webelement.WebElement (session=\"a7657e4fc912a0b50df17e087906ce70\", element=\"2afd1610-d96e-4f7d-8232-fd91e1093937\")>,\n",
       " <selenium.webdriver.remote.webelement.WebElement (session=\"a7657e4fc912a0b50df17e087906ce70\", element=\"f28ceb7e-b872-42f6-8c85-30e5a0f6dd53\")>,\n",
       " <selenium.webdriver.remote.webelement.WebElement (session=\"a7657e4fc912a0b50df17e087906ce70\", element=\"7292499a-12d0-47e1-ae6e-5415b0726a67\")>,\n",
       " <selenium.webdriver.remote.webelement.WebElement (session=\"a7657e4fc912a0b50df17e087906ce70\", element=\"6d4cafd8-55ec-44a9-8e43-c4677b7dac14\")>,\n",
       " <selenium.webdriver.remote.webelement.WebElement (session=\"a7657e4fc912a0b50df17e087906ce70\", element=\"68ca9f24-5477-44a2-970f-ad23e68cff8f\")>,\n",
       " <selenium.webdriver.remote.webelement.WebElement (session=\"a7657e4fc912a0b50df17e087906ce70\", element=\"5ea4092f-4761-490d-81ed-d409e0e7ce41\")>,\n",
       " <selenium.webdriver.remote.webelement.WebElement (session=\"a7657e4fc912a0b50df17e087906ce70\", element=\"f6b40390-73ae-4b35-9d04-07c58083f0c2\")>,\n",
       " <selenium.webdriver.remote.webelement.WebElement (session=\"a7657e4fc912a0b50df17e087906ce70\", element=\"004263dd-c3e0-48be-87be-eb260721099e\")>]"
      ]
     },
     "execution_count": 25,
     "metadata": {},
     "output_type": "execute_result"
    }
   ],
   "source": [
    "# Extracting the web element of the location.\n",
    "\n",
    "loc_tag4 = driver.find_elements_by_xpath('//span[@class=\"pr-xxsm css-1ndif2q e1rrn5ka0\"]')\n",
    "\n",
    "loc_tag4"
   ]
  },
  {
   "cell_type": "code",
   "execution_count": 28,
   "metadata": {},
   "outputs": [
    {
     "data": {
      "text/plain": [
       "['New Delhi',\n",
       " 'New Delhi',\n",
       " 'Noida',\n",
       " 'Gurgaon',\n",
       " 'Noida',\n",
       " 'Noida',\n",
       " 'Noida',\n",
       " 'Noida',\n",
       " 'Noida',\n",
       " 'Noida']"
      ]
     },
     "execution_count": 28,
     "metadata": {},
     "output_type": "execute_result"
    }
   ],
   "source": [
    "# Extracting the texts from the web elements of the location.\n",
    "\n",
    "loc4 = []\n",
    "for l4 in loc_tag4:\n",
    "    loc4.append(l4.text)\n",
    "    \n",
    "locations4 = loc4[:10]\n",
    "\n",
    "locations4"
   ]
  },
  {
   "cell_type": "code",
   "execution_count": 32,
   "metadata": {},
   "outputs": [
    {
     "data": {
      "text/html": [
       "<div>\n",
       "<style scoped>\n",
       "    .dataframe tbody tr th:only-of-type {\n",
       "        vertical-align: middle;\n",
       "    }\n",
       "\n",
       "    .dataframe tbody tr th {\n",
       "        vertical-align: top;\n",
       "    }\n",
       "\n",
       "    .dataframe thead th {\n",
       "        text-align: right;\n",
       "    }\n",
       "</style>\n",
       "<table border=\"1\" class=\"dataframe\">\n",
       "  <thead>\n",
       "    <tr style=\"text-align: right;\">\n",
       "      <th></th>\n",
       "      <th>Company Name</th>\n",
       "      <th>Job Title</th>\n",
       "      <th>Location</th>\n",
       "    </tr>\n",
       "  </thead>\n",
       "  <tbody>\n",
       "    <tr>\n",
       "      <th>0</th>\n",
       "      <td>Bechtel</td>\n",
       "      <td>Data Engineer - Python with Azure ADF</td>\n",
       "      <td>New Delhi</td>\n",
       "    </tr>\n",
       "    <tr>\n",
       "      <th>1</th>\n",
       "      <td></td>\n",
       "      <td>Data Analyst</td>\n",
       "      <td>New Delhi</td>\n",
       "    </tr>\n",
       "    <tr>\n",
       "      <th>2</th>\n",
       "      <td>Crowe</td>\n",
       "      <td>Data Scientist</td>\n",
       "      <td>Noida</td>\n",
       "    </tr>\n",
       "    <tr>\n",
       "      <th>3</th>\n",
       "      <td>Siemens Technology and Services Private Limited</td>\n",
       "      <td>Data Scientist</td>\n",
       "      <td>Gurgaon</td>\n",
       "    </tr>\n",
       "    <tr>\n",
       "      <th>4</th>\n",
       "      <td>Priority Vendor</td>\n",
       "      <td>Data Scientist</td>\n",
       "      <td>Noida</td>\n",
       "    </tr>\n",
       "    <tr>\n",
       "      <th>5</th>\n",
       "      <td>Ericsson</td>\n",
       "      <td>Data Scientist</td>\n",
       "      <td>Noida</td>\n",
       "    </tr>\n",
       "    <tr>\n",
       "      <th>6</th>\n",
       "      <td>Biz2Credit Inc</td>\n",
       "      <td>Data Scientist</td>\n",
       "      <td>Noida</td>\n",
       "    </tr>\n",
       "    <tr>\n",
       "      <th>7</th>\n",
       "      <td>Algoscale</td>\n",
       "      <td>Data Scientist</td>\n",
       "      <td>Noida</td>\n",
       "    </tr>\n",
       "    <tr>\n",
       "      <th>8</th>\n",
       "      <td>Gauge Data Solutions</td>\n",
       "      <td>Data Scientist</td>\n",
       "      <td>Noida</td>\n",
       "    </tr>\n",
       "    <tr>\n",
       "      <th>9</th>\n",
       "      <td>Data Patterns</td>\n",
       "      <td>Data Scientist</td>\n",
       "      <td>Noida</td>\n",
       "    </tr>\n",
       "  </tbody>\n",
       "</table>\n",
       "</div>"
      ],
      "text/plain": [
       "                                     Company Name   \\\n",
       "0                                          Bechtel   \n",
       "1                                                    \n",
       "2                                            Crowe   \n",
       "3  Siemens Technology and Services Private Limited   \n",
       "4                                  Priority Vendor   \n",
       "5                                         Ericsson   \n",
       "6                                   Biz2Credit Inc   \n",
       "7                                        Algoscale   \n",
       "8                             Gauge Data Solutions   \n",
       "9                                    Data Patterns   \n",
       "\n",
       "                              Job Title   Location   \n",
       "0  Data Engineer - Python with Azure ADF  New Delhi  \n",
       "1                           Data Analyst  New Delhi  \n",
       "2                         Data Scientist      Noida  \n",
       "3                         Data Scientist    Gurgaon  \n",
       "4                         Data Scientist      Noida  \n",
       "5                         Data Scientist      Noida  \n",
       "6                         Data Scientist      Noida  \n",
       "7                         Data Scientist      Noida  \n",
       "8                         Data Scientist      Noida  \n",
       "9                         Data Scientist      Noida  "
      ]
     },
     "execution_count": 32,
     "metadata": {},
     "output_type": "execute_result"
    }
   ],
   "source": [
    "# Making the dataframe.\n",
    "\n",
    "job4 = pd.DataFrame({})\n",
    "\n",
    "job4['Company Name '] = companies4\n",
    "job4[' Job Title ']= title4\n",
    "job4[' Location ']= locations4\n",
    "\n",
    "job4"
   ]
  },
  {
   "cell_type": "markdown",
   "metadata": {},
   "source": [
    "-------------------------------------------------------------------------------------------------------------------------------"
   ]
  },
  {
   "cell_type": "markdown",
   "metadata": {},
   "source": [
    "##### Q. No. 5:- Write a python program to scrape the salary data for Data Scientist designation in Noida location. You have to scrape Company name, Number of salaries, Average salary, Min salary, Max Salary.\n",
    "\n",
    "------------------------------------------------------------------------------------------------------------------------------"
   ]
  },
  {
   "cell_type": "code",
   "execution_count": 33,
   "metadata": {},
   "outputs": [],
   "source": [
    "# Loading the web-page\n",
    "\n",
    "url4 = 'https://www.glassdoor.co.in/Salaries/index.htm'\n",
    "\n",
    "driver.get(url4)"
   ]
  },
  {
   "cell_type": "code",
   "execution_count": 34,
   "metadata": {},
   "outputs": [
    {
     "data": {
      "text/plain": [
       "<selenium.webdriver.remote.webelement.WebElement (session=\"a7657e4fc912a0b50df17e087906ce70\", element=\"aa33bd72-0174-4e36-9d67-c671989f07db\")>"
      ]
     },
     "execution_count": 34,
     "metadata": {},
     "output_type": "execute_result"
    }
   ],
   "source": [
    "# Extracting the web element of the job title search bar\n",
    "\n",
    "jb_src = driver.find_element_by_xpath('//input[@id=\"KeywordSearch\"]')\n",
    "\n",
    "jb_src"
   ]
  },
  {
   "cell_type": "code",
   "execution_count": 35,
   "metadata": {},
   "outputs": [],
   "source": [
    "# Entering value 'Data Scientist' in the job title search bar\n",
    "\n",
    "jb_src.send_keys('Data Scientist')"
   ]
  },
  {
   "cell_type": "code",
   "execution_count": 36,
   "metadata": {},
   "outputs": [
    {
     "data": {
      "text/plain": [
       "<selenium.webdriver.remote.webelement.WebElement (session=\"a7657e4fc912a0b50df17e087906ce70\", element=\"0dd0b5f1-b73c-4d02-9b48-382b27ae754c\")>"
      ]
     },
     "execution_count": 36,
     "metadata": {},
     "output_type": "execute_result"
    }
   ],
   "source": [
    "# Extracting the web element of the location search bar\n",
    "\n",
    "loc_src = driver.find_element_by_xpath('//input[@id=\"LocationSearch\"]')\n",
    "\n",
    "loc_src"
   ]
  },
  {
   "cell_type": "code",
   "execution_count": 37,
   "metadata": {},
   "outputs": [],
   "source": [
    "# Entering value 'Noida' in the location search bar.\n",
    "\n",
    "loc_src.send_keys('Noida')"
   ]
  },
  {
   "cell_type": "code",
   "execution_count": 38,
   "metadata": {},
   "outputs": [
    {
     "data": {
      "text/plain": [
       "<selenium.webdriver.remote.webelement.WebElement (session=\"a7657e4fc912a0b50df17e087906ce70\", element=\"38e9aba0-105c-4750-b336-c8e4231bd475\")>"
      ]
     },
     "execution_count": 38,
     "metadata": {},
     "output_type": "execute_result"
    }
   ],
   "source": [
    "# Now we'll extract the web element of the search button.\n",
    "\n",
    "src_btn = driver.find_element_by_xpath('//button[@class=\"gd-btn-mkt\"]')\n",
    "\n",
    "src_btn"
   ]
  },
  {
   "cell_type": "code",
   "execution_count": 39,
   "metadata": {},
   "outputs": [],
   "source": [
    "# Clicking on the search button.\n",
    "\n",
    "src_btn.click()"
   ]
  },
  {
   "cell_type": "code",
   "execution_count": 42,
   "metadata": {},
   "outputs": [
    {
     "data": {
      "text/plain": [
       "[<selenium.webdriver.remote.webelement.WebElement (session=\"a7657e4fc912a0b50df17e087906ce70\", element=\"3b67c65b-423b-4f87-8aa2-aadeda0f597e\")>,\n",
       " <selenium.webdriver.remote.webelement.WebElement (session=\"a7657e4fc912a0b50df17e087906ce70\", element=\"d80fc676-cd54-413b-907e-b97308a6390c\")>,\n",
       " <selenium.webdriver.remote.webelement.WebElement (session=\"a7657e4fc912a0b50df17e087906ce70\", element=\"0889d53f-f3cb-4488-a94e-ebeb146428f2\")>,\n",
       " <selenium.webdriver.remote.webelement.WebElement (session=\"a7657e4fc912a0b50df17e087906ce70\", element=\"58a5ed38-098c-4816-aa4a-4646a27228bf\")>,\n",
       " <selenium.webdriver.remote.webelement.WebElement (session=\"a7657e4fc912a0b50df17e087906ce70\", element=\"d984adc0-dcc4-48bd-86a4-b2b89b85c291\")>,\n",
       " <selenium.webdriver.remote.webelement.WebElement (session=\"a7657e4fc912a0b50df17e087906ce70\", element=\"0de66b17-c288-439a-94a7-e198d4ad7651\")>,\n",
       " <selenium.webdriver.remote.webelement.WebElement (session=\"a7657e4fc912a0b50df17e087906ce70\", element=\"6df3ffb0-4219-46a6-bd86-bcece6f08bbd\")>,\n",
       " <selenium.webdriver.remote.webelement.WebElement (session=\"a7657e4fc912a0b50df17e087906ce70\", element=\"044c7a86-355c-4ae0-856b-78a04b2a5571\")>,\n",
       " <selenium.webdriver.remote.webelement.WebElement (session=\"a7657e4fc912a0b50df17e087906ce70\", element=\"055a292c-d1a4-438c-aece-dff3a4285cfb\")>,\n",
       " <selenium.webdriver.remote.webelement.WebElement (session=\"a7657e4fc912a0b50df17e087906ce70\", element=\"f55dfea9-d630-4870-84a6-039bb62da64f\")>,\n",
       " <selenium.webdriver.remote.webelement.WebElement (session=\"a7657e4fc912a0b50df17e087906ce70\", element=\"595ce110-401d-40a6-a078-ea433ef6e4ce\")>,\n",
       " <selenium.webdriver.remote.webelement.WebElement (session=\"a7657e4fc912a0b50df17e087906ce70\", element=\"9689aa7c-509a-4f11-89f3-53dfc3d87493\")>,\n",
       " <selenium.webdriver.remote.webelement.WebElement (session=\"a7657e4fc912a0b50df17e087906ce70\", element=\"ddea598f-1f73-40ab-bb60-512bfee26286\")>,\n",
       " <selenium.webdriver.remote.webelement.WebElement (session=\"a7657e4fc912a0b50df17e087906ce70\", element=\"f060cff9-edd0-4b87-9d9a-3c96016e6368\")>,\n",
       " <selenium.webdriver.remote.webelement.WebElement (session=\"a7657e4fc912a0b50df17e087906ce70\", element=\"ae109f48-2fa3-499d-8b9d-80382b532d4d\")>,\n",
       " <selenium.webdriver.remote.webelement.WebElement (session=\"a7657e4fc912a0b50df17e087906ce70\", element=\"9baf7344-a851-4408-9809-8890ed3f3a8b\")>,\n",
       " <selenium.webdriver.remote.webelement.WebElement (session=\"a7657e4fc912a0b50df17e087906ce70\", element=\"2cbcdada-d066-4eaf-b88f-5d57608c4da2\")>,\n",
       " <selenium.webdriver.remote.webelement.WebElement (session=\"a7657e4fc912a0b50df17e087906ce70\", element=\"0dacdac3-7ece-47e4-869c-b4414fb6af00\")>,\n",
       " <selenium.webdriver.remote.webelement.WebElement (session=\"a7657e4fc912a0b50df17e087906ce70\", element=\"2c67a3e0-9731-4b70-8dfb-d46004ff96f0\")>,\n",
       " <selenium.webdriver.remote.webelement.WebElement (session=\"a7657e4fc912a0b50df17e087906ce70\", element=\"c7c60be9-cb01-4c14-8cbd-a19618b00551\")>]"
      ]
     },
     "execution_count": 42,
     "metadata": {},
     "output_type": "execute_result"
    }
   ],
   "source": [
    "# Extracting the web elements of the companies name. \n",
    "\n",
    "cmp_name5 = driver.find_elements_by_xpath('//a[@class=\"css-f3vw95 e1aj7ssy3\"]')\n",
    "\n",
    "cmp_name5"
   ]
  },
  {
   "cell_type": "code",
   "execution_count": 43,
   "metadata": {},
   "outputs": [
    {
     "data": {
      "text/plain": [
       "['IBM',\n",
       " 'Tata Consultancy Services',\n",
       " 'Accenture',\n",
       " 'Delhivery',\n",
       " 'Ericsson-Worldwide',\n",
       " 'UnitedHealth Group',\n",
       " 'Valiance Solutions',\n",
       " 'Optum Global Solutions',\n",
       " 'ZS Associates',\n",
       " 'EXL Service',\n",
       " 'Optum',\n",
       " 'Innovaccer',\n",
       " 'Cognizant Technology Solutions',\n",
       " 'OYO',\n",
       " 'Nagarro',\n",
       " 'dunnhumby',\n",
       " 'Vidooly Media Tech',\n",
       " 'Tech Mahindra',\n",
       " 'R Systems',\n",
       " 'CARS24.com']"
      ]
     },
     "execution_count": 43,
     "metadata": {},
     "output_type": "execute_result"
    }
   ],
   "source": [
    "# Extracting the companies name from the web elements.\n",
    "companies5 = []\n",
    "\n",
    "for c in cmp_name5:\n",
    "    companies5.append(c.text)\n",
    "    \n",
    "companies5"
   ]
  },
  {
   "cell_type": "code",
   "execution_count": 44,
   "metadata": {},
   "outputs": [
    {
     "data": {
      "text/plain": [
       "['IBM',\n",
       " 'Tata Consultancy Services',\n",
       " 'Accenture',\n",
       " 'Delhivery',\n",
       " 'Ericsson-Worldwide',\n",
       " 'UnitedHealth Group',\n",
       " 'Valiance Solutions',\n",
       " 'Optum Global Solutions',\n",
       " 'ZS Associates',\n",
       " 'EXL Service']"
      ]
     },
     "execution_count": 44,
     "metadata": {},
     "output_type": "execute_result"
    }
   ],
   "source": [
    "companies_name5 = companies5[:10]\n",
    "companies_name5"
   ]
  },
  {
   "cell_type": "code",
   "execution_count": 47,
   "metadata": {},
   "outputs": [
    {
     "data": {
      "text/plain": [
       "[<selenium.webdriver.remote.webelement.WebElement (session=\"a7657e4fc912a0b50df17e087906ce70\", element=\"4e1404d0-fe0e-4cfe-996a-9c35bec3cdc2\")>,\n",
       " <selenium.webdriver.remote.webelement.WebElement (session=\"a7657e4fc912a0b50df17e087906ce70\", element=\"bd97b807-8ed7-4777-88cd-6a68586dacfa\")>,\n",
       " <selenium.webdriver.remote.webelement.WebElement (session=\"a7657e4fc912a0b50df17e087906ce70\", element=\"1b1fc9d8-f710-491e-a9dc-7ca395366b63\")>,\n",
       " <selenium.webdriver.remote.webelement.WebElement (session=\"a7657e4fc912a0b50df17e087906ce70\", element=\"2b100d46-b022-42d6-bb2b-44f5b7e92179\")>,\n",
       " <selenium.webdriver.remote.webelement.WebElement (session=\"a7657e4fc912a0b50df17e087906ce70\", element=\"7439a5b5-4c05-408e-851a-b63c6edc8eea\")>,\n",
       " <selenium.webdriver.remote.webelement.WebElement (session=\"a7657e4fc912a0b50df17e087906ce70\", element=\"e217523f-c1c4-42b9-9217-a7dd18bcd209\")>,\n",
       " <selenium.webdriver.remote.webelement.WebElement (session=\"a7657e4fc912a0b50df17e087906ce70\", element=\"ce88601a-0788-463f-a423-a8fc2b98ee7d\")>,\n",
       " <selenium.webdriver.remote.webelement.WebElement (session=\"a7657e4fc912a0b50df17e087906ce70\", element=\"b8c4e3e2-0628-4bf9-87d9-3927d380f9ce\")>,\n",
       " <selenium.webdriver.remote.webelement.WebElement (session=\"a7657e4fc912a0b50df17e087906ce70\", element=\"cf9212c7-f72a-4479-a7fc-8b67a447f33f\")>,\n",
       " <selenium.webdriver.remote.webelement.WebElement (session=\"a7657e4fc912a0b50df17e087906ce70\", element=\"d85ff917-e9db-4fef-a25e-c872e9058057\")>,\n",
       " <selenium.webdriver.remote.webelement.WebElement (session=\"a7657e4fc912a0b50df17e087906ce70\", element=\"fbd13b85-c58d-4c8b-a5e9-e16c121af571\")>,\n",
       " <selenium.webdriver.remote.webelement.WebElement (session=\"a7657e4fc912a0b50df17e087906ce70\", element=\"eed0a1c4-1e02-4c84-8505-3a31698ff7c7\")>,\n",
       " <selenium.webdriver.remote.webelement.WebElement (session=\"a7657e4fc912a0b50df17e087906ce70\", element=\"ddbb2083-d492-4af8-942f-1258bd404b48\")>,\n",
       " <selenium.webdriver.remote.webelement.WebElement (session=\"a7657e4fc912a0b50df17e087906ce70\", element=\"5296ac52-8b2e-4440-ab21-00c361e452ce\")>,\n",
       " <selenium.webdriver.remote.webelement.WebElement (session=\"a7657e4fc912a0b50df17e087906ce70\", element=\"8592ab1a-79ef-49c4-9d66-3ef0e7144d26\")>,\n",
       " <selenium.webdriver.remote.webelement.WebElement (session=\"a7657e4fc912a0b50df17e087906ce70\", element=\"f4c34bcd-c2ee-4302-a8b0-f310f8af5121\")>,\n",
       " <selenium.webdriver.remote.webelement.WebElement (session=\"a7657e4fc912a0b50df17e087906ce70\", element=\"414ede46-e1e8-4dc5-b490-e019dc8fbf69\")>,\n",
       " <selenium.webdriver.remote.webelement.WebElement (session=\"a7657e4fc912a0b50df17e087906ce70\", element=\"c32d41e7-9c70-4c8e-95b5-c0da416cfbbe\")>,\n",
       " <selenium.webdriver.remote.webelement.WebElement (session=\"a7657e4fc912a0b50df17e087906ce70\", element=\"7967d6a5-0244-4790-a0c9-07d8baef1ba3\")>,\n",
       " <selenium.webdriver.remote.webelement.WebElement (session=\"a7657e4fc912a0b50df17e087906ce70\", element=\"9200378e-2a2b-4fab-a793-305692fde16a\")>]"
      ]
     },
     "execution_count": 47,
     "metadata": {},
     "output_type": "execute_result"
    }
   ],
   "source": [
    "# Extracting the web elements of the average salary\n",
    "\n",
    "avg_tag5 = driver.find_elements_by_xpath('//div[@class=\"col-12 col-lg-4 px-lg-0 d-flex align-items-baseline\"]//h3')\n",
    "avg_tag5"
   ]
  },
  {
   "cell_type": "code",
   "execution_count": 48,
   "metadata": {},
   "outputs": [
    {
     "data": {
      "text/plain": [
       "['₹9,00,000',\n",
       " '₹6,15,289',\n",
       " '₹11,63,336',\n",
       " '₹12,18,244',\n",
       " '₹7,39,238',\n",
       " '₹13,19,140',\n",
       " '₹8,63,750',\n",
       " '₹13,28,697',\n",
       " '₹11,42,356',\n",
       " '₹11,46,073',\n",
       " '₹13,20,960',\n",
       " '₹12,09,040',\n",
       " '₹10,09,021',\n",
       " '₹12,58,227',\n",
       " '₹9,92,632',\n",
       " '₹10,55,478',\n",
       " '₹34,157',\n",
       " '₹10,54,402',\n",
       " '₹18,40,134',\n",
       " '₹10,00,000']"
      ]
     },
     "execution_count": 48,
     "metadata": {},
     "output_type": "execute_result"
    }
   ],
   "source": [
    "# Extracting the texts from the web elements of the average salary.\n",
    "\n",
    "avg_salary5 = []\n",
    "for avg in avg_tag5:\n",
    "    avg_salary5.append(avg.text)\n",
    "    \n",
    "avg_salary5"
   ]
  },
  {
   "cell_type": "code",
   "execution_count": 49,
   "metadata": {},
   "outputs": [
    {
     "data": {
      "text/plain": [
       "['₹9,00,000',\n",
       " '₹6,15,289',\n",
       " '₹11,63,336',\n",
       " '₹12,18,244',\n",
       " '₹7,39,238',\n",
       " '₹13,19,140',\n",
       " '₹8,63,750',\n",
       " '₹13,28,697',\n",
       " '₹11,42,356',\n",
       " '₹11,46,073']"
      ]
     },
     "execution_count": 49,
     "metadata": {},
     "output_type": "execute_result"
    }
   ],
   "source": [
    "average_salaries5 = avg_salary5[:10]\n",
    "\n",
    "average_salaries5"
   ]
  },
  {
   "cell_type": "code",
   "execution_count": 56,
   "metadata": {},
   "outputs": [
    {
     "data": {
      "text/plain": [
       "[<selenium.webdriver.remote.webelement.WebElement (session=\"a7657e4fc912a0b50df17e087906ce70\", element=\"cc006ab0-25eb-4571-b320-1a235514e013\")>,\n",
       " <selenium.webdriver.remote.webelement.WebElement (session=\"a7657e4fc912a0b50df17e087906ce70\", element=\"4b9ae817-3c64-4240-8155-48e7a075aaae\")>,\n",
       " <selenium.webdriver.remote.webelement.WebElement (session=\"a7657e4fc912a0b50df17e087906ce70\", element=\"e331baa4-864c-4472-b9df-7203791d002f\")>,\n",
       " <selenium.webdriver.remote.webelement.WebElement (session=\"a7657e4fc912a0b50df17e087906ce70\", element=\"42232a83-4f14-45ef-82cd-d4b2732b2218\")>,\n",
       " <selenium.webdriver.remote.webelement.WebElement (session=\"a7657e4fc912a0b50df17e087906ce70\", element=\"49866a51-28ec-42b4-bf9c-e940d99185f9\")>,\n",
       " <selenium.webdriver.remote.webelement.WebElement (session=\"a7657e4fc912a0b50df17e087906ce70\", element=\"a471cbd0-9c9d-4c13-a455-560410468a13\")>,\n",
       " <selenium.webdriver.remote.webelement.WebElement (session=\"a7657e4fc912a0b50df17e087906ce70\", element=\"a6d894ad-a59e-4206-b716-8ecd31cbc5e2\")>,\n",
       " <selenium.webdriver.remote.webelement.WebElement (session=\"a7657e4fc912a0b50df17e087906ce70\", element=\"56039e61-476d-40c5-8209-219e4bdede20\")>,\n",
       " <selenium.webdriver.remote.webelement.WebElement (session=\"a7657e4fc912a0b50df17e087906ce70\", element=\"568b1636-045a-4a74-9552-3988295f5dc5\")>,\n",
       " <selenium.webdriver.remote.webelement.WebElement (session=\"a7657e4fc912a0b50df17e087906ce70\", element=\"6df87e85-46a9-4087-b496-784e8851cedd\")>,\n",
       " <selenium.webdriver.remote.webelement.WebElement (session=\"a7657e4fc912a0b50df17e087906ce70\", element=\"eb179d54-3b23-4728-a09e-7734fa17f0b3\")>,\n",
       " <selenium.webdriver.remote.webelement.WebElement (session=\"a7657e4fc912a0b50df17e087906ce70\", element=\"d6b510eb-ad71-4a41-8ade-369d47da539c\")>,\n",
       " <selenium.webdriver.remote.webelement.WebElement (session=\"a7657e4fc912a0b50df17e087906ce70\", element=\"6fac3aeb-4907-4f03-af1b-5cb74940ee34\")>,\n",
       " <selenium.webdriver.remote.webelement.WebElement (session=\"a7657e4fc912a0b50df17e087906ce70\", element=\"47bd8d9f-0c3b-4a71-a9e3-c5d8b700c74c\")>,\n",
       " <selenium.webdriver.remote.webelement.WebElement (session=\"a7657e4fc912a0b50df17e087906ce70\", element=\"97ff3784-0cf0-4533-b390-591a0aa90667\")>,\n",
       " <selenium.webdriver.remote.webelement.WebElement (session=\"a7657e4fc912a0b50df17e087906ce70\", element=\"a2a6d962-941e-468e-9a7e-1f0621007d36\")>,\n",
       " <selenium.webdriver.remote.webelement.WebElement (session=\"a7657e4fc912a0b50df17e087906ce70\", element=\"f2b2945b-1683-43d3-9af4-ecb5bf682323\")>,\n",
       " <selenium.webdriver.remote.webelement.WebElement (session=\"a7657e4fc912a0b50df17e087906ce70\", element=\"3bb94762-8e49-48a9-930d-8c2fb777a844\")>,\n",
       " <selenium.webdriver.remote.webelement.WebElement (session=\"a7657e4fc912a0b50df17e087906ce70\", element=\"66baf625-5c6f-4d37-8d2e-4f7511219ff4\")>,\n",
       " <selenium.webdriver.remote.webelement.WebElement (session=\"a7657e4fc912a0b50df17e087906ce70\", element=\"09487bc4-30c6-4e83-9027-d4943e7e7aa8\")>,\n",
       " <selenium.webdriver.remote.webelement.WebElement (session=\"a7657e4fc912a0b50df17e087906ce70\", element=\"f8b1ad6f-36ad-43ad-af44-9f96096bf9f8\")>,\n",
       " <selenium.webdriver.remote.webelement.WebElement (session=\"a7657e4fc912a0b50df17e087906ce70\", element=\"4bc15bf7-8acb-4d1a-ad58-f15d1101d0ff\")>,\n",
       " <selenium.webdriver.remote.webelement.WebElement (session=\"a7657e4fc912a0b50df17e087906ce70\", element=\"09174922-1e69-455f-bbdc-5d35f038b007\")>,\n",
       " <selenium.webdriver.remote.webelement.WebElement (session=\"a7657e4fc912a0b50df17e087906ce70\", element=\"35d5ad52-695a-4bd5-bd3e-979aeacd2ff3\")>,\n",
       " <selenium.webdriver.remote.webelement.WebElement (session=\"a7657e4fc912a0b50df17e087906ce70\", element=\"7c65c4f0-ee85-4633-a7a7-ca0cecdbf654\")>,\n",
       " <selenium.webdriver.remote.webelement.WebElement (session=\"a7657e4fc912a0b50df17e087906ce70\", element=\"8fbbaebe-d6e1-4ffe-b7c3-fa2d15053045\")>,\n",
       " <selenium.webdriver.remote.webelement.WebElement (session=\"a7657e4fc912a0b50df17e087906ce70\", element=\"ca194110-9ce2-4057-a346-8fc2bca28027\")>,\n",
       " <selenium.webdriver.remote.webelement.WebElement (session=\"a7657e4fc912a0b50df17e087906ce70\", element=\"133e1b29-1214-412c-9fae-13e93611afed\")>,\n",
       " <selenium.webdriver.remote.webelement.WebElement (session=\"a7657e4fc912a0b50df17e087906ce70\", element=\"1dc498fb-aeb5-4889-9ed8-e5d96ee446f6\")>,\n",
       " <selenium.webdriver.remote.webelement.WebElement (session=\"a7657e4fc912a0b50df17e087906ce70\", element=\"33ce1a05-e8cd-4524-b1ef-906f0c123473\")>,\n",
       " <selenium.webdriver.remote.webelement.WebElement (session=\"a7657e4fc912a0b50df17e087906ce70\", element=\"0279af8d-99ed-4b61-b2a4-c44eacb46f9c\")>,\n",
       " <selenium.webdriver.remote.webelement.WebElement (session=\"a7657e4fc912a0b50df17e087906ce70\", element=\"4d49fd31-faf5-4749-b43b-330880d45d92\")>,\n",
       " <selenium.webdriver.remote.webelement.WebElement (session=\"a7657e4fc912a0b50df17e087906ce70\", element=\"8aba9c01-75bd-469b-b8b2-6fc1097bbbef\")>,\n",
       " <selenium.webdriver.remote.webelement.WebElement (session=\"a7657e4fc912a0b50df17e087906ce70\", element=\"c7e369e4-fd51-4b74-92f4-7820eafe8bbf\")>,\n",
       " <selenium.webdriver.remote.webelement.WebElement (session=\"a7657e4fc912a0b50df17e087906ce70\", element=\"8f692c30-b148-4c79-8f27-26cb9832cd07\")>,\n",
       " <selenium.webdriver.remote.webelement.WebElement (session=\"a7657e4fc912a0b50df17e087906ce70\", element=\"16c3a57c-0db1-41a0-ae90-4b0f5d9ccff0\")>,\n",
       " <selenium.webdriver.remote.webelement.WebElement (session=\"a7657e4fc912a0b50df17e087906ce70\", element=\"dfbd4fce-e06e-43e4-b5fd-d5a9b3f4b723\")>,\n",
       " <selenium.webdriver.remote.webelement.WebElement (session=\"a7657e4fc912a0b50df17e087906ce70\", element=\"f0777180-979a-4ee2-9863-f27bac45f6c9\")>,\n",
       " <selenium.webdriver.remote.webelement.WebElement (session=\"a7657e4fc912a0b50df17e087906ce70\", element=\"1cba6532-c484-44d3-9265-5a6540ed6cfb\")>,\n",
       " <selenium.webdriver.remote.webelement.WebElement (session=\"a7657e4fc912a0b50df17e087906ce70\", element=\"103c0cc8-eea8-4d57-bcee-99173f77ae89\")>]"
      ]
     },
     "execution_count": 56,
     "metadata": {},
     "output_type": "execute_result"
    }
   ],
   "source": [
    "# Extracting the web elements of the minimum salary.\n",
    "\n",
    "sal_tag = driver.find_elements_by_xpath('//div[@class=\"d-flex mt-xxsm css-79elbk epuxyqn0\"]//p')\n",
    "sal_tag"
   ]
  },
  {
   "cell_type": "code",
   "execution_count": 58,
   "metadata": {},
   "outputs": [
    {
     "data": {
      "text/plain": [
       "['₹6L',\n",
       " '₹27L',\n",
       " '₹3L',\n",
       " '₹13L',\n",
       " '₹6L',\n",
       " '₹22L',\n",
       " '₹5L',\n",
       " '₹1Cr',\n",
       " '₹4L',\n",
       " '₹16L',\n",
       " '₹11L',\n",
       " '₹15L',\n",
       " '₹5L',\n",
       " '₹15L',\n",
       " '₹4L',\n",
       " '₹22L',\n",
       " '₹2L',\n",
       " '₹18L',\n",
       " '₹6L',\n",
       " '₹15L']"
      ]
     },
     "execution_count": 58,
     "metadata": {},
     "output_type": "execute_result"
    }
   ],
   "source": [
    "# Extracting the texts from the web elements of the minimum salary.\n",
    "\n",
    "salary5 = []\n",
    "for m5 in sal_tag:\n",
    "    salary5.append(m5.text)\n",
    "    \n",
    "salary5 = salary5[:20]\n",
    "\n",
    "salary5"
   ]
  },
  {
   "cell_type": "code",
   "execution_count": 59,
   "metadata": {},
   "outputs": [
    {
     "data": {
      "text/plain": [
       "['₹6L', '₹3L', '₹6L', '₹5L', '₹4L', '₹11L', '₹5L', '₹4L', '₹2L', '₹6L']"
      ]
     },
     "execution_count": 59,
     "metadata": {},
     "output_type": "execute_result"
    }
   ],
   "source": [
    "# Seprating the minimum and maximum salary\n",
    "\n",
    "min_sal = []\n",
    "max_sal = []\n",
    "\n",
    "for s5 in range(0, len(salary5)):\n",
    "    if s5%2:\n",
    "        max_sal.append(salary5[s5])\n",
    "    else:\n",
    "        min_sal.append(salary5[s5])\n",
    "min_sal"
   ]
  },
  {
   "cell_type": "code",
   "execution_count": 60,
   "metadata": {},
   "outputs": [
    {
     "data": {
      "text/plain": [
       "['₹27L',\n",
       " '₹13L',\n",
       " '₹22L',\n",
       " '₹1Cr',\n",
       " '₹16L',\n",
       " '₹15L',\n",
       " '₹15L',\n",
       " '₹22L',\n",
       " '₹18L',\n",
       " '₹15L']"
      ]
     },
     "execution_count": 60,
     "metadata": {},
     "output_type": "execute_result"
    }
   ],
   "source": [
    "max_sal"
   ]
  },
  {
   "cell_type": "code",
   "execution_count": 61,
   "metadata": {},
   "outputs": [
    {
     "data": {
      "text/plain": [
       "[<selenium.webdriver.remote.webelement.WebElement (session=\"a7657e4fc912a0b50df17e087906ce70\", element=\"ce76e696-bb1f-470b-879a-1238b1fb9a7e\")>,\n",
       " <selenium.webdriver.remote.webelement.WebElement (session=\"a7657e4fc912a0b50df17e087906ce70\", element=\"a0d09052-d7a1-40f2-9a97-f4653ee6291e\")>,\n",
       " <selenium.webdriver.remote.webelement.WebElement (session=\"a7657e4fc912a0b50df17e087906ce70\", element=\"111cf60c-3d43-4311-b65f-6cb586e25b81\")>,\n",
       " <selenium.webdriver.remote.webelement.WebElement (session=\"a7657e4fc912a0b50df17e087906ce70\", element=\"fcacfa1d-f746-4ff9-aae0-893c429db279\")>,\n",
       " <selenium.webdriver.remote.webelement.WebElement (session=\"a7657e4fc912a0b50df17e087906ce70\", element=\"2d6d64a7-547f-428c-a05a-417c5887cf55\")>,\n",
       " <selenium.webdriver.remote.webelement.WebElement (session=\"a7657e4fc912a0b50df17e087906ce70\", element=\"3d589bfa-4096-4bc7-a82d-f264b13c7a1c\")>,\n",
       " <selenium.webdriver.remote.webelement.WebElement (session=\"a7657e4fc912a0b50df17e087906ce70\", element=\"44265ed0-a6a7-4bd5-ac07-d4c0c0a6f39d\")>,\n",
       " <selenium.webdriver.remote.webelement.WebElement (session=\"a7657e4fc912a0b50df17e087906ce70\", element=\"7cc8938a-98c9-4a64-b521-2736d8b50bb5\")>,\n",
       " <selenium.webdriver.remote.webelement.WebElement (session=\"a7657e4fc912a0b50df17e087906ce70\", element=\"947cbb8b-5c2b-4ba8-9a9a-c37b63b30ef5\")>,\n",
       " <selenium.webdriver.remote.webelement.WebElement (session=\"a7657e4fc912a0b50df17e087906ce70\", element=\"c01157f3-c567-4cca-b682-3dab3f874485\")>,\n",
       " <selenium.webdriver.remote.webelement.WebElement (session=\"a7657e4fc912a0b50df17e087906ce70\", element=\"675bb5b4-26b7-428c-bf10-bcc93d89a6c4\")>,\n",
       " <selenium.webdriver.remote.webelement.WebElement (session=\"a7657e4fc912a0b50df17e087906ce70\", element=\"e0abdba4-459c-469e-af79-49f09fa4b0e4\")>,\n",
       " <selenium.webdriver.remote.webelement.WebElement (session=\"a7657e4fc912a0b50df17e087906ce70\", element=\"30e15ff3-530e-4337-b008-7f06e4347389\")>,\n",
       " <selenium.webdriver.remote.webelement.WebElement (session=\"a7657e4fc912a0b50df17e087906ce70\", element=\"4fe89e5e-f799-434e-9186-ff09d0cbee2b\")>,\n",
       " <selenium.webdriver.remote.webelement.WebElement (session=\"a7657e4fc912a0b50df17e087906ce70\", element=\"6ef23a74-9d8f-4000-ad7b-b458933984ef\")>,\n",
       " <selenium.webdriver.remote.webelement.WebElement (session=\"a7657e4fc912a0b50df17e087906ce70\", element=\"03bd16ae-b78b-456a-b09b-6b4c2ff87bc6\")>,\n",
       " <selenium.webdriver.remote.webelement.WebElement (session=\"a7657e4fc912a0b50df17e087906ce70\", element=\"ddbb18ed-a2b1-45cd-b8c6-f09fa0f1fbb7\")>,\n",
       " <selenium.webdriver.remote.webelement.WebElement (session=\"a7657e4fc912a0b50df17e087906ce70\", element=\"74450cc8-4b29-4e18-8e47-8e62749c3768\")>,\n",
       " <selenium.webdriver.remote.webelement.WebElement (session=\"a7657e4fc912a0b50df17e087906ce70\", element=\"969b243d-96a6-4999-ae58-c6192926cfe8\")>,\n",
       " <selenium.webdriver.remote.webelement.WebElement (session=\"a7657e4fc912a0b50df17e087906ce70\", element=\"a3699c98-087b-4103-8e29-47aa5e4c3460\")>]"
      ]
     },
     "execution_count": 61,
     "metadata": {},
     "output_type": "execute_result"
    }
   ],
   "source": [
    "# Extracting the web element of the ratings.\n",
    "\n",
    "rat_tag5 = driver.find_elements_by_xpath('//span[@class=\"m-0 css-kyx745\"]')\n",
    "\n",
    "rat_tag5"
   ]
  },
  {
   "cell_type": "code",
   "execution_count": 63,
   "metadata": {},
   "outputs": [
    {
     "data": {
      "text/plain": [
       "['3.9', '3.9', '4', '3.9', '4', '3.7', '4.2', '3.9', '4', '3.6']"
      ]
     },
     "execution_count": 63,
     "metadata": {},
     "output_type": "execute_result"
    }
   ],
   "source": [
    "# Extracting the texts from the web elements of the ratings.\n",
    "\n",
    "ratings5 = []\n",
    "\n",
    "for r5 in rat_tag5:\n",
    "    ratings5.append(r5.text)\n",
    "    \n",
    "ratings5 = ratings5[:10]\n",
    "\n",
    "ratings5"
   ]
  },
  {
   "cell_type": "code",
   "execution_count": 66,
   "metadata": {},
   "outputs": [
    {
     "name": "stdout",
     "output_type": "stream",
     "text": [
      "10 10 10 10 10\n"
     ]
    }
   ],
   "source": [
    "print (len(companies_name5),len(ratings5), len(average_salaries5), len(min_sal), len(max_sal))"
   ]
  },
  {
   "cell_type": "code",
   "execution_count": 67,
   "metadata": {},
   "outputs": [
    {
     "data": {
      "text/html": [
       "<div>\n",
       "<style scoped>\n",
       "    .dataframe tbody tr th:only-of-type {\n",
       "        vertical-align: middle;\n",
       "    }\n",
       "\n",
       "    .dataframe tbody tr th {\n",
       "        vertical-align: top;\n",
       "    }\n",
       "\n",
       "    .dataframe thead th {\n",
       "        text-align: right;\n",
       "    }\n",
       "</style>\n",
       "<table border=\"1\" class=\"dataframe\">\n",
       "  <thead>\n",
       "    <tr style=\"text-align: right;\">\n",
       "      <th></th>\n",
       "      <th>Company Name</th>\n",
       "      <th>Ratings of Company</th>\n",
       "      <th>Average Salary</th>\n",
       "      <th>Minimum Salary</th>\n",
       "      <th>Maximum Salary</th>\n",
       "    </tr>\n",
       "  </thead>\n",
       "  <tbody>\n",
       "    <tr>\n",
       "      <th>0</th>\n",
       "      <td>IBM</td>\n",
       "      <td>3.9</td>\n",
       "      <td>₹9,00,000</td>\n",
       "      <td>₹6L</td>\n",
       "      <td>₹27L</td>\n",
       "    </tr>\n",
       "    <tr>\n",
       "      <th>1</th>\n",
       "      <td>Tata Consultancy Services</td>\n",
       "      <td>3.9</td>\n",
       "      <td>₹6,15,289</td>\n",
       "      <td>₹3L</td>\n",
       "      <td>₹13L</td>\n",
       "    </tr>\n",
       "    <tr>\n",
       "      <th>2</th>\n",
       "      <td>Accenture</td>\n",
       "      <td>4</td>\n",
       "      <td>₹11,63,336</td>\n",
       "      <td>₹6L</td>\n",
       "      <td>₹22L</td>\n",
       "    </tr>\n",
       "    <tr>\n",
       "      <th>3</th>\n",
       "      <td>Delhivery</td>\n",
       "      <td>3.9</td>\n",
       "      <td>₹12,18,244</td>\n",
       "      <td>₹5L</td>\n",
       "      <td>₹1Cr</td>\n",
       "    </tr>\n",
       "    <tr>\n",
       "      <th>4</th>\n",
       "      <td>Ericsson-Worldwide</td>\n",
       "      <td>4</td>\n",
       "      <td>₹7,39,238</td>\n",
       "      <td>₹4L</td>\n",
       "      <td>₹16L</td>\n",
       "    </tr>\n",
       "    <tr>\n",
       "      <th>5</th>\n",
       "      <td>UnitedHealth Group</td>\n",
       "      <td>3.7</td>\n",
       "      <td>₹13,19,140</td>\n",
       "      <td>₹11L</td>\n",
       "      <td>₹15L</td>\n",
       "    </tr>\n",
       "    <tr>\n",
       "      <th>6</th>\n",
       "      <td>Valiance Solutions</td>\n",
       "      <td>4.2</td>\n",
       "      <td>₹8,63,750</td>\n",
       "      <td>₹5L</td>\n",
       "      <td>₹15L</td>\n",
       "    </tr>\n",
       "    <tr>\n",
       "      <th>7</th>\n",
       "      <td>Optum Global Solutions</td>\n",
       "      <td>3.9</td>\n",
       "      <td>₹13,28,697</td>\n",
       "      <td>₹4L</td>\n",
       "      <td>₹22L</td>\n",
       "    </tr>\n",
       "    <tr>\n",
       "      <th>8</th>\n",
       "      <td>ZS Associates</td>\n",
       "      <td>4</td>\n",
       "      <td>₹11,42,356</td>\n",
       "      <td>₹2L</td>\n",
       "      <td>₹18L</td>\n",
       "    </tr>\n",
       "    <tr>\n",
       "      <th>9</th>\n",
       "      <td>EXL Service</td>\n",
       "      <td>3.6</td>\n",
       "      <td>₹11,46,073</td>\n",
       "      <td>₹6L</td>\n",
       "      <td>₹15L</td>\n",
       "    </tr>\n",
       "  </tbody>\n",
       "</table>\n",
       "</div>"
      ],
      "text/plain": [
       "               Company Name   Ratings of Company   Average Salary   \\\n",
       "0                        IBM                  3.9        ₹9,00,000   \n",
       "1  Tata Consultancy Services                  3.9        ₹6,15,289   \n",
       "2                  Accenture                    4       ₹11,63,336   \n",
       "3                  Delhivery                  3.9       ₹12,18,244   \n",
       "4         Ericsson-Worldwide                    4        ₹7,39,238   \n",
       "5         UnitedHealth Group                  3.7       ₹13,19,140   \n",
       "6         Valiance Solutions                  4.2        ₹8,63,750   \n",
       "7     Optum Global Solutions                  3.9       ₹13,28,697   \n",
       "8              ZS Associates                    4       ₹11,42,356   \n",
       "9                EXL Service                  3.6       ₹11,46,073   \n",
       "\n",
       "   Minimum Salary   Maximum Salary   \n",
       "0              ₹6L             ₹27L  \n",
       "1              ₹3L             ₹13L  \n",
       "2              ₹6L             ₹22L  \n",
       "3              ₹5L             ₹1Cr  \n",
       "4              ₹4L             ₹16L  \n",
       "5             ₹11L             ₹15L  \n",
       "6              ₹5L             ₹15L  \n",
       "7              ₹4L             ₹22L  \n",
       "8              ₹2L             ₹18L  \n",
       "9              ₹6L             ₹15L  "
      ]
     },
     "execution_count": 67,
     "metadata": {},
     "output_type": "execute_result"
    }
   ],
   "source": [
    "# Framing the dataframe\n",
    "\n",
    "job5 = pd.DataFrame({})\n",
    "\n",
    "job5[' Company Name ']= companies_name5\n",
    "job5[' Ratings of Company ']= ratings5\n",
    "job5[' Average Salary '] = average_salaries5\n",
    "job5[' Minimum Salary ']= min_sal\n",
    "job5[' Maximum Salary ']= max_sal\n",
    "\n",
    "job5"
   ]
  },
  {
   "cell_type": "markdown",
   "metadata": {},
   "source": [
    "------------------------------------------------------------------------------------------------------------------------------"
   ]
  },
  {
   "cell_type": "markdown",
   "metadata": {},
   "source": [
    "##### Q. No. 6 :- Scrape data of first 100 sunglasses listings on flipkart.com. You have to scrape four attributes:\n",
    "1. Brand\n",
    "2. Product Description\n",
    "3. Price\n",
    "4. Discount %"
   ]
  },
  {
   "cell_type": "markdown",
   "metadata": {},
   "source": [
    "------------------------------------------------------------------------------------------------------------------------------"
   ]
  },
  {
   "cell_type": "code",
   "execution_count": 28,
   "metadata": {},
   "outputs": [],
   "source": [
    "#Loading the web-page \n",
    "\n",
    "url6 = 'https://www.flipkart.com/'\n",
    "\n",
    "driver.get(url6)"
   ]
  },
  {
   "cell_type": "code",
   "execution_count": 29,
   "metadata": {},
   "outputs": [
    {
     "data": {
      "text/plain": [
       "<selenium.webdriver.remote.webelement.WebElement (session=\"3e5ab66d846d062ce3535ca27540549d\", element=\"317292e5-c8f8-45e0-a9d6-eea6a74816da\")>"
      ]
     },
     "execution_count": 29,
     "metadata": {},
     "output_type": "execute_result"
    }
   ],
   "source": [
    "# Extracting the web element of the search bar.\n",
    "\n",
    "search = driver.find_element_by_xpath('//input[@class=\"_3704LK\"]')\n",
    "\n",
    "search"
   ]
  },
  {
   "cell_type": "code",
   "execution_count": 30,
   "metadata": {},
   "outputs": [],
   "source": [
    "# Entering 'sunglasses' in the search bar.\n",
    "\n",
    "search.send_keys('sunglasses')"
   ]
  },
  {
   "cell_type": "code",
   "execution_count": 31,
   "metadata": {},
   "outputs": [],
   "source": [
    "# Clicking on the search button.\n",
    "\n",
    "src_bttn = driver.find_element_by_xpath('//button[@class=\"L0Z3Pu\"]')\n",
    "\n",
    "src_bttn.click()"
   ]
  },
  {
   "cell_type": "code",
   "execution_count": 40,
   "metadata": {},
   "outputs": [
    {
     "data": {
      "text/plain": [
       "[<selenium.webdriver.remote.webelement.WebElement (session=\"3e5ab66d846d062ce3535ca27540549d\", element=\"4421193a-1df6-40c7-a072-ddbb01446b72\")>,\n",
       " <selenium.webdriver.remote.webelement.WebElement (session=\"3e5ab66d846d062ce3535ca27540549d\", element=\"a2ec8372-659f-445d-9741-b10239fb0619\")>,\n",
       " <selenium.webdriver.remote.webelement.WebElement (session=\"3e5ab66d846d062ce3535ca27540549d\", element=\"35cfd70a-662b-49df-9c8c-091a83ffe165\")>,\n",
       " <selenium.webdriver.remote.webelement.WebElement (session=\"3e5ab66d846d062ce3535ca27540549d\", element=\"126bb8cf-ed3d-417d-903c-36b67a84fd55\")>,\n",
       " <selenium.webdriver.remote.webelement.WebElement (session=\"3e5ab66d846d062ce3535ca27540549d\", element=\"2204c429-9034-4443-ac8e-3db2184b4be2\")>,\n",
       " <selenium.webdriver.remote.webelement.WebElement (session=\"3e5ab66d846d062ce3535ca27540549d\", element=\"5eebceae-7dc0-42a8-bc97-f4a836531f1c\")>,\n",
       " <selenium.webdriver.remote.webelement.WebElement (session=\"3e5ab66d846d062ce3535ca27540549d\", element=\"622469ad-97c5-43fd-b202-a80bb1374817\")>,\n",
       " <selenium.webdriver.remote.webelement.WebElement (session=\"3e5ab66d846d062ce3535ca27540549d\", element=\"32cd6475-3065-4e7e-8d85-e72a0f1f0994\")>,\n",
       " <selenium.webdriver.remote.webelement.WebElement (session=\"3e5ab66d846d062ce3535ca27540549d\", element=\"26c4280a-9422-4b55-9999-36652750afff\")>,\n",
       " <selenium.webdriver.remote.webelement.WebElement (session=\"3e5ab66d846d062ce3535ca27540549d\", element=\"6c167f66-2785-4103-b372-4cfcb408ffd7\")>,\n",
       " <selenium.webdriver.remote.webelement.WebElement (session=\"3e5ab66d846d062ce3535ca27540549d\", element=\"3efe8764-bf2a-4f15-a094-e5d1d4d95db3\")>,\n",
       " <selenium.webdriver.remote.webelement.WebElement (session=\"3e5ab66d846d062ce3535ca27540549d\", element=\"7cd153cd-ff84-44b0-8952-e7438aedb1fa\")>,\n",
       " <selenium.webdriver.remote.webelement.WebElement (session=\"3e5ab66d846d062ce3535ca27540549d\", element=\"57724d58-1efd-4876-b438-9c14655a3d5f\")>,\n",
       " <selenium.webdriver.remote.webelement.WebElement (session=\"3e5ab66d846d062ce3535ca27540549d\", element=\"a4ed3056-81ac-4823-b077-a2603c2d8ef0\")>,\n",
       " <selenium.webdriver.remote.webelement.WebElement (session=\"3e5ab66d846d062ce3535ca27540549d\", element=\"e964fe8c-dc17-4786-9584-4530d63e0d31\")>,\n",
       " <selenium.webdriver.remote.webelement.WebElement (session=\"3e5ab66d846d062ce3535ca27540549d\", element=\"6853489a-5a85-46eb-894b-d3f4cb2653c5\")>,\n",
       " <selenium.webdriver.remote.webelement.WebElement (session=\"3e5ab66d846d062ce3535ca27540549d\", element=\"715f4989-57b0-4e1c-b7a5-3c174efe2f8b\")>,\n",
       " <selenium.webdriver.remote.webelement.WebElement (session=\"3e5ab66d846d062ce3535ca27540549d\", element=\"0646b8d3-9128-460d-98dd-3fb4f18b1648\")>,\n",
       " <selenium.webdriver.remote.webelement.WebElement (session=\"3e5ab66d846d062ce3535ca27540549d\", element=\"f807d905-bfcb-4c8d-8485-b6c278b40d81\")>,\n",
       " <selenium.webdriver.remote.webelement.WebElement (session=\"3e5ab66d846d062ce3535ca27540549d\", element=\"95ce460f-55a2-4c41-9c53-d12102114190\")>,\n",
       " <selenium.webdriver.remote.webelement.WebElement (session=\"3e5ab66d846d062ce3535ca27540549d\", element=\"855c101c-970d-496d-96e7-b89c323f2543\")>,\n",
       " <selenium.webdriver.remote.webelement.WebElement (session=\"3e5ab66d846d062ce3535ca27540549d\", element=\"30252148-5f00-44c7-8780-708af6c94914\")>,\n",
       " <selenium.webdriver.remote.webelement.WebElement (session=\"3e5ab66d846d062ce3535ca27540549d\", element=\"c09f6ac1-d554-4a6a-8018-5a983da633d6\")>,\n",
       " <selenium.webdriver.remote.webelement.WebElement (session=\"3e5ab66d846d062ce3535ca27540549d\", element=\"2a4933e6-d403-4f39-9a1d-3d468b186a3a\")>,\n",
       " <selenium.webdriver.remote.webelement.WebElement (session=\"3e5ab66d846d062ce3535ca27540549d\", element=\"62bbe738-7f80-4b18-80db-fda1a422cb02\")>,\n",
       " <selenium.webdriver.remote.webelement.WebElement (session=\"3e5ab66d846d062ce3535ca27540549d\", element=\"021824c7-3bc5-4eb0-9d67-fdf6929249b4\")>,\n",
       " <selenium.webdriver.remote.webelement.WebElement (session=\"3e5ab66d846d062ce3535ca27540549d\", element=\"9c0c072b-18bc-4747-83c1-5b0606638a36\")>,\n",
       " <selenium.webdriver.remote.webelement.WebElement (session=\"3e5ab66d846d062ce3535ca27540549d\", element=\"61acd52c-dcf1-4716-8db3-836a7c522afb\")>,\n",
       " <selenium.webdriver.remote.webelement.WebElement (session=\"3e5ab66d846d062ce3535ca27540549d\", element=\"c3350061-788e-4058-bc37-629f9d6590b6\")>,\n",
       " <selenium.webdriver.remote.webelement.WebElement (session=\"3e5ab66d846d062ce3535ca27540549d\", element=\"03a6b2ea-b680-41fd-8cfc-2cd4a7e625bb\")>,\n",
       " <selenium.webdriver.remote.webelement.WebElement (session=\"3e5ab66d846d062ce3535ca27540549d\", element=\"9ecec96b-7e6d-45eb-aaec-7e25b52ffa68\")>,\n",
       " <selenium.webdriver.remote.webelement.WebElement (session=\"3e5ab66d846d062ce3535ca27540549d\", element=\"9ae384e8-ed59-47d8-9889-8163e85157e2\")>,\n",
       " <selenium.webdriver.remote.webelement.WebElement (session=\"3e5ab66d846d062ce3535ca27540549d\", element=\"e790340c-8f00-48eb-aa19-1c3dec6f5b74\")>,\n",
       " <selenium.webdriver.remote.webelement.WebElement (session=\"3e5ab66d846d062ce3535ca27540549d\", element=\"5448423a-5515-4c21-aa8b-90748d86d429\")>,\n",
       " <selenium.webdriver.remote.webelement.WebElement (session=\"3e5ab66d846d062ce3535ca27540549d\", element=\"69c0132a-8ec3-4ad5-8baa-3e22eb36c28e\")>,\n",
       " <selenium.webdriver.remote.webelement.WebElement (session=\"3e5ab66d846d062ce3535ca27540549d\", element=\"ceecfac9-45fd-45da-8e63-108280a4f392\")>,\n",
       " <selenium.webdriver.remote.webelement.WebElement (session=\"3e5ab66d846d062ce3535ca27540549d\", element=\"9226977f-88d0-4824-8ff0-6effc1930991\")>,\n",
       " <selenium.webdriver.remote.webelement.WebElement (session=\"3e5ab66d846d062ce3535ca27540549d\", element=\"7fccf663-e806-4609-8814-75ded6dc008a\")>,\n",
       " <selenium.webdriver.remote.webelement.WebElement (session=\"3e5ab66d846d062ce3535ca27540549d\", element=\"66a758c3-718e-4300-84b6-fd5c384ba7e5\")>,\n",
       " <selenium.webdriver.remote.webelement.WebElement (session=\"3e5ab66d846d062ce3535ca27540549d\", element=\"8e7bc766-b436-4856-b2c9-88876917efaf\")>]"
      ]
     },
     "execution_count": 40,
     "metadata": {},
     "output_type": "execute_result"
    }
   ],
   "source": [
    "#Extracting the web elements of the brand.\n",
    "\n",
    "brand_tag1 = driver.find_elements_by_xpath('//div[@class=\"_2WkVRV\"]')\n",
    "brand_tag1"
   ]
  },
  {
   "cell_type": "code",
   "execution_count": 41,
   "metadata": {},
   "outputs": [
    {
     "data": {
      "text/plain": [
       "['ROYAL SON',\n",
       " 'VINCENT CHASE',\n",
       " 'kingsunglasses',\n",
       " 'Fastrack',\n",
       " 'kingsunglasses',\n",
       " 'Fastrack',\n",
       " 'PIRASO',\n",
       " 'ROYAL SON',\n",
       " 'Fastrack',\n",
       " 'ROZZETTA CRAFT',\n",
       " 'PHENOMENAL',\n",
       " 'hipe',\n",
       " 'ROZZETTA CRAFT',\n",
       " 'Fastrack',\n",
       " 'kingsunglasses',\n",
       " 'ROYAL SON',\n",
       " 'kingsunglasses',\n",
       " 'ROYAL SON',\n",
       " 'ROYAL SON',\n",
       " 'VINCENT CHASE',\n",
       " 'Fastrack',\n",
       " 'Silver Kartz',\n",
       " 'ROYAL SON',\n",
       " 'ROYAL SON',\n",
       " 'ROZZETTA CRAFT',\n",
       " 'DEIXELS',\n",
       " 'ROZZETTA CRAFT',\n",
       " 'VINCENT CHASE',\n",
       " 'kingsunglasses',\n",
       " 'Singco India',\n",
       " 'Fastrack',\n",
       " 'NuVew',\n",
       " 'kingsunglasses',\n",
       " 'Fastrack',\n",
       " 'Fastrack',\n",
       " 'AISLIN',\n",
       " 'Fastrack',\n",
       " 'Singco',\n",
       " 'Singco India',\n",
       " 'ROYAL SON']"
      ]
     },
     "execution_count": 41,
     "metadata": {},
     "output_type": "execute_result"
    }
   ],
   "source": [
    "# Extracting texts from the web elements.\n",
    "\n",
    "brand_name1 = []\n",
    "for b in brand_tag1:\n",
    "    brand_name1.append(b.text)\n",
    "    \n",
    "brand_name1"
   ]
  },
  {
   "cell_type": "code",
   "execution_count": 42,
   "metadata": {},
   "outputs": [
    {
     "data": {
      "text/plain": [
       "40"
      ]
     },
     "execution_count": 42,
     "metadata": {},
     "output_type": "execute_result"
    }
   ],
   "source": [
    "len (brand_name1)"
   ]
  },
  {
   "cell_type": "code",
   "execution_count": 43,
   "metadata": {},
   "outputs": [
    {
     "data": {
      "text/plain": [
       "[<selenium.webdriver.remote.webelement.WebElement (session=\"3e5ab66d846d062ce3535ca27540549d\", element=\"0141bf34-f999-41f1-b9b0-1563b3e6c520\")>,\n",
       " <selenium.webdriver.remote.webelement.WebElement (session=\"3e5ab66d846d062ce3535ca27540549d\", element=\"ce5c6aef-97f9-4261-b180-a8170e1f9655\")>,\n",
       " <selenium.webdriver.remote.webelement.WebElement (session=\"3e5ab66d846d062ce3535ca27540549d\", element=\"31ae68c1-b5fd-4241-9ea6-9acfa52d185e\")>,\n",
       " <selenium.webdriver.remote.webelement.WebElement (session=\"3e5ab66d846d062ce3535ca27540549d\", element=\"075ef7fd-3931-4bc8-9f46-55822c8fd3bb\")>,\n",
       " <selenium.webdriver.remote.webelement.WebElement (session=\"3e5ab66d846d062ce3535ca27540549d\", element=\"f4791af1-9728-4130-b9d3-32e95ba1c6f2\")>,\n",
       " <selenium.webdriver.remote.webelement.WebElement (session=\"3e5ab66d846d062ce3535ca27540549d\", element=\"704e1cf0-dad6-4632-8f65-254d054de4a4\")>,\n",
       " <selenium.webdriver.remote.webelement.WebElement (session=\"3e5ab66d846d062ce3535ca27540549d\", element=\"733e8f5c-75e7-45ae-a3d9-c02a14e9178d\")>,\n",
       " <selenium.webdriver.remote.webelement.WebElement (session=\"3e5ab66d846d062ce3535ca27540549d\", element=\"ce892e3a-b457-4ed7-879e-71679026ca0b\")>,\n",
       " <selenium.webdriver.remote.webelement.WebElement (session=\"3e5ab66d846d062ce3535ca27540549d\", element=\"ab1ea0c6-ec97-4631-93dc-2536038b3530\")>,\n",
       " <selenium.webdriver.remote.webelement.WebElement (session=\"3e5ab66d846d062ce3535ca27540549d\", element=\"7f769945-2b95-43f8-b6c1-879c5af1c263\")>,\n",
       " <selenium.webdriver.remote.webelement.WebElement (session=\"3e5ab66d846d062ce3535ca27540549d\", element=\"4006bd3f-0833-4ded-87dd-ebacd60ae86d\")>,\n",
       " <selenium.webdriver.remote.webelement.WebElement (session=\"3e5ab66d846d062ce3535ca27540549d\", element=\"f039cd04-02a8-4c5a-a584-9c187e88f94d\")>,\n",
       " <selenium.webdriver.remote.webelement.WebElement (session=\"3e5ab66d846d062ce3535ca27540549d\", element=\"19530bc9-2d24-4941-a642-c2352f201b2f\")>,\n",
       " <selenium.webdriver.remote.webelement.WebElement (session=\"3e5ab66d846d062ce3535ca27540549d\", element=\"cc3e8da7-76b2-4d6d-a5d8-8d6f5f04d133\")>,\n",
       " <selenium.webdriver.remote.webelement.WebElement (session=\"3e5ab66d846d062ce3535ca27540549d\", element=\"1bdf96d8-21bf-4206-ae8e-0fbf21b65255\")>,\n",
       " <selenium.webdriver.remote.webelement.WebElement (session=\"3e5ab66d846d062ce3535ca27540549d\", element=\"ed413da0-7256-4ade-98af-fbb8d37973da\")>,\n",
       " <selenium.webdriver.remote.webelement.WebElement (session=\"3e5ab66d846d062ce3535ca27540549d\", element=\"1672849a-fe14-430a-b9cf-3e747c9513f8\")>,\n",
       " <selenium.webdriver.remote.webelement.WebElement (session=\"3e5ab66d846d062ce3535ca27540549d\", element=\"6aae0e73-cce4-48b1-8ae1-b83d70b37f30\")>,\n",
       " <selenium.webdriver.remote.webelement.WebElement (session=\"3e5ab66d846d062ce3535ca27540549d\", element=\"df4c2410-b2e5-45f5-8f99-724fd3a843a2\")>,\n",
       " <selenium.webdriver.remote.webelement.WebElement (session=\"3e5ab66d846d062ce3535ca27540549d\", element=\"49144889-741e-4cf4-9081-280edcc0f1e3\")>,\n",
       " <selenium.webdriver.remote.webelement.WebElement (session=\"3e5ab66d846d062ce3535ca27540549d\", element=\"c14cc30a-8426-42a4-bae4-a9e4bc0dd290\")>,\n",
       " <selenium.webdriver.remote.webelement.WebElement (session=\"3e5ab66d846d062ce3535ca27540549d\", element=\"8fdbd873-80f7-4a97-afda-2a51b6ac60d1\")>,\n",
       " <selenium.webdriver.remote.webelement.WebElement (session=\"3e5ab66d846d062ce3535ca27540549d\", element=\"67bf2904-76f4-40d2-b214-5495f848056d\")>,\n",
       " <selenium.webdriver.remote.webelement.WebElement (session=\"3e5ab66d846d062ce3535ca27540549d\", element=\"dea5d296-2782-4809-baaa-2b3c32614f8c\")>,\n",
       " <selenium.webdriver.remote.webelement.WebElement (session=\"3e5ab66d846d062ce3535ca27540549d\", element=\"1a59e3b7-19e6-4ed1-9d8e-52734ce822db\")>,\n",
       " <selenium.webdriver.remote.webelement.WebElement (session=\"3e5ab66d846d062ce3535ca27540549d\", element=\"8ebe5ca2-7706-4ee9-8234-feb8f4e90871\")>,\n",
       " <selenium.webdriver.remote.webelement.WebElement (session=\"3e5ab66d846d062ce3535ca27540549d\", element=\"d73f6af9-3412-4335-afff-88799529bbb1\")>,\n",
       " <selenium.webdriver.remote.webelement.WebElement (session=\"3e5ab66d846d062ce3535ca27540549d\", element=\"9c0180a7-4b5a-45f4-a0c8-4541e67bfc67\")>,\n",
       " <selenium.webdriver.remote.webelement.WebElement (session=\"3e5ab66d846d062ce3535ca27540549d\", element=\"8f3885e2-bfce-442d-a09d-600c08c129e1\")>,\n",
       " <selenium.webdriver.remote.webelement.WebElement (session=\"3e5ab66d846d062ce3535ca27540549d\", element=\"6a16e7cd-ee5e-467a-896e-ce53a897b74f\")>,\n",
       " <selenium.webdriver.remote.webelement.WebElement (session=\"3e5ab66d846d062ce3535ca27540549d\", element=\"99cb614a-32cd-4fab-8255-1064584bf908\")>,\n",
       " <selenium.webdriver.remote.webelement.WebElement (session=\"3e5ab66d846d062ce3535ca27540549d\", element=\"5e6bac42-d984-4410-a79b-98d42250c807\")>,\n",
       " <selenium.webdriver.remote.webelement.WebElement (session=\"3e5ab66d846d062ce3535ca27540549d\", element=\"ae789395-8220-407a-ac59-eaa6aa547549\")>,\n",
       " <selenium.webdriver.remote.webelement.WebElement (session=\"3e5ab66d846d062ce3535ca27540549d\", element=\"48992952-99ec-4582-85e5-8b7effa56082\")>,\n",
       " <selenium.webdriver.remote.webelement.WebElement (session=\"3e5ab66d846d062ce3535ca27540549d\", element=\"bb46658e-54fa-4802-89a3-ee47a3880c65\")>,\n",
       " <selenium.webdriver.remote.webelement.WebElement (session=\"3e5ab66d846d062ce3535ca27540549d\", element=\"4c108bda-8b51-4171-b775-1e103679acfe\")>,\n",
       " <selenium.webdriver.remote.webelement.WebElement (session=\"3e5ab66d846d062ce3535ca27540549d\", element=\"2affbc1d-f7e7-46c6-9172-af8e7d2cb24e\")>,\n",
       " <selenium.webdriver.remote.webelement.WebElement (session=\"3e5ab66d846d062ce3535ca27540549d\", element=\"b311cab2-130c-4ac2-b69e-e160ef36e203\")>,\n",
       " <selenium.webdriver.remote.webelement.WebElement (session=\"3e5ab66d846d062ce3535ca27540549d\", element=\"2c96c102-d29c-4a5a-acb4-8b9dd31d7571\")>,\n",
       " <selenium.webdriver.remote.webelement.WebElement (session=\"3e5ab66d846d062ce3535ca27540549d\", element=\"5591784d-0376-4c7f-92d5-86e698d04abd\")>]"
      ]
     },
     "execution_count": 43,
     "metadata": {},
     "output_type": "execute_result"
    }
   ],
   "source": [
    "#Extracting the web elements of the product description.\n",
    "\n",
    "pdt_desc1 = driver.find_elements_by_xpath('//a[@class=\"IRpwTa\"]')\n",
    "\n",
    "pdt_desc1"
   ]
  },
  {
   "cell_type": "code",
   "execution_count": 44,
   "metadata": {},
   "outputs": [
    {
     "data": {
      "text/plain": [
       "['UV Protection Rectangular Sunglasses (Free Size)',\n",
       " 'by Lenskart Polarized, UV Protection Cat-eye Sunglasses...',\n",
       " 'Mirrored, UV Protection Wayfarer Sunglasses (Free Size)',\n",
       " 'Gradient, UV Protection Wayfarer Sunglasses (Free Size)',\n",
       " 'UV Protection Round Sunglasses (Free Size)',\n",
       " 'UV Protection Rectangular Sunglasses (Free Size)',\n",
       " 'UV Protection Aviator Sunglasses (54)',\n",
       " 'UV Protection Retro Square Sunglasses (88)',\n",
       " 'UV Protection Aviator Sunglasses (Free Size)',\n",
       " 'UV Protection, Gradient Rectangular Sunglasses (Free Si...',\n",
       " 'UV Protection Retro Square Sunglasses (Free Size)',\n",
       " 'UV Protection, Mirrored, Night Vision, Gradient, Riding...',\n",
       " 'UV Protection Retro Square Sunglasses (Free Size)',\n",
       " 'UV Protection Wayfarer Sunglasses (Free Size)',\n",
       " 'Mirrored, UV Protection Wayfarer Sunglasses (Free Size)',\n",
       " 'UV Protection, Polarized Aviator Sunglasses (60)',\n",
       " 'UV Protection Rectangular Sunglasses (55)',\n",
       " 'UV Protection Rectangular Sunglasses (58)',\n",
       " 'UV Protection, Gradient Wayfarer Sunglasses (55)',\n",
       " 'by Lenskart UV Protection Wayfarer Sunglasses (49)',\n",
       " 'UV Protection Wayfarer Sunglasses (Free Size)',\n",
       " 'UV Protection Wayfarer Sunglasses (Free Size)',\n",
       " 'UV Protection Wayfarer Sunglasses (55)',\n",
       " 'Polarized, UV Protection Rectangular Sunglasses (59)',\n",
       " 'UV Protection, Riding Glasses Rectangular Sunglasses (F...',\n",
       " 'UV Protection Aviator, Wayfarer Sunglasses (Free Size)',\n",
       " 'UV Protection, Gradient Rectangular Sunglasses (Free Si...',\n",
       " 'Polarized Round Sunglasses (56)',\n",
       " 'UV Protection Round Sunglasses (54)',\n",
       " 'Mirrored, Riding Glasses, Others Sports Sunglasses (50)',\n",
       " 'UV Protection Wayfarer Sunglasses (57)',\n",
       " 'UV Protection Cat-eye Sunglasses (60)',\n",
       " 'UV Protection Rectangular Sunglasses (Free Size)',\n",
       " 'UV Protection Wrap-around Sunglasses (Free Size)',\n",
       " 'UV Protection Wayfarer Sunglasses (56)',\n",
       " 'UV Protection, Gradient Wayfarer Sunglasses (57)',\n",
       " 'UV Protection Aviator Sunglasses (58)',\n",
       " 'Mirrored Aviator Sunglasses (53)',\n",
       " 'UV Protection Round Sunglasses (Free Size)',\n",
       " 'UV Protection Aviator Sunglasses (Free Size)']"
      ]
     },
     "execution_count": 44,
     "metadata": {},
     "output_type": "execute_result"
    }
   ],
   "source": [
    "#Extracting the texts from the web elements of the product description.\n",
    "product_desc1 = []\n",
    "\n",
    "for p in pdt_desc1:\n",
    "    product_desc1.append(p.text)\n",
    "    \n",
    "product_desc1"
   ]
  },
  {
   "cell_type": "code",
   "execution_count": 45,
   "metadata": {},
   "outputs": [
    {
     "data": {
      "text/plain": [
       "40"
      ]
     },
     "execution_count": 45,
     "metadata": {},
     "output_type": "execute_result"
    }
   ],
   "source": [
    "len(product_desc1)"
   ]
  },
  {
   "cell_type": "code",
   "execution_count": 46,
   "metadata": {},
   "outputs": [
    {
     "data": {
      "text/plain": [
       "[<selenium.webdriver.remote.webelement.WebElement (session=\"3e5ab66d846d062ce3535ca27540549d\", element=\"17296a9d-7739-4e11-b386-4647a36d8d85\")>,\n",
       " <selenium.webdriver.remote.webelement.WebElement (session=\"3e5ab66d846d062ce3535ca27540549d\", element=\"f432367a-2283-486a-a261-02dc572ad559\")>,\n",
       " <selenium.webdriver.remote.webelement.WebElement (session=\"3e5ab66d846d062ce3535ca27540549d\", element=\"3e757f32-fdf9-4be9-9302-a2df2f8000e1\")>,\n",
       " <selenium.webdriver.remote.webelement.WebElement (session=\"3e5ab66d846d062ce3535ca27540549d\", element=\"f4e18b02-7c65-433a-9ed8-8dd6f85b0f67\")>,\n",
       " <selenium.webdriver.remote.webelement.WebElement (session=\"3e5ab66d846d062ce3535ca27540549d\", element=\"c5ebf955-915f-46af-8c50-ce6c5ef977e2\")>,\n",
       " <selenium.webdriver.remote.webelement.WebElement (session=\"3e5ab66d846d062ce3535ca27540549d\", element=\"49a0b239-0694-4c04-b478-577a75d3fbaf\")>,\n",
       " <selenium.webdriver.remote.webelement.WebElement (session=\"3e5ab66d846d062ce3535ca27540549d\", element=\"04430eff-b10b-4336-ae5f-19d6c15a3739\")>,\n",
       " <selenium.webdriver.remote.webelement.WebElement (session=\"3e5ab66d846d062ce3535ca27540549d\", element=\"46138c42-d1d9-458a-86cc-d69d0d35bd70\")>,\n",
       " <selenium.webdriver.remote.webelement.WebElement (session=\"3e5ab66d846d062ce3535ca27540549d\", element=\"9664af7b-314a-419d-90c5-a2ed46eb5466\")>,\n",
       " <selenium.webdriver.remote.webelement.WebElement (session=\"3e5ab66d846d062ce3535ca27540549d\", element=\"eb2f87d6-7532-42de-aab5-0c9ce5aea98d\")>,\n",
       " <selenium.webdriver.remote.webelement.WebElement (session=\"3e5ab66d846d062ce3535ca27540549d\", element=\"b0948138-12f3-4bfa-b63a-c974cefa8b08\")>,\n",
       " <selenium.webdriver.remote.webelement.WebElement (session=\"3e5ab66d846d062ce3535ca27540549d\", element=\"c520ae05-2647-4f27-a111-7cc1c7f5468c\")>,\n",
       " <selenium.webdriver.remote.webelement.WebElement (session=\"3e5ab66d846d062ce3535ca27540549d\", element=\"cf6b80d5-42b6-4b44-8b11-8f9c745c5730\")>,\n",
       " <selenium.webdriver.remote.webelement.WebElement (session=\"3e5ab66d846d062ce3535ca27540549d\", element=\"41dce39e-2a8b-4129-a281-42bb41adf210\")>,\n",
       " <selenium.webdriver.remote.webelement.WebElement (session=\"3e5ab66d846d062ce3535ca27540549d\", element=\"0d8b8562-d2b5-40df-a8d3-69328d0baeee\")>,\n",
       " <selenium.webdriver.remote.webelement.WebElement (session=\"3e5ab66d846d062ce3535ca27540549d\", element=\"b32bcf1d-d06f-4865-97dd-963bcfcc463e\")>,\n",
       " <selenium.webdriver.remote.webelement.WebElement (session=\"3e5ab66d846d062ce3535ca27540549d\", element=\"667457b0-de83-4590-bb9f-8b661e21062d\")>,\n",
       " <selenium.webdriver.remote.webelement.WebElement (session=\"3e5ab66d846d062ce3535ca27540549d\", element=\"d550f21e-5ce1-4991-8f6f-22fd7b47a4e4\")>,\n",
       " <selenium.webdriver.remote.webelement.WebElement (session=\"3e5ab66d846d062ce3535ca27540549d\", element=\"8673c39f-76c9-4626-ac90-c8e4886fda62\")>,\n",
       " <selenium.webdriver.remote.webelement.WebElement (session=\"3e5ab66d846d062ce3535ca27540549d\", element=\"8f2d70b1-3294-4548-84ca-2e284b6d9188\")>,\n",
       " <selenium.webdriver.remote.webelement.WebElement (session=\"3e5ab66d846d062ce3535ca27540549d\", element=\"5ad5a496-8ad7-44e4-b56d-a0040b87ec45\")>,\n",
       " <selenium.webdriver.remote.webelement.WebElement (session=\"3e5ab66d846d062ce3535ca27540549d\", element=\"8bb8da99-8e1b-4ce5-acee-5c828e62ecf2\")>,\n",
       " <selenium.webdriver.remote.webelement.WebElement (session=\"3e5ab66d846d062ce3535ca27540549d\", element=\"a73560f4-4c0e-4f45-9955-f9ff1b2854b5\")>,\n",
       " <selenium.webdriver.remote.webelement.WebElement (session=\"3e5ab66d846d062ce3535ca27540549d\", element=\"b781f151-9ad5-43c4-9582-ad5329661e66\")>,\n",
       " <selenium.webdriver.remote.webelement.WebElement (session=\"3e5ab66d846d062ce3535ca27540549d\", element=\"c0b5c17b-ae5b-42e5-8795-4669aef578c8\")>,\n",
       " <selenium.webdriver.remote.webelement.WebElement (session=\"3e5ab66d846d062ce3535ca27540549d\", element=\"37410c1d-d01a-47d5-a422-6cfc71acc5d2\")>,\n",
       " <selenium.webdriver.remote.webelement.WebElement (session=\"3e5ab66d846d062ce3535ca27540549d\", element=\"3d851e45-b13e-459d-a8bf-060b51c09ac9\")>,\n",
       " <selenium.webdriver.remote.webelement.WebElement (session=\"3e5ab66d846d062ce3535ca27540549d\", element=\"b4a08db0-65cf-446f-848e-777a8fc4d420\")>,\n",
       " <selenium.webdriver.remote.webelement.WebElement (session=\"3e5ab66d846d062ce3535ca27540549d\", element=\"07b0b6fc-b512-4050-a0c3-b97fc68bfb52\")>,\n",
       " <selenium.webdriver.remote.webelement.WebElement (session=\"3e5ab66d846d062ce3535ca27540549d\", element=\"7bd140d4-a23e-42ad-a935-83044c60c6d1\")>,\n",
       " <selenium.webdriver.remote.webelement.WebElement (session=\"3e5ab66d846d062ce3535ca27540549d\", element=\"b1efb553-067d-4582-9c66-b2de610e3e0e\")>,\n",
       " <selenium.webdriver.remote.webelement.WebElement (session=\"3e5ab66d846d062ce3535ca27540549d\", element=\"5f96ab1a-2813-4885-8324-955dbb7f1b64\")>,\n",
       " <selenium.webdriver.remote.webelement.WebElement (session=\"3e5ab66d846d062ce3535ca27540549d\", element=\"c777760f-6dda-4edb-bef2-ace7fb91bab5\")>,\n",
       " <selenium.webdriver.remote.webelement.WebElement (session=\"3e5ab66d846d062ce3535ca27540549d\", element=\"d2569080-cb43-4a7e-9a82-89abaa4c90bc\")>,\n",
       " <selenium.webdriver.remote.webelement.WebElement (session=\"3e5ab66d846d062ce3535ca27540549d\", element=\"9895db62-400f-4749-9220-65d5641a16b6\")>,\n",
       " <selenium.webdriver.remote.webelement.WebElement (session=\"3e5ab66d846d062ce3535ca27540549d\", element=\"df53b8ee-fa2a-4a14-a27e-bf26dcfca1b5\")>,\n",
       " <selenium.webdriver.remote.webelement.WebElement (session=\"3e5ab66d846d062ce3535ca27540549d\", element=\"7abdceb8-3d12-4c16-9dfc-3f45094fffc7\")>,\n",
       " <selenium.webdriver.remote.webelement.WebElement (session=\"3e5ab66d846d062ce3535ca27540549d\", element=\"02a9a910-6d55-40ab-b1f2-df8dd7109341\")>,\n",
       " <selenium.webdriver.remote.webelement.WebElement (session=\"3e5ab66d846d062ce3535ca27540549d\", element=\"a065c221-f9e8-48e9-89c5-5f45ab07b8e6\")>,\n",
       " <selenium.webdriver.remote.webelement.WebElement (session=\"3e5ab66d846d062ce3535ca27540549d\", element=\"35cf2c1b-6193-44af-be3f-8d0b389ddcdf\")>]"
      ]
     },
     "execution_count": 46,
     "metadata": {},
     "output_type": "execute_result"
    }
   ],
   "source": [
    "# Extracting the web elements of the price.\n",
    "\n",
    "prc_tag1 = driver.find_elements_by_xpath('//div[@class=\"_30jeq3\"]')\n",
    "\n",
    "prc_tag1"
   ]
  },
  {
   "cell_type": "code",
   "execution_count": 47,
   "metadata": {},
   "outputs": [
    {
     "data": {
      "text/plain": [
       "['₹499',\n",
       " '₹1,415',\n",
       " '₹299',\n",
       " '₹509',\n",
       " '₹349',\n",
       " '₹513',\n",
       " '₹237',\n",
       " '₹479',\n",
       " '₹592',\n",
       " '₹404',\n",
       " '₹399',\n",
       " '₹197',\n",
       " '₹499',\n",
       " '₹647',\n",
       " '₹299',\n",
       " '₹749',\n",
       " '₹349',\n",
       " '₹399',\n",
       " '₹217',\n",
       " '₹1,179',\n",
       " '₹733',\n",
       " '₹246',\n",
       " '₹265',\n",
       " '₹664',\n",
       " '₹449',\n",
       " '₹200',\n",
       " '₹499',\n",
       " '₹1,415',\n",
       " '₹225',\n",
       " '₹252',\n",
       " '₹503',\n",
       " '₹398',\n",
       " '₹199',\n",
       " '₹522',\n",
       " '₹655',\n",
       " '₹625',\n",
       " '₹1,085',\n",
       " '₹252',\n",
       " '₹212',\n",
       " '₹499']"
      ]
     },
     "execution_count": 47,
     "metadata": {},
     "output_type": "execute_result"
    }
   ],
   "source": [
    "# Extracting the texts from the web elements.\n",
    "\n",
    "prices1 = []\n",
    "for p1 in prc_tag1:\n",
    "    prices1.append(p1.text)\n",
    "    \n",
    "prices1"
   ]
  },
  {
   "cell_type": "code",
   "execution_count": 48,
   "metadata": {},
   "outputs": [
    {
     "data": {
      "text/plain": [
       "40"
      ]
     },
     "execution_count": 48,
     "metadata": {},
     "output_type": "execute_result"
    }
   ],
   "source": [
    "len(prices1)"
   ]
  },
  {
   "cell_type": "code",
   "execution_count": 49,
   "metadata": {},
   "outputs": [
    {
     "data": {
      "text/plain": [
       "[<selenium.webdriver.remote.webelement.WebElement (session=\"3e5ab66d846d062ce3535ca27540549d\", element=\"0a3f6339-bfa2-48ae-9cdb-92517ab2b864\")>,\n",
       " <selenium.webdriver.remote.webelement.WebElement (session=\"3e5ab66d846d062ce3535ca27540549d\", element=\"1c57fb2a-9bc5-4e01-84dd-9a935f1a5f43\")>,\n",
       " <selenium.webdriver.remote.webelement.WebElement (session=\"3e5ab66d846d062ce3535ca27540549d\", element=\"6567c7a6-2cf6-4a82-ae3c-51b7c69449cf\")>,\n",
       " <selenium.webdriver.remote.webelement.WebElement (session=\"3e5ab66d846d062ce3535ca27540549d\", element=\"e1d81ea5-5991-46e4-a5d2-d2845f2ac74f\")>,\n",
       " <selenium.webdriver.remote.webelement.WebElement (session=\"3e5ab66d846d062ce3535ca27540549d\", element=\"a0ab7cfe-9c33-474a-ba88-842625698bdb\")>,\n",
       " <selenium.webdriver.remote.webelement.WebElement (session=\"3e5ab66d846d062ce3535ca27540549d\", element=\"29c8dc66-6581-4c79-b1e8-5a4cb844869f\")>,\n",
       " <selenium.webdriver.remote.webelement.WebElement (session=\"3e5ab66d846d062ce3535ca27540549d\", element=\"016c234a-3f18-45f1-8afb-01066d40169b\")>,\n",
       " <selenium.webdriver.remote.webelement.WebElement (session=\"3e5ab66d846d062ce3535ca27540549d\", element=\"a6ae0170-5f39-44e2-a941-044ad1c887a1\")>,\n",
       " <selenium.webdriver.remote.webelement.WebElement (session=\"3e5ab66d846d062ce3535ca27540549d\", element=\"57bda5f4-732e-4983-837f-b1dd83b15847\")>,\n",
       " <selenium.webdriver.remote.webelement.WebElement (session=\"3e5ab66d846d062ce3535ca27540549d\", element=\"aa5578b6-46e0-40b5-b7b0-7021d327eedd\")>,\n",
       " <selenium.webdriver.remote.webelement.WebElement (session=\"3e5ab66d846d062ce3535ca27540549d\", element=\"1ed261db-1b53-4cb4-9440-2cec89801432\")>,\n",
       " <selenium.webdriver.remote.webelement.WebElement (session=\"3e5ab66d846d062ce3535ca27540549d\", element=\"6ba9af52-4129-4b7c-a1a1-8e910d192027\")>,\n",
       " <selenium.webdriver.remote.webelement.WebElement (session=\"3e5ab66d846d062ce3535ca27540549d\", element=\"bb8431ff-3e6c-4351-9ac4-9dfff00276a8\")>,\n",
       " <selenium.webdriver.remote.webelement.WebElement (session=\"3e5ab66d846d062ce3535ca27540549d\", element=\"d99857e6-5539-4b8a-81b8-3282e3291c6b\")>,\n",
       " <selenium.webdriver.remote.webelement.WebElement (session=\"3e5ab66d846d062ce3535ca27540549d\", element=\"f4145340-b64a-40bb-925e-e60de66f3b62\")>,\n",
       " <selenium.webdriver.remote.webelement.WebElement (session=\"3e5ab66d846d062ce3535ca27540549d\", element=\"6d4d52fb-01c3-4f54-a3f1-ea2cae585368\")>,\n",
       " <selenium.webdriver.remote.webelement.WebElement (session=\"3e5ab66d846d062ce3535ca27540549d\", element=\"fe8f3697-d5c5-4842-8bfc-2d83bf6df5db\")>,\n",
       " <selenium.webdriver.remote.webelement.WebElement (session=\"3e5ab66d846d062ce3535ca27540549d\", element=\"41eee41c-ec39-4341-8522-c3db7da35b79\")>,\n",
       " <selenium.webdriver.remote.webelement.WebElement (session=\"3e5ab66d846d062ce3535ca27540549d\", element=\"d019927e-5095-48cf-a0af-78a8ffeb65ef\")>,\n",
       " <selenium.webdriver.remote.webelement.WebElement (session=\"3e5ab66d846d062ce3535ca27540549d\", element=\"08cf3158-28df-4ade-8473-33cb9cc74d39\")>,\n",
       " <selenium.webdriver.remote.webelement.WebElement (session=\"3e5ab66d846d062ce3535ca27540549d\", element=\"8f503d02-4759-41f2-93e3-5f5528e730e0\")>,\n",
       " <selenium.webdriver.remote.webelement.WebElement (session=\"3e5ab66d846d062ce3535ca27540549d\", element=\"bda22c8e-552f-44b2-9611-dd26160dfb35\")>,\n",
       " <selenium.webdriver.remote.webelement.WebElement (session=\"3e5ab66d846d062ce3535ca27540549d\", element=\"f8ec8bc8-2bd6-42b1-834d-563b1794d109\")>,\n",
       " <selenium.webdriver.remote.webelement.WebElement (session=\"3e5ab66d846d062ce3535ca27540549d\", element=\"251dae54-0210-4018-a501-b2ecf9fe01c6\")>,\n",
       " <selenium.webdriver.remote.webelement.WebElement (session=\"3e5ab66d846d062ce3535ca27540549d\", element=\"a0488ab8-7093-42ef-9ab0-fa82b2833953\")>,\n",
       " <selenium.webdriver.remote.webelement.WebElement (session=\"3e5ab66d846d062ce3535ca27540549d\", element=\"a97520be-d81c-4831-b168-2a0d8ebd413d\")>,\n",
       " <selenium.webdriver.remote.webelement.WebElement (session=\"3e5ab66d846d062ce3535ca27540549d\", element=\"569dd068-7406-48dd-8ef1-3d2506bbbefe\")>,\n",
       " <selenium.webdriver.remote.webelement.WebElement (session=\"3e5ab66d846d062ce3535ca27540549d\", element=\"01ffd12a-c176-439b-88fe-0980dbd50952\")>,\n",
       " <selenium.webdriver.remote.webelement.WebElement (session=\"3e5ab66d846d062ce3535ca27540549d\", element=\"0a13475e-d421-4ee5-8893-de0cbebcc409\")>,\n",
       " <selenium.webdriver.remote.webelement.WebElement (session=\"3e5ab66d846d062ce3535ca27540549d\", element=\"7d7cc293-3874-4952-8a87-89606858c716\")>,\n",
       " <selenium.webdriver.remote.webelement.WebElement (session=\"3e5ab66d846d062ce3535ca27540549d\", element=\"bb00e5b9-d4e5-4439-b823-2b3c1b720700\")>,\n",
       " <selenium.webdriver.remote.webelement.WebElement (session=\"3e5ab66d846d062ce3535ca27540549d\", element=\"5471e693-6181-4dc0-95ba-1fcec42224e6\")>,\n",
       " <selenium.webdriver.remote.webelement.WebElement (session=\"3e5ab66d846d062ce3535ca27540549d\", element=\"87220ca4-c7d7-48c1-a667-539848438e8a\")>,\n",
       " <selenium.webdriver.remote.webelement.WebElement (session=\"3e5ab66d846d062ce3535ca27540549d\", element=\"d52ec4b9-802c-4697-8f05-073786edf3a7\")>,\n",
       " <selenium.webdriver.remote.webelement.WebElement (session=\"3e5ab66d846d062ce3535ca27540549d\", element=\"65a88a1d-620d-4e11-b548-ec029d23a107\")>,\n",
       " <selenium.webdriver.remote.webelement.WebElement (session=\"3e5ab66d846d062ce3535ca27540549d\", element=\"8e9e1872-4004-4aaa-8aea-617a297d4008\")>,\n",
       " <selenium.webdriver.remote.webelement.WebElement (session=\"3e5ab66d846d062ce3535ca27540549d\", element=\"7d9cf807-7265-4693-864b-af9d9903e939\")>,\n",
       " <selenium.webdriver.remote.webelement.WebElement (session=\"3e5ab66d846d062ce3535ca27540549d\", element=\"335b3dc9-37dd-4397-ae5b-d73dd61d2c38\")>,\n",
       " <selenium.webdriver.remote.webelement.WebElement (session=\"3e5ab66d846d062ce3535ca27540549d\", element=\"e9b7ca91-acc9-4a4f-8d0e-5eaa047ddaa8\")>,\n",
       " <selenium.webdriver.remote.webelement.WebElement (session=\"3e5ab66d846d062ce3535ca27540549d\", element=\"3d3af6a7-2416-46fb-bf57-fe80fded50d7\")>]"
      ]
     },
     "execution_count": 49,
     "metadata": {},
     "output_type": "execute_result"
    }
   ],
   "source": [
    "#Extracting the web elements of the %Discount.\n",
    "\n",
    "disc_tag1 = driver.find_elements_by_xpath('//div[@class=\"_3Ay6Sb\"]')\n",
    "\n",
    "disc_tag1"
   ]
  },
  {
   "cell_type": "code",
   "execution_count": 50,
   "metadata": {},
   "outputs": [
    {
     "data": {
      "text/plain": [
       "['66% off',\n",
       " '29% off',\n",
       " '88% off',\n",
       " '36% off',\n",
       " '78% off',\n",
       " '35% off',\n",
       " '85% off',\n",
       " '76% off',\n",
       " '34% off',\n",
       " '79% off',\n",
       " '80% off',\n",
       " '85% off',\n",
       " '77% off',\n",
       " '28% off',\n",
       " '88% off',\n",
       " '62% off',\n",
       " '76% off',\n",
       " '73% off',\n",
       " '78% off',\n",
       " '41% off',\n",
       " '18% off',\n",
       " '83% off',\n",
       " '79% off',\n",
       " '55% off',\n",
       " '79% off',\n",
       " '83% off',\n",
       " '77% off',\n",
       " '29% off',\n",
       " '79% off',\n",
       " '83% off',\n",
       " '37% off',\n",
       " '72% off',\n",
       " '84% off',\n",
       " '41% off',\n",
       " '27% off',\n",
       " '70% off',\n",
       " '16% off',\n",
       " '74% off',\n",
       " '78% off',\n",
       " '61% off']"
      ]
     },
     "execution_count": 50,
     "metadata": {},
     "output_type": "execute_result"
    }
   ],
   "source": [
    "# Extracting the texts from the web elements.\n",
    "\n",
    "discount1 = []\n",
    "for d1 in disc_tag1:\n",
    "    discount1.append(d1.text)\n",
    "    \n",
    "discount1"
   ]
  },
  {
   "cell_type": "code",
   "execution_count": 51,
   "metadata": {},
   "outputs": [
    {
     "data": {
      "text/plain": [
       "40"
      ]
     },
     "execution_count": 51,
     "metadata": {},
     "output_type": "execute_result"
    }
   ],
   "source": [
    "len(discount1)"
   ]
  },
  {
   "cell_type": "code",
   "execution_count": 52,
   "metadata": {},
   "outputs": [],
   "source": [
    "# Now we'll move the 2nd page to extract the data from that page. For this we'll click on the next button.\n",
    "\n",
    "nxt_btn1 = driver.find_element_by_xpath('//a[@class=\"_1LKTO3\"]')\n",
    "\n",
    "nxt_btn1.click()"
   ]
  },
  {
   "cell_type": "code",
   "execution_count": 53,
   "metadata": {},
   "outputs": [
    {
     "data": {
      "text/plain": [
       "[<selenium.webdriver.remote.webelement.WebElement (session=\"3e5ab66d846d062ce3535ca27540549d\", element=\"7f6f3ffb-7c6e-49ad-ac50-c0f71a2f0846\")>,\n",
       " <selenium.webdriver.remote.webelement.WebElement (session=\"3e5ab66d846d062ce3535ca27540549d\", element=\"57b6ba62-b583-4fbf-b753-03233e512474\")>,\n",
       " <selenium.webdriver.remote.webelement.WebElement (session=\"3e5ab66d846d062ce3535ca27540549d\", element=\"7e45711c-8c88-4a56-9cfb-cca40022733f\")>,\n",
       " <selenium.webdriver.remote.webelement.WebElement (session=\"3e5ab66d846d062ce3535ca27540549d\", element=\"2c5a0a3b-da34-4d6c-863a-2ea54ce047e7\")>,\n",
       " <selenium.webdriver.remote.webelement.WebElement (session=\"3e5ab66d846d062ce3535ca27540549d\", element=\"83f199ca-2abf-4c02-aa5c-99bed63e5412\")>,\n",
       " <selenium.webdriver.remote.webelement.WebElement (session=\"3e5ab66d846d062ce3535ca27540549d\", element=\"d1dc761c-4512-43ac-81f3-4ccf04dedfdb\")>,\n",
       " <selenium.webdriver.remote.webelement.WebElement (session=\"3e5ab66d846d062ce3535ca27540549d\", element=\"fe6b87ae-c114-42e4-8009-f888d6b78217\")>,\n",
       " <selenium.webdriver.remote.webelement.WebElement (session=\"3e5ab66d846d062ce3535ca27540549d\", element=\"574dc2c0-7aec-493a-b603-6444f8c91c96\")>,\n",
       " <selenium.webdriver.remote.webelement.WebElement (session=\"3e5ab66d846d062ce3535ca27540549d\", element=\"c9fd22bd-8762-4af5-ac82-702f436cafff\")>,\n",
       " <selenium.webdriver.remote.webelement.WebElement (session=\"3e5ab66d846d062ce3535ca27540549d\", element=\"c04d83f5-df4e-4d1c-a3fe-52775f164ccc\")>,\n",
       " <selenium.webdriver.remote.webelement.WebElement (session=\"3e5ab66d846d062ce3535ca27540549d\", element=\"6a389f1f-9082-48b4-a3c7-9db7aaa5118f\")>,\n",
       " <selenium.webdriver.remote.webelement.WebElement (session=\"3e5ab66d846d062ce3535ca27540549d\", element=\"22298a8c-3b79-4206-8e89-fc878695c395\")>,\n",
       " <selenium.webdriver.remote.webelement.WebElement (session=\"3e5ab66d846d062ce3535ca27540549d\", element=\"9dc1f1ce-2881-419f-80f2-fef9884fd73d\")>,\n",
       " <selenium.webdriver.remote.webelement.WebElement (session=\"3e5ab66d846d062ce3535ca27540549d\", element=\"f046b1f9-1e04-4083-a814-a1204ada3a0c\")>,\n",
       " <selenium.webdriver.remote.webelement.WebElement (session=\"3e5ab66d846d062ce3535ca27540549d\", element=\"6f948bee-4b36-4be0-930c-da8091cb1318\")>,\n",
       " <selenium.webdriver.remote.webelement.WebElement (session=\"3e5ab66d846d062ce3535ca27540549d\", element=\"c50403fe-4939-4493-988b-c0c612d2e303\")>,\n",
       " <selenium.webdriver.remote.webelement.WebElement (session=\"3e5ab66d846d062ce3535ca27540549d\", element=\"1947f8c6-f02b-4f47-8d74-7ff9ac213818\")>,\n",
       " <selenium.webdriver.remote.webelement.WebElement (session=\"3e5ab66d846d062ce3535ca27540549d\", element=\"cb91d001-730d-42e2-91dd-087872366d27\")>,\n",
       " <selenium.webdriver.remote.webelement.WebElement (session=\"3e5ab66d846d062ce3535ca27540549d\", element=\"3bdea0a5-86dc-4473-9cba-4286556d3093\")>,\n",
       " <selenium.webdriver.remote.webelement.WebElement (session=\"3e5ab66d846d062ce3535ca27540549d\", element=\"fcf99fe8-b0ac-4c96-945b-c02e9bcade74\")>,\n",
       " <selenium.webdriver.remote.webelement.WebElement (session=\"3e5ab66d846d062ce3535ca27540549d\", element=\"21dfef52-a1cf-4bef-9d63-9f500b583dd3\")>,\n",
       " <selenium.webdriver.remote.webelement.WebElement (session=\"3e5ab66d846d062ce3535ca27540549d\", element=\"621be2e9-8586-464e-a0da-7e49d7f91fb3\")>,\n",
       " <selenium.webdriver.remote.webelement.WebElement (session=\"3e5ab66d846d062ce3535ca27540549d\", element=\"6351fe78-c472-4752-8e77-c9cd375d5e59\")>,\n",
       " <selenium.webdriver.remote.webelement.WebElement (session=\"3e5ab66d846d062ce3535ca27540549d\", element=\"3c392b64-6bab-4470-8bf8-a23bbf29cd66\")>,\n",
       " <selenium.webdriver.remote.webelement.WebElement (session=\"3e5ab66d846d062ce3535ca27540549d\", element=\"e6830017-0caf-4ac4-a705-0ecaeea40fe1\")>,\n",
       " <selenium.webdriver.remote.webelement.WebElement (session=\"3e5ab66d846d062ce3535ca27540549d\", element=\"0c990948-25f1-4e7b-bd6e-ab4bd6e67b0f\")>,\n",
       " <selenium.webdriver.remote.webelement.WebElement (session=\"3e5ab66d846d062ce3535ca27540549d\", element=\"d359d898-d37c-4559-ad09-73214e92c6a7\")>,\n",
       " <selenium.webdriver.remote.webelement.WebElement (session=\"3e5ab66d846d062ce3535ca27540549d\", element=\"415e52e0-9176-4c19-99e2-ca34c8e693b0\")>,\n",
       " <selenium.webdriver.remote.webelement.WebElement (session=\"3e5ab66d846d062ce3535ca27540549d\", element=\"78fb6a0e-fe74-46ec-8a46-4b882f0d61d9\")>,\n",
       " <selenium.webdriver.remote.webelement.WebElement (session=\"3e5ab66d846d062ce3535ca27540549d\", element=\"f4b13fc4-def1-4241-b5d1-6def39aec4d2\")>,\n",
       " <selenium.webdriver.remote.webelement.WebElement (session=\"3e5ab66d846d062ce3535ca27540549d\", element=\"8c8d7068-4135-4b93-a520-09b56f988ea8\")>,\n",
       " <selenium.webdriver.remote.webelement.WebElement (session=\"3e5ab66d846d062ce3535ca27540549d\", element=\"fdbf6b5b-2e6d-418a-aa1a-958bef82de11\")>,\n",
       " <selenium.webdriver.remote.webelement.WebElement (session=\"3e5ab66d846d062ce3535ca27540549d\", element=\"a98c1d55-bef8-4810-882a-6a8b0dac0140\")>,\n",
       " <selenium.webdriver.remote.webelement.WebElement (session=\"3e5ab66d846d062ce3535ca27540549d\", element=\"d604db34-8489-4d0e-b24c-6c47be65bfb4\")>,\n",
       " <selenium.webdriver.remote.webelement.WebElement (session=\"3e5ab66d846d062ce3535ca27540549d\", element=\"16089f2c-3115-4757-83f5-b4c7c14d5e7e\")>,\n",
       " <selenium.webdriver.remote.webelement.WebElement (session=\"3e5ab66d846d062ce3535ca27540549d\", element=\"99ee54a2-4f22-4473-9c56-0f4e11b38ccd\")>,\n",
       " <selenium.webdriver.remote.webelement.WebElement (session=\"3e5ab66d846d062ce3535ca27540549d\", element=\"c685056d-3490-43b1-bf30-b8bf262bd137\")>,\n",
       " <selenium.webdriver.remote.webelement.WebElement (session=\"3e5ab66d846d062ce3535ca27540549d\", element=\"42d7dede-899e-4053-b395-10e0cac13529\")>,\n",
       " <selenium.webdriver.remote.webelement.WebElement (session=\"3e5ab66d846d062ce3535ca27540549d\", element=\"c255e438-881b-4bef-8e91-636f88811c33\")>,\n",
       " <selenium.webdriver.remote.webelement.WebElement (session=\"3e5ab66d846d062ce3535ca27540549d\", element=\"d3f3d994-e22a-47ee-874b-38ccb9976335\")>]"
      ]
     },
     "execution_count": 53,
     "metadata": {},
     "output_type": "execute_result"
    }
   ],
   "source": [
    "#Extracting the web elements of the brand name from the 2nd page.\n",
    "\n",
    "brand_tag2 = driver.find_elements_by_xpath('//div[@class=\"_2WkVRV\"]')\n",
    "\n",
    "brand_tag2"
   ]
  },
  {
   "cell_type": "code",
   "execution_count": 54,
   "metadata": {},
   "outputs": [
    {
     "data": {
      "text/plain": [
       "['GANSTA',\n",
       " 'elegante',\n",
       " 'hipe',\n",
       " 'ROYAL SON',\n",
       " 'ROZZETTA CRAFT',\n",
       " 'PHENOMENAL',\n",
       " 'PIRASO',\n",
       " 'Singco India',\n",
       " 'kingsunglasses',\n",
       " 'PHENOMENAL',\n",
       " 'kingsunglasses',\n",
       " 'ROYAL SON',\n",
       " 'Fastrack',\n",
       " 'PIRASO',\n",
       " 'ROYAL SON',\n",
       " 'NuVew',\n",
       " 'Fastrack',\n",
       " 'PHENOMENAL',\n",
       " 'NuVew',\n",
       " 'VINCENT CHASE',\n",
       " 'PIRASO',\n",
       " 'PIRASO',\n",
       " 'Fastrack',\n",
       " 'VINCENT CHASE',\n",
       " 'Poland',\n",
       " 'Fastrack',\n",
       " 'PHENOMENAL',\n",
       " 'AISLIN',\n",
       " 'GANSTA',\n",
       " 'kingsunglasses',\n",
       " 'HIPPON',\n",
       " 'AISLIN',\n",
       " 'kingsunglasses',\n",
       " 'Fastrack',\n",
       " 'IRUS by IDEE',\n",
       " 'AISLIN',\n",
       " 'ROZZETTA CRAFT',\n",
       " 'Fravy',\n",
       " 'GANSTA',\n",
       " 'ROYAL SON']"
      ]
     },
     "execution_count": 54,
     "metadata": {},
     "output_type": "execute_result"
    }
   ],
   "source": [
    "# Now we'll extract the texts from the web elements.\n",
    "\n",
    "brand_name2 = []\n",
    "\n",
    "for b2 in brand_tag2:\n",
    "    brand_name2.append(b2.text)\n",
    "    \n",
    "brand_name2"
   ]
  },
  {
   "cell_type": "code",
   "execution_count": 58,
   "metadata": {},
   "outputs": [
    {
     "data": {
      "text/plain": [
       "40"
      ]
     },
     "execution_count": 58,
     "metadata": {},
     "output_type": "execute_result"
    }
   ],
   "source": [
    "len(brand_name2)"
   ]
  },
  {
   "cell_type": "code",
   "execution_count": 55,
   "metadata": {},
   "outputs": [
    {
     "data": {
      "text/plain": [
       "[<selenium.webdriver.remote.webelement.WebElement (session=\"3e5ab66d846d062ce3535ca27540549d\", element=\"d1471c41-0d8e-414b-87df-8707a08e41b5\")>,\n",
       " <selenium.webdriver.remote.webelement.WebElement (session=\"3e5ab66d846d062ce3535ca27540549d\", element=\"aa97034e-118a-4f8d-a2df-83fd4d6fa018\")>,\n",
       " <selenium.webdriver.remote.webelement.WebElement (session=\"3e5ab66d846d062ce3535ca27540549d\", element=\"cea2902e-ce28-4c7a-9002-45b7449c90b6\")>,\n",
       " <selenium.webdriver.remote.webelement.WebElement (session=\"3e5ab66d846d062ce3535ca27540549d\", element=\"22056623-51d0-4ee4-a197-6755704b150e\")>,\n",
       " <selenium.webdriver.remote.webelement.WebElement (session=\"3e5ab66d846d062ce3535ca27540549d\", element=\"77e5b7c8-f970-48eb-8c1c-62e7ccf08567\")>,\n",
       " <selenium.webdriver.remote.webelement.WebElement (session=\"3e5ab66d846d062ce3535ca27540549d\", element=\"61312989-e84b-463f-9640-73d9de98a7b5\")>,\n",
       " <selenium.webdriver.remote.webelement.WebElement (session=\"3e5ab66d846d062ce3535ca27540549d\", element=\"ded40904-e76f-4649-93f2-ee048f89cfef\")>,\n",
       " <selenium.webdriver.remote.webelement.WebElement (session=\"3e5ab66d846d062ce3535ca27540549d\", element=\"e1688f4c-63ff-458c-a1c9-020b3a40fe14\")>,\n",
       " <selenium.webdriver.remote.webelement.WebElement (session=\"3e5ab66d846d062ce3535ca27540549d\", element=\"5a30aedb-272e-4767-99ee-ffdcf5063938\")>,\n",
       " <selenium.webdriver.remote.webelement.WebElement (session=\"3e5ab66d846d062ce3535ca27540549d\", element=\"703f8cff-5a02-40dc-99bf-e4cfad36594c\")>,\n",
       " <selenium.webdriver.remote.webelement.WebElement (session=\"3e5ab66d846d062ce3535ca27540549d\", element=\"2de09a3b-9e84-4d54-a349-71eae5335d60\")>,\n",
       " <selenium.webdriver.remote.webelement.WebElement (session=\"3e5ab66d846d062ce3535ca27540549d\", element=\"1d61fa07-94a6-4883-9ae7-af2b07397c6f\")>,\n",
       " <selenium.webdriver.remote.webelement.WebElement (session=\"3e5ab66d846d062ce3535ca27540549d\", element=\"616a33c5-eb81-4921-9214-cc4574dfd9c2\")>,\n",
       " <selenium.webdriver.remote.webelement.WebElement (session=\"3e5ab66d846d062ce3535ca27540549d\", element=\"d6a63c72-871a-4d68-a99a-21a9bfcd8323\")>,\n",
       " <selenium.webdriver.remote.webelement.WebElement (session=\"3e5ab66d846d062ce3535ca27540549d\", element=\"0d52cc65-2f5f-42e7-a195-5210e102a75b\")>,\n",
       " <selenium.webdriver.remote.webelement.WebElement (session=\"3e5ab66d846d062ce3535ca27540549d\", element=\"491b5ee9-3e24-4470-adc4-edc402830340\")>,\n",
       " <selenium.webdriver.remote.webelement.WebElement (session=\"3e5ab66d846d062ce3535ca27540549d\", element=\"027d2371-cfd6-485c-8f63-c2ca40a570a3\")>,\n",
       " <selenium.webdriver.remote.webelement.WebElement (session=\"3e5ab66d846d062ce3535ca27540549d\", element=\"a43fe9b0-39b7-4368-8544-71d0f0771910\")>,\n",
       " <selenium.webdriver.remote.webelement.WebElement (session=\"3e5ab66d846d062ce3535ca27540549d\", element=\"5c759e77-9a07-4ae9-97d9-5fe3e0ebf1eb\")>,\n",
       " <selenium.webdriver.remote.webelement.WebElement (session=\"3e5ab66d846d062ce3535ca27540549d\", element=\"d15c7249-f141-4f76-8e35-007b1a7f4a47\")>,\n",
       " <selenium.webdriver.remote.webelement.WebElement (session=\"3e5ab66d846d062ce3535ca27540549d\", element=\"8e3fffec-3561-4b91-8343-acce6c7eb5a4\")>,\n",
       " <selenium.webdriver.remote.webelement.WebElement (session=\"3e5ab66d846d062ce3535ca27540549d\", element=\"44e8c5f2-fef5-48b5-9ae9-38a56433eb75\")>,\n",
       " <selenium.webdriver.remote.webelement.WebElement (session=\"3e5ab66d846d062ce3535ca27540549d\", element=\"94bdaf3f-ac6c-4ce5-9618-628d60b05df3\")>,\n",
       " <selenium.webdriver.remote.webelement.WebElement (session=\"3e5ab66d846d062ce3535ca27540549d\", element=\"c84df7b4-dc5d-4505-991f-8f568dc495c2\")>,\n",
       " <selenium.webdriver.remote.webelement.WebElement (session=\"3e5ab66d846d062ce3535ca27540549d\", element=\"e866599e-b5ea-46e1-a1c0-07c6483c7dcf\")>,\n",
       " <selenium.webdriver.remote.webelement.WebElement (session=\"3e5ab66d846d062ce3535ca27540549d\", element=\"a27c3e2a-07e8-4b5b-acdc-63c7bb097fc9\")>,\n",
       " <selenium.webdriver.remote.webelement.WebElement (session=\"3e5ab66d846d062ce3535ca27540549d\", element=\"e106c586-b792-4113-82cf-040d57d09735\")>,\n",
       " <selenium.webdriver.remote.webelement.WebElement (session=\"3e5ab66d846d062ce3535ca27540549d\", element=\"e341ef8f-311b-4f92-a291-768613e89845\")>,\n",
       " <selenium.webdriver.remote.webelement.WebElement (session=\"3e5ab66d846d062ce3535ca27540549d\", element=\"ea059ad3-a4d9-4fe7-97d5-4e55cc8632c6\")>,\n",
       " <selenium.webdriver.remote.webelement.WebElement (session=\"3e5ab66d846d062ce3535ca27540549d\", element=\"fe88c7c4-cb95-4fdd-9395-52d64bb52ecf\")>,\n",
       " <selenium.webdriver.remote.webelement.WebElement (session=\"3e5ab66d846d062ce3535ca27540549d\", element=\"0fcc8074-f7fb-4e1b-bb90-4bdc13e91064\")>,\n",
       " <selenium.webdriver.remote.webelement.WebElement (session=\"3e5ab66d846d062ce3535ca27540549d\", element=\"f49cd58a-db36-47c5-9a5d-38eafcc7d7b7\")>,\n",
       " <selenium.webdriver.remote.webelement.WebElement (session=\"3e5ab66d846d062ce3535ca27540549d\", element=\"94a59310-9525-431c-a6eb-e43e46bba463\")>,\n",
       " <selenium.webdriver.remote.webelement.WebElement (session=\"3e5ab66d846d062ce3535ca27540549d\", element=\"045b8409-4e2d-4603-9350-4c0b0b8c48e0\")>,\n",
       " <selenium.webdriver.remote.webelement.WebElement (session=\"3e5ab66d846d062ce3535ca27540549d\", element=\"3bf0fa02-23bd-4957-87b9-94479c31d456\")>,\n",
       " <selenium.webdriver.remote.webelement.WebElement (session=\"3e5ab66d846d062ce3535ca27540549d\", element=\"e5244ca4-aeeb-4933-80f1-1562442c0ca0\")>,\n",
       " <selenium.webdriver.remote.webelement.WebElement (session=\"3e5ab66d846d062ce3535ca27540549d\", element=\"5fe68554-cb96-45ac-ba01-87b195330e33\")>,\n",
       " <selenium.webdriver.remote.webelement.WebElement (session=\"3e5ab66d846d062ce3535ca27540549d\", element=\"80e7a3d0-2dcf-449b-b11c-08ae98ce5d40\")>,\n",
       " <selenium.webdriver.remote.webelement.WebElement (session=\"3e5ab66d846d062ce3535ca27540549d\", element=\"983d7adf-3f72-4066-8e84-611cdbb079c4\")>,\n",
       " <selenium.webdriver.remote.webelement.WebElement (session=\"3e5ab66d846d062ce3535ca27540549d\", element=\"8aff8c6e-4fba-4320-b4dd-0601c60d9efd\")>]"
      ]
     },
     "execution_count": 55,
     "metadata": {},
     "output_type": "execute_result"
    }
   ],
   "source": [
    "# Extracting the web elements of the product description.\n",
    "\n",
    "pd_des2 = driver.find_elements_by_xpath('//a[@class=\"IRpwTa\"]')\n",
    "\n",
    "pd_des2"
   ]
  },
  {
   "cell_type": "code",
   "execution_count": 56,
   "metadata": {},
   "outputs": [
    {
     "data": {
      "text/plain": [
       "['UV Protection, Mirrored Wayfarer Sunglasses (53)',\n",
       " 'UV Protection Round Sunglasses (Free Size)',\n",
       " 'Mirrored, Gradient, Riding Glasses Round Sunglasses (55...',\n",
       " 'UV Protection Retro Square Sunglasses (88)',\n",
       " 'UV Protection, Gradient Round Sunglasses (Free Size)',\n",
       " 'UV Protection Clubmaster Sunglasses (Free Size)',\n",
       " 'UV Protection Aviator Sunglasses (54)',\n",
       " 'Mirrored, UV Protection, Riding Glasses, Others Wrap-ar...',\n",
       " 'UV Protection Round Sunglasses (Free Size)',\n",
       " 'UV Protection, Mirrored Retro Square Sunglasses (53)',\n",
       " 'Mirrored, UV Protection Wayfarer, Wayfarer, Wayfarer, W...',\n",
       " 'Polarized, UV Protection Rectangular Sunglasses (59)',\n",
       " 'UV Protection Aviator Sunglasses (58)',\n",
       " 'UV Protection Aviator Sunglasses (Free Size)',\n",
       " 'Mirrored Aviator Sunglasses (55)',\n",
       " 'UV Protection Cat-eye Sunglasses (60)',\n",
       " 'UV Protection Shield Sunglasses (Free Size)',\n",
       " 'UV Protection, Mirrored Retro Square Sunglasses (Free S...',\n",
       " 'UV Protection Aviator Sunglasses (58)',\n",
       " 'by Lenskart UV Protection Wayfarer Sunglasses (49)',\n",
       " 'UV Protection Aviator Sunglasses (54)',\n",
       " 'UV Protection Aviator Sunglasses (58)',\n",
       " 'Gradient, UV Protection Wayfarer Sunglasses (Free Size)',\n",
       " 'Polarized Round Sunglasses (56)',\n",
       " 'UV Protection Wayfarer Sunglasses (Free Size)',\n",
       " 'UV Protection, Polarized Wayfarer Sunglasses (56)',\n",
       " 'UV Protection, Mirrored Retro Square Sunglasses (53)',\n",
       " 'UV Protection, Gradient Wayfarer Sunglasses (57)',\n",
       " 'UV Protection Aviator Sunglasses (57)',\n",
       " 'UV Protection, Mirrored Round Sunglasses (54)',\n",
       " 'UV Protection Wayfarer Sunglasses (55)',\n",
       " 'UV Protection, Gradient Round, Cat-eye Sunglasses (60)',\n",
       " 'Mirrored, UV Protection Wayfarer Sunglasses (Free Size)',\n",
       " 'Mirrored, UV Protection Wayfarer Sunglasses (Free Size)',\n",
       " 'Gradient Rectangular Sunglasses (57)',\n",
       " 'UV Protection, Gradient Retro Square, Over-sized Sungla...',\n",
       " 'Gradient, UV Protection Round Sunglasses (Free Size)',\n",
       " 'UV Protection, Gradient, Night Vision Retro Square Sung...',\n",
       " 'UV Protection, Night Vision, Riding Glasses Aviator Sun...',\n",
       " 'UV Protection Wrap-around Sunglasses (52)']"
      ]
     },
     "execution_count": 56,
     "metadata": {},
     "output_type": "execute_result"
    }
   ],
   "source": [
    "# Extracting texts from the web elements.\n",
    "\n",
    "product_desc2 = []\n",
    "\n",
    "for p2 in pd_des2:\n",
    "    product_desc2.append(p2.text)\n",
    "    \n",
    "product_desc2"
   ]
  },
  {
   "cell_type": "code",
   "execution_count": 57,
   "metadata": {},
   "outputs": [
    {
     "data": {
      "text/plain": [
       "40"
      ]
     },
     "execution_count": 57,
     "metadata": {},
     "output_type": "execute_result"
    }
   ],
   "source": [
    "len (product_desc2)"
   ]
  },
  {
   "cell_type": "code",
   "execution_count": 59,
   "metadata": {},
   "outputs": [
    {
     "data": {
      "text/plain": [
       "[<selenium.webdriver.remote.webelement.WebElement (session=\"3e5ab66d846d062ce3535ca27540549d\", element=\"aab6acef-f0a7-421d-8b8f-36384087e461\")>,\n",
       " <selenium.webdriver.remote.webelement.WebElement (session=\"3e5ab66d846d062ce3535ca27540549d\", element=\"86ecfcde-4bac-417f-ab50-da4341cf5d07\")>,\n",
       " <selenium.webdriver.remote.webelement.WebElement (session=\"3e5ab66d846d062ce3535ca27540549d\", element=\"e651b689-9db7-4397-a39f-40cff6cbf9dc\")>,\n",
       " <selenium.webdriver.remote.webelement.WebElement (session=\"3e5ab66d846d062ce3535ca27540549d\", element=\"fdaaccfe-501b-4da7-9b5a-488f0e523d1b\")>,\n",
       " <selenium.webdriver.remote.webelement.WebElement (session=\"3e5ab66d846d062ce3535ca27540549d\", element=\"89374464-3274-4996-8987-bd84584f13ca\")>,\n",
       " <selenium.webdriver.remote.webelement.WebElement (session=\"3e5ab66d846d062ce3535ca27540549d\", element=\"4f9e11c1-4825-44f1-9cd0-c9134e2dafd9\")>,\n",
       " <selenium.webdriver.remote.webelement.WebElement (session=\"3e5ab66d846d062ce3535ca27540549d\", element=\"3abf2d04-8de4-4211-9c1f-4d2e98fd5103\")>,\n",
       " <selenium.webdriver.remote.webelement.WebElement (session=\"3e5ab66d846d062ce3535ca27540549d\", element=\"11aca757-eeb8-48b4-8a40-ab7e387f7906\")>,\n",
       " <selenium.webdriver.remote.webelement.WebElement (session=\"3e5ab66d846d062ce3535ca27540549d\", element=\"84d47d70-7f18-4790-bc88-e25eb4eab0bd\")>,\n",
       " <selenium.webdriver.remote.webelement.WebElement (session=\"3e5ab66d846d062ce3535ca27540549d\", element=\"f39e51fe-4118-438c-8db8-f87a83b0c743\")>,\n",
       " <selenium.webdriver.remote.webelement.WebElement (session=\"3e5ab66d846d062ce3535ca27540549d\", element=\"dffa9b0d-6bfe-41ee-818d-fe88ed9d95f6\")>,\n",
       " <selenium.webdriver.remote.webelement.WebElement (session=\"3e5ab66d846d062ce3535ca27540549d\", element=\"7d64842c-f0d4-4c98-b63e-81db200e3050\")>,\n",
       " <selenium.webdriver.remote.webelement.WebElement (session=\"3e5ab66d846d062ce3535ca27540549d\", element=\"05b0e831-ae10-4387-93db-f6cac64cd98f\")>,\n",
       " <selenium.webdriver.remote.webelement.WebElement (session=\"3e5ab66d846d062ce3535ca27540549d\", element=\"d34ee16a-0b23-49b4-925d-405c9298ee57\")>,\n",
       " <selenium.webdriver.remote.webelement.WebElement (session=\"3e5ab66d846d062ce3535ca27540549d\", element=\"d63698d2-e389-4e16-a1a6-9767263aaa24\")>,\n",
       " <selenium.webdriver.remote.webelement.WebElement (session=\"3e5ab66d846d062ce3535ca27540549d\", element=\"957fd209-0b12-4874-b998-76a0cd6a72ce\")>,\n",
       " <selenium.webdriver.remote.webelement.WebElement (session=\"3e5ab66d846d062ce3535ca27540549d\", element=\"cff0ec7b-dd80-4f82-bc89-17c22dcde642\")>,\n",
       " <selenium.webdriver.remote.webelement.WebElement (session=\"3e5ab66d846d062ce3535ca27540549d\", element=\"07059123-4bbd-4cce-9c07-50192f551b36\")>,\n",
       " <selenium.webdriver.remote.webelement.WebElement (session=\"3e5ab66d846d062ce3535ca27540549d\", element=\"66e17563-821c-4e86-9247-ca57a51037d2\")>,\n",
       " <selenium.webdriver.remote.webelement.WebElement (session=\"3e5ab66d846d062ce3535ca27540549d\", element=\"a00959a0-45bd-4428-8e7d-3432c60a4052\")>,\n",
       " <selenium.webdriver.remote.webelement.WebElement (session=\"3e5ab66d846d062ce3535ca27540549d\", element=\"4e87f48a-3866-4de3-af28-7ad1916b8063\")>,\n",
       " <selenium.webdriver.remote.webelement.WebElement (session=\"3e5ab66d846d062ce3535ca27540549d\", element=\"45958e42-3dde-400c-bd7e-f4f555d2ff60\")>,\n",
       " <selenium.webdriver.remote.webelement.WebElement (session=\"3e5ab66d846d062ce3535ca27540549d\", element=\"09bffc16-0af9-442b-8714-c1ff81f48fa3\")>,\n",
       " <selenium.webdriver.remote.webelement.WebElement (session=\"3e5ab66d846d062ce3535ca27540549d\", element=\"12f2e686-3d62-4e9e-a863-82440f472742\")>,\n",
       " <selenium.webdriver.remote.webelement.WebElement (session=\"3e5ab66d846d062ce3535ca27540549d\", element=\"8eb7ab13-c796-4401-a29c-83182583339d\")>,\n",
       " <selenium.webdriver.remote.webelement.WebElement (session=\"3e5ab66d846d062ce3535ca27540549d\", element=\"19bba219-6a3a-43a9-a487-a42d82840054\")>,\n",
       " <selenium.webdriver.remote.webelement.WebElement (session=\"3e5ab66d846d062ce3535ca27540549d\", element=\"cca4ecc2-cdca-496c-8b18-be78723ea914\")>,\n",
       " <selenium.webdriver.remote.webelement.WebElement (session=\"3e5ab66d846d062ce3535ca27540549d\", element=\"b59f743e-ce51-4afc-87fd-6c09f038db2d\")>,\n",
       " <selenium.webdriver.remote.webelement.WebElement (session=\"3e5ab66d846d062ce3535ca27540549d\", element=\"0e57c498-d0f9-4fd9-9e6d-9f4a6021b047\")>,\n",
       " <selenium.webdriver.remote.webelement.WebElement (session=\"3e5ab66d846d062ce3535ca27540549d\", element=\"d8557b0a-304e-4270-b5e1-57b2bd7ddf28\")>,\n",
       " <selenium.webdriver.remote.webelement.WebElement (session=\"3e5ab66d846d062ce3535ca27540549d\", element=\"2273998a-52eb-4062-bb06-5acd7216afea\")>,\n",
       " <selenium.webdriver.remote.webelement.WebElement (session=\"3e5ab66d846d062ce3535ca27540549d\", element=\"2fd34019-cac4-44f5-b341-0fa6ae9d87f1\")>,\n",
       " <selenium.webdriver.remote.webelement.WebElement (session=\"3e5ab66d846d062ce3535ca27540549d\", element=\"cef3d393-fa0c-498f-822a-5cf81b321737\")>,\n",
       " <selenium.webdriver.remote.webelement.WebElement (session=\"3e5ab66d846d062ce3535ca27540549d\", element=\"a94baa74-6f30-4c02-9616-92fca4fe98e8\")>,\n",
       " <selenium.webdriver.remote.webelement.WebElement (session=\"3e5ab66d846d062ce3535ca27540549d\", element=\"20a181a2-bbeb-4265-ae45-03b1687bb52b\")>,\n",
       " <selenium.webdriver.remote.webelement.WebElement (session=\"3e5ab66d846d062ce3535ca27540549d\", element=\"fd34df38-7333-4220-8b26-d6ed6e651157\")>,\n",
       " <selenium.webdriver.remote.webelement.WebElement (session=\"3e5ab66d846d062ce3535ca27540549d\", element=\"adba59d3-230f-4212-9e7a-d9a609db6db5\")>,\n",
       " <selenium.webdriver.remote.webelement.WebElement (session=\"3e5ab66d846d062ce3535ca27540549d\", element=\"d04ffaee-a83c-4ad8-b85f-fc7c13ac3704\")>,\n",
       " <selenium.webdriver.remote.webelement.WebElement (session=\"3e5ab66d846d062ce3535ca27540549d\", element=\"3e47399a-a89d-4f68-b080-db7fc2a530cc\")>,\n",
       " <selenium.webdriver.remote.webelement.WebElement (session=\"3e5ab66d846d062ce3535ca27540549d\", element=\"94b3bd7f-e6f2-4031-8c01-48f699d3099e\")>]"
      ]
     },
     "execution_count": 59,
     "metadata": {},
     "output_type": "execute_result"
    }
   ],
   "source": [
    "# Extracting the web elements of the prices on the 2nd page.\n",
    "\n",
    "prc_tag2 = driver.find_elements_by_xpath('//div[@class=\"_30jeq3\"]')\n",
    "\n",
    "prc_tag2"
   ]
  },
  {
   "cell_type": "code",
   "execution_count": 60,
   "metadata": {},
   "outputs": [
    {
     "data": {
      "text/plain": [
       "['₹199',\n",
       " '₹199',\n",
       " '₹189',\n",
       " '₹479',\n",
       " '₹449',\n",
       " '₹319',\n",
       " '₹237',\n",
       " '₹314',\n",
       " '₹349',\n",
       " '₹399',\n",
       " '₹299',\n",
       " '₹664',\n",
       " '₹1,010',\n",
       " '₹331',\n",
       " '₹379',\n",
       " '₹398',\n",
       " '₹755',\n",
       " '₹399',\n",
       " '₹215',\n",
       " '₹1,179',\n",
       " '₹237',\n",
       " '₹331',\n",
       " '₹558',\n",
       " '₹1,415',\n",
       " '₹162',\n",
       " '₹612',\n",
       " '₹399',\n",
       " '₹625',\n",
       " '₹281',\n",
       " '₹249',\n",
       " '₹225',\n",
       " '₹498',\n",
       " '₹299',\n",
       " '₹738',\n",
       " '₹424',\n",
       " '₹625',\n",
       " '₹449',\n",
       " '₹339',\n",
       " '₹292',\n",
       " '₹854']"
      ]
     },
     "execution_count": 60,
     "metadata": {},
     "output_type": "execute_result"
    }
   ],
   "source": [
    "# Extracting the texts from the web elements.\n",
    "\n",
    "prices2 = []\n",
    "for p2 in prc_tag2:\n",
    "    prices2.append(p2.text)\n",
    "    \n",
    "prices2"
   ]
  },
  {
   "cell_type": "code",
   "execution_count": 61,
   "metadata": {},
   "outputs": [
    {
     "data": {
      "text/plain": [
       "40"
      ]
     },
     "execution_count": 61,
     "metadata": {},
     "output_type": "execute_result"
    }
   ],
   "source": [
    "len (prices2)"
   ]
  },
  {
   "cell_type": "code",
   "execution_count": 62,
   "metadata": {},
   "outputs": [
    {
     "data": {
      "text/plain": [
       "[<selenium.webdriver.remote.webelement.WebElement (session=\"3e5ab66d846d062ce3535ca27540549d\", element=\"a7bfd8e9-a7e0-4d0a-871c-34452ad51244\")>,\n",
       " <selenium.webdriver.remote.webelement.WebElement (session=\"3e5ab66d846d062ce3535ca27540549d\", element=\"6726586b-9067-4f68-89f4-446546b2cd6c\")>,\n",
       " <selenium.webdriver.remote.webelement.WebElement (session=\"3e5ab66d846d062ce3535ca27540549d\", element=\"5731d009-8d50-4d37-8b52-10f616b35eee\")>,\n",
       " <selenium.webdriver.remote.webelement.WebElement (session=\"3e5ab66d846d062ce3535ca27540549d\", element=\"99c9b65b-1eb1-4f5a-a583-732cd25650bb\")>,\n",
       " <selenium.webdriver.remote.webelement.WebElement (session=\"3e5ab66d846d062ce3535ca27540549d\", element=\"c7010021-9a91-49e8-8682-6dbae50e2075\")>,\n",
       " <selenium.webdriver.remote.webelement.WebElement (session=\"3e5ab66d846d062ce3535ca27540549d\", element=\"40340e39-c10d-4426-89fc-91fa902bb60a\")>,\n",
       " <selenium.webdriver.remote.webelement.WebElement (session=\"3e5ab66d846d062ce3535ca27540549d\", element=\"a368e539-27b8-46d2-b78c-686b537e0a59\")>,\n",
       " <selenium.webdriver.remote.webelement.WebElement (session=\"3e5ab66d846d062ce3535ca27540549d\", element=\"61a5936d-b71b-48a7-825b-f53cc370092f\")>,\n",
       " <selenium.webdriver.remote.webelement.WebElement (session=\"3e5ab66d846d062ce3535ca27540549d\", element=\"df73fee9-237b-4382-82cb-9f9172e6074a\")>,\n",
       " <selenium.webdriver.remote.webelement.WebElement (session=\"3e5ab66d846d062ce3535ca27540549d\", element=\"3ddabf71-1994-41ba-843a-cb6384729120\")>,\n",
       " <selenium.webdriver.remote.webelement.WebElement (session=\"3e5ab66d846d062ce3535ca27540549d\", element=\"1117d1c0-9819-4654-92af-b58a0d22ae60\")>,\n",
       " <selenium.webdriver.remote.webelement.WebElement (session=\"3e5ab66d846d062ce3535ca27540549d\", element=\"88f203a8-d18c-413e-bcf9-8f988a146360\")>,\n",
       " <selenium.webdriver.remote.webelement.WebElement (session=\"3e5ab66d846d062ce3535ca27540549d\", element=\"f46cd202-286c-4b06-a9af-587815febcd0\")>,\n",
       " <selenium.webdriver.remote.webelement.WebElement (session=\"3e5ab66d846d062ce3535ca27540549d\", element=\"edb1ae8f-6446-47af-84f4-ff4b8e3f13bd\")>,\n",
       " <selenium.webdriver.remote.webelement.WebElement (session=\"3e5ab66d846d062ce3535ca27540549d\", element=\"d540c7e4-2166-49b2-8e50-a391864533fe\")>,\n",
       " <selenium.webdriver.remote.webelement.WebElement (session=\"3e5ab66d846d062ce3535ca27540549d\", element=\"ae92ab56-c3ca-4100-9ffb-2ade391ff501\")>,\n",
       " <selenium.webdriver.remote.webelement.WebElement (session=\"3e5ab66d846d062ce3535ca27540549d\", element=\"a18ab7a1-b044-4dff-ad0c-f6f76527907f\")>,\n",
       " <selenium.webdriver.remote.webelement.WebElement (session=\"3e5ab66d846d062ce3535ca27540549d\", element=\"69991a87-a2ff-4043-88c0-2cc28e1af4aa\")>,\n",
       " <selenium.webdriver.remote.webelement.WebElement (session=\"3e5ab66d846d062ce3535ca27540549d\", element=\"3f9745e1-81ca-4a77-8806-8be9f68a9d88\")>,\n",
       " <selenium.webdriver.remote.webelement.WebElement (session=\"3e5ab66d846d062ce3535ca27540549d\", element=\"02c17c36-5184-41c8-ae86-07849f850f9e\")>,\n",
       " <selenium.webdriver.remote.webelement.WebElement (session=\"3e5ab66d846d062ce3535ca27540549d\", element=\"27b61a78-36c4-417a-a292-2a32c9995c95\")>,\n",
       " <selenium.webdriver.remote.webelement.WebElement (session=\"3e5ab66d846d062ce3535ca27540549d\", element=\"453bc600-8e35-4494-84c0-311c3a5dd177\")>,\n",
       " <selenium.webdriver.remote.webelement.WebElement (session=\"3e5ab66d846d062ce3535ca27540549d\", element=\"fb28453e-9768-4287-810c-bd654d812065\")>,\n",
       " <selenium.webdriver.remote.webelement.WebElement (session=\"3e5ab66d846d062ce3535ca27540549d\", element=\"a50b0c8e-a6f0-4d76-b022-87bf17fc8581\")>,\n",
       " <selenium.webdriver.remote.webelement.WebElement (session=\"3e5ab66d846d062ce3535ca27540549d\", element=\"baa9e03c-c7c7-4042-aa94-5ea224678046\")>,\n",
       " <selenium.webdriver.remote.webelement.WebElement (session=\"3e5ab66d846d062ce3535ca27540549d\", element=\"a8f3236d-b212-4b57-a24d-adab44282ac3\")>,\n",
       " <selenium.webdriver.remote.webelement.WebElement (session=\"3e5ab66d846d062ce3535ca27540549d\", element=\"74720424-f061-4d15-80eb-2c63d52f8d34\")>,\n",
       " <selenium.webdriver.remote.webelement.WebElement (session=\"3e5ab66d846d062ce3535ca27540549d\", element=\"4af577af-4d03-4aa1-a9ff-449082ce5476\")>,\n",
       " <selenium.webdriver.remote.webelement.WebElement (session=\"3e5ab66d846d062ce3535ca27540549d\", element=\"09478f75-7b13-4e61-a403-07cd776eab48\")>,\n",
       " <selenium.webdriver.remote.webelement.WebElement (session=\"3e5ab66d846d062ce3535ca27540549d\", element=\"9e034e8e-5f66-45ca-8a14-d0645f2b9e66\")>,\n",
       " <selenium.webdriver.remote.webelement.WebElement (session=\"3e5ab66d846d062ce3535ca27540549d\", element=\"a8d7808f-91d6-48a3-a23d-e366e5bd0fd2\")>,\n",
       " <selenium.webdriver.remote.webelement.WebElement (session=\"3e5ab66d846d062ce3535ca27540549d\", element=\"91f85445-6505-4e78-8160-a7319ba201e1\")>,\n",
       " <selenium.webdriver.remote.webelement.WebElement (session=\"3e5ab66d846d062ce3535ca27540549d\", element=\"854b61e8-cba6-4599-99aa-3845e42f5cfe\")>,\n",
       " <selenium.webdriver.remote.webelement.WebElement (session=\"3e5ab66d846d062ce3535ca27540549d\", element=\"78f538ad-b359-40ae-a387-4d5bcfed04e5\")>,\n",
       " <selenium.webdriver.remote.webelement.WebElement (session=\"3e5ab66d846d062ce3535ca27540549d\", element=\"efbce36c-9ae8-413f-86de-65b7c634ff01\")>,\n",
       " <selenium.webdriver.remote.webelement.WebElement (session=\"3e5ab66d846d062ce3535ca27540549d\", element=\"a92b5999-ffcc-4a4e-b756-085f41f59d3b\")>,\n",
       " <selenium.webdriver.remote.webelement.WebElement (session=\"3e5ab66d846d062ce3535ca27540549d\", element=\"99334a41-bf9a-4e28-982b-596edc60370b\")>,\n",
       " <selenium.webdriver.remote.webelement.WebElement (session=\"3e5ab66d846d062ce3535ca27540549d\", element=\"2c60055d-f015-4efd-ba42-03bd63c2ebc8\")>,\n",
       " <selenium.webdriver.remote.webelement.WebElement (session=\"3e5ab66d846d062ce3535ca27540549d\", element=\"1cd02c5b-153b-4c08-b08b-c83287f1dd6f\")>,\n",
       " <selenium.webdriver.remote.webelement.WebElement (session=\"3e5ab66d846d062ce3535ca27540549d\", element=\"bf049a74-10ea-4e7b-9ee9-b9ec6cd74eba\")>]"
      ]
     },
     "execution_count": 62,
     "metadata": {},
     "output_type": "execute_result"
    }
   ],
   "source": [
    "#Extracting the web elements of the %Discount on the 2nd page.\n",
    "\n",
    "disc_tag2 = driver.find_elements_by_xpath('//div[@class=\"_3Ay6Sb\"]')\n",
    "\n",
    "disc_tag2"
   ]
  },
  {
   "cell_type": "code",
   "execution_count": 63,
   "metadata": {},
   "outputs": [
    {
     "data": {
      "text/plain": [
       "['80% off',\n",
       " '80% off',\n",
       " '86% off',\n",
       " '76% off',\n",
       " '77% off',\n",
       " '84% off',\n",
       " '85% off',\n",
       " '84% off',\n",
       " '78% off',\n",
       " '80% off',\n",
       " '80% off',\n",
       " '55% off',\n",
       " '22% off',\n",
       " '79% off',\n",
       " '74% off',\n",
       " '72% off',\n",
       " '16% off',\n",
       " '80% off',\n",
       " '72% off',\n",
       " '41% off',\n",
       " '85% off',\n",
       " '87% off',\n",
       " '30% off',\n",
       " '29% off',\n",
       " '67% off',\n",
       " '31% off',\n",
       " '80% off',\n",
       " '70% off',\n",
       " '78% off',\n",
       " '79% off',\n",
       " '81% off',\n",
       " '70% off',\n",
       " '88% off',\n",
       " '26% off',\n",
       " '67% off',\n",
       " '70% off',\n",
       " '77% off',\n",
       " '83% off',\n",
       " '85% off',\n",
       " '57% off']"
      ]
     },
     "execution_count": 63,
     "metadata": {},
     "output_type": "execute_result"
    }
   ],
   "source": [
    "# Extracting the texts from the web elements on the 2nd page.\n",
    "\n",
    "discount2 = []\n",
    "for d2 in disc_tag2:\n",
    "    discount2.append(d2.text)\n",
    "    \n",
    "discount2"
   ]
  },
  {
   "cell_type": "code",
   "execution_count": 64,
   "metadata": {},
   "outputs": [
    {
     "data": {
      "text/plain": [
       "40"
      ]
     },
     "execution_count": 64,
     "metadata": {},
     "output_type": "execute_result"
    }
   ],
   "source": [
    "len(discount2)"
   ]
  },
  {
   "cell_type": "code",
   "execution_count": 69,
   "metadata": {},
   "outputs": [],
   "source": [
    "# Now we'll move to the 3rd page.\n",
    "\n",
    "nxt_btn2 = driver.find_element_by_xpath('//*[@id=\"container\"]/div/div[3]/div[1]/div[2]/div[12]/div/div/nav/a[3]')\n",
    "\n",
    "nxt_btn2.click()"
   ]
  },
  {
   "cell_type": "code",
   "execution_count": 70,
   "metadata": {},
   "outputs": [
    {
     "data": {
      "text/plain": [
       "[<selenium.webdriver.remote.webelement.WebElement (session=\"3e5ab66d846d062ce3535ca27540549d\", element=\"f7ae9110-2ef4-405b-a860-acbd43b52843\")>,\n",
       " <selenium.webdriver.remote.webelement.WebElement (session=\"3e5ab66d846d062ce3535ca27540549d\", element=\"80c965e9-83aa-4f68-b631-563672493263\")>,\n",
       " <selenium.webdriver.remote.webelement.WebElement (session=\"3e5ab66d846d062ce3535ca27540549d\", element=\"0cf26cae-aec6-45be-80f4-4a989dd132ac\")>,\n",
       " <selenium.webdriver.remote.webelement.WebElement (session=\"3e5ab66d846d062ce3535ca27540549d\", element=\"04fbe587-28b1-4544-a2eb-e93970404c5d\")>,\n",
       " <selenium.webdriver.remote.webelement.WebElement (session=\"3e5ab66d846d062ce3535ca27540549d\", element=\"73c38fef-f827-428f-b374-8e2ef5410aff\")>,\n",
       " <selenium.webdriver.remote.webelement.WebElement (session=\"3e5ab66d846d062ce3535ca27540549d\", element=\"17afad64-9526-42f5-9530-573da5805eb0\")>,\n",
       " <selenium.webdriver.remote.webelement.WebElement (session=\"3e5ab66d846d062ce3535ca27540549d\", element=\"0cfd9c67-9b1b-49e2-a99d-0f73c6290b1f\")>,\n",
       " <selenium.webdriver.remote.webelement.WebElement (session=\"3e5ab66d846d062ce3535ca27540549d\", element=\"965c16a1-fb0c-443a-9ea8-64379a098d49\")>,\n",
       " <selenium.webdriver.remote.webelement.WebElement (session=\"3e5ab66d846d062ce3535ca27540549d\", element=\"c88e54af-5099-4a82-a907-feb007b2c34d\")>,\n",
       " <selenium.webdriver.remote.webelement.WebElement (session=\"3e5ab66d846d062ce3535ca27540549d\", element=\"9f038b1e-cf19-4586-b566-842970c35487\")>,\n",
       " <selenium.webdriver.remote.webelement.WebElement (session=\"3e5ab66d846d062ce3535ca27540549d\", element=\"110fc9b6-773f-49a9-9c7b-8047a6c8c7a7\")>,\n",
       " <selenium.webdriver.remote.webelement.WebElement (session=\"3e5ab66d846d062ce3535ca27540549d\", element=\"25d66365-3f99-4499-bfb3-b6b08a0c891c\")>,\n",
       " <selenium.webdriver.remote.webelement.WebElement (session=\"3e5ab66d846d062ce3535ca27540549d\", element=\"788e26d6-a637-4b01-ae0c-6416ecc917fa\")>,\n",
       " <selenium.webdriver.remote.webelement.WebElement (session=\"3e5ab66d846d062ce3535ca27540549d\", element=\"06ca4844-50cd-4117-8477-566fa49023f6\")>,\n",
       " <selenium.webdriver.remote.webelement.WebElement (session=\"3e5ab66d846d062ce3535ca27540549d\", element=\"75f28906-ef22-485d-bc7e-c77f3da5ba60\")>,\n",
       " <selenium.webdriver.remote.webelement.WebElement (session=\"3e5ab66d846d062ce3535ca27540549d\", element=\"b3db3493-f814-4f51-ad1b-56ab702287df\")>,\n",
       " <selenium.webdriver.remote.webelement.WebElement (session=\"3e5ab66d846d062ce3535ca27540549d\", element=\"41a66177-c026-45fd-bade-614f8a005806\")>,\n",
       " <selenium.webdriver.remote.webelement.WebElement (session=\"3e5ab66d846d062ce3535ca27540549d\", element=\"63efc81a-eac4-41d7-993d-cd95df380618\")>,\n",
       " <selenium.webdriver.remote.webelement.WebElement (session=\"3e5ab66d846d062ce3535ca27540549d\", element=\"b107cd25-746c-4af4-ac91-dc8830874440\")>,\n",
       " <selenium.webdriver.remote.webelement.WebElement (session=\"3e5ab66d846d062ce3535ca27540549d\", element=\"7c7a3007-012a-4d41-ae47-ec00e25a9f10\")>,\n",
       " <selenium.webdriver.remote.webelement.WebElement (session=\"3e5ab66d846d062ce3535ca27540549d\", element=\"35ab9d4c-0ede-4856-bb30-83550bbc44e9\")>,\n",
       " <selenium.webdriver.remote.webelement.WebElement (session=\"3e5ab66d846d062ce3535ca27540549d\", element=\"5701cb7a-b926-4ba8-be55-fcbf937c933d\")>,\n",
       " <selenium.webdriver.remote.webelement.WebElement (session=\"3e5ab66d846d062ce3535ca27540549d\", element=\"fa8f10c8-09e3-4e77-9603-bf68b14510da\")>,\n",
       " <selenium.webdriver.remote.webelement.WebElement (session=\"3e5ab66d846d062ce3535ca27540549d\", element=\"a291138a-0c37-43ad-bb7d-fdaab5beed4a\")>,\n",
       " <selenium.webdriver.remote.webelement.WebElement (session=\"3e5ab66d846d062ce3535ca27540549d\", element=\"1e37d47c-58b9-4a1d-bd34-804f49f55913\")>,\n",
       " <selenium.webdriver.remote.webelement.WebElement (session=\"3e5ab66d846d062ce3535ca27540549d\", element=\"8657aa1b-7758-4d3d-99db-360901fe99d8\")>,\n",
       " <selenium.webdriver.remote.webelement.WebElement (session=\"3e5ab66d846d062ce3535ca27540549d\", element=\"478ffc8f-596e-4edc-8d15-c106f6ed42a3\")>,\n",
       " <selenium.webdriver.remote.webelement.WebElement (session=\"3e5ab66d846d062ce3535ca27540549d\", element=\"e02667c8-f4fb-40a0-ae1c-c9c061a9d174\")>,\n",
       " <selenium.webdriver.remote.webelement.WebElement (session=\"3e5ab66d846d062ce3535ca27540549d\", element=\"1a275f86-442b-4a17-8b88-7c8dd606a2fd\")>,\n",
       " <selenium.webdriver.remote.webelement.WebElement (session=\"3e5ab66d846d062ce3535ca27540549d\", element=\"59d4be14-931a-4a2e-92c3-94751cf563e5\")>,\n",
       " <selenium.webdriver.remote.webelement.WebElement (session=\"3e5ab66d846d062ce3535ca27540549d\", element=\"fd10cd6a-6f02-4f40-b730-6c6269f35fb8\")>,\n",
       " <selenium.webdriver.remote.webelement.WebElement (session=\"3e5ab66d846d062ce3535ca27540549d\", element=\"63a9fec8-2be7-4d9b-b0d6-18e34dbbc0db\")>,\n",
       " <selenium.webdriver.remote.webelement.WebElement (session=\"3e5ab66d846d062ce3535ca27540549d\", element=\"476a2a02-ae03-408d-890f-7f4918617a00\")>,\n",
       " <selenium.webdriver.remote.webelement.WebElement (session=\"3e5ab66d846d062ce3535ca27540549d\", element=\"079c01ea-9f62-4a58-acb4-4f2cc56542df\")>,\n",
       " <selenium.webdriver.remote.webelement.WebElement (session=\"3e5ab66d846d062ce3535ca27540549d\", element=\"6369d9e2-136d-4329-beac-100f8d9b7fa2\")>,\n",
       " <selenium.webdriver.remote.webelement.WebElement (session=\"3e5ab66d846d062ce3535ca27540549d\", element=\"67c36f18-2e5f-4224-8d81-870577fbc511\")>,\n",
       " <selenium.webdriver.remote.webelement.WebElement (session=\"3e5ab66d846d062ce3535ca27540549d\", element=\"0968df2d-2a3a-4803-934a-c20ba475488b\")>,\n",
       " <selenium.webdriver.remote.webelement.WebElement (session=\"3e5ab66d846d062ce3535ca27540549d\", element=\"c72c799c-60a0-474b-8b92-cc19dc594ada\")>,\n",
       " <selenium.webdriver.remote.webelement.WebElement (session=\"3e5ab66d846d062ce3535ca27540549d\", element=\"6ccc68d4-4e53-44f4-8a78-ed92f9fa2bdc\")>,\n",
       " <selenium.webdriver.remote.webelement.WebElement (session=\"3e5ab66d846d062ce3535ca27540549d\", element=\"8ab3f799-0aa1-4620-8c31-ac6da83acf58\")>]"
      ]
     },
     "execution_count": 70,
     "metadata": {},
     "output_type": "execute_result"
    }
   ],
   "source": [
    "#Extracting the web elements of the brand on the 3rd page.\n",
    "\n",
    "brand_tag3 = driver.find_elements_by_xpath('//div[@class=\"_2WkVRV\"]')\n",
    "brand_tag3"
   ]
  },
  {
   "cell_type": "code",
   "execution_count": 71,
   "metadata": {},
   "outputs": [
    {
     "data": {
      "text/plain": [
       "['AISLIN',\n",
       " 'PIRASO',\n",
       " 'IRUS by IDEE',\n",
       " 'VOYAGE',\n",
       " 'GANSTA',\n",
       " 'Fastrack',\n",
       " 'Fastrack',\n",
       " 'Singco India',\n",
       " 'hipe',\n",
       " 'Singco India',\n",
       " 'kingsunglasses',\n",
       " 'ROYAL SON',\n",
       " 'ROZZETTA CRAFT',\n",
       " 'ROYAL SON',\n",
       " 'NuVew',\n",
       " 'VINCENT CHASE',\n",
       " 'ROYAL SON',\n",
       " 'GANSTA',\n",
       " 'kingsunglasses',\n",
       " 'AISLIN',\n",
       " 'ROYAL SON',\n",
       " 'Ray-Ban',\n",
       " 'elegante',\n",
       " 'AISLIN',\n",
       " 'Fastrack',\n",
       " 'ROYAL SON',\n",
       " 'Fastrack',\n",
       " 'ROYAL SON',\n",
       " 'Fastrack',\n",
       " 'GANSTA',\n",
       " 'kingsunglasses',\n",
       " 'ROYAL SON',\n",
       " 'PHENOMENAL',\n",
       " 'Fastrack',\n",
       " 'AISLIN',\n",
       " 'AISLIN',\n",
       " 'kingsunglasses',\n",
       " 'DEIXELS',\n",
       " 'ROZZETTA CRAFT',\n",
       " 'AISLIN']"
      ]
     },
     "execution_count": 71,
     "metadata": {},
     "output_type": "execute_result"
    }
   ],
   "source": [
    "# Extracting texts from the web elements on the 3rd page.\n",
    "\n",
    "brand_name3 = []\n",
    "for b3 in brand_tag3:\n",
    "    brand_name3.append(b3.text)\n",
    "    \n",
    "brand_name3"
   ]
  },
  {
   "cell_type": "code",
   "execution_count": 72,
   "metadata": {},
   "outputs": [
    {
     "data": {
      "text/plain": [
       "['ROYAL SON',\n",
       " 'VINCENT CHASE',\n",
       " 'kingsunglasses',\n",
       " 'Fastrack',\n",
       " 'kingsunglasses',\n",
       " 'Fastrack',\n",
       " 'PIRASO',\n",
       " 'ROYAL SON',\n",
       " 'Fastrack',\n",
       " 'ROZZETTA CRAFT',\n",
       " 'PHENOMENAL',\n",
       " 'hipe',\n",
       " 'ROZZETTA CRAFT',\n",
       " 'Fastrack',\n",
       " 'kingsunglasses',\n",
       " 'ROYAL SON',\n",
       " 'kingsunglasses',\n",
       " 'ROYAL SON',\n",
       " 'ROYAL SON',\n",
       " 'VINCENT CHASE',\n",
       " 'Fastrack',\n",
       " 'Silver Kartz',\n",
       " 'ROYAL SON',\n",
       " 'ROYAL SON',\n",
       " 'ROZZETTA CRAFT',\n",
       " 'DEIXELS',\n",
       " 'ROZZETTA CRAFT',\n",
       " 'VINCENT CHASE',\n",
       " 'kingsunglasses',\n",
       " 'Singco India',\n",
       " 'Fastrack',\n",
       " 'NuVew',\n",
       " 'kingsunglasses',\n",
       " 'Fastrack',\n",
       " 'Fastrack',\n",
       " 'AISLIN',\n",
       " 'Fastrack',\n",
       " 'Singco',\n",
       " 'Singco India',\n",
       " 'ROYAL SON',\n",
       " 'GANSTA',\n",
       " 'elegante',\n",
       " 'hipe',\n",
       " 'ROYAL SON',\n",
       " 'ROZZETTA CRAFT',\n",
       " 'PHENOMENAL',\n",
       " 'PIRASO',\n",
       " 'Singco India',\n",
       " 'kingsunglasses',\n",
       " 'PHENOMENAL',\n",
       " 'kingsunglasses',\n",
       " 'ROYAL SON',\n",
       " 'Fastrack',\n",
       " 'PIRASO',\n",
       " 'ROYAL SON',\n",
       " 'NuVew',\n",
       " 'Fastrack',\n",
       " 'PHENOMENAL',\n",
       " 'NuVew',\n",
       " 'VINCENT CHASE',\n",
       " 'PIRASO',\n",
       " 'PIRASO',\n",
       " 'Fastrack',\n",
       " 'VINCENT CHASE',\n",
       " 'Poland',\n",
       " 'Fastrack',\n",
       " 'PHENOMENAL',\n",
       " 'AISLIN',\n",
       " 'GANSTA',\n",
       " 'kingsunglasses',\n",
       " 'HIPPON',\n",
       " 'AISLIN',\n",
       " 'kingsunglasses',\n",
       " 'Fastrack',\n",
       " 'IRUS by IDEE',\n",
       " 'AISLIN',\n",
       " 'ROZZETTA CRAFT',\n",
       " 'Fravy',\n",
       " 'GANSTA',\n",
       " 'ROYAL SON',\n",
       " 'AISLIN',\n",
       " 'PIRASO',\n",
       " 'IRUS by IDEE',\n",
       " 'VOYAGE',\n",
       " 'GANSTA',\n",
       " 'Fastrack',\n",
       " 'Fastrack',\n",
       " 'Singco India',\n",
       " 'hipe',\n",
       " 'Singco India',\n",
       " 'kingsunglasses',\n",
       " 'ROYAL SON',\n",
       " 'ROZZETTA CRAFT',\n",
       " 'ROYAL SON',\n",
       " 'NuVew',\n",
       " 'VINCENT CHASE',\n",
       " 'ROYAL SON',\n",
       " 'GANSTA',\n",
       " 'kingsunglasses',\n",
       " 'AISLIN']"
      ]
     },
     "execution_count": 72,
     "metadata": {},
     "output_type": "execute_result"
    }
   ],
   "source": [
    "# Getting names of 100 brands of sunglasses\n",
    "\n",
    "brands = brand_name1 + brand_name2 + brand_name3[:20]\n",
    "\n",
    "brands"
   ]
  },
  {
   "cell_type": "code",
   "execution_count": 73,
   "metadata": {},
   "outputs": [
    {
     "data": {
      "text/plain": [
       "100"
      ]
     },
     "execution_count": 73,
     "metadata": {},
     "output_type": "execute_result"
    }
   ],
   "source": [
    "len (brands)"
   ]
  },
  {
   "cell_type": "code",
   "execution_count": 74,
   "metadata": {},
   "outputs": [
    {
     "data": {
      "text/plain": [
       "[<selenium.webdriver.remote.webelement.WebElement (session=\"3e5ab66d846d062ce3535ca27540549d\", element=\"f196c42d-d897-4904-a5e1-2860df832c24\")>,\n",
       " <selenium.webdriver.remote.webelement.WebElement (session=\"3e5ab66d846d062ce3535ca27540549d\", element=\"b03c9814-3782-4321-b247-13c4bb280c07\")>,\n",
       " <selenium.webdriver.remote.webelement.WebElement (session=\"3e5ab66d846d062ce3535ca27540549d\", element=\"215b6ed5-aa72-478c-887e-ad452fcf46dd\")>,\n",
       " <selenium.webdriver.remote.webelement.WebElement (session=\"3e5ab66d846d062ce3535ca27540549d\", element=\"f4b6fa4b-9aab-47d5-90e4-7f7a2764e699\")>,\n",
       " <selenium.webdriver.remote.webelement.WebElement (session=\"3e5ab66d846d062ce3535ca27540549d\", element=\"b5791922-e463-4e1d-b677-f64b2fbd7098\")>,\n",
       " <selenium.webdriver.remote.webelement.WebElement (session=\"3e5ab66d846d062ce3535ca27540549d\", element=\"8ee7be37-103b-49d4-8e81-d0d933fdab7f\")>,\n",
       " <selenium.webdriver.remote.webelement.WebElement (session=\"3e5ab66d846d062ce3535ca27540549d\", element=\"403dacad-645c-4db0-a3e4-062cea6947e5\")>,\n",
       " <selenium.webdriver.remote.webelement.WebElement (session=\"3e5ab66d846d062ce3535ca27540549d\", element=\"15e0a145-f849-4f43-a0bf-faeeed36483b\")>,\n",
       " <selenium.webdriver.remote.webelement.WebElement (session=\"3e5ab66d846d062ce3535ca27540549d\", element=\"84e0c2da-f532-47ec-8d11-88ecad33984f\")>,\n",
       " <selenium.webdriver.remote.webelement.WebElement (session=\"3e5ab66d846d062ce3535ca27540549d\", element=\"df141156-b974-4d4f-8f16-7e9ca2c6f655\")>,\n",
       " <selenium.webdriver.remote.webelement.WebElement (session=\"3e5ab66d846d062ce3535ca27540549d\", element=\"a774d27c-664e-4789-8608-b93a8dac12b6\")>,\n",
       " <selenium.webdriver.remote.webelement.WebElement (session=\"3e5ab66d846d062ce3535ca27540549d\", element=\"b8c00e47-2927-4c95-9dc9-08d241019858\")>,\n",
       " <selenium.webdriver.remote.webelement.WebElement (session=\"3e5ab66d846d062ce3535ca27540549d\", element=\"9c5a36c1-ae7e-4bb4-8844-15767fad96a8\")>,\n",
       " <selenium.webdriver.remote.webelement.WebElement (session=\"3e5ab66d846d062ce3535ca27540549d\", element=\"a086d99d-1639-4b33-80d4-6f9fdf71829b\")>,\n",
       " <selenium.webdriver.remote.webelement.WebElement (session=\"3e5ab66d846d062ce3535ca27540549d\", element=\"efee3030-d521-48dc-b114-0e3ca29cd1ed\")>,\n",
       " <selenium.webdriver.remote.webelement.WebElement (session=\"3e5ab66d846d062ce3535ca27540549d\", element=\"3ee7a845-09ea-40c3-a43b-a53b4bb773e5\")>,\n",
       " <selenium.webdriver.remote.webelement.WebElement (session=\"3e5ab66d846d062ce3535ca27540549d\", element=\"4dd3d784-8cc0-4fa0-84e9-e1e694be680e\")>,\n",
       " <selenium.webdriver.remote.webelement.WebElement (session=\"3e5ab66d846d062ce3535ca27540549d\", element=\"309a76ce-e00e-43a9-a0f0-e898aa53bc84\")>,\n",
       " <selenium.webdriver.remote.webelement.WebElement (session=\"3e5ab66d846d062ce3535ca27540549d\", element=\"2d732d6c-6b50-48d2-81fd-4dc6ca86c4f3\")>,\n",
       " <selenium.webdriver.remote.webelement.WebElement (session=\"3e5ab66d846d062ce3535ca27540549d\", element=\"f595d724-1683-44ae-a214-c376c89c9a17\")>,\n",
       " <selenium.webdriver.remote.webelement.WebElement (session=\"3e5ab66d846d062ce3535ca27540549d\", element=\"fc231317-439d-4923-b8d1-78fca38bb016\")>,\n",
       " <selenium.webdriver.remote.webelement.WebElement (session=\"3e5ab66d846d062ce3535ca27540549d\", element=\"150f74f6-32ce-433d-82d6-f24e8631a233\")>,\n",
       " <selenium.webdriver.remote.webelement.WebElement (session=\"3e5ab66d846d062ce3535ca27540549d\", element=\"346bf8bd-036d-45a3-b8c3-5303f994de6c\")>,\n",
       " <selenium.webdriver.remote.webelement.WebElement (session=\"3e5ab66d846d062ce3535ca27540549d\", element=\"a84a17d5-0e60-4062-b907-e293e31c0d90\")>,\n",
       " <selenium.webdriver.remote.webelement.WebElement (session=\"3e5ab66d846d062ce3535ca27540549d\", element=\"93e570ea-c666-4ef8-9e57-9dfd45d9643c\")>,\n",
       " <selenium.webdriver.remote.webelement.WebElement (session=\"3e5ab66d846d062ce3535ca27540549d\", element=\"63bcf068-497a-48c1-8c6b-b7cba53d6110\")>,\n",
       " <selenium.webdriver.remote.webelement.WebElement (session=\"3e5ab66d846d062ce3535ca27540549d\", element=\"ef829ebd-85b6-47f3-ac3e-cbac68351ffd\")>,\n",
       " <selenium.webdriver.remote.webelement.WebElement (session=\"3e5ab66d846d062ce3535ca27540549d\", element=\"2a379072-f2a9-47cf-9053-cad689e4ae26\")>,\n",
       " <selenium.webdriver.remote.webelement.WebElement (session=\"3e5ab66d846d062ce3535ca27540549d\", element=\"81b1c83f-9906-4f90-9aa5-346268db179b\")>,\n",
       " <selenium.webdriver.remote.webelement.WebElement (session=\"3e5ab66d846d062ce3535ca27540549d\", element=\"b9cd3f81-ebd2-4735-ab55-ce02ead62515\")>,\n",
       " <selenium.webdriver.remote.webelement.WebElement (session=\"3e5ab66d846d062ce3535ca27540549d\", element=\"ea5ba302-09dc-4e30-b80b-ee967a6822d4\")>,\n",
       " <selenium.webdriver.remote.webelement.WebElement (session=\"3e5ab66d846d062ce3535ca27540549d\", element=\"bf3b18ca-df5c-44e0-91ad-85de578ca71c\")>,\n",
       " <selenium.webdriver.remote.webelement.WebElement (session=\"3e5ab66d846d062ce3535ca27540549d\", element=\"eb77b7d2-6c33-419c-a716-1cd02c3c6a22\")>,\n",
       " <selenium.webdriver.remote.webelement.WebElement (session=\"3e5ab66d846d062ce3535ca27540549d\", element=\"4b0fc3c0-8c12-4397-87f6-81c03632ff23\")>,\n",
       " <selenium.webdriver.remote.webelement.WebElement (session=\"3e5ab66d846d062ce3535ca27540549d\", element=\"99bab712-e575-4a8a-ba55-4179f9aca958\")>,\n",
       " <selenium.webdriver.remote.webelement.WebElement (session=\"3e5ab66d846d062ce3535ca27540549d\", element=\"5f160cec-753a-4f1f-818f-ea34f2d8cefe\")>,\n",
       " <selenium.webdriver.remote.webelement.WebElement (session=\"3e5ab66d846d062ce3535ca27540549d\", element=\"30a2a66e-9697-40cd-81ca-15a1876f9e93\")>,\n",
       " <selenium.webdriver.remote.webelement.WebElement (session=\"3e5ab66d846d062ce3535ca27540549d\", element=\"ffc77490-6820-490f-a05f-855af3d5df50\")>,\n",
       " <selenium.webdriver.remote.webelement.WebElement (session=\"3e5ab66d846d062ce3535ca27540549d\", element=\"e77ed370-6f6b-484e-9fae-6ddc903e966d\")>]"
      ]
     },
     "execution_count": 74,
     "metadata": {},
     "output_type": "execute_result"
    }
   ],
   "source": [
    "# Extracting the web elements of the product description on the 3rd page.\n",
    "\n",
    "pd_des3 = driver.find_elements_by_xpath('//a[@class=\"IRpwTa\"]')\n",
    "\n",
    "pd_des3"
   ]
  },
  {
   "cell_type": "code",
   "execution_count": 75,
   "metadata": {},
   "outputs": [
    {
     "data": {
      "text/plain": [
       "['UV Protection, Gradient Butterfly, Retro Square Sunglas...',\n",
       " 'UV Protection Wayfarer Sunglasses (32)',\n",
       " 'Gradient Rectangular Sunglasses (56)',\n",
       " 'UV Protection Cat-eye Sunglasses (60)',\n",
       " 'Night Vision, Riding Glasses Wayfarer Sunglasses (53)',\n",
       " 'UV Protection Wrap-around, Rectangular Sunglasses (Free...',\n",
       " 'Gradient, UV Protection Wayfarer Sunglasses (Free Size)',\n",
       " 'Mirrored, UV Protection, Riding Glasses, Others Wrap-ar...',\n",
       " 'Mirrored Wayfarer Sunglasses (55)',\n",
       " 'Riding Glasses, Others, UV Protection Wrap-around Sungl...',\n",
       " 'UV Protection Round Sunglasses (Free Size)',\n",
       " 'Polarized, UV Protection Rectangular Sunglasses (59)',\n",
       " 'UV Protection, Gradient Round Sunglasses (Free Size)',\n",
       " 'UV Protection Retro Square Sunglasses (58)',\n",
       " 'UV Protection, Gradient, Night Vision, Mirrored Aviator...',\n",
       " 'Polarized Round Sunglasses (56)',\n",
       " 'Polarized Rectangular Sunglasses (65)',\n",
       " 'UV Protection Aviator Sunglasses (57)',\n",
       " 'Mirrored, UV Protection Aviator Sunglasses (56)',\n",
       " 'UV Protection, Gradient Over-sized Sunglasses (63)',\n",
       " 'Polarized, UV Protection Aviator Sunglasses (58)',\n",
       " 'Polarized Rectangular Sunglasses (60)',\n",
       " 'UV Protection Round Sunglasses (Free Size)',\n",
       " 'Polarized, UV Protection Wayfarer Sunglasses (56)',\n",
       " 'UV Protection Aviator Sunglasses (58)',\n",
       " 'UV Protection Retro Square Sunglasses (88)',\n",
       " 'Gradient Wayfarer Sunglasses (Free Size)',\n",
       " 'UV Protection Wayfarer Sunglasses (Free Size)',\n",
       " 'UV Protection Aviator Sunglasses (57)',\n",
       " 'UV Protection Rectangular Sunglasses (55)',\n",
       " 'Polarized, UV Protection Sports Sunglasses (70)',\n",
       " 'UV Protection, Mirrored, Gradient Retro Square Sunglass...',\n",
       " 'Gradient Round Sunglasses (Free Size)',\n",
       " 'UV Protection, Gradient Wayfarer, Retro Square Sunglass...',\n",
       " 'Toughened Glass Lens, UV Protection Aviator Sunglasses ...',\n",
       " 'UV Protection Rectangular Sunglasses (Free Size)',\n",
       " 'UV Protection Round Sunglasses (Free Size)',\n",
       " 'UV Protection, Gradient Rectangular Sunglasses (Free Si...',\n",
       " 'Polarized, UV Protection Wayfarer, Rectangular Sunglass...']"
      ]
     },
     "execution_count": 75,
     "metadata": {},
     "output_type": "execute_result"
    }
   ],
   "source": [
    "# Extracting texts from the web elements of the 3rd page.\n",
    "\n",
    "product_desc3 = []\n",
    "\n",
    "for p3 in pd_des3:\n",
    "    product_desc3.append(p3.text)\n",
    "    \n",
    "product_desc3"
   ]
  },
  {
   "cell_type": "code",
   "execution_count": 76,
   "metadata": {},
   "outputs": [
    {
     "data": {
      "text/plain": [
       "['UV Protection Rectangular Sunglasses (Free Size)',\n",
       " 'by Lenskart Polarized, UV Protection Cat-eye Sunglasses...',\n",
       " 'Mirrored, UV Protection Wayfarer Sunglasses (Free Size)',\n",
       " 'Gradient, UV Protection Wayfarer Sunglasses (Free Size)',\n",
       " 'UV Protection Round Sunglasses (Free Size)',\n",
       " 'UV Protection Rectangular Sunglasses (Free Size)',\n",
       " 'UV Protection Aviator Sunglasses (54)',\n",
       " 'UV Protection Retro Square Sunglasses (88)',\n",
       " 'UV Protection Aviator Sunglasses (Free Size)',\n",
       " 'UV Protection, Gradient Rectangular Sunglasses (Free Si...',\n",
       " 'UV Protection Retro Square Sunglasses (Free Size)',\n",
       " 'UV Protection, Mirrored, Night Vision, Gradient, Riding...',\n",
       " 'UV Protection Retro Square Sunglasses (Free Size)',\n",
       " 'UV Protection Wayfarer Sunglasses (Free Size)',\n",
       " 'Mirrored, UV Protection Wayfarer Sunglasses (Free Size)',\n",
       " 'UV Protection, Polarized Aviator Sunglasses (60)',\n",
       " 'UV Protection Rectangular Sunglasses (55)',\n",
       " 'UV Protection Rectangular Sunglasses (58)',\n",
       " 'UV Protection, Gradient Wayfarer Sunglasses (55)',\n",
       " 'by Lenskart UV Protection Wayfarer Sunglasses (49)',\n",
       " 'UV Protection Wayfarer Sunglasses (Free Size)',\n",
       " 'UV Protection Wayfarer Sunglasses (Free Size)',\n",
       " 'UV Protection Wayfarer Sunglasses (55)',\n",
       " 'Polarized, UV Protection Rectangular Sunglasses (59)',\n",
       " 'UV Protection, Riding Glasses Rectangular Sunglasses (F...',\n",
       " 'UV Protection Aviator, Wayfarer Sunglasses (Free Size)',\n",
       " 'UV Protection, Gradient Rectangular Sunglasses (Free Si...',\n",
       " 'Polarized Round Sunglasses (56)',\n",
       " 'UV Protection Round Sunglasses (54)',\n",
       " 'Mirrored, Riding Glasses, Others Sports Sunglasses (50)',\n",
       " 'UV Protection Wayfarer Sunglasses (57)',\n",
       " 'UV Protection Cat-eye Sunglasses (60)',\n",
       " 'UV Protection Rectangular Sunglasses (Free Size)',\n",
       " 'UV Protection Wrap-around Sunglasses (Free Size)',\n",
       " 'UV Protection Wayfarer Sunglasses (56)',\n",
       " 'UV Protection, Gradient Wayfarer Sunglasses (57)',\n",
       " 'UV Protection Aviator Sunglasses (58)',\n",
       " 'Mirrored Aviator Sunglasses (53)',\n",
       " 'UV Protection Round Sunglasses (Free Size)',\n",
       " 'UV Protection Aviator Sunglasses (Free Size)',\n",
       " 'UV Protection, Mirrored Wayfarer Sunglasses (53)',\n",
       " 'UV Protection Round Sunglasses (Free Size)',\n",
       " 'Mirrored, Gradient, Riding Glasses Round Sunglasses (55...',\n",
       " 'UV Protection Retro Square Sunglasses (88)',\n",
       " 'UV Protection, Gradient Round Sunglasses (Free Size)',\n",
       " 'UV Protection Clubmaster Sunglasses (Free Size)',\n",
       " 'UV Protection Aviator Sunglasses (54)',\n",
       " 'Mirrored, UV Protection, Riding Glasses, Others Wrap-ar...',\n",
       " 'UV Protection Round Sunglasses (Free Size)',\n",
       " 'UV Protection, Mirrored Retro Square Sunglasses (53)',\n",
       " 'Mirrored, UV Protection Wayfarer, Wayfarer, Wayfarer, W...',\n",
       " 'Polarized, UV Protection Rectangular Sunglasses (59)',\n",
       " 'UV Protection Aviator Sunglasses (58)',\n",
       " 'UV Protection Aviator Sunglasses (Free Size)',\n",
       " 'Mirrored Aviator Sunglasses (55)',\n",
       " 'UV Protection Cat-eye Sunglasses (60)',\n",
       " 'UV Protection Shield Sunglasses (Free Size)',\n",
       " 'UV Protection, Mirrored Retro Square Sunglasses (Free S...',\n",
       " 'UV Protection Aviator Sunglasses (58)',\n",
       " 'by Lenskart UV Protection Wayfarer Sunglasses (49)',\n",
       " 'UV Protection Aviator Sunglasses (54)',\n",
       " 'UV Protection Aviator Sunglasses (58)',\n",
       " 'Gradient, UV Protection Wayfarer Sunglasses (Free Size)',\n",
       " 'Polarized Round Sunglasses (56)',\n",
       " 'UV Protection Wayfarer Sunglasses (Free Size)',\n",
       " 'UV Protection, Polarized Wayfarer Sunglasses (56)',\n",
       " 'UV Protection, Mirrored Retro Square Sunglasses (53)',\n",
       " 'UV Protection, Gradient Wayfarer Sunglasses (57)',\n",
       " 'UV Protection Aviator Sunglasses (57)',\n",
       " 'UV Protection, Mirrored Round Sunglasses (54)',\n",
       " 'UV Protection Wayfarer Sunglasses (55)',\n",
       " 'UV Protection, Gradient Round, Cat-eye Sunglasses (60)',\n",
       " 'Mirrored, UV Protection Wayfarer Sunglasses (Free Size)',\n",
       " 'Mirrored, UV Protection Wayfarer Sunglasses (Free Size)',\n",
       " 'Gradient Rectangular Sunglasses (57)',\n",
       " 'UV Protection, Gradient Retro Square, Over-sized Sungla...',\n",
       " 'Gradient, UV Protection Round Sunglasses (Free Size)',\n",
       " 'UV Protection, Gradient, Night Vision Retro Square Sung...',\n",
       " 'UV Protection, Night Vision, Riding Glasses Aviator Sun...',\n",
       " 'UV Protection Wrap-around Sunglasses (52)',\n",
       " 'UV Protection, Gradient Butterfly, Retro Square Sunglas...',\n",
       " 'UV Protection Wayfarer Sunglasses (32)',\n",
       " 'Gradient Rectangular Sunglasses (56)',\n",
       " 'UV Protection Cat-eye Sunglasses (60)',\n",
       " 'Night Vision, Riding Glasses Wayfarer Sunglasses (53)',\n",
       " 'UV Protection Wrap-around, Rectangular Sunglasses (Free...',\n",
       " 'Gradient, UV Protection Wayfarer Sunglasses (Free Size)',\n",
       " 'Mirrored, UV Protection, Riding Glasses, Others Wrap-ar...',\n",
       " 'Mirrored Wayfarer Sunglasses (55)',\n",
       " 'Riding Glasses, Others, UV Protection Wrap-around Sungl...',\n",
       " 'UV Protection Round Sunglasses (Free Size)',\n",
       " 'Polarized, UV Protection Rectangular Sunglasses (59)',\n",
       " 'UV Protection, Gradient Round Sunglasses (Free Size)',\n",
       " 'UV Protection Retro Square Sunglasses (58)',\n",
       " 'UV Protection, Gradient, Night Vision, Mirrored Aviator...',\n",
       " 'Polarized Round Sunglasses (56)',\n",
       " 'Polarized Rectangular Sunglasses (65)',\n",
       " 'UV Protection Aviator Sunglasses (57)',\n",
       " 'Mirrored, UV Protection Aviator Sunglasses (56)',\n",
       " 'UV Protection, Gradient Over-sized Sunglasses (63)']"
      ]
     },
     "execution_count": 76,
     "metadata": {},
     "output_type": "execute_result"
    }
   ],
   "source": [
    "# Getting product description of 100 products\n",
    "\n",
    "descriptions = product_desc1 + product_desc2 + product_desc3[:20]\n",
    "\n",
    "descriptions"
   ]
  },
  {
   "cell_type": "code",
   "execution_count": 77,
   "metadata": {},
   "outputs": [
    {
     "data": {
      "text/plain": [
       "100"
      ]
     },
     "execution_count": 77,
     "metadata": {},
     "output_type": "execute_result"
    }
   ],
   "source": [
    "len (descriptions)"
   ]
  },
  {
   "cell_type": "code",
   "execution_count": 78,
   "metadata": {},
   "outputs": [
    {
     "data": {
      "text/plain": [
       "[<selenium.webdriver.remote.webelement.WebElement (session=\"3e5ab66d846d062ce3535ca27540549d\", element=\"a40bc6a4-959e-4393-8d5d-8f43843830e6\")>,\n",
       " <selenium.webdriver.remote.webelement.WebElement (session=\"3e5ab66d846d062ce3535ca27540549d\", element=\"26011682-9840-4818-846a-6590955d785f\")>,\n",
       " <selenium.webdriver.remote.webelement.WebElement (session=\"3e5ab66d846d062ce3535ca27540549d\", element=\"0520cce9-51f8-47e0-9abc-c1c29e7d3971\")>,\n",
       " <selenium.webdriver.remote.webelement.WebElement (session=\"3e5ab66d846d062ce3535ca27540549d\", element=\"e3b6e4e2-820d-4aee-9724-ae7f8d550637\")>,\n",
       " <selenium.webdriver.remote.webelement.WebElement (session=\"3e5ab66d846d062ce3535ca27540549d\", element=\"b622b0f5-2f19-4de5-a4b8-7cff90da9c6b\")>,\n",
       " <selenium.webdriver.remote.webelement.WebElement (session=\"3e5ab66d846d062ce3535ca27540549d\", element=\"97a95c33-f15c-4070-b837-513d76cb58f4\")>,\n",
       " <selenium.webdriver.remote.webelement.WebElement (session=\"3e5ab66d846d062ce3535ca27540549d\", element=\"7e424e66-262f-4222-b4a0-70792dabb8b7\")>,\n",
       " <selenium.webdriver.remote.webelement.WebElement (session=\"3e5ab66d846d062ce3535ca27540549d\", element=\"3dd3d68c-1391-4244-9d5d-4da94eea762c\")>,\n",
       " <selenium.webdriver.remote.webelement.WebElement (session=\"3e5ab66d846d062ce3535ca27540549d\", element=\"6a0077b4-4b64-4a70-b1c3-9eee3502deac\")>,\n",
       " <selenium.webdriver.remote.webelement.WebElement (session=\"3e5ab66d846d062ce3535ca27540549d\", element=\"39a83815-e8a9-4703-8bf8-63b5ec478936\")>,\n",
       " <selenium.webdriver.remote.webelement.WebElement (session=\"3e5ab66d846d062ce3535ca27540549d\", element=\"de0c0110-bf2d-43e5-ad02-58b6189f11ae\")>,\n",
       " <selenium.webdriver.remote.webelement.WebElement (session=\"3e5ab66d846d062ce3535ca27540549d\", element=\"1736871d-dd0f-4706-87b7-1a48785bad7e\")>,\n",
       " <selenium.webdriver.remote.webelement.WebElement (session=\"3e5ab66d846d062ce3535ca27540549d\", element=\"3159b660-7090-42c3-819d-cfb0b9c6614f\")>,\n",
       " <selenium.webdriver.remote.webelement.WebElement (session=\"3e5ab66d846d062ce3535ca27540549d\", element=\"5e8284c1-024e-41f6-b98f-9a1c0c6ef4a2\")>,\n",
       " <selenium.webdriver.remote.webelement.WebElement (session=\"3e5ab66d846d062ce3535ca27540549d\", element=\"741e763b-d095-4a2c-ad5c-d0993b8894c5\")>,\n",
       " <selenium.webdriver.remote.webelement.WebElement (session=\"3e5ab66d846d062ce3535ca27540549d\", element=\"b91f0b0d-663b-4769-ab7c-b1ebb1a0b09a\")>,\n",
       " <selenium.webdriver.remote.webelement.WebElement (session=\"3e5ab66d846d062ce3535ca27540549d\", element=\"187e9b67-222c-4de1-8fd3-97d06f4d240c\")>,\n",
       " <selenium.webdriver.remote.webelement.WebElement (session=\"3e5ab66d846d062ce3535ca27540549d\", element=\"9590e03f-166c-473f-8001-4e91f8a2a110\")>,\n",
       " <selenium.webdriver.remote.webelement.WebElement (session=\"3e5ab66d846d062ce3535ca27540549d\", element=\"6247fcd6-2b21-495b-9d8e-0083f1e2f583\")>,\n",
       " <selenium.webdriver.remote.webelement.WebElement (session=\"3e5ab66d846d062ce3535ca27540549d\", element=\"c20431d3-8210-4149-b1ff-de6287e262f4\")>,\n",
       " <selenium.webdriver.remote.webelement.WebElement (session=\"3e5ab66d846d062ce3535ca27540549d\", element=\"96d880ab-96b0-4aa0-883e-9753df8aa186\")>,\n",
       " <selenium.webdriver.remote.webelement.WebElement (session=\"3e5ab66d846d062ce3535ca27540549d\", element=\"860e64c2-c37c-488a-8f1c-5e0ed17d6fa5\")>,\n",
       " <selenium.webdriver.remote.webelement.WebElement (session=\"3e5ab66d846d062ce3535ca27540549d\", element=\"f0ae045a-d658-4e3b-b74b-f5fae5f9a416\")>,\n",
       " <selenium.webdriver.remote.webelement.WebElement (session=\"3e5ab66d846d062ce3535ca27540549d\", element=\"3e3ec4ba-f54b-41eb-ae63-cf4d2c0a2288\")>,\n",
       " <selenium.webdriver.remote.webelement.WebElement (session=\"3e5ab66d846d062ce3535ca27540549d\", element=\"14946411-2d3f-418e-a303-f2163f17c5d5\")>,\n",
       " <selenium.webdriver.remote.webelement.WebElement (session=\"3e5ab66d846d062ce3535ca27540549d\", element=\"43a11a20-bfc8-4c92-8317-b885d68167ad\")>,\n",
       " <selenium.webdriver.remote.webelement.WebElement (session=\"3e5ab66d846d062ce3535ca27540549d\", element=\"ee061cc7-3065-4505-afaa-71935a141e42\")>,\n",
       " <selenium.webdriver.remote.webelement.WebElement (session=\"3e5ab66d846d062ce3535ca27540549d\", element=\"2b321b69-51dc-48b7-9a93-f21fccfa8600\")>,\n",
       " <selenium.webdriver.remote.webelement.WebElement (session=\"3e5ab66d846d062ce3535ca27540549d\", element=\"fce7413c-b905-44c3-8823-0423fdaab025\")>,\n",
       " <selenium.webdriver.remote.webelement.WebElement (session=\"3e5ab66d846d062ce3535ca27540549d\", element=\"70cdb5b4-da60-4943-9fcd-50decd78ac0a\")>,\n",
       " <selenium.webdriver.remote.webelement.WebElement (session=\"3e5ab66d846d062ce3535ca27540549d\", element=\"73400e3b-845b-4759-93d7-4ac8cfc30530\")>,\n",
       " <selenium.webdriver.remote.webelement.WebElement (session=\"3e5ab66d846d062ce3535ca27540549d\", element=\"eafd590d-1e23-4a03-8e58-2dc8e70faa29\")>,\n",
       " <selenium.webdriver.remote.webelement.WebElement (session=\"3e5ab66d846d062ce3535ca27540549d\", element=\"2b9ca5e5-b138-4623-bb56-f2e6a220c705\")>,\n",
       " <selenium.webdriver.remote.webelement.WebElement (session=\"3e5ab66d846d062ce3535ca27540549d\", element=\"fffa800e-8a47-4646-bc20-85c20eb473ef\")>,\n",
       " <selenium.webdriver.remote.webelement.WebElement (session=\"3e5ab66d846d062ce3535ca27540549d\", element=\"28a2f467-ac17-4157-b247-dde49897bdd7\")>,\n",
       " <selenium.webdriver.remote.webelement.WebElement (session=\"3e5ab66d846d062ce3535ca27540549d\", element=\"277cb74d-ef40-4746-8bec-69f0bf047f84\")>,\n",
       " <selenium.webdriver.remote.webelement.WebElement (session=\"3e5ab66d846d062ce3535ca27540549d\", element=\"ade0f05b-8c67-45e5-a4d4-c68c039f5384\")>,\n",
       " <selenium.webdriver.remote.webelement.WebElement (session=\"3e5ab66d846d062ce3535ca27540549d\", element=\"0c2127da-08bf-40d3-a151-e60c72a82db0\")>,\n",
       " <selenium.webdriver.remote.webelement.WebElement (session=\"3e5ab66d846d062ce3535ca27540549d\", element=\"e2973ec2-7330-4767-bf02-8ba65d1977d2\")>,\n",
       " <selenium.webdriver.remote.webelement.WebElement (session=\"3e5ab66d846d062ce3535ca27540549d\", element=\"83d6cce7-c6de-48d4-9ff8-9dc837999cba\")>]"
      ]
     },
     "execution_count": 78,
     "metadata": {},
     "output_type": "execute_result"
    }
   ],
   "source": [
    "# Extracting the web elements of the prices on the 3rd page.\n",
    "\n",
    "prc_tag3 = driver.find_elements_by_xpath('//div[@class=\"_30jeq3\"]')\n",
    "\n",
    "prc_tag3"
   ]
  },
  {
   "cell_type": "code",
   "execution_count": 79,
   "metadata": {},
   "outputs": [
    {
     "data": {
      "text/plain": [
       "['₹545',\n",
       " '₹237',\n",
       " '₹365',\n",
       " '₹712',\n",
       " '₹207',\n",
       " '₹895',\n",
       " '₹699',\n",
       " '₹314',\n",
       " '₹197',\n",
       " '₹309',\n",
       " '₹319',\n",
       " '₹664',\n",
       " '₹449',\n",
       " '₹499',\n",
       " '₹335',\n",
       " '₹1,415',\n",
       " '₹699',\n",
       " '₹233',\n",
       " '₹249',\n",
       " '₹1,025',\n",
       " '₹749',\n",
       " '₹16,911',\n",
       " '₹199',\n",
       " '₹1,135',\n",
       " '₹1,115',\n",
       " '₹569',\n",
       " '₹1,338',\n",
       " '₹699',\n",
       " '₹758',\n",
       " '₹323',\n",
       " '₹199',\n",
       " '₹1,299',\n",
       " '₹259',\n",
       " '₹1,601',\n",
       " '₹469',\n",
       " '₹990',\n",
       " '₹210',\n",
       " '₹196',\n",
       " '₹499',\n",
       " '₹1,085']"
      ]
     },
     "execution_count": 79,
     "metadata": {},
     "output_type": "execute_result"
    }
   ],
   "source": [
    "# Extracting the texts from the web elements on the 3rd page.\n",
    "\n",
    "prices3 = []\n",
    "for p3 in prc_tag3:\n",
    "    prices3.append(p3.text)\n",
    "    \n",
    "prices3"
   ]
  },
  {
   "cell_type": "code",
   "execution_count": 80,
   "metadata": {},
   "outputs": [
    {
     "data": {
      "text/plain": [
       "['₹499',\n",
       " '₹1,415',\n",
       " '₹299',\n",
       " '₹509',\n",
       " '₹349',\n",
       " '₹513',\n",
       " '₹237',\n",
       " '₹479',\n",
       " '₹592',\n",
       " '₹404',\n",
       " '₹399',\n",
       " '₹197',\n",
       " '₹499',\n",
       " '₹647',\n",
       " '₹299',\n",
       " '₹749',\n",
       " '₹349',\n",
       " '₹399',\n",
       " '₹217',\n",
       " '₹1,179',\n",
       " '₹733',\n",
       " '₹246',\n",
       " '₹265',\n",
       " '₹664',\n",
       " '₹449',\n",
       " '₹200',\n",
       " '₹499',\n",
       " '₹1,415',\n",
       " '₹225',\n",
       " '₹252',\n",
       " '₹503',\n",
       " '₹398',\n",
       " '₹199',\n",
       " '₹522',\n",
       " '₹655',\n",
       " '₹625',\n",
       " '₹1,085',\n",
       " '₹252',\n",
       " '₹212',\n",
       " '₹499',\n",
       " '₹199',\n",
       " '₹199',\n",
       " '₹189',\n",
       " '₹479',\n",
       " '₹449',\n",
       " '₹319',\n",
       " '₹237',\n",
       " '₹314',\n",
       " '₹349',\n",
       " '₹399',\n",
       " '₹299',\n",
       " '₹664',\n",
       " '₹1,010',\n",
       " '₹331',\n",
       " '₹379',\n",
       " '₹398',\n",
       " '₹755',\n",
       " '₹399',\n",
       " '₹215',\n",
       " '₹1,179',\n",
       " '₹237',\n",
       " '₹331',\n",
       " '₹558',\n",
       " '₹1,415',\n",
       " '₹162',\n",
       " '₹612',\n",
       " '₹399',\n",
       " '₹625',\n",
       " '₹281',\n",
       " '₹249',\n",
       " '₹225',\n",
       " '₹498',\n",
       " '₹299',\n",
       " '₹738',\n",
       " '₹424',\n",
       " '₹625',\n",
       " '₹449',\n",
       " '₹339',\n",
       " '₹292',\n",
       " '₹854',\n",
       " '₹545',\n",
       " '₹237',\n",
       " '₹365',\n",
       " '₹712',\n",
       " '₹207',\n",
       " '₹895',\n",
       " '₹699',\n",
       " '₹314',\n",
       " '₹197',\n",
       " '₹309',\n",
       " '₹319',\n",
       " '₹664',\n",
       " '₹449',\n",
       " '₹499',\n",
       " '₹335',\n",
       " '₹1,415',\n",
       " '₹699',\n",
       " '₹233',\n",
       " '₹249',\n",
       " '₹1,025']"
      ]
     },
     "execution_count": 80,
     "metadata": {},
     "output_type": "execute_result"
    }
   ],
   "source": [
    "# Getting prices of 100 products\n",
    "\n",
    "prices = prices1 + prices2 + prices3[:20]\n",
    "\n",
    "prices"
   ]
  },
  {
   "cell_type": "code",
   "execution_count": 81,
   "metadata": {},
   "outputs": [
    {
     "data": {
      "text/plain": [
       "100"
      ]
     },
     "execution_count": 81,
     "metadata": {},
     "output_type": "execute_result"
    }
   ],
   "source": [
    "len (prices)"
   ]
  },
  {
   "cell_type": "code",
   "execution_count": 82,
   "metadata": {},
   "outputs": [
    {
     "data": {
      "text/plain": [
       "[<selenium.webdriver.remote.webelement.WebElement (session=\"3e5ab66d846d062ce3535ca27540549d\", element=\"fd448b62-3990-4cec-9792-0710ad08e801\")>,\n",
       " <selenium.webdriver.remote.webelement.WebElement (session=\"3e5ab66d846d062ce3535ca27540549d\", element=\"fe32a771-a746-4030-a244-a2a7d45947d8\")>,\n",
       " <selenium.webdriver.remote.webelement.WebElement (session=\"3e5ab66d846d062ce3535ca27540549d\", element=\"904b093a-234b-4e43-9a60-98b7dac549fd\")>,\n",
       " <selenium.webdriver.remote.webelement.WebElement (session=\"3e5ab66d846d062ce3535ca27540549d\", element=\"c22082e6-749f-4711-bdc1-f957ffeb0041\")>,\n",
       " <selenium.webdriver.remote.webelement.WebElement (session=\"3e5ab66d846d062ce3535ca27540549d\", element=\"d29bd3c3-97d5-4edb-9b48-72e06e27921c\")>,\n",
       " <selenium.webdriver.remote.webelement.WebElement (session=\"3e5ab66d846d062ce3535ca27540549d\", element=\"a3ddd8ec-f153-454d-953a-8e9e5e9c5188\")>,\n",
       " <selenium.webdriver.remote.webelement.WebElement (session=\"3e5ab66d846d062ce3535ca27540549d\", element=\"40c182eb-1204-419b-891c-cf3d907f4b85\")>,\n",
       " <selenium.webdriver.remote.webelement.WebElement (session=\"3e5ab66d846d062ce3535ca27540549d\", element=\"f3095623-f3ce-4fd7-a634-721e7f828077\")>,\n",
       " <selenium.webdriver.remote.webelement.WebElement (session=\"3e5ab66d846d062ce3535ca27540549d\", element=\"57f95242-346a-4724-8dd1-b07bf3023e8f\")>,\n",
       " <selenium.webdriver.remote.webelement.WebElement (session=\"3e5ab66d846d062ce3535ca27540549d\", element=\"77dcda5e-99d2-456a-91fc-8000680cabfb\")>,\n",
       " <selenium.webdriver.remote.webelement.WebElement (session=\"3e5ab66d846d062ce3535ca27540549d\", element=\"f3bad948-8fe2-4101-bb4c-eb9bfe6441cb\")>,\n",
       " <selenium.webdriver.remote.webelement.WebElement (session=\"3e5ab66d846d062ce3535ca27540549d\", element=\"93fda2ca-8f1d-4cc0-a164-9f6c12cc0039\")>,\n",
       " <selenium.webdriver.remote.webelement.WebElement (session=\"3e5ab66d846d062ce3535ca27540549d\", element=\"f531f2d3-7358-44a6-965b-bd27515b0a80\")>,\n",
       " <selenium.webdriver.remote.webelement.WebElement (session=\"3e5ab66d846d062ce3535ca27540549d\", element=\"42c012ff-9e15-484a-aa15-be7c2f2d9f55\")>,\n",
       " <selenium.webdriver.remote.webelement.WebElement (session=\"3e5ab66d846d062ce3535ca27540549d\", element=\"df433b5a-fa76-4f0a-b759-d956d8dd9510\")>,\n",
       " <selenium.webdriver.remote.webelement.WebElement (session=\"3e5ab66d846d062ce3535ca27540549d\", element=\"64f49234-5e2c-47e4-a8a9-5ab8c5362026\")>,\n",
       " <selenium.webdriver.remote.webelement.WebElement (session=\"3e5ab66d846d062ce3535ca27540549d\", element=\"bf2e39a1-28d8-4182-821b-1b59cd93ed06\")>,\n",
       " <selenium.webdriver.remote.webelement.WebElement (session=\"3e5ab66d846d062ce3535ca27540549d\", element=\"06aef1e9-1387-4c34-adf5-5e97046dc73e\")>,\n",
       " <selenium.webdriver.remote.webelement.WebElement (session=\"3e5ab66d846d062ce3535ca27540549d\", element=\"eb2633bf-66a3-4679-a0eb-be6ab8414696\")>,\n",
       " <selenium.webdriver.remote.webelement.WebElement (session=\"3e5ab66d846d062ce3535ca27540549d\", element=\"c8ef4b12-b7da-4c7e-9937-aa9fcbca54fe\")>,\n",
       " <selenium.webdriver.remote.webelement.WebElement (session=\"3e5ab66d846d062ce3535ca27540549d\", element=\"5cd56b18-d779-4045-8806-69ce96829adc\")>,\n",
       " <selenium.webdriver.remote.webelement.WebElement (session=\"3e5ab66d846d062ce3535ca27540549d\", element=\"818806e2-e674-4b3a-97c4-24a20602f66b\")>,\n",
       " <selenium.webdriver.remote.webelement.WebElement (session=\"3e5ab66d846d062ce3535ca27540549d\", element=\"07713c15-d59f-48f6-9266-b8c2ce448083\")>,\n",
       " <selenium.webdriver.remote.webelement.WebElement (session=\"3e5ab66d846d062ce3535ca27540549d\", element=\"41153d58-d8c6-42e3-b0d6-a196546f381b\")>,\n",
       " <selenium.webdriver.remote.webelement.WebElement (session=\"3e5ab66d846d062ce3535ca27540549d\", element=\"4ff2e643-9ff1-42e3-b62d-664f7af391ec\")>,\n",
       " <selenium.webdriver.remote.webelement.WebElement (session=\"3e5ab66d846d062ce3535ca27540549d\", element=\"902ce297-cd9c-4232-8392-b04202863986\")>,\n",
       " <selenium.webdriver.remote.webelement.WebElement (session=\"3e5ab66d846d062ce3535ca27540549d\", element=\"6f2aceaf-d6d2-4ac0-bd04-7a938784e958\")>,\n",
       " <selenium.webdriver.remote.webelement.WebElement (session=\"3e5ab66d846d062ce3535ca27540549d\", element=\"a097eb3e-2d51-4daf-9750-ec3eea48fdd5\")>,\n",
       " <selenium.webdriver.remote.webelement.WebElement (session=\"3e5ab66d846d062ce3535ca27540549d\", element=\"05a62128-5bfd-4737-85c7-3c29be4f2a1b\")>,\n",
       " <selenium.webdriver.remote.webelement.WebElement (session=\"3e5ab66d846d062ce3535ca27540549d\", element=\"2f6e7407-5bef-4c67-8693-26c9ea58ca86\")>,\n",
       " <selenium.webdriver.remote.webelement.WebElement (session=\"3e5ab66d846d062ce3535ca27540549d\", element=\"58a4a575-ee4c-4ad5-be71-88e00ae4a515\")>,\n",
       " <selenium.webdriver.remote.webelement.WebElement (session=\"3e5ab66d846d062ce3535ca27540549d\", element=\"d2adafbc-72f4-4e28-bd5b-93e623ad879c\")>,\n",
       " <selenium.webdriver.remote.webelement.WebElement (session=\"3e5ab66d846d062ce3535ca27540549d\", element=\"db99a395-630a-4170-ad1f-5a4c804eecf5\")>,\n",
       " <selenium.webdriver.remote.webelement.WebElement (session=\"3e5ab66d846d062ce3535ca27540549d\", element=\"d7610a30-e83a-4a08-a3d6-4080eaacc49f\")>,\n",
       " <selenium.webdriver.remote.webelement.WebElement (session=\"3e5ab66d846d062ce3535ca27540549d\", element=\"0336b8b6-b31c-421e-b0a2-30423dff0222\")>,\n",
       " <selenium.webdriver.remote.webelement.WebElement (session=\"3e5ab66d846d062ce3535ca27540549d\", element=\"5330d8d8-4a75-4f14-9eb3-99f0433a46e4\")>,\n",
       " <selenium.webdriver.remote.webelement.WebElement (session=\"3e5ab66d846d062ce3535ca27540549d\", element=\"62e5d3b6-9e67-48f2-96e2-23a99005ff14\")>,\n",
       " <selenium.webdriver.remote.webelement.WebElement (session=\"3e5ab66d846d062ce3535ca27540549d\", element=\"b6af6447-edb4-4a8f-8c7d-9cea84f3be40\")>,\n",
       " <selenium.webdriver.remote.webelement.WebElement (session=\"3e5ab66d846d062ce3535ca27540549d\", element=\"4518cdb1-3754-40d5-8b03-1ac66b6c2b57\")>]"
      ]
     },
     "execution_count": 82,
     "metadata": {},
     "output_type": "execute_result"
    }
   ],
   "source": [
    "#Extracting the web elements of the %Discount on the 3rd page.\n",
    "\n",
    "disc_tag3 = driver.find_elements_by_xpath('//div[@class=\"_3Ay6Sb\"]')\n",
    "\n",
    "disc_tag3"
   ]
  },
  {
   "cell_type": "code",
   "execution_count": 83,
   "metadata": {},
   "outputs": [
    {
     "data": {
      "text/plain": [
       "['64% off',\n",
       " '85% off',\n",
       " '67% off',\n",
       " '60% off',\n",
       " '88% off',\n",
       " '30% off',\n",
       " '84% off',\n",
       " '80% off',\n",
       " '81% off',\n",
       " '81% off',\n",
       " '55% off',\n",
       " '83% off',\n",
       " '66% off',\n",
       " '70% off',\n",
       " '29% off',\n",
       " '65% off',\n",
       " '82% off',\n",
       " '80% off',\n",
       " '75% off',\n",
       " '62% off',\n",
       " '10% off',\n",
       " '80% off',\n",
       " '73% off',\n",
       " '14% off',\n",
       " '71% off',\n",
       " '4% off',\n",
       " '65% off',\n",
       " '15% off',\n",
       " '83% off',\n",
       " '84% off',\n",
       " '48% off',\n",
       " '87% off',\n",
       " '19% off',\n",
       " '72% off',\n",
       " '73% off',\n",
       " '82% off',\n",
       " '75% off',\n",
       " '75% off',\n",
       " '72% off']"
      ]
     },
     "execution_count": 83,
     "metadata": {},
     "output_type": "execute_result"
    }
   ],
   "source": [
    "# Extracting the texts from the web elements on the 3rd page.\n",
    "\n",
    "discount3 = []\n",
    "for d3 in disc_tag3:\n",
    "    discount3.append(d3.text)\n",
    "    \n",
    "discount3"
   ]
  },
  {
   "cell_type": "code",
   "execution_count": 84,
   "metadata": {},
   "outputs": [
    {
     "data": {
      "text/plain": [
       "['66% off',\n",
       " '29% off',\n",
       " '88% off',\n",
       " '36% off',\n",
       " '78% off',\n",
       " '35% off',\n",
       " '85% off',\n",
       " '76% off',\n",
       " '34% off',\n",
       " '79% off',\n",
       " '80% off',\n",
       " '85% off',\n",
       " '77% off',\n",
       " '28% off',\n",
       " '88% off',\n",
       " '62% off',\n",
       " '76% off',\n",
       " '73% off',\n",
       " '78% off',\n",
       " '41% off',\n",
       " '18% off',\n",
       " '83% off',\n",
       " '79% off',\n",
       " '55% off',\n",
       " '79% off',\n",
       " '83% off',\n",
       " '77% off',\n",
       " '29% off',\n",
       " '79% off',\n",
       " '83% off',\n",
       " '37% off',\n",
       " '72% off',\n",
       " '84% off',\n",
       " '41% off',\n",
       " '27% off',\n",
       " '70% off',\n",
       " '16% off',\n",
       " '74% off',\n",
       " '78% off',\n",
       " '61% off',\n",
       " '80% off',\n",
       " '80% off',\n",
       " '86% off',\n",
       " '76% off',\n",
       " '77% off',\n",
       " '84% off',\n",
       " '85% off',\n",
       " '84% off',\n",
       " '78% off',\n",
       " '80% off',\n",
       " '80% off',\n",
       " '55% off',\n",
       " '22% off',\n",
       " '79% off',\n",
       " '74% off',\n",
       " '72% off',\n",
       " '16% off',\n",
       " '80% off',\n",
       " '72% off',\n",
       " '41% off',\n",
       " '85% off',\n",
       " '87% off',\n",
       " '30% off',\n",
       " '29% off',\n",
       " '67% off',\n",
       " '31% off',\n",
       " '80% off',\n",
       " '70% off',\n",
       " '78% off',\n",
       " '79% off',\n",
       " '81% off',\n",
       " '70% off',\n",
       " '88% off',\n",
       " '26% off',\n",
       " '67% off',\n",
       " '70% off',\n",
       " '77% off',\n",
       " '83% off',\n",
       " '85% off',\n",
       " '57% off',\n",
       " '64% off',\n",
       " '85% off',\n",
       " '67% off',\n",
       " '60% off',\n",
       " '88% off',\n",
       " '30% off',\n",
       " '84% off',\n",
       " '80% off',\n",
       " '81% off',\n",
       " '81% off',\n",
       " '55% off',\n",
       " '83% off',\n",
       " '66% off',\n",
       " '70% off',\n",
       " '29% off',\n",
       " '65% off',\n",
       " '82% off',\n",
       " '80% off',\n",
       " '75% off',\n",
       " '62% off']"
      ]
     },
     "execution_count": 84,
     "metadata": {},
     "output_type": "execute_result"
    }
   ],
   "source": [
    "discounts = discount1 + discount2 + discount3[:20]\n",
    "\n",
    "discounts"
   ]
  },
  {
   "cell_type": "code",
   "execution_count": 85,
   "metadata": {},
   "outputs": [
    {
     "data": {
      "text/plain": [
       "100"
      ]
     },
     "execution_count": 85,
     "metadata": {},
     "output_type": "execute_result"
    }
   ],
   "source": [
    "len (discounts)"
   ]
  },
  {
   "cell_type": "code",
   "execution_count": 86,
   "metadata": {},
   "outputs": [
    {
     "data": {
      "text/html": [
       "<div>\n",
       "<style scoped>\n",
       "    .dataframe tbody tr th:only-of-type {\n",
       "        vertical-align: middle;\n",
       "    }\n",
       "\n",
       "    .dataframe tbody tr th {\n",
       "        vertical-align: top;\n",
       "    }\n",
       "\n",
       "    .dataframe thead th {\n",
       "        text-align: right;\n",
       "    }\n",
       "</style>\n",
       "<table border=\"1\" class=\"dataframe\">\n",
       "  <thead>\n",
       "    <tr style=\"text-align: right;\">\n",
       "      <th></th>\n",
       "      <th>Brand Name</th>\n",
       "      <th>Product Description</th>\n",
       "      <th>Prices</th>\n",
       "      <th>Discount Percentage</th>\n",
       "    </tr>\n",
       "  </thead>\n",
       "  <tbody>\n",
       "    <tr>\n",
       "      <th>0</th>\n",
       "      <td>ROYAL SON</td>\n",
       "      <td>UV Protection Rectangular Sunglasses (Free Size)</td>\n",
       "      <td>₹499</td>\n",
       "      <td>66% off</td>\n",
       "    </tr>\n",
       "    <tr>\n",
       "      <th>1</th>\n",
       "      <td>VINCENT CHASE</td>\n",
       "      <td>by Lenskart Polarized, UV Protection Cat-eye S...</td>\n",
       "      <td>₹1,415</td>\n",
       "      <td>29% off</td>\n",
       "    </tr>\n",
       "    <tr>\n",
       "      <th>2</th>\n",
       "      <td>kingsunglasses</td>\n",
       "      <td>Mirrored, UV Protection Wayfarer Sunglasses (F...</td>\n",
       "      <td>₹299</td>\n",
       "      <td>88% off</td>\n",
       "    </tr>\n",
       "    <tr>\n",
       "      <th>3</th>\n",
       "      <td>Fastrack</td>\n",
       "      <td>Gradient, UV Protection Wayfarer Sunglasses (F...</td>\n",
       "      <td>₹509</td>\n",
       "      <td>36% off</td>\n",
       "    </tr>\n",
       "    <tr>\n",
       "      <th>4</th>\n",
       "      <td>kingsunglasses</td>\n",
       "      <td>UV Protection Round Sunglasses (Free Size)</td>\n",
       "      <td>₹349</td>\n",
       "      <td>78% off</td>\n",
       "    </tr>\n",
       "    <tr>\n",
       "      <th>...</th>\n",
       "      <td>...</td>\n",
       "      <td>...</td>\n",
       "      <td>...</td>\n",
       "      <td>...</td>\n",
       "    </tr>\n",
       "    <tr>\n",
       "      <th>95</th>\n",
       "      <td>VINCENT CHASE</td>\n",
       "      <td>Polarized Round Sunglasses (56)</td>\n",
       "      <td>₹1,415</td>\n",
       "      <td>65% off</td>\n",
       "    </tr>\n",
       "    <tr>\n",
       "      <th>96</th>\n",
       "      <td>ROYAL SON</td>\n",
       "      <td>Polarized Rectangular Sunglasses (65)</td>\n",
       "      <td>₹699</td>\n",
       "      <td>82% off</td>\n",
       "    </tr>\n",
       "    <tr>\n",
       "      <th>97</th>\n",
       "      <td>GANSTA</td>\n",
       "      <td>UV Protection Aviator Sunglasses (57)</td>\n",
       "      <td>₹233</td>\n",
       "      <td>80% off</td>\n",
       "    </tr>\n",
       "    <tr>\n",
       "      <th>98</th>\n",
       "      <td>kingsunglasses</td>\n",
       "      <td>Mirrored, UV Protection Aviator Sunglasses (56)</td>\n",
       "      <td>₹249</td>\n",
       "      <td>75% off</td>\n",
       "    </tr>\n",
       "    <tr>\n",
       "      <th>99</th>\n",
       "      <td>AISLIN</td>\n",
       "      <td>UV Protection, Gradient Over-sized Sunglasses ...</td>\n",
       "      <td>₹1,025</td>\n",
       "      <td>62% off</td>\n",
       "    </tr>\n",
       "  </tbody>\n",
       "</table>\n",
       "<p>100 rows × 4 columns</p>\n",
       "</div>"
      ],
      "text/plain": [
       "       Brand Name                                Product Description   \\\n",
       "0        ROYAL SON   UV Protection Rectangular Sunglasses (Free Size)   \n",
       "1    VINCENT CHASE  by Lenskart Polarized, UV Protection Cat-eye S...   \n",
       "2   kingsunglasses  Mirrored, UV Protection Wayfarer Sunglasses (F...   \n",
       "3         Fastrack  Gradient, UV Protection Wayfarer Sunglasses (F...   \n",
       "4   kingsunglasses         UV Protection Round Sunglasses (Free Size)   \n",
       "..             ...                                                ...   \n",
       "95   VINCENT CHASE                    Polarized Round Sunglasses (56)   \n",
       "96       ROYAL SON              Polarized Rectangular Sunglasses (65)   \n",
       "97          GANSTA              UV Protection Aviator Sunglasses (57)   \n",
       "98  kingsunglasses    Mirrored, UV Protection Aviator Sunglasses (56)   \n",
       "99          AISLIN  UV Protection, Gradient Over-sized Sunglasses ...   \n",
       "\n",
       "    Prices   Discount Percentage   \n",
       "0      ₹499               66% off  \n",
       "1    ₹1,415               29% off  \n",
       "2      ₹299               88% off  \n",
       "3      ₹509               36% off  \n",
       "4      ₹349               78% off  \n",
       "..      ...                   ...  \n",
       "95   ₹1,415               65% off  \n",
       "96     ₹699               82% off  \n",
       "97     ₹233               80% off  \n",
       "98     ₹249               75% off  \n",
       "99   ₹1,025               62% off  \n",
       "\n",
       "[100 rows x 4 columns]"
      ]
     },
     "execution_count": 86,
     "metadata": {},
     "output_type": "execute_result"
    }
   ],
   "source": [
    "sunglasses = pd.DataFrame({})\n",
    "\n",
    "sunglasses[' Brand Name '] = brands\n",
    "sunglasses[' Product Description '] = descriptions\n",
    "sunglasses[' Prices '] = prices\n",
    "sunglasses[' Discount Percentage '] = discounts\n",
    "sunglasses "
   ]
  },
  {
   "cell_type": "markdown",
   "metadata": {},
   "source": [
    "------------------------------------------------------------------------------------------------------------------------------"
   ]
  },
  {
   "cell_type": "markdown",
   "metadata": {},
   "source": [
    "##### Q.No. 7 :- Scrape 100 reviews data from flipkart.com for iphone11 phone. You have to go the link: https://www.flipkart.com/apple-iphone-11-black-64-gb-includes\u0002earpods-power\u0002adapter/p/itm0f37c2240b217?pid=MOBFKCTSVZAXUHGR&lid=LSTMOBFKCTSVZAXUHGREPBFGI&marketplace."
   ]
  },
  {
   "cell_type": "markdown",
   "metadata": {},
   "source": [
    "-------------------------------------------------------------------------------------------------------------------------------"
   ]
  },
  {
   "cell_type": "code",
   "execution_count": 3,
   "metadata": {},
   "outputs": [],
   "source": [
    "url7 = 'https://www.flipkart.com/apple-iphone-11-black-64-gb-includes%02earpods-power%02adapter/p/itm0f37c2240b217?pid=MOBFKCTSVZAXUHGR&lid=LSTMOBFKC%20TSVZAXUHGREPBFGI&marketplace'\n",
    "\n",
    "driver.get(url7)"
   ]
  },
  {
   "cell_type": "code",
   "execution_count": 4,
   "metadata": {},
   "outputs": [
    {
     "data": {
      "text/plain": [
       "<selenium.webdriver.remote.webelement.WebElement (session=\"d1dfaf99fe810ae0edc9daba482a4dfc\", element=\"625f0417-2334-43d9-8554-1555c4895bfa\")>"
      ]
     },
     "execution_count": 4,
     "metadata": {},
     "output_type": "execute_result"
    }
   ],
   "source": [
    "# Extracting the web elements of the button to view 'All review'.\n",
    "\n",
    "rating_btn = driver.find_element_by_xpath('//div[@class=\"_3UAT2v _16PBlm\"]')\n",
    "\n",
    "rating_btn"
   ]
  },
  {
   "cell_type": "code",
   "execution_count": 5,
   "metadata": {},
   "outputs": [],
   "source": [
    "# Clicking on the all reviews button.\n",
    "\n",
    "rating_btn.click()"
   ]
  },
  {
   "cell_type": "code",
   "execution_count": 6,
   "metadata": {},
   "outputs": [
    {
     "data": {
      "text/plain": [
       "['https://www.flipkart.com/apple-iphone-11-black-64-gb-includes-earpods-power-adapter/product-reviews/itm0f37c2240b217?pid=MOBFKCTSVZAXUHGR&lid=LSTMOBFKCTSVZAXUHGREPBFGI&marketplace=FLIPKART&page=1',\n",
       " 'https://www.flipkart.com/apple-iphone-11-black-64-gb-includes-earpods-power-adapter/product-reviews/itm0f37c2240b217?pid=MOBFKCTSVZAXUHGR&lid=LSTMOBFKCTSVZAXUHGREPBFGI&marketplace=FLIPKART&page=2',\n",
       " 'https://www.flipkart.com/apple-iphone-11-black-64-gb-includes-earpods-power-adapter/product-reviews/itm0f37c2240b217?pid=MOBFKCTSVZAXUHGR&lid=LSTMOBFKCTSVZAXUHGREPBFGI&marketplace=FLIPKART&page=3',\n",
       " 'https://www.flipkart.com/apple-iphone-11-black-64-gb-includes-earpods-power-adapter/product-reviews/itm0f37c2240b217?pid=MOBFKCTSVZAXUHGR&lid=LSTMOBFKCTSVZAXUHGREPBFGI&marketplace=FLIPKART&page=4',\n",
       " 'https://www.flipkart.com/apple-iphone-11-black-64-gb-includes-earpods-power-adapter/product-reviews/itm0f37c2240b217?pid=MOBFKCTSVZAXUHGR&lid=LSTMOBFKCTSVZAXUHGREPBFGI&marketplace=FLIPKART&page=5',\n",
       " 'https://www.flipkart.com/apple-iphone-11-black-64-gb-includes-earpods-power-adapter/product-reviews/itm0f37c2240b217?pid=MOBFKCTSVZAXUHGR&lid=LSTMOBFKCTSVZAXUHGREPBFGI&marketplace=FLIPKART&page=6',\n",
       " 'https://www.flipkart.com/apple-iphone-11-black-64-gb-includes-earpods-power-adapter/product-reviews/itm0f37c2240b217?pid=MOBFKCTSVZAXUHGR&lid=LSTMOBFKCTSVZAXUHGREPBFGI&marketplace=FLIPKART&page=7',\n",
       " 'https://www.flipkart.com/apple-iphone-11-black-64-gb-includes-earpods-power-adapter/product-reviews/itm0f37c2240b217?pid=MOBFKCTSVZAXUHGR&lid=LSTMOBFKCTSVZAXUHGREPBFGI&marketplace=FLIPKART&page=8',\n",
       " 'https://www.flipkart.com/apple-iphone-11-black-64-gb-includes-earpods-power-adapter/product-reviews/itm0f37c2240b217?pid=MOBFKCTSVZAXUHGR&lid=LSTMOBFKCTSVZAXUHGREPBFGI&marketplace=FLIPKART&page=9',\n",
       " 'https://www.flipkart.com/apple-iphone-11-black-64-gb-includes-earpods-power-adapter/product-reviews/itm0f37c2240b217?pid=MOBFKCTSVZAXUHGR&lid=LSTMOBFKCTSVZAXUHGREPBFGI&marketplace=FLIPKART&page=10']"
      ]
     },
     "execution_count": 6,
     "metadata": {},
     "output_type": "execute_result"
    }
   ],
   "source": [
    "# Extracting the URLs.\n",
    "\n",
    "urls1 = []\n",
    "\n",
    "for l in driver.find_elements_by_xpath('//nav[@class=\"yFHi8N\"]//a'):\n",
    "    urls1.append(l.get_attribute('href'))\n",
    "    \n",
    "urls1 = urls1[:10]\n",
    "\n",
    "urls1"
   ]
  },
  {
   "cell_type": "code",
   "execution_count": 7,
   "metadata": {},
   "outputs": [
    {
     "data": {
      "text/plain": [
       "10"
      ]
     },
     "execution_count": 7,
     "metadata": {},
     "output_type": "execute_result"
    }
   ],
   "source": [
    "# Checking the length of URLs.\n",
    "\n",
    "len(urls1)"
   ]
  },
  {
   "cell_type": "code",
   "execution_count": 8,
   "metadata": {},
   "outputs": [],
   "source": [
    "# Defining variables and creating empty list to store the data.\n",
    "\n",
    "mobile_ratings = []\n",
    "mobile_summary = []\n",
    "mobile_review = []"
   ]
  },
  {
   "cell_type": "code",
   "execution_count": 9,
   "metadata": {},
   "outputs": [],
   "source": [
    "for i7 in urls1:\n",
    "    driver.get(i7)\n",
    "    time.sleep(20)\n",
    "    \n",
    "    # Extracting the review summary of the mobiles.\n",
    "    try:\n",
    "        summary7 = driver.find_elements_by_xpath('//p[@class=\"_2-N8zT\"]')\n",
    "        for s7 in summary7:\n",
    "            mobile_summary.append(s7.text)\n",
    "    except NoSuchElementException:\n",
    "        mobile_summary.append('---')\n",
    "        \n",
    "    # Extracting the full reviews of the mobile.\n",
    "    try:\n",
    "        review7 = driver.find_elements_by_xpath('//div[@class=\"t-ZTKy\"]')\n",
    "        for r7 in review7:\n",
    "            mobile_review.append(r7.text)\n",
    "    except NoSuchElementException:\n",
    "        mobile_review.append('---')\n",
    "        "
   ]
  },
  {
   "cell_type": "code",
   "execution_count": 10,
   "metadata": {},
   "outputs": [],
   "source": [
    "for i7 in urls1:\n",
    "    driver.get(i7)\n",
    "    time.sleep(10)\n",
    "    \n",
    "    # Extracting the mobile ratings.\n",
    "    rating7 = driver.find_elements_by_xpath('//div[@class=\"col _2wzgFH K0kLPL\"]/div[1]/div[1]')\n",
    "    for r7 in rating7:\n",
    "        if r7.text is None:\n",
    "            mobile_ratings.append(r7.text)\n",
    "        else:\n",
    "            mobile_ratings.append(\"---\")"
   ]
  },
  {
   "cell_type": "code",
   "execution_count": 12,
   "metadata": {},
   "outputs": [
    {
     "name": "stdout",
     "output_type": "stream",
     "text": [
      "100 100 100\n"
     ]
    }
   ],
   "source": [
    "print(len(mobile_ratings),len(mobile_summary), len(mobile_review))"
   ]
  },
  {
   "cell_type": "code",
   "execution_count": 14,
   "metadata": {},
   "outputs": [
    {
     "data": {
      "text/html": [
       "<div>\n",
       "<style scoped>\n",
       "    .dataframe tbody tr th:only-of-type {\n",
       "        vertical-align: middle;\n",
       "    }\n",
       "\n",
       "    .dataframe tbody tr th {\n",
       "        vertical-align: top;\n",
       "    }\n",
       "\n",
       "    .dataframe thead th {\n",
       "        text-align: right;\n",
       "    }\n",
       "</style>\n",
       "<table border=\"1\" class=\"dataframe\">\n",
       "  <thead>\n",
       "    <tr style=\"text-align: right;\">\n",
       "      <th></th>\n",
       "      <th>Ratings</th>\n",
       "      <th>Summary</th>\n",
       "      <th>Full Review</th>\n",
       "    </tr>\n",
       "  </thead>\n",
       "  <tbody>\n",
       "    <tr>\n",
       "      <th>0</th>\n",
       "      <td>---</td>\n",
       "      <td>Brilliant</td>\n",
       "      <td>The Best Phone for the Money\\n\\nThe iPhone 11 ...</td>\n",
       "    </tr>\n",
       "    <tr>\n",
       "      <th>1</th>\n",
       "      <td>---</td>\n",
       "      <td>Simply awesome</td>\n",
       "      <td>Really satisfied with the Product I received.....</td>\n",
       "    </tr>\n",
       "    <tr>\n",
       "      <th>2</th>\n",
       "      <td>---</td>\n",
       "      <td>Perfect product!</td>\n",
       "      <td>Amazing phone with great cameras and better ba...</td>\n",
       "    </tr>\n",
       "    <tr>\n",
       "      <th>3</th>\n",
       "      <td>---</td>\n",
       "      <td>Fabulous!</td>\n",
       "      <td>This is my first iOS phone. I am very happy wi...</td>\n",
       "    </tr>\n",
       "    <tr>\n",
       "      <th>4</th>\n",
       "      <td>---</td>\n",
       "      <td>Worth every penny</td>\n",
       "      <td>Previously I was using one plus 3t it was a gr...</td>\n",
       "    </tr>\n",
       "    <tr>\n",
       "      <th>...</th>\n",
       "      <td>...</td>\n",
       "      <td>...</td>\n",
       "      <td>...</td>\n",
       "    </tr>\n",
       "    <tr>\n",
       "      <th>95</th>\n",
       "      <td>---</td>\n",
       "      <td>Excellent</td>\n",
       "      <td>Value for money product. This iphone 11 is rea...</td>\n",
       "    </tr>\n",
       "    <tr>\n",
       "      <th>96</th>\n",
       "      <td>---</td>\n",
       "      <td>Best in the market!</td>\n",
       "      <td>The best all rounder iphone. Flipkart is doing...</td>\n",
       "    </tr>\n",
       "    <tr>\n",
       "      <th>97</th>\n",
       "      <td>---</td>\n",
       "      <td>Brilliant</td>\n",
       "      <td>A wort full value for money decision it’s . Si...</td>\n",
       "    </tr>\n",
       "    <tr>\n",
       "      <th>98</th>\n",
       "      <td>---</td>\n",
       "      <td>Wonderful</td>\n",
       "      <td>I genuinely liked it. One of the best mobile p...</td>\n",
       "    </tr>\n",
       "    <tr>\n",
       "      <th>99</th>\n",
       "      <td>---</td>\n",
       "      <td>Nice product</td>\n",
       "      <td>If you are looking for a premium phone under 5...</td>\n",
       "    </tr>\n",
       "  </tbody>\n",
       "</table>\n",
       "<p>100 rows × 3 columns</p>\n",
       "</div>"
      ],
      "text/plain": [
       "    Ratings              Summary   \\\n",
       "0        ---            Brilliant   \n",
       "1        ---       Simply awesome   \n",
       "2        ---     Perfect product!   \n",
       "3        ---            Fabulous!   \n",
       "4        ---    Worth every penny   \n",
       "..       ...                  ...   \n",
       "95       ---            Excellent   \n",
       "96       ---  Best in the market!   \n",
       "97       ---            Brilliant   \n",
       "98       ---            Wonderful   \n",
       "99       ---         Nice product   \n",
       "\n",
       "                                          Full Review  \n",
       "0   The Best Phone for the Money\\n\\nThe iPhone 11 ...  \n",
       "1   Really satisfied with the Product I received.....  \n",
       "2   Amazing phone with great cameras and better ba...  \n",
       "3   This is my first iOS phone. I am very happy wi...  \n",
       "4   Previously I was using one plus 3t it was a gr...  \n",
       "..                                                ...  \n",
       "95  Value for money product. This iphone 11 is rea...  \n",
       "96  The best all rounder iphone. Flipkart is doing...  \n",
       "97  A wort full value for money decision it’s . Si...  \n",
       "98  I genuinely liked it. One of the best mobile p...  \n",
       "99  If you are looking for a premium phone under 5...  \n",
       "\n",
       "[100 rows x 3 columns]"
      ]
     },
     "execution_count": 14,
     "metadata": {},
     "output_type": "execute_result"
    }
   ],
   "source": [
    "# Making the dataframe.\n",
    "\n",
    "mobiles7 = pd.DataFrame({})\n",
    "\n",
    "mobiles7[' Ratings '] = mobile_ratings\n",
    "mobiles7[' Summary '] = mobile_summary\n",
    "mobiles7[' Full Review'] = mobile_review\n",
    "\n",
    "mobiles7"
   ]
  },
  {
   "cell_type": "markdown",
   "metadata": {},
   "source": [
    "-------------------------------------------------------------------------------------------------------------------------------"
   ]
  },
  {
   "cell_type": "markdown",
   "metadata": {},
   "source": [
    "##### Q. No. 8 :- Scrape data for first 100 sneakers you find when you visit flipkart.com and search for “sneakers” in the search field."
   ]
  },
  {
   "cell_type": "markdown",
   "metadata": {},
   "source": [
    "------------------------------------------------------------------------------------------------------------------------------"
   ]
  },
  {
   "cell_type": "code",
   "execution_count": 3,
   "metadata": {},
   "outputs": [],
   "source": [
    "# Loading the web-page.\n",
    "\n",
    "url8 = 'https://www.flipkart.com/'\n",
    "\n",
    "driver.get(url8)"
   ]
  },
  {
   "cell_type": "code",
   "execution_count": 29,
   "metadata": {},
   "outputs": [
    {
     "data": {
      "text/plain": [
       "<selenium.webdriver.remote.webelement.WebElement (session=\"70c1cef55acdf88ccc639ebed7d39c48\", element=\"bf578775-3228-407c-bc48-b918c63d1135\")>"
      ]
     },
     "execution_count": 29,
     "metadata": {},
     "output_type": "execute_result"
    }
   ],
   "source": [
    "# Extracting the webelement of the search bar.\n",
    "\n",
    "src_tag8 = driver.find_element_by_xpath('//input[@class=\"_3704LK\"]')\n",
    "\n",
    "src_tag8"
   ]
  },
  {
   "cell_type": "code",
   "execution_count": 30,
   "metadata": {},
   "outputs": [],
   "source": [
    "# Entering 'sneakers' in the search bar.\n",
    "\n",
    "src_tag8.send_keys('sneakers')"
   ]
  },
  {
   "cell_type": "code",
   "execution_count": 31,
   "metadata": {},
   "outputs": [],
   "source": [
    "# Extracting the web element of the search button and clicking on the search button.\n",
    "\n",
    "src_btn8 = driver.find_element_by_xpath('//button[@class=\"L0Z3Pu\"]')\n",
    "\n",
    "src_btn8.click()"
   ]
  },
  {
   "cell_type": "code",
   "execution_count": 7,
   "metadata": {},
   "outputs": [
    {
     "data": {
      "text/plain": [
       "['https://www.flipkart.com/robbie-jones-casual-sneakers-green-shoes-men-boys/p/itm842febe84a991?pid=SHOG48BFTWTBRUVX&lid=LSTSHOG48BFTWTBRUVXZNBPHN&marketplace=FLIPKART&q=sneakers&store=osp%2Fcil%2Fe1f&srno=s_1_1&otracker=search&otracker1=search&fm=SEARCH&iid=en_BJ37ZRHFK9l8d%2FQkLLYebNHpczC4taMQib%2B5Upjb7TM%2BnkxutitDjSVB0WSlQfYa%2B0BsSXnXfhyQbNKaP5Us%2BA%3D%3D&ppt=hp&ppn=homepage&ssid=0q7yvnxvcw0000001625755570596&qH=a1743c0d39461290',\n",
       " 'https://www.flipkart.com/kardam-sons-fashinable-casual-sneaker-shoes-sneakers-men/p/itmf4743fafc2cb4?pid=SHOG4FDYHNCSSP3T&lid=LSTSHOG4FDYHNCSSP3TLQIK7N&marketplace=FLIPKART&q=sneakers&store=osp%2Fcil%2Fe1f&srno=s_1_2&otracker=search&otracker1=search&fm=SEARCH&iid=en_BJ37ZRHFK9l8d%2FQkLLYebNHpczC4taMQib%2B5Upjb7TNQ%2FUjXQYM7upToZ88yIn3h1RW7wjk3AFJ%2BSiRC%2FwD4RQ%3D%3D&ppt=hp&ppn=homepage&ssid=0q7yvnxvcw0000001625755570596&qH=a1743c0d39461290',\n",
       " 'https://www.flipkart.com/robbie-jones-casual-sneakers-shoes-men/p/itm5ee18096b212e?pid=SHOFVJG9EFVZTH9C&lid=LSTSHOFVJG9EFVZTH9CQIZLCU&marketplace=FLIPKART&q=sneakers&store=osp%2Fcil%2Fe1f&srno=s_1_3&otracker=search&otracker1=search&fm=SEARCH&iid=512571b4-21dd-4b40-ad45-27d674a65a29.SHOFVJG9EFVZTH9C.SEARCH&ppt=hp&ppn=homepage&ssid=0q7yvnxvcw0000001625755570596&qH=a1743c0d39461290',\n",
       " 'https://www.flipkart.com/numenzo-sneakers-men/p/itm072bfb0c5e869?pid=SHOFZ4RGEGXFYHY9&lid=LSTSHOFZ4RGEGXFYHY9UPNWTY&marketplace=FLIPKART&q=sneakers&store=osp%2Fcil%2Fe1f&srno=s_1_4&otracker=search&otracker1=search&fm=SEARCH&iid=512571b4-21dd-4b40-ad45-27d674a65a29.SHOFZ4RGEGXFYHY9.SEARCH&ppt=hp&ppn=homepage&ssid=0q7yvnxvcw0000001625755570596&qH=a1743c0d39461290',\n",
       " 'https://www.flipkart.com/asteroid-original-luxury-branded-fashionable-men-s-casual-walking-partywear-sneakers-running-white-shoes-men/p/itmadb9562baf1cd?pid=SHOG3F72H7HBVCSW&lid=LSTSHOG3F72H7HBVCSW2FOWAK&marketplace=FLIPKART&q=sneakers&store=osp%2Fcil%2Fe1f&spotlightTagId=TrendingId_osp%2Fcil%2Fe1f&srno=s_1_5&otracker=search&otracker1=search&fm=SEARCH&iid=512571b4-21dd-4b40-ad45-27d674a65a29.SHOG3F72H7HBVCSW.SEARCH&ppt=hp&ppn=homepage&ssid=0q7yvnxvcw0000001625755570596&qH=a1743c0d39461290',\n",
       " 'https://www.flipkart.com/birde-combo-pack-4-casual-shoes-sneakers-men/p/itm6e3d45add0c84?pid=SHOGYGTHK7F9W2ZF&lid=LSTSHOGYGTHK7F9W2ZF1JAISX&marketplace=FLIPKART&q=sneakers&store=osp%2Fcil%2Fe1f&srno=s_1_6&otracker=search&otracker1=search&fm=SEARCH&iid=512571b4-21dd-4b40-ad45-27d674a65a29.SHOGYGTHK7F9W2ZF.SEARCH&ppt=hp&ppn=homepage&ssid=0q7yvnxvcw0000001625755570596&qH=a1743c0d39461290',\n",
       " 'https://www.flipkart.com/pehanosa-sneakers-men/p/itm79691dee62250?pid=SHOGFXFQXJAHPSBV&lid=LSTSHOGFXFQXJAHPSBVCMHOML&marketplace=FLIPKART&q=sneakers&store=osp%2Fcil%2Fe1f&srno=s_1_7&otracker=search&otracker1=search&fm=SEARCH&iid=512571b4-21dd-4b40-ad45-27d674a65a29.SHOGFXFQXJAHPSBV.SEARCH&ppt=hp&ppn=homepage&ssid=0q7yvnxvcw0000001625755570596&qH=a1743c0d39461290',\n",
       " 'https://www.flipkart.com/chevit-combo-pack-4-casual-sneakers-men/p/itmfg2ybzgeygd6t?pid=SHOFGY97JGZTBRHY&lid=LSTSHOFGY97JGZTBRHYNP5E5F&marketplace=FLIPKART&q=sneakers&store=osp%2Fcil%2Fe1f&srno=s_1_8&otracker=search&otracker1=search&fm=SEARCH&iid=en_BJ37ZRHFK9l8d%2FQkLLYebNHpczC4taMQib%2B5Upjb7TP35aEDv597fpmZHuA9CgeVriwRq9m6RF9xgGff3BVUiA%3D%3D&ppt=hp&ppn=homepage&ssid=0q7yvnxvcw0000001625755570596&qH=a1743c0d39461290',\n",
       " 'https://www.flipkart.com/calcados-modern-trendy-shoes-combo-pack-4-sneakers-men/p/itm6d53374118bd3?pid=SHOGF43N3VVF8ATZ&lid=LSTSHOGF43N3VVF8ATZDIM8WW&marketplace=FLIPKART&q=sneakers&store=osp%2Fcil%2Fe1f&srno=s_1_9&otracker=search&otracker1=search&fm=SEARCH&iid=512571b4-21dd-4b40-ad45-27d674a65a29.SHOGF43N3VVF8ATZ.SEARCH&ppt=hp&ppn=homepage&ssid=0q7yvnxvcw0000001625755570596&qH=a1743c0d39461290',\n",
       " 'https://www.flipkart.com/labbin-sneakers-men/p/itm22551963c0809?pid=SHOG497GM6AVWCEU&lid=LSTSHOG497GM6AVWCEUBBOTEM&marketplace=FLIPKART&q=sneakers&store=osp%2Fcil%2Fe1f&srno=s_1_10&otracker=search&otracker1=search&fm=SEARCH&iid=512571b4-21dd-4b40-ad45-27d674a65a29.SHOG497GM6AVWCEU.SEARCH&ppt=hp&ppn=homepage&ssid=0q7yvnxvcw0000001625755570596&qH=a1743c0d39461290',\n",
       " 'https://www.flipkart.com/kulp-sneakers-men/p/itma5bdef0d0cea8?pid=SHOGFHHU2APTSMHW&lid=LSTSHOGFHHU2APTSMHW24GRPT&marketplace=FLIPKART&q=sneakers&store=osp%2Fcil%2Fe1f&srno=s_1_11&otracker=search&otracker1=search&fm=SEARCH&iid=512571b4-21dd-4b40-ad45-27d674a65a29.SHOGFHHU2APTSMHW.SEARCH&ppt=hp&ppn=homepage&ssid=0q7yvnxvcw0000001625755570596&qH=a1743c0d39461290',\n",
       " 'https://www.flipkart.com/india-hub-fashionable-casual-sneakers-shoes-men/p/itm5b26824d21d3a?pid=SHOFUZ4HWZXQJUKZ&lid=LSTSHOFUZ4HWZXQJUKZRC2YXW&marketplace=FLIPKART&q=sneakers&store=osp%2Fcil%2Fe1f&srno=s_1_12&otracker=search&otracker1=search&fm=SEARCH&iid=en_BJ37ZRHFK9l8d%2FQkLLYebNHpczC4taMQib%2B5Upjb7TMcUB%2BcyrnQNyrKFnwW%2BMyravjsteycPqGq0Fp20Ef3Qg%3D%3D&ppt=hp&ppn=homepage&ssid=0q7yvnxvcw0000001625755570596&qH=a1743c0d39461290',\n",
       " 'https://www.flipkart.com/shoes-bank-white-sneaker-men-s-boy-s-sneakers-men/p/itmf9p2zdypz2jyt?pid=SHOF9Z76DWFGAFWY&lid=LSTSHOF9Z76DWFGAFWYSDVYDU&marketplace=FLIPKART&q=sneakers&store=osp%2Fcil%2Fe1f&srno=s_1_13&otracker=search&otracker1=search&fm=SEARCH&iid=512571b4-21dd-4b40-ad45-27d674a65a29.SHOF9Z76DWFGAFWY.SEARCH&ppt=hp&ppn=homepage&ssid=0q7yvnxvcw0000001625755570596&qH=a1743c0d39461290',\n",
       " 'https://www.flipkart.com/world-wear-footwear-5011-latest-collection-stylish-casual-loafer-sneakers-shoes-men/p/itm01930e5430e12?pid=SHOFMY6NYMGEHRHX&lid=LSTSHOFMY6NYMGEHRHXR2SLIQ&marketplace=FLIPKART&q=sneakers&store=osp%2Fcil%2Fe1f&srno=s_1_14&otracker=search&otracker1=search&fm=SEARCH&iid=512571b4-21dd-4b40-ad45-27d674a65a29.SHOFMY6NYMGEHRHX.SEARCH&ppt=hp&ppn=homepage&ssid=0q7yvnxvcw0000001625755570596&qH=a1743c0d39461290',\n",
       " 'https://www.flipkart.com/chevit-super-stylish-trendy-combo-pack-02-pairs-sneakers-outdoor-loafer-sports-running-rock-climbing-gym-shoes-men/p/itmfce3a6f2183d4?pid=SHOGFVTAG39Y7ZHY&lid=LSTSHOGFVTAG39Y7ZHYPHBMOZ&marketplace=FLIPKART&q=sneakers&store=osp%2Fcil%2Fe1f&srno=s_1_15&otracker=search&otracker1=search&fm=SEARCH&iid=512571b4-21dd-4b40-ad45-27d674a65a29.SHOGFVTAG39Y7ZHY.SEARCH&ppt=hp&ppn=homepage&ssid=0q7yvnxvcw0000001625755570596&qH=a1743c0d39461290',\n",
       " 'https://www.flipkart.com/u-s-polo-assn-lebron-2-0-sneakers-men/p/itme12a3ae9f62da?pid=SHOG3N6S5DRGKZYU&lid=LSTSHOG3N6S5DRGKZYUSCPA9N&marketplace=FLIPKART&q=sneakers&store=osp%2Fcil%2Fe1f&srno=s_1_16&otracker=search&otracker1=search&fm=SEARCH&iid=en_BJ37ZRHFK9l8d%2FQkLLYebNHpczC4taMQib%2B5Upjb7TOKPesrIQZSuBWLxpciAkcaHZlFos1DKGMNHKEDVs7qPw%3D%3D&ppt=hp&ppn=homepage&ssid=0q7yvnxvcw0000001625755570596&qH=a1743c0d39461290',\n",
       " 'https://www.flipkart.com/chevit-super-445-fashion-sneakers-men/p/itm66119bb8aece9?pid=SHOFYAT7HUFHBTBE&lid=LSTSHOFYAT7HUFHBTBEAQJCEI&marketplace=FLIPKART&q=sneakers&store=osp%2Fcil%2Fe1f&srno=s_1_17&otracker=search&otracker1=search&fm=SEARCH&iid=512571b4-21dd-4b40-ad45-27d674a65a29.SHOFYAT7HUFHBTBE.SEARCH&ppt=hp&ppn=homepage&ssid=0q7yvnxvcw0000001625755570596&qH=a1743c0d39461290',\n",
       " 'https://www.flipkart.com/chevit-speed-set-5-pairs-sneakers-outdoors-casuals-men/p/itmccd9dcb86e757?pid=SHOFWJJFGKQEQFFW&lid=LSTSHOFWJJFGKQEQFFW0CKGNI&marketplace=FLIPKART&q=sneakers&store=osp%2Fcil%2Fe1f&srno=s_1_18&otracker=search&otracker1=search&fm=SEARCH&iid=512571b4-21dd-4b40-ad45-27d674a65a29.SHOFWJJFGKQEQFFW.SEARCH&ppt=hp&ppn=homepage&ssid=0q7yvnxvcw0000001625755570596&qH=a1743c0d39461290',\n",
       " 'https://www.flipkart.com/nilatin-black-sneaker-men-sneakers/p/itmd49f1f095b6ce?pid=SHOG42RAPAE6WQKG&lid=LSTSHOG42RAPAE6WQKGNMTZQD&marketplace=FLIPKART&q=sneakers&store=osp%2Fcil%2Fe1f&srno=s_1_19&otracker=search&otracker1=search&fm=SEARCH&iid=512571b4-21dd-4b40-ad45-27d674a65a29.SHOG42RAPAE6WQKG.SEARCH&ppt=hp&ppn=homepage&ssid=0q7yvnxvcw0000001625755570596&qH=a1743c0d39461290',\n",
       " 'https://www.flipkart.com/bruton-combo-pack-4-casual-shoes-loafer-sneakers-men/p/itmc6896607b3f0f?pid=SHOFUXXZZEU8Z3E6&lid=LSTSHOFUXXZZEU8Z3E68COZPZ&marketplace=FLIPKART&q=sneakers&store=osp%2Fcil%2Fe1f&srno=s_1_20&otracker=search&otracker1=search&fm=SEARCH&iid=en_BJ37ZRHFK9l8d%2FQkLLYebNHpczC4taMQib%2B5Upjb7TPMaTcNErir8E1Xt4mefbD%2FsRv83Nf2oJeWLzcEWNtWeA%3D%3D&ppt=hp&ppn=homepage&ssid=0q7yvnxvcw0000001625755570596&qH=a1743c0d39461290',\n",
       " 'https://www.flipkart.com/chevit-unique-perfect-collection-combo-pack-02-shoes-men-casual-sneakers-outdoor-walking-sport-running-gym-cycling-trekking-rock-climbing/p/itmff4e5480ba998?pid=SHOGYX9SX8ZHGMYH&lid=LSTSHOGYX9SX8ZHGMYHMNOSZZ&marketplace=FLIPKART&q=sneakers&store=osp%2Fcil%2Fe1f&srno=s_1_21&otracker=search&otracker1=search&fm=SEARCH&iid=512571b4-21dd-4b40-ad45-27d674a65a29.SHOGYX9SX8ZHGMYH.SEARCH&ppt=hp&ppn=homepage&ssid=0q7yvnxvcw0000001625755570596&qH=a1743c0d39461290',\n",
       " 'https://www.flipkart.com/believe-sneakers-men-black-6-men/p/itmfdyhg8ezwgav9?pid=SHOFDXWW9M7YNPPM&lid=LSTSHOFDXWW9M7YNPPM46ICQT&marketplace=FLIPKART&q=sneakers&store=osp%2Fcil%2Fe1f&srno=s_1_22&otracker=search&otracker1=search&fm=SEARCH&iid=512571b4-21dd-4b40-ad45-27d674a65a29.SHOFDXWW9M7YNPPM.SEARCH&ppt=hp&ppn=homepage&ssid=0q7yvnxvcw0000001625755570596&qH=a1743c0d39461290',\n",
       " 'https://www.flipkart.com/essence-casuals-sneakers-men/p/itm5f0ba0887b1f8?pid=SHOFK4QZG2HRUD6B&lid=LSTSHOFK4QZG2HRUD6BC8287E&marketplace=FLIPKART&q=sneakers&store=osp%2Fcil%2Fe1f&srno=s_1_23&otracker=search&otracker1=search&fm=SEARCH&iid=512571b4-21dd-4b40-ad45-27d674a65a29.SHOFK4QZG2HRUD6B.SEARCH&ppt=hp&ppn=homepage&ssid=0q7yvnxvcw0000001625755570596&qH=a1743c0d39461290',\n",
       " 'https://www.flipkart.com/robbie-jones-casual-sneakers-shoes-men/p/itm5ee18096b212e?pid=SHOFVJG9AWTPN5GJ&lid=LSTSHOFVJG9AWTPN5GJT4JSYQ&marketplace=FLIPKART&q=sneakers&store=osp%2Fcil%2Fe1f&srno=s_1_24&otracker=search&otracker1=search&fm=SEARCH&iid=en_BJ37ZRHFK9l8d%2FQkLLYebNHpczC4taMQib%2B5Upjb7TN6R79P2lqw4NwWTtrmXgtGo6B34NZcD3pbmtV4JLySmQ%3D%3D&ppt=hp&ppn=homepage&ssid=0q7yvnxvcw0000001625755570596&qH=a1743c0d39461290',\n",
       " 'https://www.flipkart.com/stefano-rads-classy-sneakers-men/p/itmf3xvz7y5zngns?pid=SHOERAYW83HKH9FX&lid=LSTSHOERAYW83HKH9FX0GODGZ&marketplace=FLIPKART&q=sneakers&store=osp%2Fcil%2Fe1f&srno=s_1_25&otracker=search&otracker1=search&fm=SEARCH&iid=512571b4-21dd-4b40-ad45-27d674a65a29.SHOERAYW83HKH9FX.SEARCH&ppt=hp&ppn=homepage&ssid=0q7yvnxvcw0000001625755570596&qH=a1743c0d39461290',\n",
       " 'https://www.flipkart.com/robbie-jones-sneakers-men/p/itmb630cbefaaf97?pid=SHOGF4HZY4QYKZ6M&lid=LSTSHOGF4HZY4QYKZ6MZSLDPN&marketplace=FLIPKART&q=sneakers&store=osp%2Fcil%2Fe1f&srno=s_1_26&otracker=search&otracker1=search&fm=SEARCH&iid=512571b4-21dd-4b40-ad45-27d674a65a29.SHOGF4HZY4QYKZ6M.SEARCH&ppt=hp&ppn=homepage&ssid=0q7yvnxvcw0000001625755570596&qH=a1743c0d39461290',\n",
       " 'https://www.flipkart.com/numenzo-sneakers-men/p/itm12368ade2be34?pid=SHOG3MZFWQRCMK5F&lid=LSTSHOG3MZFWQRCMK5FIPADHO&marketplace=FLIPKART&q=sneakers&store=osp%2Fcil%2Fe1f&srno=s_1_27&otracker=search&otracker1=search&fm=SEARCH&iid=512571b4-21dd-4b40-ad45-27d674a65a29.SHOG3MZFWQRCMK5F.SEARCH&ppt=hp&ppn=homepage&ssid=0q7yvnxvcw0000001625755570596&qH=a1743c0d39461290',\n",
       " 'https://www.flipkart.com/chevit-lightweight-pack-02-pair-shoes-men-casual-sneakers-outdoor-latest-stylish-sports-shoe-running-gym-cycling-trekking/p/itm1c06e22ff4f24?pid=SHOGYSYKJQTMTZHH&lid=LSTSHOGYSYKJQTMTZHHRDKFKC&marketplace=FLIPKART&q=sneakers&store=osp%2Fcil%2Fe1f&srno=s_1_28&otracker=search&otracker1=search&fm=SEARCH&iid=en_BJ37ZRHFK9l8d%2FQkLLYebNHpczC4taMQib%2B5Upjb7TOM3VPFw1t2nYUte97aQTfcJtRgwkEWJgiHjnValhnCXg%3D%3D&ppt=hp&ppn=homepage&ssid=0q7yvnxvcw0000001625755570596&qH=a1743c0d39461290',\n",
       " 'https://www.flipkart.com/bluemaker-casual-men-blue-06-sneakers/p/itm3f838f669177a?pid=SHOFUSH75ABRTZMY&lid=LSTSHOFUSH75ABRTZMY8H410M&marketplace=FLIPKART&q=sneakers&store=osp%2Fcil%2Fe1f&srno=s_1_29&otracker=search&otracker1=search&fm=SEARCH&iid=512571b4-21dd-4b40-ad45-27d674a65a29.SHOFUSH75ABRTZMY.SEARCH&ppt=hp&ppn=homepage&ssid=0q7yvnxvcw0000001625755570596&qH=a1743c0d39461290',\n",
       " 'https://www.flipkart.com/scatchite-sneakers-men/p/itmc13680b1d9604?pid=SHOFUDSUUG8AAMZZ&lid=LSTSHOFUDSUUG8AAMZZXEJRH6&marketplace=FLIPKART&q=sneakers&store=osp%2Fcil%2Fe1f&srno=s_1_30&otracker=search&otracker1=search&fm=SEARCH&iid=512571b4-21dd-4b40-ad45-27d674a65a29.SHOFUDSUUG8AAMZZ.SEARCH&ppt=hp&ppn=homepage&ssid=0q7yvnxvcw0000001625755570596&qH=a1743c0d39461290',\n",
       " 'https://www.flipkart.com/world-wear-footwear-sneakers-men/p/itmc042a22b4f1aa?pid=SHOFNKAB5J2DRMYS&lid=LSTSHOFNKAB5J2DRMYSRZSEX7&marketplace=FLIPKART&q=sneakers&store=osp%2Fcil%2Fe1f&srno=s_1_31&otracker=search&otracker1=search&fm=SEARCH&iid=512571b4-21dd-4b40-ad45-27d674a65a29.SHOFNKAB5J2DRMYS.SEARCH&ppt=hp&ppn=homepage&ssid=0q7yvnxvcw0000001625755570596&qH=a1743c0d39461290',\n",
       " 'https://www.flipkart.com/stranger-brothers-sneakers-men/p/itm9cd0abb73082c?pid=SHOFXGFV9MJKS4G7&lid=LSTSHOFXGFV9MJKS4G7LXMLRV&marketplace=FLIPKART&q=sneakers&store=osp%2Fcil%2Fe1f&srno=s_1_32&otracker=search&otracker1=search&fm=SEARCH&iid=en_BJ37ZRHFK9l8d%2FQkLLYebNHpczC4taMQib%2B5Upjb7TMt8%2BGVQIsunlBz5oqNGlS63NyS92DtTv22%2F4EN7dkJTw%3D%3D&ppt=hp&ppn=homepage&ssid=0q7yvnxvcw0000001625755570596&qH=a1743c0d39461290',\n",
       " 'https://www.flipkart.com/birde-combo-pack-5-casual-shoes-loafers-sneakers-men/p/itm139f7f99aea3b?pid=SHOFKGZPYFGTRH5Q&lid=LSTSHOFKGZPYFGTRH5QQAKDBK&marketplace=FLIPKART&q=sneakers&store=osp%2Fcil%2Fe1f&srno=s_1_33&otracker=search&otracker1=search&fm=SEARCH&iid=512571b4-21dd-4b40-ad45-27d674a65a29.SHOFKGZPYFGTRH5Q.SEARCH&ppt=hp&ppn=homepage&ssid=0q7yvnxvcw0000001625755570596&qH=a1743c0d39461290',\n",
       " 'https://www.flipkart.com/sparx-sm439g-sneakers-men/p/itm798025ba722d1?pid=SHOFP4PUFQKE5HGY&lid=LSTSHOFP4PUFQKE5HGYSVNBVF&marketplace=FLIPKART&q=sneakers&store=osp%2Fcil%2Fe1f&srno=s_1_34&otracker=search&otracker1=search&fm=SEARCH&iid=512571b4-21dd-4b40-ad45-27d674a65a29.SHOFP4PUFQKE5HGY.SEARCH&ppt=hp&ppn=homepage&ssid=0q7yvnxvcw0000001625755570596&qH=a1743c0d39461290',\n",
       " 'https://www.flipkart.com/robbie-jones-sneakers-men/p/itm71828864239ee?pid=SHOFWVUDSWMBMN4Q&lid=LSTSHOFWVUDSWMBMN4QLEXCTP&marketplace=FLIPKART&q=sneakers&store=osp%2Fcil%2Fe1f&srno=s_1_35&otracker=search&otracker1=search&fm=SEARCH&iid=512571b4-21dd-4b40-ad45-27d674a65a29.SHOFWVUDSWMBMN4Q.SEARCH&ppt=hp&ppn=homepage&ssid=0q7yvnxvcw0000001625755570596&qH=a1743c0d39461290',\n",
       " 'https://www.flipkart.com/chevit-stylish-comfort-combo-pack-02-pair-shoes-boys-casual-sneakers-outdoor-loafers-latest-sports-shoe-running-gym-cycling-trekking-men/p/itm57906ccccc146?pid=SHOGYS8NR5NFHJGH&lid=LSTSHOGYS8NR5NFHJGHQC64AW&marketplace=FLIPKART&q=sneakers&store=osp%2Fcil%2Fe1f&srno=s_1_36&otracker=search&otracker1=search&fm=SEARCH&iid=en_BJ37ZRHFK9l8d%2FQkLLYebNHpczC4taMQib%2B5Upjb7TNs2SVrDo1zuMiZzNN4typ%2FDy7fc%2BN30o7wG6HGsBT07w%3D%3D&ppt=hp&ppn=homepage&ssid=0q7yvnxvcw0000001625755570596&qH=a1743c0d39461290',\n",
       " 'https://www.flipkart.com/kraasa-series-7-sneakers-men/p/itmda307099c343b?pid=SHOGF3MZS3QHHYYM&lid=LSTSHOGF3MZS3QHHYYMCTPVQH&marketplace=FLIPKART&q=sneakers&store=osp%2Fcil%2Fe1f&srno=s_1_37&otracker=search&otracker1=search&fm=SEARCH&iid=512571b4-21dd-4b40-ad45-27d674a65a29.SHOGF3MZS3QHHYYM.SEARCH&ppt=hp&ppn=homepage&ssid=0q7yvnxvcw0000001625755570596&qH=a1743c0d39461290',\n",
       " 'https://www.flipkart.com/hotstyle-sneakers-men/p/itmfbwkjycr7hnwv?pid=SHOFBV6YYFZZUDA4&lid=LSTSHOFBV6YYFZZUDA4FIFE2L&marketplace=FLIPKART&q=sneakers&store=osp%2Fcil%2Fe1f&srno=s_1_38&otracker=search&otracker1=search&fm=SEARCH&iid=512571b4-21dd-4b40-ad45-27d674a65a29.SHOFBV6YYFZZUDA4.SEARCH&ppt=hp&ppn=homepage&ssid=0q7yvnxvcw0000001625755570596&qH=a1743c0d39461290',\n",
       " 'https://www.flipkart.com/wrizt-casual-sneakers-dancing-walking-sneakers-men/p/itm3631db68b0f9b?pid=SHOGYWYKBH5HQNKZ&lid=LSTSHOGYWYKBH5HQNKZU1MIDU&marketplace=FLIPKART&q=sneakers&store=osp%2Fcil%2Fe1f&srno=s_1_39&otracker=search&otracker1=search&fm=SEARCH&iid=512571b4-21dd-4b40-ad45-27d674a65a29.SHOGYWYKBH5HQNKZ.SEARCH&ppt=hp&ppn=homepage&ssid=0q7yvnxvcw0000001625755570596&qH=a1743c0d39461290',\n",
       " 'https://www.flipkart.com/shoelife-sneakers-men/p/itmed737bad3d6bd?pid=SHOFVZHENPWJEEVT&lid=LSTSHOFVZHENPWJEEVTWUIZL8&marketplace=FLIPKART&q=sneakers&store=osp%2Fcil%2Fe1f&srno=s_1_40&otracker=search&otracker1=search&fm=SEARCH&iid=en_BJ37ZRHFK9l8d%2FQkLLYebNHpczC4taMQib%2B5Upjb7TOYWsokyNPQmXFDff2iZfnSDe2ehem3k9ELDV0mp2%2FolA%3D%3D&ppt=hp&ppn=homepage&ssid=0q7yvnxvcw0000001625755570596&qH=a1743c0d39461290']"
      ]
     },
     "execution_count": 7,
     "metadata": {},
     "output_type": "execute_result"
    }
   ],
   "source": [
    "# Extracting the page URLs of the products.\n",
    "\n",
    "sneakers_urls = []\n",
    "\n",
    "url8 = driver.find_elements_by_xpath('//a[@class=\"_2UzuFa\"]')\n",
    "for u8 in url8:\n",
    "    sneakers_urls.append(u8.get_attribute('href'))\n",
    "    \n",
    "sneakers_urls"
   ]
  },
  {
   "cell_type": "code",
   "execution_count": 12,
   "metadata": {},
   "outputs": [
    {
     "data": {
      "text/plain": [
       "['Robbie jones ',\n",
       " 'kardam&sons ',\n",
       " 'Robbie jones ',\n",
       " 'Numenzo ',\n",
       " 'ASTEROID ',\n",
       " 'Birde ',\n",
       " 'PEHANOSA ',\n",
       " 'Chevit ',\n",
       " 'CALCADOS ',\n",
       " 'Labbin ',\n",
       " 'KULP ',\n",
       " 'India hub ',\n",
       " 'Shoes Bank ',\n",
       " 'World Wear Footwear ',\n",
       " 'Chevit ',\n",
       " 'U.S. POLO ASSN. ',\n",
       " 'Chevit ',\n",
       " 'Chevit ',\n",
       " 'Nilatin ',\n",
       " 'BRUTON ',\n",
       " 'Chevit ',\n",
       " 'believe ',\n",
       " 'ESSENCE ',\n",
       " 'Robbie jones ',\n",
       " 'Stefano Rads ',\n",
       " 'Robbie jones ',\n",
       " 'Numenzo ',\n",
       " 'Chevit ',\n",
       " 'bluemaker ',\n",
       " 'SCATCHITE ',\n",
       " 'World Wear Footwear ',\n",
       " 'STRANGER BROTHERS ',\n",
       " 'Birde ',\n",
       " 'SPARX ',\n",
       " 'Robbie jones ',\n",
       " 'Chevit ',\n",
       " 'Kraasa ',\n",
       " 'HOTSTYLE ',\n",
       " 'WRIZT ',\n",
       " 'SHOELIFE ']"
      ]
     },
     "execution_count": 12,
     "metadata": {},
     "output_type": "execute_result"
    }
   ],
   "source": [
    "# Extracting brand names from the first page urls of the sneakers.\n",
    "\n",
    "brands8 = []\n",
    "\n",
    "for b8 in sneakers_urls:\n",
    "    driver.get(b8)\n",
    "    time.sleep(2)\n",
    "    try:\n",
    "        brands_tag8 = driver.find_element_by_xpath('//span[@class=\"G6XhRU\"]')\n",
    "        brands8.append(brands_tag8.text)\n",
    "    except:\n",
    "        pass\n",
    "brands8"
   ]
  },
  {
   "cell_type": "code",
   "execution_count": 13,
   "metadata": {},
   "outputs": [
    {
     "data": {
      "text/plain": [
       "40"
      ]
     },
     "execution_count": 13,
     "metadata": {},
     "output_type": "execute_result"
    }
   ],
   "source": [
    "len(brands8)"
   ]
  },
  {
   "cell_type": "code",
   "execution_count": 10,
   "metadata": {},
   "outputs": [
    {
     "data": {
      "text/plain": [
       "['Casual Sneakers Green Shoes For Men And Boys Sneakers For Men  (White)',\n",
       " 'Fashinable casual sneaker shoes Sneakers For Men  (White)',\n",
       " 'Casual Sneakers Shoes For Men Sneakers For Men  (White)',\n",
       " 'Sneakers For Men  (White)',\n",
       " \"Original Luxury Branded Fashionable Men's Casual Walking Partywear Sneakers Running White Shoes Sneakers For Men  (White)\",\n",
       " 'Combo Pack of 4 Casual Shoes Sneakers For Men  (Multicolor)',\n",
       " 'Sneakers For Men  (Multicolor)',\n",
       " 'Combo Pack of 4 Casual Sneakers With Sneakers For Men  (Multicolor)',\n",
       " 'Modern Trendy Shoes Combo pack of 4 Sneakers For Men  (Multicolor)',\n",
       " 'Sneakers For Men  (White)',\n",
       " 'Sneakers For Men  (White)',\n",
       " 'Fashionable casual sneakers shoes Sneakers For Men  (Black)',\n",
       " \"White Sneaker For Men's/Boy's Sneakers For Men  (White)\",\n",
       " '5011-Latest Collection Stylish Casual Loafer Sneakers Shoes For Men Sneakers For Men  (Red)',\n",
       " 'Super Stylish & Trendy Combo Pack of 02 Pairs Sneakers Outdoor Loafer Sports for Running Rock Climbing Gym Shoes Sneakers For Men Sneakers For Men  (Grey, Navy)',\n",
       " 'LEBRON 2.0 Sneakers For Men  (Off White)',\n",
       " 'Super 445 Fashion Sneakers For Men  (Navy)',\n",
       " 'Speed Set of 5 Pairs Sneakers Outdoors Casuals for Men Sneakers For Men  (Multicolor)',\n",
       " 'Black Sneaker For Men Sneakers For Men  (Black)',\n",
       " 'Combo Pack Of 4 Casual Shoes Loafer Shoes Sneakers For Men  (Multicolor)',\n",
       " 'Unique & Perfect Collection Combo Pack of 02 Shoes for Men Casual Sneakers & Outdoor Walking Shoes for Men Sport Shoes for Men Running Gym Cycling & Trekking Rock Climbing Shoes for Men Sneakers For Men  (Black)',\n",
       " 'Sneakers for men(black_6) Sneakers For Men  (Black)',\n",
       " 'Casuals Sneakers For Men  (Blue)',\n",
       " 'Casual Sneakers Shoes For Men Sneakers For Men  (White)',\n",
       " 'Classy Sneakers For Men  (Blue)',\n",
       " 'Sneakers For Men  (White, Black)',\n",
       " 'Sneakers For Men  (Black)',\n",
       " 'Lightweight Pack of 02 Pair Shoes for Men Casual Sneakers Outdoor Shoes for Men Latest & Stylish Sports Shoe for Running Gym Cycling & Trekking Sneakers For Men Sneakers For Men  (Orange, Black)',\n",
       " 'casual for men (blue 06) Sneakers For Men  (Blue)',\n",
       " 'Sneakers Sneakers For Men  (White)',\n",
       " 'Sneakers For Men  (Grey)',\n",
       " 'Sneakers For Men  (White, Brown)',\n",
       " 'Combo Pack of 5 Casual Shoes Loafers Sneakers For Men  (Multicolor)',\n",
       " 'SM439G Sneakers For Men  (White)',\n",
       " 'Sneakers For Men  (Black)',\n",
       " 'Stylish & Comfort Combo Pack of 02 Pair Shoes for Boys Casual Sneakers Outdoor Loafers Shoes for Boys Latest & Stylish Sports Shoe for Running Gym Cycling & Trekking Sneakers For Boys Sneakers For Men  (Black, Tan)',\n",
       " 'Series 7 Sneakers For Men  (White)',\n",
       " 'Sneakers For Men  (Red)',\n",
       " 'Casual Sneakers,dancing, walking Sneakers For Men  (White, Black)',\n",
       " 'Sneakers For Men  (White)']"
      ]
     },
     "execution_count": 10,
     "metadata": {},
     "output_type": "execute_result"
    }
   ],
   "source": [
    "# Extracting product descriptions from the first page urls of the sneakers.\n",
    "\n",
    "pd_desc8 = []\n",
    "\n",
    "for d8 in sneakers_urls:\n",
    "    driver.get(d8)\n",
    "    time.sleep(2)\n",
    "    try:\n",
    "        pd_tag8 = driver.find_element_by_xpath('//span[@class=\"B_NuCI\"]')\n",
    "        pd_desc8.append(pd_tag8.text)\n",
    "    except:\n",
    "        pass\n",
    "pd_desc8"
   ]
  },
  {
   "cell_type": "code",
   "execution_count": 11,
   "metadata": {},
   "outputs": [
    {
     "data": {
      "text/plain": [
       "40"
      ]
     },
     "execution_count": 11,
     "metadata": {},
     "output_type": "execute_result"
    }
   ],
   "source": [
    "len(pd_desc8)"
   ]
  },
  {
   "cell_type": "code",
   "execution_count": 14,
   "metadata": {},
   "outputs": [
    {
     "data": {
      "text/plain": [
       "['₹499',\n",
       " '₹410',\n",
       " '₹379',\n",
       " '₹398',\n",
       " '₹499',\n",
       " '₹698',\n",
       " '₹497',\n",
       " '₹474',\n",
       " '₹748',\n",
       " '₹499',\n",
       " '₹399',\n",
       " '₹449',\n",
       " '₹349',\n",
       " '₹240',\n",
       " '₹599',\n",
       " '₹3,999',\n",
       " '₹389',\n",
       " '₹759',\n",
       " '₹449',\n",
       " '₹449',\n",
       " '₹470',\n",
       " '₹449',\n",
       " '₹399',\n",
       " '₹399',\n",
       " '₹242',\n",
       " '₹474',\n",
       " '₹449',\n",
       " '₹470',\n",
       " '₹449',\n",
       " '₹398',\n",
       " '₹240',\n",
       " '₹499',\n",
       " '₹698',\n",
       " '₹649',\n",
       " '₹449',\n",
       " '₹470',\n",
       " '₹499',\n",
       " '₹199',\n",
       " '₹279',\n",
       " '₹449']"
      ]
     },
     "execution_count": 14,
     "metadata": {},
     "output_type": "execute_result"
    }
   ],
   "source": [
    "# Extracting price from the first page urls of the sneakers.\n",
    "\n",
    "prices8 = []\n",
    "\n",
    "for p8 in sneakers_urls:\n",
    "    driver.get(p8)\n",
    "    time.sleep(2)\n",
    "    try:\n",
    "        pr_tag8 = driver.find_element_by_xpath('//div[@class=\"_30jeq3 _16Jk6d\"]')\n",
    "        prices8.append(pr_tag8.text)\n",
    "    except:\n",
    "        pass\n",
    "prices8"
   ]
  },
  {
   "cell_type": "code",
   "execution_count": 15,
   "metadata": {},
   "outputs": [
    {
     "data": {
      "text/plain": [
       "40"
      ]
     },
     "execution_count": 15,
     "metadata": {},
     "output_type": "execute_result"
    }
   ],
   "source": [
    "len(prices8)"
   ]
  },
  {
   "cell_type": "code",
   "execution_count": 20,
   "metadata": {},
   "outputs": [],
   "source": [
    "# Extracting the web element of the second page and clicking on it.\n",
    "\n",
    "pge2_tag8 = driver.find_element_by_xpath('//a[@class=\"ge-49M\"]')\n",
    "\n",
    "pge2_tag8.click()"
   ]
  },
  {
   "cell_type": "code",
   "execution_count": 21,
   "metadata": {},
   "outputs": [
    {
     "data": {
      "text/plain": [
       "['https://www.flipkart.com/robbie-jones-casual-sneakers-white-shoes-men/p/itm1cd015e596af2?pid=SHOG3HTSFF6EWGJD&lid=LSTSHOG3HTSFF6EWGJDKNLRWY&marketplace=FLIPKART&q=sneakers&store=osp%2Fcil%2Fe1f&srno=s_2_41&otracker=search&otracker1=search&fm=SEARCH&iid=4c734597-5a97-429c-966e-7e3a6cdc4944.SHOG3HTSFF6EWGJD.SEARCH&ppt=sp&ppn=sp&ssid=he0tnxsbyo0000001625758275869&qH=a1743c0d39461290',\n",
       " 'https://www.flipkart.com/3six5-sneakers-men/p/itmd5320fdfa51d7?pid=SHOG3HF4RATRW74G&lid=LSTSHOG3HF4RATRW74GKQYQPC&marketplace=FLIPKART&q=sneakers&store=osp%2Fcil%2Fe1f&srno=s_2_42&otracker=search&otracker1=search&fm=SEARCH&iid=4c734597-5a97-429c-966e-7e3a6cdc4944.SHOG3HF4RATRW74G.SEARCH&ppt=sp&ppn=sp&ssid=he0tnxsbyo0000001625758275869&qH=a1743c0d39461290',\n",
       " 'https://www.flipkart.com/sparx-sm439g-sneakers-men/p/itm798025ba722d1?pid=SHOFP4PUFQKE5HGY&lid=LSTSHOFP4PUFQKE5HGYSVNBVF&marketplace=FLIPKART&q=sneakers&store=osp%2Fcil%2Fe1f&srno=s_2_43&otracker=search&otracker1=search&fm=SEARCH&iid=4c734597-5a97-429c-966e-7e3a6cdc4944.SHOFP4PUFQKE5HGY.SEARCH&ppt=sp&ppn=sp&ssid=he0tnxsbyo0000001625758275869&qH=a1743c0d39461290',\n",
       " 'https://www.flipkart.com/clymb-comfort-air-net-super-quality-shoes-sneakers-men/p/itm1a388126589ff?pid=SHOG2Y3HHSYNGA6E&lid=LSTSHOG2Y3HHSYNGA6EHKEC8Y&marketplace=FLIPKART&q=sneakers&store=osp%2Fcil%2Fe1f&srno=s_2_44&otracker=search&otracker1=search&fm=SEARCH&iid=en_B6esM1mjqlhwD3c0PTowR%2B75dGL57HF2udWAzEmewJkMfPLUMXwSPc4Q6Lvy1R7wbnLKi%2FY8K6fTd141i6id2g%3D%3D&ppt=sp&ppn=sp&ssid=he0tnxsbyo0000001625758275869&qH=a1743c0d39461290',\n",
       " 'https://www.flipkart.com/restinfoot-casual-shoes-sneakers-men-s-shoes-men-s-sneakers-men/p/itmfeuvtqzmpswx7?pid=SHOFEUP9BYQZYYR7&lid=LSTSHOFEUP9BYQZYYR7SUBTDA&marketplace=FLIPKART&q=sneakers&store=osp%2Fcil%2Fe1f&srno=s_2_45&otracker=search&otracker1=search&fm=SEARCH&iid=4c734597-5a97-429c-966e-7e3a6cdc4944.SHOFEUP9BYQZYYR7.SEARCH&ppt=sp&ppn=sp&ssid=he0tnxsbyo0000001625758275869&qH=a1743c0d39461290',\n",
       " 'https://www.flipkart.com/absolute-comfort-soft-sneakers-men/p/itm01b8b3d676371?pid=SHOFTFP8AD9HUYVM&lid=LSTSHOFTFP8AD9HUYVMHSLVHE&marketplace=FLIPKART&q=sneakers&store=osp%2Fcil%2Fe1f&srno=s_2_46&otracker=search&otracker1=search&fm=SEARCH&iid=4c734597-5a97-429c-966e-7e3a6cdc4944.SHOFTFP8AD9HUYVM.SEARCH&ppt=sp&ppn=sp&ssid=he0tnxsbyo0000001625758275869&qH=a1743c0d39461290',\n",
       " 'https://www.flipkart.com/world-wear-footwear-latest-collection-1227-stylish-casual-sports-sneakers-men/p/itmf417d91f7b7b2?pid=SHOFJGUEKN5G9YFG&lid=LSTSHOFJGUEKN5G9YFGBFKDOL&marketplace=FLIPKART&q=sneakers&store=osp%2Fcil%2Fe1f&srno=s_2_47&otracker=search&otracker1=search&fm=SEARCH&iid=4c734597-5a97-429c-966e-7e3a6cdc4944.SHOFJGUEKN5G9YFG.SEARCH&ppt=sp&ppn=sp&ssid=he0tnxsbyo0000001625758275869&qH=a1743c0d39461290',\n",
       " 'https://www.flipkart.com/bluemaker-sneakers-men/p/itm3694200bdaf02?pid=SHOFP4YXDPVUJ8DT&lid=LSTSHOFP4YXDPVUJ8DTRTCPB1&marketplace=FLIPKART&q=sneakers&store=osp%2Fcil%2Fe1f&srno=s_2_48&otracker=search&otracker1=search&fm=SEARCH&iid=en_B6esM1mjqlhwD3c0PTowR%2B75dGL57HF2udWAzEmewJnTHyzoMdEYxR6%2BiOYrWY86f83rJEye4ow38hBIc2I90g%3D%3D&ppt=sp&ppn=sp&ssid=he0tnxsbyo0000001625758275869&qH=a1743c0d39461290',\n",
       " 'https://www.flipkart.com/arohi-sneakers-men/p/itm6902e4b22d54d?pid=SHOFZUBJEZGYCJXZ&lid=LSTSHOFZUBJEZGYCJXZQBFB6N&marketplace=FLIPKART&q=sneakers&store=osp%2Fcil%2Fe1f&srno=s_2_49&otracker=search&otracker1=search&fm=SEARCH&iid=4c734597-5a97-429c-966e-7e3a6cdc4944.SHOFZUBJEZGYCJXZ.SEARCH&ppt=sp&ppn=sp&ssid=he0tnxsbyo0000001625758275869&qH=a1743c0d39461290',\n",
       " 'https://www.flipkart.com/t-rock-synthetic-leather-casual-partywear-wedding-sneakers-shoes-men/p/itmfhkz7qghnktdg?pid=SHOFHKH6B39PV5HE&lid=LSTSHOFHKH6B39PV5HE3W1SEV&marketplace=FLIPKART&q=sneakers&store=osp%2Fcil%2Fe1f&srno=s_2_50&otracker=search&otracker1=search&fm=SEARCH&iid=4c734597-5a97-429c-966e-7e3a6cdc4944.SHOFHKH6B39PV5HE.SEARCH&ppt=sp&ppn=sp&ssid=he0tnxsbyo0000001625758275869&qH=a1743c0d39461290',\n",
       " 'https://www.flipkart.com/jokatoo-casual-sneaker-shoes-partywear-casuals-men-sneakers/p/itmbc07ae8e0f5fc?pid=SHOFMKKUWZQZHY3B&lid=LSTSHOFMKKUWZQZHY3B8RHJNE&marketplace=FLIPKART&q=sneakers&store=osp%2Fcil%2Fe1f&srno=s_2_51&otracker=search&otracker1=search&fm=SEARCH&iid=4c734597-5a97-429c-966e-7e3a6cdc4944.SHOFMKKUWZQZHY3B.SEARCH&ppt=sp&ppn=sp&ssid=he0tnxsbyo0000001625758275869&qH=a1743c0d39461290',\n",
       " 'https://www.flipkart.com/amico-designer-printed-casual-sneakers-shoes-men/p/itma39fee0d1bd3c?pid=SHOFP965AJAN2FYB&lid=LSTSHOFP965AJAN2FYBYSNCVG&marketplace=FLIPKART&q=sneakers&store=osp%2Fcil%2Fe1f&srno=s_2_52&otracker=search&otracker1=search&fm=SEARCH&iid=en_B6esM1mjqlhwD3c0PTowR%2B75dGL57HF2udWAzEmewJnjY21I2qX3MgOdzvcmSAcfwWhH%2BF6Favw12%2BlsLLytNQ%3D%3D&ppt=sp&ppn=sp&ssid=he0tnxsbyo0000001625758275869&qH=a1743c0d39461290',\n",
       " 'https://www.flipkart.com/bruton-combo-pack-4-casual-sneakers-men/p/itm1d1e636ead4f8?pid=SHOFUXX6KZQCXMQG&lid=LSTSHOFUXX6KZQCXMQGKFIAGB&marketplace=FLIPKART&q=sneakers&store=osp%2Fcil%2Fe1f&srno=s_2_53&otracker=search&otracker1=search&fm=SEARCH&iid=4c734597-5a97-429c-966e-7e3a6cdc4944.SHOFUXX6KZQCXMQG.SEARCH&ppt=sp&ppn=sp&ssid=he0tnxsbyo0000001625758275869&qH=a1743c0d39461290',\n",
       " 'https://www.flipkart.com/bluemaker-casual-men-beige-06-sneakers/p/itm04e50500732a9?pid=SHOFUSH7TPF8HXZA&lid=LSTSHOFUSH7TPF8HXZA0I23QQ&marketplace=FLIPKART&q=sneakers&store=osp%2Fcil%2Fe1f&srno=s_2_54&otracker=search&otracker1=search&fm=SEARCH&iid=4c734597-5a97-429c-966e-7e3a6cdc4944.SHOFUSH7TPF8HXZA.SEARCH&ppt=sp&ppn=sp&ssid=he0tnxsbyo0000001625758275869&qH=a1743c0d39461290',\n",
       " 'https://www.flipkart.com/world-wear-footwear-sneakers-men/p/itmc042a22b4f1aa?pid=SHOFNKAB5J2DRMYS&lid=LSTSHOFNKAB5J2DRMYSRZSEX7&marketplace=FLIPKART&q=sneakers&store=osp%2Fcil%2Fe1f&srno=s_2_55&otracker=search&otracker1=search&fm=SEARCH&iid=4c734597-5a97-429c-966e-7e3a6cdc4944.SHOFNKAB5J2DRMYS.SEARCH&ppt=sp&ppn=sp&ssid=he0tnxsbyo0000001625758275869&qH=a1743c0d39461290',\n",
       " 'https://www.flipkart.com/bluemaker-casual-men-sneakers/p/itm02405f7701115?pid=SHOFP4YXBDYU9EMQ&lid=LSTSHOFP4YXBDYU9EMQGSA5SB&marketplace=FLIPKART&q=sneakers&store=osp%2Fcil%2Fe1f&srno=s_2_56&otracker=search&otracker1=search&fm=SEARCH&iid=en_B6esM1mjqlhwD3c0PTowR%2B75dGL57HF2udWAzEmewJkWra2pgTzMAdPptctPPJzxqE4tfCXbCOs%2BFFrRnF0Z9g%3D%3D&ppt=sp&ppn=sp&ssid=he0tnxsbyo0000001625758275869&qH=a1743c0d39461290',\n",
       " 'https://www.flipkart.com/kraasa-series-7-sneakers-men/p/itmda307099c343b?pid=SHOGF3MZS3QHHYYM&lid=LSTSHOGF3MZS3QHHYYMCTPVQH&marketplace=FLIPKART&q=sneakers&store=osp%2Fcil%2Fe1f&srno=s_2_57&otracker=search&otracker1=search&fm=SEARCH&iid=4c734597-5a97-429c-966e-7e3a6cdc4944.SHOGF3MZS3QHHYYM.SEARCH&ppt=sp&ppn=sp&ssid=he0tnxsbyo0000001625758275869&qH=a1743c0d39461290',\n",
       " 'https://www.flipkart.com/world-wear-footwear-men-5014-latest-collection-stylish-casual-sports-loafers-shoes-sneakers/p/itme2c602df3a559?pid=SHOFNKABXC5Z6B6Z&lid=LSTSHOFNKABXC5Z6B6ZPEG7CD&marketplace=FLIPKART&q=sneakers&store=osp%2Fcil%2Fe1f&srno=s_2_58&otracker=search&otracker1=search&fm=SEARCH&iid=4c734597-5a97-429c-966e-7e3a6cdc4944.SHOFNKABXC5Z6B6Z.SEARCH&ppt=sp&ppn=sp&ssid=he0tnxsbyo0000001625758275869&qH=a1743c0d39461290',\n",
       " 'https://www.flipkart.com/essence-trendy-sneakers-men/p/itm8d585afd62014?pid=SHOFVXKTSHF8AJ5C&lid=LSTSHOFVXKTSHF8AJ5COIYBBN&marketplace=FLIPKART&q=sneakers&store=osp%2Fcil%2Fe1f&srno=s_2_59&otracker=search&otracker1=search&fm=SEARCH&iid=4c734597-5a97-429c-966e-7e3a6cdc4944.SHOFVXKTSHF8AJ5C.SEARCH&ppt=sp&ppn=sp&ssid=he0tnxsbyo0000001625758275869&qH=a1743c0d39461290',\n",
       " 'https://www.flipkart.com/bluemaker-casual-men-beige-10-sneakers/p/itm04e50500732a9?pid=SHOFUSH738HYZF3X&lid=LSTSHOFUSH738HYZF3XNTXNHF&marketplace=FLIPKART&q=sneakers&store=osp%2Fcil%2Fe1f&srno=s_2_60&otracker=search&otracker1=search&fm=SEARCH&iid=en_B6esM1mjqlhwD3c0PTowR%2B75dGL57HF2udWAzEmewJmEtSy3bqNXj2KJnmleMdhy3TtIeZFYjY74xz3x6HHtzA%3D%3D&ppt=sp&ppn=sp&ssid=he0tnxsbyo0000001625758275869&qH=a1743c0d39461290',\n",
       " 'https://www.flipkart.com/kardam-sons-fashionable-casual-sneaker-shoes-sneakers-men/p/itm1a790775c3b9f?pid=SHOG2FU4K3NRZ2WT&lid=LSTSHOG2FU4K3NRZ2WT21CMUJ&marketplace=FLIPKART&q=sneakers&store=osp%2Fcil%2Fe1f&srno=s_2_61&otracker=search&otracker1=search&fm=SEARCH&iid=4c734597-5a97-429c-966e-7e3a6cdc4944.SHOG2FU4K3NRZ2WT.SEARCH&ppt=sp&ppn=sp&ssid=he0tnxsbyo0000001625758275869&qH=a1743c0d39461290',\n",
       " 'https://www.flipkart.com/zsyto-sneakers-men/p/itmd1559e06f06f0?pid=SHOG4BNP7BZYFWKP&lid=LSTSHOG4BNP7BZYFWKPVMYOZT&marketplace=FLIPKART&q=sneakers&store=osp%2Fcil%2Fe1f&srno=s_2_62&otracker=search&otracker1=search&fm=SEARCH&iid=4c734597-5a97-429c-966e-7e3a6cdc4944.SHOG4BNP7BZYFWKP.SEARCH&ppt=sp&ppn=sp&ssid=he0tnxsbyo0000001625758275869&qH=a1743c0d39461290',\n",
       " 'https://www.flipkart.com/sparx-sm-322-sneakers-men/p/itmf27234d02f4d7?pid=SHOFFTAEYYZU6ZDX&lid=LSTSHOFFTAEYYZU6ZDXFF48Q8&marketplace=FLIPKART&q=sneakers&store=osp%2Fcil%2Fe1f&srno=s_2_63&otracker=search&otracker1=search&fm=SEARCH&iid=4c734597-5a97-429c-966e-7e3a6cdc4944.SHOFFTAEYYZU6ZDX.SEARCH&ppt=sp&ppn=sp&ssid=he0tnxsbyo0000001625758275869&qH=a1743c0d39461290',\n",
       " 'https://www.flipkart.com/jubenta-latest-design-sneakers-men/p/itm4a015aac0d99f?pid=SHOGF9PMGZDZQZPH&lid=LSTSHOGF9PMGZDZQZPHNY08FJ&marketplace=FLIPKART&q=sneakers&store=osp%2Fcil%2Fe1f&srno=s_2_64&otracker=search&otracker1=search&fm=SEARCH&iid=en_B6esM1mjqlhwD3c0PTowR%2B75dGL57HF2udWAzEmewJm6q7LqbUPw3IoZK%2Bx3jg1TWhhy%2BVf8LebCTC2zV32uCQ%3D%3D&ppt=sp&ppn=sp&ssid=he0tnxsbyo0000001625758275869&qH=a1743c0d39461290',\n",
       " 'https://www.flipkart.com/roddick-shoes-fashion-outdoor-canvas-casual-light-weight-lace-up-evening-walk-running-men-sneakers/p/itmef0811c89a216?pid=SHOG48CZJDPYGQ7P&lid=LSTSHOG48CZJDPYGQ7PNIBTKS&marketplace=FLIPKART&q=sneakers&store=osp%2Fcil%2Fe1f&srno=s_2_65&otracker=search&otracker1=search&fm=SEARCH&iid=4c734597-5a97-429c-966e-7e3a6cdc4944.SHOG48CZJDPYGQ7P.SEARCH&ppt=sp&ppn=sp&ssid=he0tnxsbyo0000001625758275869&qH=a1743c0d39461290',\n",
       " 'https://www.flipkart.com/fzzirok-premium-quality-sneakers-men/p/itm513fd99fa782c?pid=SHOFWX2PWEBTZYN8&lid=LSTSHOFWX2PWEBTZYN8MEQZQR&marketplace=FLIPKART&q=sneakers&store=osp%2Fcil%2Fe1f&srno=s_2_66&otracker=search&otracker1=search&fm=SEARCH&iid=4c734597-5a97-429c-966e-7e3a6cdc4944.SHOFWX2PWEBTZYN8.SEARCH&ppt=sp&ppn=sp&ssid=he0tnxsbyo0000001625758275869&qH=a1743c0d39461290',\n",
       " 'https://www.flipkart.com/birde-combo-pack-4-casual-shoes-sneakers-men/p/itm3915ef2ffae83?pid=SHOGFAZ9GTDPBCWR&lid=LSTSHOGFAZ9GTDPBCWR1JIPNM&marketplace=FLIPKART&q=sneakers&store=osp%2Fcil%2Fe1f&srno=s_2_67&otracker=search&otracker1=search&fm=SEARCH&iid=4c734597-5a97-429c-966e-7e3a6cdc4944.SHOGFAZ9GTDPBCWR.SEARCH&ppt=sp&ppn=sp&ssid=he0tnxsbyo0000001625758275869&qH=a1743c0d39461290',\n",
       " 'https://www.flipkart.com/numenzo-sneakers-men/p/itm072bfb0c5e869?pid=SHOFZ4RGXZGFRJZX&lid=LSTSHOFZ4RGXZGFRJZXKYMBPF&marketplace=FLIPKART&q=sneakers&store=osp%2Fcil%2Fe1f&srno=s_2_68&otracker=search&otracker1=search&fm=SEARCH&iid=en_B6esM1mjqlhwD3c0PTowR%2B75dGL57HF2udWAzEmewJm649czJytv5orXCcC4fm4AekH1KRKGDj48nEGCHRaIkw%3D%3D&ppt=sp&ppn=sp&ssid=he0tnxsbyo0000001625758275869&qH=a1743c0d39461290',\n",
       " 'https://www.flipkart.com/magnolia-sneakers-men/p/itmb42a681797f2d?pid=SHOGYAAFUZKMR64D&lid=LSTSHOGYAAFUZKMR64DI8THYW&marketplace=FLIPKART&q=sneakers&store=osp%2Fcil%2Fe1f&srno=s_2_69&otracker=search&otracker1=search&fm=SEARCH&iid=4c734597-5a97-429c-966e-7e3a6cdc4944.SHOGYAAFUZKMR64D.SEARCH&ppt=sp&ppn=sp&ssid=he0tnxsbyo0000001625758275869&qH=a1743c0d39461290',\n",
       " 'https://www.flipkart.com/ktiz-rockstyle-trending-multicolor-ultralight-canvas-sport-training-lace-up-morning-evening-walk-dating-running-shoes-men-sports-latest-stylish-casual-sneakers-lace-up-lightweight-running-walking-gym-trekking-hiking-party/p/itm36847ea3fc492?pid=SHOFYPTAVZDHWZU2&lid=LSTSHOFYPTAVZDHWZU2WVIZ5U&marketplace=FLIPKART&q=sneakers&store=osp%2Fcil%2Fe1f&srno=s_2_70&otracker=search&otracker1=search&fm=SEARCH&iid=4c734597-5a97-429c-966e-7e3a6cdc4944.SHOFYPTAVZDHWZU2.SEARCH&ppt=sp&ppn=sp&ssid=he0tnxsbyo0000001625758275869&qH=a1743c0d39461290',\n",
       " 'https://www.flipkart.com/hotstyle-sneakers-men/p/itmd61642c1b04ea?pid=SHOFQ3GJHWJJKEUH&lid=LSTSHOFQ3GJHWJJKEUHULOYQS&marketplace=FLIPKART&q=sneakers&store=osp%2Fcil%2Fe1f&srno=s_2_71&otracker=search&otracker1=search&fm=SEARCH&iid=4c734597-5a97-429c-966e-7e3a6cdc4944.SHOFQ3GJHWJJKEUH.SEARCH&ppt=sp&ppn=sp&ssid=he0tnxsbyo0000001625758275869&qH=a1743c0d39461290',\n",
       " 'https://www.flipkart.com/pexlo-combo-pack-3-casual-sneakers-shoes-men/p/itmdc47fa2318526?pid=SHOFZTGGHFCSY4XS&lid=LSTSHOFZTGGHFCSY4XSTXBJM0&marketplace=FLIPKART&q=sneakers&store=osp%2Fcil%2Fe1f&srno=s_2_72&otracker=search&otracker1=search&fm=SEARCH&iid=en_B6esM1mjqlhwD3c0PTowR%2B75dGL57HF2udWAzEmewJnp8LlsvkFHM0BiNPW9y5d3ME2GYPyubmjw6ZNSB4nnDQ%3D%3D&ppt=sp&ppn=sp&ssid=he0tnxsbyo0000001625758275869&qH=a1743c0d39461290',\n",
       " 'https://www.flipkart.com/t-rock-synthetic-leather-casual-sneakers-shoes-men/p/itm283ca9754de72?pid=SHOGYWCGGMT8GXXW&lid=LSTSHOGYWCGGMT8GXXWYAOE3Y&marketplace=FLIPKART&q=sneakers&store=osp%2Fcil%2Fe1f&srno=s_2_73&otracker=search&otracker1=search&fm=SEARCH&iid=4c734597-5a97-429c-966e-7e3a6cdc4944.SHOGYWCGGMT8GXXW.SEARCH&ppt=sp&ppn=sp&ssid=he0tnxsbyo0000001625758275869&qH=a1743c0d39461290',\n",
       " 'https://www.flipkart.com/chevit-affordable-combo-pack-02-pairs-sneakers-outdoor-loafer-sports-running-rock-climbing-gym-shoes-men/p/itm22f366c668d4f?pid=SHOGYS7MKNKECYBU&lid=LSTSHOGYS7MKNKECYBUFXZWHF&marketplace=FLIPKART&q=sneakers&store=osp%2Fcil%2Fe1f&srno=s_2_74&otracker=search&otracker1=search&fm=SEARCH&iid=4c734597-5a97-429c-966e-7e3a6cdc4944.SHOGYS7MKNKECYBU.SEARCH&ppt=sp&ppn=sp&ssid=he0tnxsbyo0000001625758275869&qH=a1743c0d39461290',\n",
       " 'https://www.flipkart.com/robbie-jones-casual-sneakers-green-shoes-men-boys/p/itm842febe84a991?pid=SHOG48BFTWTBRUVX&lid=LSTSHOG48BFTWTBRUVXZNBPHN&marketplace=FLIPKART&q=sneakers&store=osp%2Fcil%2Fe1f&srno=s_2_75&otracker=search&otracker1=search&fm=SEARCH&iid=4c734597-5a97-429c-966e-7e3a6cdc4944.SHOG48BFTWTBRUVX.SEARCH&ppt=sp&ppn=sp&ssid=he0tnxsbyo0000001625758275869&qH=a1743c0d39461290',\n",
       " 'https://www.flipkart.com/jack-diamond-sneakers-men/p/itmfg3zsnpc53pes?pid=SHOFG3REUWHYBHBA&lid=LSTSHOFG3REUWHYBHBA77CGXA&marketplace=FLIPKART&q=sneakers&store=osp%2Fcil%2Fe1f&srno=s_2_76&otracker=search&otracker1=search&fm=SEARCH&iid=en_B6esM1mjqlhwD3c0PTowR%2B75dGL57HF2udWAzEmewJkwdrGfmEc1clS2Az7GPyURsQ0hiIOAA7USKkl8gySlXA%3D%3D&ppt=sp&ppn=sp&ssid=he0tnxsbyo0000001625758275869&qH=a1743c0d39461290',\n",
       " 'https://www.flipkart.com/stranger-brothers-sneakers-men/p/itma25b0e41be4ec?pid=SHOG44DPPTT9RNUU&lid=LSTSHOG44DPPTT9RNUU0YEM8T&marketplace=FLIPKART&q=sneakers&store=osp%2Fcil%2Fe1f&srno=s_2_77&otracker=search&otracker1=search&fm=SEARCH&iid=4c734597-5a97-429c-966e-7e3a6cdc4944.SHOG44DPPTT9RNUU.SEARCH&ppt=sp&ppn=sp&ssid=he0tnxsbyo0000001625758275869&qH=a1743c0d39461290',\n",
       " 'https://www.flipkart.com/bruton-combo-pack-2-casual-shoes-sneakers-men/p/itmaa04ad3f21386?pid=SHOGY3ETRQ9SEWGR&lid=LSTSHOGY3ETRQ9SEWGRISENFL&marketplace=FLIPKART&q=sneakers&store=osp%2Fcil%2Fe1f&srno=s_2_78&otracker=search&otracker1=search&fm=SEARCH&iid=4c734597-5a97-429c-966e-7e3a6cdc4944.SHOGY3ETRQ9SEWGR.SEARCH&ppt=sp&ppn=sp&ssid=he0tnxsbyo0000001625758275869&qH=a1743c0d39461290',\n",
       " 'https://www.flipkart.com/essence-sneakers-men/p/itmc3d0142b55301?pid=SHOFK4QZSQAFPV82&lid=LSTSHOFK4QZSQAFPV82U7LGQN&marketplace=FLIPKART&q=sneakers&store=osp%2Fcil%2Fe1f&srno=s_2_79&otracker=search&otracker1=search&fm=SEARCH&iid=4c734597-5a97-429c-966e-7e3a6cdc4944.SHOFK4QZSQAFPV82.SEARCH&ppt=sp&ppn=sp&ssid=he0tnxsbyo0000001625758275869&qH=a1743c0d39461290',\n",
       " 'https://www.flipkart.com/spade-club-sneakers-men/p/itmfezed4qmdg3qv?pid=SHOFEZD46HDTGMWT&lid=LSTSHOFEZD46HDTGMWTVG3ECZ&marketplace=FLIPKART&q=sneakers&store=osp%2Fcil%2Fe1f&srno=s_2_80&otracker=search&otracker1=search&fm=SEARCH&iid=en_B6esM1mjqlhwD3c0PTowR%2B75dGL57HF2udWAzEmewJngk8pHc9cPHkj2xELUHxlPwYSOl4Ak0vl%2BeVRGXNNXPQ%3D%3D&ppt=sp&ppn=sp&ssid=he0tnxsbyo0000001625758275869&qH=a1743c0d39461290']"
      ]
     },
     "execution_count": 21,
     "metadata": {},
     "output_type": "execute_result"
    }
   ],
   "source": [
    "# Extracting the page URLs of the products listed on the second page.\n",
    "\n",
    "sneakers_urls2 = []\n",
    "\n",
    "pge2_url8 = driver.find_elements_by_xpath('//a[@class=\"_2UzuFa\"]')\n",
    "for u8 in pge2_url8:\n",
    "    sneakers_urls2.append(u8.get_attribute('href'))\n",
    "    \n",
    "sneakers_urls2"
   ]
  },
  {
   "cell_type": "code",
   "execution_count": 22,
   "metadata": {},
   "outputs": [
    {
     "data": {
      "text/plain": [
       "['Robbie jones ',\n",
       " '3SIX5 ',\n",
       " 'SPARX ',\n",
       " 'Clymb ',\n",
       " 'restinfoot ',\n",
       " 'Absolute comfort ',\n",
       " 'World Wear Footwear ',\n",
       " 'bluemaker ',\n",
       " 'Arohi ',\n",
       " 'T-ROCK ',\n",
       " 'Jokatoo ',\n",
       " 'AMICO ',\n",
       " 'BRUTON ',\n",
       " 'bluemaker ',\n",
       " 'World Wear Footwear ',\n",
       " 'bluemaker ',\n",
       " 'Kraasa ',\n",
       " 'World Wear Footwear ',\n",
       " 'ESSENCE ',\n",
       " 'bluemaker ',\n",
       " 'kardam&sons ',\n",
       " 'Zsyto ',\n",
       " 'SPARX ',\n",
       " 'JUBENTA ',\n",
       " 'RODDICK SHOES ',\n",
       " 'Fzzirok ',\n",
       " 'Birde ',\n",
       " 'Numenzo ',\n",
       " 'Magnolia ',\n",
       " 'Ktiz ',\n",
       " 'HOTSTYLE ',\n",
       " 'PEXLO ',\n",
       " 'T-ROCK ',\n",
       " 'Chevit ',\n",
       " 'Robbie jones ',\n",
       " 'Jack Diamond ',\n",
       " 'STRANGER BROTHERS ',\n",
       " 'BRUTON ',\n",
       " 'ESSENCE ',\n",
       " 'SPADE CLUB ']"
      ]
     },
     "execution_count": 22,
     "metadata": {},
     "output_type": "execute_result"
    }
   ],
   "source": [
    "# Extracting brand names from the second page urls of the sneakers.\n",
    "\n",
    "brnd8 = []\n",
    "\n",
    "for b8 in sneakers_urls2:\n",
    "    driver.get(b8)\n",
    "    time.sleep(2)\n",
    "    try:\n",
    "        bnd_tag8 = driver.find_element_by_xpath('//span[@class=\"G6XhRU\"]')\n",
    "        brnd8.append(bnd_tag8.text)\n",
    "    except:\n",
    "        pass\n",
    "brnd8"
   ]
  },
  {
   "cell_type": "code",
   "execution_count": 23,
   "metadata": {},
   "outputs": [
    {
     "data": {
      "text/plain": [
       "40"
      ]
     },
     "execution_count": 23,
     "metadata": {},
     "output_type": "execute_result"
    }
   ],
   "source": [
    "len (brnd8)"
   ]
  },
  {
   "cell_type": "code",
   "execution_count": 24,
   "metadata": {},
   "outputs": [
    {
     "data": {
      "text/plain": [
       "['Casual Sneakers White Shoes For Men Sneakers For Men  (White)',\n",
       " 'Sneakers For Men  (White)',\n",
       " 'SM439G Sneakers For Men  (White)',\n",
       " 'Comfort Air Net Super Quality Shoes Sneakers For Men  (White)',\n",
       " \"Casual shoes,Sneakers for men's,shoes for men's Sneakers For Men  (Grey)\",\n",
       " 'SOFT Sneakers For Men  (White)',\n",
       " 'Latest Collection-1227 Stylish Casual Sports Sneakers For Men  (Blue, Black)',\n",
       " 'Sneakers For Men  (Black)',\n",
       " 'Sneakers For Men  (White)',\n",
       " 'Synthetic Leather Casual Partywear Wedding Sneakers Shoes For Men Sneakers For Men  (Grey)',\n",
       " 'casual sneaker shoes and partywear shoes Casuals For Men Sneakers For Men  (Multicolor)',\n",
       " 'Designer Printed Casual Sneakers Shoes Sneakers For Men  (Black)',\n",
       " 'Combo Pack Of 4 Casual Sneakers For Men  (Multicolor)',\n",
       " 'casual for men (beige 06) Sneakers For Men  (Beige)',\n",
       " 'Sneakers For Men  (Grey)',\n",
       " 'casual for men Sneakers For Men  (Black)',\n",
       " 'Series 7 Sneakers For Men  (White)',\n",
       " 'Men 5014 Latest Collection Stylish Casual Sports Loafers Shoes Sneakers Shoes Sneakers For Men  (Brown, Blue)',\n",
       " 'Trendy Sneakers For Men  (Blue, Black)',\n",
       " 'casual for men (beige 10) Sneakers For Men  (Beige)',\n",
       " 'Fashionable casual sneaker shoes Sneakers For Men  (White)',\n",
       " 'Sneakers For Men  (Black)',\n",
       " 'SM-322 Sneakers For Men  (Black, Grey)',\n",
       " 'Latest Design Sneakers For Men  (White)',\n",
       " 'Fashion Outdoor Canvas Casual Light Weight Lace-up Evening Walk Running Shoes For Men Sneakers For Men  (White, Orange)',\n",
       " 'Premium quality Sneakers For Men  (Blue)',\n",
       " 'Combo Pack of 4 Casual Shoes Sneakers For Men  (Multicolor)',\n",
       " 'Sneakers For Men  (White)',\n",
       " 'Sneakers For Men  (White)',\n",
       " 'Rockstyle Trending Multicolor Ultralight canvas Sport/ Training Lace-up Morning / Evening walk Dating Running Shoes For Men | sports shoes for men | Latest Stylish Casual sneakers for men | Lace up lightweight shoes for running, walking, gym, trekking, hiking & party Sneakers For Men  (Grey, Orange)',\n",
       " 'Sneakers Sneakers For Men  (Black)',\n",
       " 'Combo Pack of 3 Casual Sneakers Shoes Sneakers For Men  (Multicolor)',\n",
       " 'Synthetic Leather Casual Sneakers Shoes For Men Sneakers For Men  (Black)',\n",
       " 'Affordable Combo Pack of 02 Pairs Sneakers Outdoor Loafer Sports for Running Rock Climbing Gym Shoes Sneakers For Men  (Multicolor)',\n",
       " 'Casual Sneakers Green Shoes For Men And Boys Sneakers For Men  (White)',\n",
       " 'Sneakers For Men  (White)',\n",
       " 'Sneakers For Men  (White, Black)',\n",
       " 'Combo Pack of 2 Casual Shoes Sneakers For Men  (Multicolor)',\n",
       " 'Sneakers For Men  (Black)',\n",
       " 'Sneakers For Men  (Black)']"
      ]
     },
     "execution_count": 24,
     "metadata": {},
     "output_type": "execute_result"
    }
   ],
   "source": [
    "# Extracting product descriptions from the second page urls of the sneakers.\n",
    "\n",
    "pd2_desc8 = []\n",
    "\n",
    "for spd2 in sneakers_urls2:\n",
    "    driver.get(spd2)\n",
    "    time.sleep(2)\n",
    "    try:\n",
    "        pd2_tag8 = driver.find_element_by_xpath('//span[@class=\"B_NuCI\"]')\n",
    "        pd2_desc8.append(pd2_tag8.text)\n",
    "    except:\n",
    "        pass\n",
    "pd2_desc8"
   ]
  },
  {
   "cell_type": "code",
   "execution_count": 25,
   "metadata": {},
   "outputs": [
    {
     "data": {
      "text/plain": [
       "40"
      ]
     },
     "execution_count": 25,
     "metadata": {},
     "output_type": "execute_result"
    }
   ],
   "source": [
    "len (pd2_desc8)"
   ]
  },
  {
   "cell_type": "code",
   "execution_count": 26,
   "metadata": {},
   "outputs": [
    {
     "data": {
      "text/plain": [
       "['₹474',\n",
       " '₹465',\n",
       " '₹649',\n",
       " '₹699',\n",
       " '₹379',\n",
       " '₹199',\n",
       " '₹240',\n",
       " '₹449',\n",
       " '₹439',\n",
       " '₹378',\n",
       " '₹418',\n",
       " '₹464',\n",
       " '₹474',\n",
       " '₹379',\n",
       " '₹240',\n",
       " '₹449',\n",
       " '₹499',\n",
       " '₹240',\n",
       " '₹468',\n",
       " '₹449',\n",
       " '₹419',\n",
       " '₹398',\n",
       " '₹799',\n",
       " '₹512',\n",
       " '₹499',\n",
       " '₹349',\n",
       " '₹799',\n",
       " '₹419',\n",
       " '₹377',\n",
       " '₹449',\n",
       " '₹275',\n",
       " '₹698',\n",
       " '₹449',\n",
       " '₹599',\n",
       " '₹499',\n",
       " '₹635',\n",
       " '₹475',\n",
       " '₹302',\n",
       " '₹399',\n",
       " '₹692']"
      ]
     },
     "execution_count": 26,
     "metadata": {},
     "output_type": "execute_result"
    }
   ],
   "source": [
    "# Extracting price from the second page urls of the sneakers.\n",
    "\n",
    "price8_pg2 = []\n",
    "\n",
    "for pr8 in sneakers_urls2:\n",
    "    driver.get(pr8)\n",
    "    time.sleep(2)\n",
    "    try:\n",
    "        pr2_tag8 = driver.find_element_by_xpath('//div[@class=\"_30jeq3 _16Jk6d\"]')\n",
    "        price8_pg2.append(pr2_tag8.text)\n",
    "    except:\n",
    "        pass\n",
    "price8_pg2"
   ]
  },
  {
   "cell_type": "code",
   "execution_count": 27,
   "metadata": {},
   "outputs": [
    {
     "data": {
      "text/plain": [
       "40"
      ]
     },
     "execution_count": 27,
     "metadata": {},
     "output_type": "execute_result"
    }
   ],
   "source": [
    "len(price8_pg2)"
   ]
  },
  {
   "cell_type": "code",
   "execution_count": 32,
   "metadata": {},
   "outputs": [],
   "source": [
    "# Extracting the web element of the third page and clicking on it.\n",
    "\n",
    "sneakres_pg3_tag8 = driver.find_element_by_xpath('//*[@id=\"container\"]/div/div[3]/div[1]/div[2]/div[12]/div/div/nav/a[3]')\n",
    "\n",
    "sneakres_pg3_tag8.click()"
   ]
  },
  {
   "cell_type": "code",
   "execution_count": 34,
   "metadata": {},
   "outputs": [
    {
     "data": {
      "text/plain": [
       "['https://www.flipkart.com/essence-trendy-sneakers-men/p/itm7398325f32c18?pid=SHOFVXKTGVZGXAG4&lid=LSTSHOFVXKTGVZGXAG4SSDDEP&marketplace=FLIPKART&q=sneakers&store=osp%2Fcil%2Fe1f&srno=s_3_81&otracker=search&otracker1=search&fm=SEARCH&iid=3bc46ace-c1df-41dd-b625-a588edc6eef6.SHOFVXKTGVZGXAG4.SEARCH&ppt=sp&ppn=sp&ssid=oq5po2sa9s0000001625759122867&qH=a1743c0d39461290',\n",
       " 'https://www.flipkart.com/chevit-stylish-unique-design-combo-pack-02-shoes-men-casual-sneakers-outdoor-walking-sport-running-gym-cycling-trekking-rock-climbing/p/itm340cc4e9b1255?pid=SHOGYTWWEKUUGWH6&lid=LSTSHOGYTWWEKUUGWH6BV0S5T&marketplace=FLIPKART&q=sneakers&store=osp%2Fcil%2Fe1f&srno=s_3_82&otracker=search&otracker1=search&fm=SEARCH&iid=3bc46ace-c1df-41dd-b625-a588edc6eef6.SHOGYTWWEKUUGWH6.SEARCH&ppt=sp&ppn=sp&ssid=oq5po2sa9s0000001625759122867&qH=a1743c0d39461290',\n",
       " 'https://www.flipkart.com/zixer-shoes-boys-dance-sneakers-men/p/itm17340f48a151e?pid=SHOGFZ6WW4XQHRTF&lid=LSTSHOGFZ6WW4XQHRTFQUJ7XX&marketplace=FLIPKART&q=sneakers&store=osp%2Fcil%2Fe1f&srno=s_3_83&otracker=search&otracker1=search&fm=SEARCH&iid=3bc46ace-c1df-41dd-b625-a588edc6eef6.SHOGFZ6WW4XQHRTF.SEARCH&ppt=sp&ppn=sp&ssid=oq5po2sa9s0000001625759122867&qH=a1743c0d39461290',\n",
       " 'https://www.flipkart.com/calcados-modern-trendy-shoes-combo-pack-4-sneakers-men/p/itm6d53374118bd3?pid=SHOGF43N3VVF8ATZ&lid=LSTSHOGF43N3VVF8ATZDIM8WW&marketplace=FLIPKART&q=sneakers&store=osp%2Fcil%2Fe1f&srno=s_3_84&otracker=search&otracker1=search&fm=SEARCH&iid=en_Lp10Kw3PdUOXdpGdbWb%2BK2fFsJOQfdC6nrpm8Gr5NdfNBePq5jzzEpJVkC%2F8fVnL4FHUKZGIj4hM7qi8PCNl1g%3D%3D&ppt=sp&ppn=sp&ssid=oq5po2sa9s0000001625759122867&qH=a1743c0d39461290',\n",
       " 'https://www.flipkart.com/chevit-smart-casuals-canvas-shoes-combo-pack-2-sneakers-men/p/itmdeeabeef2742c?pid=SHOFZWYJP2ZEM3YE&lid=LSTSHOFZWYJP2ZEM3YEFUMLDS&marketplace=FLIPKART&q=sneakers&store=osp%2Fcil%2Fe1f&srno=s_3_85&otracker=search&otracker1=search&fm=SEARCH&iid=3bc46ace-c1df-41dd-b625-a588edc6eef6.SHOFZWYJP2ZEM3YE.SEARCH&ppt=sp&ppn=sp&ssid=oq5po2sa9s0000001625759122867&qH=a1743c0d39461290',\n",
       " 'https://www.flipkart.com/kardam-sons-karda-casual-sneakers-gym-shoes-men-s-boys-white-color-men/p/itm9a720004b26f8?pid=SHOFN4MFQHHHYYWQ&lid=LSTSHOFN4MFQHHHYYWQOBYUOA&marketplace=FLIPKART&q=sneakers&store=osp%2Fcil%2Fe1f&srno=s_3_86&otracker=search&otracker1=search&fm=SEARCH&iid=3bc46ace-c1df-41dd-b625-a588edc6eef6.SHOFN4MFQHHHYYWQ.SEARCH&ppt=sp&ppn=sp&ssid=oq5po2sa9s0000001625759122867&qH=a1743c0d39461290',\n",
       " 'https://www.flipkart.com/alfiya-shoes-black-color-party-wear-outdoor-casual-men-black-sneakers/p/itm687d633f0f63f?pid=SHOFTMQ64QT3VBJW&lid=LSTSHOFTMQ64QT3VBJWRTHLN0&marketplace=FLIPKART&q=sneakers&store=osp%2Fcil%2Fe1f&srno=s_3_87&otracker=search&otracker1=search&fm=SEARCH&iid=3bc46ace-c1df-41dd-b625-a588edc6eef6.SHOFTMQ64QT3VBJW.SEARCH&ppt=sp&ppn=sp&ssid=oq5po2sa9s0000001625759122867&qH=a1743c0d39461290',\n",
       " 'https://www.flipkart.com/clymb-comfort-air-net-super-quality-shoes-sneakers-men/p/itm1a388126589ff?pid=SHOG2Y3HHSYNGA6E&lid=LSTSHOG2Y3HHSYNGA6EHKEC8Y&marketplace=FLIPKART&q=sneakers&store=osp%2Fcil%2Fe1f&srno=s_3_88&otracker=search&otracker1=search&fm=SEARCH&iid=en_Lp10Kw3PdUOXdpGdbWb%2BK2fFsJOQfdC6nrpm8Gr5Ndd87nuUS426f9N%2Foc9nMkeDbnLKi%2FY8K6fTd141i6id2g%3D%3D&ppt=sp&ppn=sp&ssid=oq5po2sa9s0000001625759122867&qH=a1743c0d39461290',\n",
       " 'https://www.flipkart.com/puma-speeder-dp-sneakers-men/p/itmf3xsewhh8wzy3?pid=SHOE3YKBQVGJZGFZ&lid=LSTSHOE3YKBQVGJZGFZKYZOOX&marketplace=FLIPKART&q=sneakers&store=osp%2Fcil%2Fe1f&srno=s_3_89&otracker=search&otracker1=search&fm=SEARCH&iid=3bc46ace-c1df-41dd-b625-a588edc6eef6.SHOE3YKBQVGJZGFZ.SEARCH&ppt=sp&ppn=sp&ssid=oq5po2sa9s0000001625759122867&qH=a1743c0d39461290',\n",
       " 'https://www.flipkart.com/sparx-sm-482-sneakers-men/p/itmdc045a01d0c82?pid=SHOFK93VEZB8ABWP&lid=LSTSHOFK93VEZB8ABWPXHMGBX&marketplace=FLIPKART&q=sneakers&store=osp%2Fcil%2Fe1f&srno=s_3_90&otracker=search&otracker1=search&fm=SEARCH&iid=3bc46ace-c1df-41dd-b625-a588edc6eef6.SHOFK93VEZB8ABWP.SEARCH&ppt=sp&ppn=sp&ssid=oq5po2sa9s0000001625759122867&qH=a1743c0d39461290',\n",
       " 'https://www.flipkart.com/jack-diamond-sneakers-men/p/itmfg3zsnpc53pes?pid=SHOFG3REUWHYBHBA&lid=LSTSHOFG3REUWHYBHBA77CGXA&marketplace=FLIPKART&q=sneakers&store=osp%2Fcil%2Fe1f&srno=s_3_91&otracker=search&otracker1=search&fm=SEARCH&iid=3bc46ace-c1df-41dd-b625-a588edc6eef6.SHOFG3REUWHYBHBA.SEARCH&ppt=sp&ppn=sp&ssid=oq5po2sa9s0000001625759122867&qH=a1743c0d39461290',\n",
       " 'https://www.flipkart.com/chevit-stylish-comfort-combo-pack-02-pair-shoes-boys-casual-sneakers-outdoor-loafers-latest-sports-shoe-running-gym-cycling-trekking-men/p/itm57906ccccc146?pid=SHOGYS8NR5NFHJGH&lid=LSTSHOGYS8NR5NFHJGHQC64AW&marketplace=FLIPKART&q=sneakers&store=osp%2Fcil%2Fe1f&srno=s_3_92&otracker=search&otracker1=search&fm=SEARCH&iid=en_Lp10Kw3PdUOXdpGdbWb%2BK2fFsJOQfdC6nrpm8Gr5NddNITFWN3wgJ94c%2FW4asrXYILGs29rlwYN2ofWf9jtb6Q%3D%3D&ppt=sp&ppn=sp&ssid=oq5po2sa9s0000001625759122867&qH=a1743c0d39461290',\n",
       " 'https://www.flipkart.com/fila-derico-sneakers-men/p/itm3a0818f4e6ab1?pid=SHOFUDMYFZEA3FXD&lid=LSTSHOFUDMYFZEA3FXDOXPV4K&marketplace=FLIPKART&q=sneakers&store=osp%2Fcil%2Fe1f&srno=s_3_93&otracker=search&otracker1=search&fm=SEARCH&iid=3bc46ace-c1df-41dd-b625-a588edc6eef6.SHOFUDMYFZEA3FXD.SEARCH&ppt=sp&ppn=sp&ssid=oq5po2sa9s0000001625759122867&qH=a1743c0d39461290',\n",
       " 'https://www.flipkart.com/puma-hip-hop-mid-perf-idp-sneakers-men/p/itmae26d2e0caeee?pid=SHOFNU2WMPQXZ3RK&lid=LSTSHOFNU2WMPQXZ3RK2XXCEE&marketplace=FLIPKART&q=sneakers&store=osp%2Fcil%2Fe1f&srno=s_3_94&otracker=search&otracker1=search&fm=SEARCH&iid=3bc46ace-c1df-41dd-b625-a588edc6eef6.SHOFNU2WMPQXZ3RK.SEARCH&ppt=sp&ppn=sp&ssid=oq5po2sa9s0000001625759122867&qH=a1743c0d39461290',\n",
       " 'https://www.flipkart.com/hockwood-street-smart-sneakers-men/p/itmff25eegp8gt2v?pid=SHOFFFXHRMMDF84G&lid=LSTSHOFFFXHRMMDF84GX3YIUN&marketplace=FLIPKART&q=sneakers&store=osp%2Fcil%2Fe1f&srno=s_3_95&otracker=search&otracker1=search&fm=SEARCH&iid=3bc46ace-c1df-41dd-b625-a588edc6eef6.SHOFFFXHRMMDF84G.SEARCH&ppt=sp&ppn=sp&ssid=oq5po2sa9s0000001625759122867&qH=a1743c0d39461290',\n",
       " 'https://www.flipkart.com/bluemaker-sneakers-men/p/itm3694200bdaf02?pid=SHOFP4YXDPVUJ8DT&lid=LSTSHOFP4YXDPVUJ8DTRTCPB1&marketplace=FLIPKART&q=sneakers&store=osp%2Fcil%2Fe1f&srno=s_3_96&otracker=search&otracker1=search&fm=SEARCH&iid=en_Lp10Kw3PdUOXdpGdbWb%2BK2fFsJOQfdC6nrpm8Gr5NddOuyWWov6TW8gGvqGh0pDPf83rJEye4ow38hBIc2I90g%3D%3D&ppt=sp&ppn=sp&ssid=oq5po2sa9s0000001625759122867&qH=a1743c0d39461290',\n",
       " 'https://www.flipkart.com/fila-eman-sneakers-men/p/itmac9d4d53a0517?pid=SHOFUDZDHZRNHCSJ&lid=LSTSHOFUDZDHZRNHCSJ00IYRF&marketplace=FLIPKART&q=sneakers&store=osp%2Fcil%2Fe1f&srno=s_3_97&otracker=search&otracker1=search&fm=SEARCH&iid=3bc46ace-c1df-41dd-b625-a588edc6eef6.SHOFUDZDHZRNHCSJ.SEARCH&ppt=sp&ppn=sp&ssid=oq5po2sa9s0000001625759122867&qH=a1743c0d39461290',\n",
       " 'https://www.flipkart.com/sparx-sm-162-sneakers-men/p/itmfafycjgeyg9zb?pid=SHOEFUSZG65RNCGM&lid=LSTSHOEFUSZG65RNCGMGXWZT7&marketplace=FLIPKART&q=sneakers&store=osp%2Fcil%2Fe1f&srno=s_3_98&otracker=search&otracker1=search&fm=SEARCH&iid=3bc46ace-c1df-41dd-b625-a588edc6eef6.SHOEFUSZG65RNCGM.SEARCH&ppt=sp&ppn=sp&ssid=oq5po2sa9s0000001625759122867&qH=a1743c0d39461290',\n",
       " 'https://www.flipkart.com/india-hub-fashionable-casual-sneakers-shoes-men/p/itm5b26824d21d3a?pid=SHOFUZ4HGSQBWHKD&lid=LSTSHOFUZ4HGSQBWHKDKQ1FV2&marketplace=FLIPKART&q=sneakers&store=osp%2Fcil%2Fe1f&srno=s_3_99&otracker=search&otracker1=search&fm=SEARCH&iid=3bc46ace-c1df-41dd-b625-a588edc6eef6.SHOFUZ4HGSQBWHKD.SEARCH&ppt=sp&ppn=sp&ssid=oq5po2sa9s0000001625759122867&qH=a1743c0d39461290',\n",
       " 'https://www.flipkart.com/bruton-combo-pack-4-casual-sneakers-men/p/itm1d1e636ead4f8?pid=SHOFUXX6KZQCXMQG&lid=LSTSHOFUXX6KZQCXMQGKFIAGB&marketplace=FLIPKART&q=sneakers&store=osp%2Fcil%2Fe1f&srno=s_3_100&otracker=search&otracker1=search&fm=SEARCH&iid=en_Lp10Kw3PdUOXdpGdbWb%2BK2fFsJOQfdC6nrpm8Gr5NdfRtYfHbl41aihMGiLGdepjZu2KYVTapmBzqofPD5pgrQ%3D%3D&ppt=sp&ppn=sp&ssid=oq5po2sa9s0000001625759122867&qH=a1743c0d39461290',\n",
       " 'https://www.flipkart.com/hotstyle-sneakers-men/p/itm3b8928a42acd7?pid=SHOFQ3GJZKAU528G&lid=LSTSHOFQ3GJZKAU528GFWYEUO&marketplace=FLIPKART&q=sneakers&store=osp%2Fcil%2Fe1f&srno=s_3_101&otracker=search&otracker1=search&fm=SEARCH&iid=3bc46ace-c1df-41dd-b625-a588edc6eef6.SHOFQ3GJZKAU528G.SEARCH&ppt=sp&ppn=sp&ssid=oq5po2sa9s0000001625759122867&qH=a1743c0d39461290',\n",
       " 'https://www.flipkart.com/wakefield-sneakers-men/p/itm475ac08c71c7b?pid=SHOFZJFZSZTZWPZZ&lid=LSTSHOFZJFZSZTZWPZZJLV1US&marketplace=FLIPKART&q=sneakers&store=osp%2Fcil%2Fe1f&srno=s_3_102&otracker=search&otracker1=search&fm=SEARCH&iid=3bc46ace-c1df-41dd-b625-a588edc6eef6.SHOFZJFZSZTZWPZZ.SEARCH&ppt=sp&ppn=sp&ssid=oq5po2sa9s0000001625759122867&qH=a1743c0d39461290',\n",
       " 'https://www.flipkart.com/chevit-combo-pack-4-casual-sneakers-men/p/itmfg2ybzgeygd6t?pid=SHOFGY97JGZTBRHY&lid=LSTSHOFGY97JGZTBRHYNHQPWS&marketplace=FLIPKART&q=sneakers&store=osp%2Fcil%2Fe1f&srno=s_3_103&otracker=search&otracker1=search&fm=SEARCH&iid=3bc46ace-c1df-41dd-b625-a588edc6eef6.SHOFGY97JGZTBRHY.SEARCH&ppt=sp&ppn=sp&ssid=oq5po2sa9s0000001625759122867&qH=a1743c0d39461290',\n",
       " 'https://www.flipkart.com/jubenta-latest-design-sneakers-men/p/itm4a015aac0d99f?pid=SHOGF9PMGZDZQZPH&lid=LSTSHOGF9PMGZDZQZPHNY08FJ&marketplace=FLIPKART&q=sneakers&store=osp%2Fcil%2Fe1f&srno=s_3_104&otracker=search&otracker1=search&fm=SEARCH&iid=en_Lp10Kw3PdUOXdpGdbWb%2BK2fFsJOQfdC6nrpm8Gr5NddRxWoHgqEKRHf5uyWDLc%2BuWhhy%2BVf8LebCTC2zV32uCQ%3D%3D&ppt=sp&ppn=sp&ssid=oq5po2sa9s0000001625759122867&qH=a1743c0d39461290',\n",
       " 'https://www.flipkart.com/robbie-jones-casual-sneakers-shoes-men-boys/p/itm63089f27865b6?pid=SHOG3FFGEF7YVRYH&lid=LSTSHOG3FFGEF7YVRYHEE8QHA&marketplace=FLIPKART&q=sneakers&store=osp%2Fcil%2Fe1f&srno=s_3_105&otracker=search&otracker1=search&fm=SEARCH&iid=3bc46ace-c1df-41dd-b625-a588edc6eef6.SHOG3FFGEF7YVRYH.SEARCH&ppt=sp&ppn=sp&ssid=oq5po2sa9s0000001625759122867&qH=a1743c0d39461290',\n",
       " 'https://www.flipkart.com/alan-costo-men-s-casual-shoes-white-color-walking-running-gymwear-sports-sneakers-daily-use-outdoors-men/p/itm2ef66ba4b9bd0?pid=SHOG3HKQ5EZBXQXG&lid=LSTSHOG3HKQ5EZBXQXGIP3J6N&marketplace=FLIPKART&q=sneakers&store=osp%2Fcil%2Fe1f&srno=s_3_106&otracker=search&otracker1=search&fm=SEARCH&iid=3bc46ace-c1df-41dd-b625-a588edc6eef6.SHOG3HKQ5EZBXQXG.SEARCH&ppt=sp&ppn=sp&ssid=oq5po2sa9s0000001625759122867&qH=a1743c0d39461290',\n",
       " 'https://www.flipkart.com/chevit-lightweight-pack-02-pair-shoes-men-casual-sneakers-outdoor-latest-stylish-sports-shoe-running-gym-cycling-trekking/p/itm1c06e22ff4f24?pid=SHOGYSYKJQTMTZHH&lid=LSTSHOGYSYKJQTMTZHHRDKFKC&marketplace=FLIPKART&q=sneakers&store=osp%2Fcil%2Fe1f&srno=s_3_107&otracker=search&otracker1=search&fm=SEARCH&iid=3bc46ace-c1df-41dd-b625-a588edc6eef6.SHOGYSYKJQTMTZHH.SEARCH&ppt=sp&ppn=sp&ssid=oq5po2sa9s0000001625759122867&qH=a1743c0d39461290',\n",
       " 'https://www.flipkart.com/roddick-shoes-fashion-outdoor-canvas-casual-light-weight-lace-up-evening-walk-running-men-sneakers/p/itmef0811c89a216?pid=SHOG48DDGW55HG7A&lid=LSTSHOG48DDGW55HG7AV7DM9G&marketplace=FLIPKART&q=sneakers&store=osp%2Fcil%2Fe1f&srno=s_3_108&otracker=search&otracker1=search&fm=SEARCH&iid=en_Lp10Kw3PdUOXdpGdbWb%2BK2fFsJOQfdC6nrpm8Gr5NdfyyatnqdS3vRQCK9k1nfvjbOKkpArLWI10KDL1XPN2RQ%3D%3D&ppt=sp&ppn=sp&ssid=oq5po2sa9s0000001625759122867&qH=a1743c0d39461290',\n",
       " 'https://www.flipkart.com/chevit-men-s-combo-pack-02-shoes-men-casual-sneakers-outdoor-sports-shoe-running-gym-cycling-trekking/p/itm691b9ce9411e3?pid=SHOGYX9MXKDGVZSU&lid=LSTSHOGYX9MXKDGVZSUBEO2WH&marketplace=FLIPKART&q=sneakers&store=osp%2Fcil%2Fe1f&srno=s_3_109&otracker=search&otracker1=search&fm=SEARCH&iid=3bc46ace-c1df-41dd-b625-a588edc6eef6.SHOGYX9MXKDGVZSU.SEARCH&ppt=sp&ppn=sp&ssid=oq5po2sa9s0000001625759122867&qH=a1743c0d39461290',\n",
       " 'https://www.flipkart.com/mannu-mnnu-casual-running-shoes-walking-sneakers-men/p/itm4d0991616f173?pid=SHOFYM6FZ8CPK8JV&lid=LSTSHOFYM6FZ8CPK8JV4VRGHF&marketplace=FLIPKART&q=sneakers&store=osp%2Fcil%2Fe1f&srno=s_3_110&otracker=search&otracker1=search&fm=SEARCH&iid=3bc46ace-c1df-41dd-b625-a588edc6eef6.SHOFYM6FZ8CPK8JV.SEARCH&ppt=sp&ppn=sp&ssid=oq5po2sa9s0000001625759122867&qH=a1743c0d39461290',\n",
       " 'https://www.flipkart.com/sparx-sd-323-sneakers-men/p/itm57f0645a387f8?pid=SHOFY5ZAW9GS23RQ&lid=LSTSHOFY5ZAW9GS23RQH4H2DT&marketplace=FLIPKART&q=sneakers&store=osp%2Fcil%2Fe1f&srno=s_3_111&otracker=search&otracker1=search&fm=SEARCH&iid=3bc46ace-c1df-41dd-b625-a588edc6eef6.SHOFY5ZAW9GS23RQ.SEARCH&ppt=sp&ppn=sp&ssid=oq5po2sa9s0000001625759122867&qH=a1743c0d39461290',\n",
       " 'https://www.flipkart.com/bluemaker-casual-men-beige-10-sneakers/p/itm04e50500732a9?pid=SHOFUSH738HYZF3X&lid=LSTSHOFUSH738HYZF3XNTXNHF&marketplace=FLIPKART&q=sneakers&store=osp%2Fcil%2Fe1f&srno=s_3_112&otracker=search&otracker1=search&fm=SEARCH&iid=en_Lp10Kw3PdUOXdpGdbWb%2BK2fFsJOQfdC6nrpm8Gr5Nde4FqWgsQ%2Bc9NlOMy7D255dDIHLnZMR%2BWeuHKOJV1t4OQ%3D%3D&ppt=sp&ppn=sp&ssid=oq5po2sa9s0000001625759122867&qH=a1743c0d39461290',\n",
       " 'https://www.flipkart.com/zsyto-casual-sneaker-shoes-men-sneakers/p/itmafd79dd6b16bd?pid=SHOG4CPWU7HQ3GTQ&lid=LSTSHOG4CPWU7HQ3GTQXS6G0R&marketplace=FLIPKART&q=sneakers&store=osp%2Fcil%2Fe1f&srno=s_3_113&otracker=search&otracker1=search&fm=SEARCH&iid=3bc46ace-c1df-41dd-b625-a588edc6eef6.SHOG4CPWU7HQ3GTQ.SEARCH&ppt=sp&ppn=sp&ssid=oq5po2sa9s0000001625759122867&qH=a1743c0d39461290',\n",
       " 'https://www.flipkart.com/zixer-shoes-boys-dance-sneakers-men/p/itmd009b33ae9b71?pid=SHOGFZ6XUZFCM342&lid=LSTSHOGFZ6XUZFCM342PHEXWD&marketplace=FLIPKART&q=sneakers&store=osp%2Fcil%2Fe1f&srno=s_3_114&otracker=search&otracker1=search&fm=SEARCH&iid=3bc46ace-c1df-41dd-b625-a588edc6eef6.SHOGFZ6XUZFCM342.SEARCH&ppt=sp&ppn=sp&ssid=oq5po2sa9s0000001625759122867&qH=a1743c0d39461290',\n",
       " 'https://www.flipkart.com/birde-men-s-stylish-casual-shoes-sneakers-men/p/itmaddd925a85737?pid=SHOFYTVEUKN7GASM&lid=LSTSHOFYTVEUKN7GASM6PVHQF&marketplace=FLIPKART&q=sneakers&store=osp%2Fcil%2Fe1f&srno=s_3_115&otracker=search&otracker1=search&fm=SEARCH&iid=3bc46ace-c1df-41dd-b625-a588edc6eef6.SHOFYTVEUKN7GASM.SEARCH&ppt=sp&ppn=sp&ssid=oq5po2sa9s0000001625759122867&qH=a1743c0d39461290',\n",
       " 'https://www.flipkart.com/aircum-men-combo-pack-3-casual-sneakers/p/itm3a6040e96893c?pid=SHOFJHGFPGNNNSDK&lid=LSTSHOFJHGFPGNNNSDKBQQ1L0&marketplace=FLIPKART&q=sneakers&store=osp%2Fcil%2Fe1f&srno=s_3_116&otracker=search&otracker1=search&fm=SEARCH&iid=en_Lp10Kw3PdUOXdpGdbWb%2BK2fFsJOQfdC6nrpm8Gr5NddqqAReUU23fUkduYXYfb8YknzkNVpI0EMwV5Vei75VjQ%3D%3D&ppt=sp&ppn=sp&ssid=oq5po2sa9s0000001625759122867&qH=a1743c0d39461290',\n",
       " 'https://www.flipkart.com/zsyto-sneakers-men/p/itm3d870b283935d?pid=SHOG3WFR2Y3HHDUH&lid=LSTSHOG3WFR2Y3HHDUHJHJBSK&marketplace=FLIPKART&q=sneakers&store=osp%2Fcil%2Fe1f&srno=s_3_117&otracker=search&otracker1=search&fm=SEARCH&iid=3bc46ace-c1df-41dd-b625-a588edc6eef6.SHOG3WFR2Y3HHDUH.SEARCH&ppt=sp&ppn=sp&ssid=oq5po2sa9s0000001625759122867&qH=a1743c0d39461290',\n",
       " 'https://www.flipkart.com/tr-sneakers-men/p/itmfhegftdjf3cqt?pid=SHOFHEGHFJVGZ4MY&lid=LSTSHOFHEGHFJVGZ4MYFXPB1Q&marketplace=FLIPKART&q=sneakers&store=osp%2Fcil%2Fe1f&srno=s_3_118&otracker=search&otracker1=search&fm=SEARCH&iid=3bc46ace-c1df-41dd-b625-a588edc6eef6.SHOFHEGHFJVGZ4MY.SEARCH&ppt=sp&ppn=sp&ssid=oq5po2sa9s0000001625759122867&qH=a1743c0d39461290',\n",
       " 'https://www.flipkart.com/numenzo-sneakers-men/p/itm8344e47bb0f3d?pid=SHOFZ4RG3DVUGBUQ&lid=LSTSHOFZ4RG3DVUGBUQCQG1YX&marketplace=FLIPKART&q=sneakers&store=osp%2Fcil%2Fe1f&srno=s_3_119&otracker=search&otracker1=search&fm=SEARCH&iid=3bc46ace-c1df-41dd-b625-a588edc6eef6.SHOFZ4RG3DVUGBUQ.SEARCH&ppt=sp&ppn=sp&ssid=oq5po2sa9s0000001625759122867&qH=a1743c0d39461290',\n",
       " 'https://www.flipkart.com/bluemaker-casual-men-sneakers/p/itm02405f7701115?pid=SHOFP4YXBDYU9EMQ&lid=LSTSHOFP4YXBDYU9EMQGSA5SB&marketplace=FLIPKART&q=sneakers&store=osp%2Fcil%2Fe1f&srno=s_3_120&otracker=search&otracker1=search&fm=SEARCH&iid=en_Lp10Kw3PdUOXdpGdbWb%2BK2fFsJOQfdC6nrpm8Gr5NddhbvJ%2BdbK4qTFN9LMm1fgseglpq%2BqeVumLs44FoGledg%3D%3D&ppt=sp&ppn=sp&ssid=oq5po2sa9s0000001625759122867&qH=a1743c0d39461290']"
      ]
     },
     "execution_count": 34,
     "metadata": {},
     "output_type": "execute_result"
    }
   ],
   "source": [
    "# Extracting the page URLs of the products listed on the third page.\n",
    "\n",
    "sneakers_urls3 = []\n",
    "\n",
    "pge3_url8 = driver.find_elements_by_xpath('//a[@class=\"_2UzuFa\"]')\n",
    "for pu8 in pge3_url8:\n",
    "    sneakers_urls3.append(pu8.get_attribute('href'))\n",
    "    \n",
    "sneakers_urls3"
   ]
  },
  {
   "cell_type": "code",
   "execution_count": 37,
   "metadata": {},
   "outputs": [
    {
     "data": {
      "text/plain": [
       "['ESSENCE ',\n",
       " 'Chevit ',\n",
       " 'Zixer ',\n",
       " 'CALCADOS ',\n",
       " 'Chevit ',\n",
       " 'kardam&sons ',\n",
       " 'Alfiya ',\n",
       " 'Clymb ',\n",
       " 'PUMA ',\n",
       " 'SPARX ',\n",
       " 'Jack Diamond ',\n",
       " 'Chevit ',\n",
       " 'FILA ',\n",
       " 'PUMA ',\n",
       " 'HOCKWOOD ',\n",
       " 'bluemaker ',\n",
       " 'FILA ',\n",
       " 'SPARX ',\n",
       " 'India hub ',\n",
       " 'BRUTON ',\n",
       " 'HOTSTYLE ',\n",
       " 'Wakefield ',\n",
       " 'Chevit ',\n",
       " 'JUBENTA ',\n",
       " 'Robbie jones ',\n",
       " 'ALAN COSTO ',\n",
       " 'Chevit ',\n",
       " 'RODDICK SHOES ',\n",
       " 'Chevit ',\n",
       " 'mannu ',\n",
       " 'SPARX ',\n",
       " 'bluemaker ',\n",
       " 'Zsyto ',\n",
       " 'Zixer ',\n",
       " 'Birde ',\n",
       " 'Aircum ',\n",
       " 'Zsyto ',\n",
       " 'TR ',\n",
       " 'Numenzo ',\n",
       " 'bluemaker ']"
      ]
     },
     "execution_count": 37,
     "metadata": {},
     "output_type": "execute_result"
    }
   ],
   "source": [
    "# Extracting brand names from the third page urls of the sneakers.\n",
    "\n",
    "brnd8_pg3 = []\n",
    "\n",
    "for pb8 in sneakers_urls3:\n",
    "    driver.get(pb8)\n",
    "    time.sleep(2)\n",
    "    try:\n",
    "        bnd3_tag8 = driver.find_element_by_xpath('//span[@class=\"G6XhRU\"]')\n",
    "        brnd8_pg3.append(bnd3_tag8.text)\n",
    "    except:\n",
    "        pass\n",
    "brnd8_pg3"
   ]
  },
  {
   "cell_type": "code",
   "execution_count": 38,
   "metadata": {},
   "outputs": [
    {
     "data": {
      "text/plain": [
       "40"
      ]
     },
     "execution_count": 38,
     "metadata": {},
     "output_type": "execute_result"
    }
   ],
   "source": [
    "len (brnd8_pg3)"
   ]
  },
  {
   "cell_type": "code",
   "execution_count": 39,
   "metadata": {},
   "outputs": [
    {
     "data": {
      "text/plain": [
       "['Trendy Sneakers For Men  (Blue, Black)',\n",
       " 'Stylish & Unique Design Combo Pack of 02 Shoes for Men Casual Sneakers & Outdoor Walking Shoes for Men Sport Shoes for Men Running Gym Cycling & Trekking Rock Climbing Shoes for Men Sneakers For Men  (White, Grey)',\n",
       " 'Shoes For Boys Dance shoes Sneakers For Men  (Multicolor)',\n",
       " 'Modern Trendy Shoes Combo pack of 4 Sneakers For Men  (Multicolor)',\n",
       " 'Smart Casuals Canvas Shoes Combo pack of 2 Sneakers For Men  (Multicolor)',\n",
       " \"Karda Casual Sneakers and Gym Shoes for Men's and Boys White Color Sneakers Sneakers For Men  (White)\",\n",
       " 'Shoes in Black Color Party wear/Outdoor/Casual Shoes For Men (Black) Sneakers For Men  (Black)',\n",
       " 'Comfort Air Net Super Quality Shoes Sneakers For Men  (White)',\n",
       " 'Speeder DP Sneakers For Men  (White)',\n",
       " 'SM-482 Sneakers For Men  (Black, Red)',\n",
       " 'Sneakers For Men  (White)',\n",
       " 'Stylish & Comfort Combo Pack of 02 Pair Shoes for Boys Casual Sneakers Outdoor Loafers Shoes for Boys Latest & Stylish Sports Shoe for Running Gym Cycling & Trekking Sneakers For Boys Sneakers For Men  (Black, Tan)',\n",
       " 'DERICO Sneakers For Men  (Black)',\n",
       " 'Hip Hop Mid Perf IDP Sneakers For Men  (Blue)',\n",
       " 'Street Smart Sneakers For Men  (White, Black)',\n",
       " 'Sneakers For Men  (Black)',\n",
       " 'EMAN Sneakers For Men  (Black)',\n",
       " 'SM-162 Sneakers For Men  (Black)',\n",
       " 'Fashionable casual sneakers shoes Sneakers For Men  (Black)',\n",
       " 'Combo Pack Of 4 Casual Sneakers For Men  (Multicolor)',\n",
       " 'Sneakers Sneakers For Men  (Grey)',\n",
       " 'Sneakers For Men  (Blue, Brown)',\n",
       " 'Combo Pack of 4 Casual Sneakers With Sneakers For Men  (Multicolor)',\n",
       " 'Latest Design Sneakers For Men  (White)',\n",
       " 'Casual Sneakers Shoes For Men And Boys Sneakers For Men  (Black)',\n",
       " \"Men's Casual Shoes in White Color Walking Running Gymwear Sports Sneakers for Daily use Outdoors For Men Sneakers For Men  (White)\",\n",
       " 'Lightweight Pack of 02 Pair Shoes for Men Casual Sneakers Outdoor Shoes for Men Latest & Stylish Sports Shoe for Running Gym Cycling & Trekking Sneakers For Men Sneakers For Men  (Orange, Black)',\n",
       " 'Fashion Outdoor Canvas Casual Light Weight Lace-up Evening Walk Running Shoes For Men Sneakers For Men  (White, Orange)',\n",
       " \"Men's Combo Pack of 02 Shoes for Men Casual Sneakers Outdoor Shoes for Men Sports Shoe for Running Gym Cycling & Trekking Sneakers For Men Sneakers For Men  (Black, Grey)\",\n",
       " 'mnnu casual running shoes, walking shoes, Sneakers For Men  (White)',\n",
       " 'SD-323 Sneakers For Men  (White, Black)',\n",
       " 'casual for men (beige 10) Sneakers For Men  (Beige)',\n",
       " 'Casual sneaker shoes for men Sneakers For Men  (White)',\n",
       " 'Shoes For Boys Dance shoes Sneakers For Men  (Multicolor)',\n",
       " \"Men's Stylish Casual Shoes Sneakers For Men  (Yellow)\",\n",
       " 'Men Combo Pack of 3 Casual Sneakers For Men  (Multicolor)',\n",
       " 'Sneakers For Men  (White)',\n",
       " 'Sneakers For Men  (White)',\n",
       " 'Sneakers For Men  (Black)',\n",
       " 'casual for men Sneakers For Men  (Black)']"
      ]
     },
     "execution_count": 39,
     "metadata": {},
     "output_type": "execute_result"
    }
   ],
   "source": [
    "# Extracting product descriptions from the third page urls of the sneakers.\n",
    "\n",
    "pd3_desc8 = []\n",
    "\n",
    "for spd3 in sneakers_urls3:\n",
    "    driver.get(spd3)\n",
    "    time.sleep(2)\n",
    "    try:\n",
    "        pd3_tag8 = driver.find_element_by_xpath('//span[@class=\"B_NuCI\"]')\n",
    "        pd3_desc8.append(pd3_tag8.text)\n",
    "    except:\n",
    "        pass\n",
    "pd3_desc8"
   ]
  },
  {
   "cell_type": "code",
   "execution_count": 40,
   "metadata": {},
   "outputs": [
    {
     "data": {
      "text/plain": [
       "40"
      ]
     },
     "execution_count": 40,
     "metadata": {},
     "output_type": "execute_result"
    }
   ],
   "source": [
    "len (pd3_desc8)"
   ]
  },
  {
   "cell_type": "code",
   "execution_count": 41,
   "metadata": {},
   "outputs": [
    {
     "data": {
      "text/plain": [
       "['₹468',\n",
       " '₹598',\n",
       " '₹555',\n",
       " '₹748',\n",
       " '₹379',\n",
       " '₹410',\n",
       " '₹360',\n",
       " '₹699',\n",
       " '₹1,549',\n",
       " '₹965',\n",
       " '₹635',\n",
       " '₹470',\n",
       " '₹1,406',\n",
       " '₹1,959',\n",
       " '₹674',\n",
       " '₹449',\n",
       " '₹1,244',\n",
       " '₹730',\n",
       " '₹399',\n",
       " '₹474',\n",
       " '₹283',\n",
       " '₹245',\n",
       " '₹449',\n",
       " '₹512',\n",
       " '₹474',\n",
       " '₹465',\n",
       " '₹470',\n",
       " '₹499',\n",
       " '₹498',\n",
       " '₹379',\n",
       " '₹630',\n",
       " '₹449',\n",
       " '₹398',\n",
       " '₹555',\n",
       " '₹399',\n",
       " '₹474',\n",
       " '₹398',\n",
       " '₹329',\n",
       " '₹419',\n",
       " '₹449']"
      ]
     },
     "execution_count": 41,
     "metadata": {},
     "output_type": "execute_result"
    }
   ],
   "source": [
    "# Extracting price from the third page urls of the sneakers.\n",
    "\n",
    "price8_pg3 = []\n",
    "\n",
    "for ps8 in sneakers_urls3:\n",
    "    driver.get(ps8)\n",
    "    time.sleep(2)\n",
    "    try:\n",
    "        pr3_tag8 = driver.find_element_by_xpath('//div[@class=\"_30jeq3 _16Jk6d\"]')\n",
    "        price8_pg3.append(pr3_tag8.text)\n",
    "    except:\n",
    "        pass\n",
    "price8_pg3"
   ]
  },
  {
   "cell_type": "code",
   "execution_count": 42,
   "metadata": {},
   "outputs": [
    {
     "data": {
      "text/plain": [
       "40"
      ]
     },
     "execution_count": 42,
     "metadata": {},
     "output_type": "execute_result"
    }
   ],
   "source": [
    "len (price8_pg3)"
   ]
  },
  {
   "cell_type": "code",
   "execution_count": 43,
   "metadata": {},
   "outputs": [
    {
     "data": {
      "text/plain": [
       "['Robbie jones ',\n",
       " 'kardam&sons ',\n",
       " 'Robbie jones ',\n",
       " 'Numenzo ',\n",
       " 'ASTEROID ',\n",
       " 'Birde ',\n",
       " 'PEHANOSA ',\n",
       " 'Chevit ',\n",
       " 'CALCADOS ',\n",
       " 'Labbin ',\n",
       " 'KULP ',\n",
       " 'India hub ',\n",
       " 'Shoes Bank ',\n",
       " 'World Wear Footwear ',\n",
       " 'Chevit ',\n",
       " 'U.S. POLO ASSN. ',\n",
       " 'Chevit ',\n",
       " 'Chevit ',\n",
       " 'Nilatin ',\n",
       " 'BRUTON ',\n",
       " 'Chevit ',\n",
       " 'believe ',\n",
       " 'ESSENCE ',\n",
       " 'Robbie jones ',\n",
       " 'Stefano Rads ',\n",
       " 'Robbie jones ',\n",
       " 'Numenzo ',\n",
       " 'Chevit ',\n",
       " 'bluemaker ',\n",
       " 'SCATCHITE ',\n",
       " 'World Wear Footwear ',\n",
       " 'STRANGER BROTHERS ',\n",
       " 'Birde ',\n",
       " 'SPARX ',\n",
       " 'Robbie jones ',\n",
       " 'Chevit ',\n",
       " 'Kraasa ',\n",
       " 'HOTSTYLE ',\n",
       " 'WRIZT ',\n",
       " 'SHOELIFE ',\n",
       " 'Robbie jones ',\n",
       " '3SIX5 ',\n",
       " 'SPARX ',\n",
       " 'Clymb ',\n",
       " 'restinfoot ',\n",
       " 'Absolute comfort ',\n",
       " 'World Wear Footwear ',\n",
       " 'bluemaker ',\n",
       " 'Arohi ',\n",
       " 'T-ROCK ',\n",
       " 'Jokatoo ',\n",
       " 'AMICO ',\n",
       " 'BRUTON ',\n",
       " 'bluemaker ',\n",
       " 'World Wear Footwear ',\n",
       " 'bluemaker ',\n",
       " 'Kraasa ',\n",
       " 'World Wear Footwear ',\n",
       " 'ESSENCE ',\n",
       " 'bluemaker ',\n",
       " 'kardam&sons ',\n",
       " 'Zsyto ',\n",
       " 'SPARX ',\n",
       " 'JUBENTA ',\n",
       " 'RODDICK SHOES ',\n",
       " 'Fzzirok ',\n",
       " 'Birde ',\n",
       " 'Numenzo ',\n",
       " 'Magnolia ',\n",
       " 'Ktiz ',\n",
       " 'HOTSTYLE ',\n",
       " 'PEXLO ',\n",
       " 'T-ROCK ',\n",
       " 'Chevit ',\n",
       " 'Robbie jones ',\n",
       " 'Jack Diamond ',\n",
       " 'STRANGER BROTHERS ',\n",
       " 'BRUTON ',\n",
       " 'ESSENCE ',\n",
       " 'SPADE CLUB ',\n",
       " 'ESSENCE ',\n",
       " 'Chevit ',\n",
       " 'Zixer ',\n",
       " 'CALCADOS ',\n",
       " 'Chevit ',\n",
       " 'kardam&sons ',\n",
       " 'Alfiya ',\n",
       " 'Clymb ',\n",
       " 'PUMA ',\n",
       " 'SPARX ',\n",
       " 'Jack Diamond ',\n",
       " 'Chevit ',\n",
       " 'FILA ',\n",
       " 'PUMA ',\n",
       " 'HOCKWOOD ',\n",
       " 'bluemaker ',\n",
       " 'FILA ',\n",
       " 'SPARX ',\n",
       " 'India hub ',\n",
       " 'BRUTON ']"
      ]
     },
     "execution_count": 43,
     "metadata": {},
     "output_type": "execute_result"
    }
   ],
   "source": [
    "brand_name8 = brands8 + brnd8 +brnd8_pg3[:20]\n",
    "\n",
    "brand_name8"
   ]
  },
  {
   "cell_type": "code",
   "execution_count": 45,
   "metadata": {},
   "outputs": [
    {
     "data": {
      "text/plain": [
       "['Casual Sneakers Green Shoes For Men And Boys Sneakers For Men  (White)',\n",
       " 'Fashinable casual sneaker shoes Sneakers For Men  (White)',\n",
       " 'Casual Sneakers Shoes For Men Sneakers For Men  (White)',\n",
       " 'Sneakers For Men  (White)',\n",
       " \"Original Luxury Branded Fashionable Men's Casual Walking Partywear Sneakers Running White Shoes Sneakers For Men  (White)\",\n",
       " 'Combo Pack of 4 Casual Shoes Sneakers For Men  (Multicolor)',\n",
       " 'Sneakers For Men  (Multicolor)',\n",
       " 'Combo Pack of 4 Casual Sneakers With Sneakers For Men  (Multicolor)',\n",
       " 'Modern Trendy Shoes Combo pack of 4 Sneakers For Men  (Multicolor)',\n",
       " 'Sneakers For Men  (White)',\n",
       " 'Sneakers For Men  (White)',\n",
       " 'Fashionable casual sneakers shoes Sneakers For Men  (Black)',\n",
       " \"White Sneaker For Men's/Boy's Sneakers For Men  (White)\",\n",
       " '5011-Latest Collection Stylish Casual Loafer Sneakers Shoes For Men Sneakers For Men  (Red)',\n",
       " 'Super Stylish & Trendy Combo Pack of 02 Pairs Sneakers Outdoor Loafer Sports for Running Rock Climbing Gym Shoes Sneakers For Men Sneakers For Men  (Grey, Navy)',\n",
       " 'LEBRON 2.0 Sneakers For Men  (Off White)',\n",
       " 'Super 445 Fashion Sneakers For Men  (Navy)',\n",
       " 'Speed Set of 5 Pairs Sneakers Outdoors Casuals for Men Sneakers For Men  (Multicolor)',\n",
       " 'Black Sneaker For Men Sneakers For Men  (Black)',\n",
       " 'Combo Pack Of 4 Casual Shoes Loafer Shoes Sneakers For Men  (Multicolor)',\n",
       " 'Unique & Perfect Collection Combo Pack of 02 Shoes for Men Casual Sneakers & Outdoor Walking Shoes for Men Sport Shoes for Men Running Gym Cycling & Trekking Rock Climbing Shoes for Men Sneakers For Men  (Black)',\n",
       " 'Sneakers for men(black_6) Sneakers For Men  (Black)',\n",
       " 'Casuals Sneakers For Men  (Blue)',\n",
       " 'Casual Sneakers Shoes For Men Sneakers For Men  (White)',\n",
       " 'Classy Sneakers For Men  (Blue)',\n",
       " 'Sneakers For Men  (White, Black)',\n",
       " 'Sneakers For Men  (Black)',\n",
       " 'Lightweight Pack of 02 Pair Shoes for Men Casual Sneakers Outdoor Shoes for Men Latest & Stylish Sports Shoe for Running Gym Cycling & Trekking Sneakers For Men Sneakers For Men  (Orange, Black)',\n",
       " 'casual for men (blue 06) Sneakers For Men  (Blue)',\n",
       " 'Sneakers Sneakers For Men  (White)',\n",
       " 'Sneakers For Men  (Grey)',\n",
       " 'Sneakers For Men  (White, Brown)',\n",
       " 'Combo Pack of 5 Casual Shoes Loafers Sneakers For Men  (Multicolor)',\n",
       " 'SM439G Sneakers For Men  (White)',\n",
       " 'Sneakers For Men  (Black)',\n",
       " 'Stylish & Comfort Combo Pack of 02 Pair Shoes for Boys Casual Sneakers Outdoor Loafers Shoes for Boys Latest & Stylish Sports Shoe for Running Gym Cycling & Trekking Sneakers For Boys Sneakers For Men  (Black, Tan)',\n",
       " 'Series 7 Sneakers For Men  (White)',\n",
       " 'Sneakers For Men  (Red)',\n",
       " 'Casual Sneakers,dancing, walking Sneakers For Men  (White, Black)',\n",
       " 'Sneakers For Men  (White)',\n",
       " 'Casual Sneakers White Shoes For Men Sneakers For Men  (White)',\n",
       " 'Sneakers For Men  (White)',\n",
       " 'SM439G Sneakers For Men  (White)',\n",
       " 'Comfort Air Net Super Quality Shoes Sneakers For Men  (White)',\n",
       " \"Casual shoes,Sneakers for men's,shoes for men's Sneakers For Men  (Grey)\",\n",
       " 'SOFT Sneakers For Men  (White)',\n",
       " 'Latest Collection-1227 Stylish Casual Sports Sneakers For Men  (Blue, Black)',\n",
       " 'Sneakers For Men  (Black)',\n",
       " 'Sneakers For Men  (White)',\n",
       " 'Synthetic Leather Casual Partywear Wedding Sneakers Shoes For Men Sneakers For Men  (Grey)',\n",
       " 'casual sneaker shoes and partywear shoes Casuals For Men Sneakers For Men  (Multicolor)',\n",
       " 'Designer Printed Casual Sneakers Shoes Sneakers For Men  (Black)',\n",
       " 'Combo Pack Of 4 Casual Sneakers For Men  (Multicolor)',\n",
       " 'casual for men (beige 06) Sneakers For Men  (Beige)',\n",
       " 'Sneakers For Men  (Grey)',\n",
       " 'casual for men Sneakers For Men  (Black)',\n",
       " 'Series 7 Sneakers For Men  (White)',\n",
       " 'Men 5014 Latest Collection Stylish Casual Sports Loafers Shoes Sneakers Shoes Sneakers For Men  (Brown, Blue)',\n",
       " 'Trendy Sneakers For Men  (Blue, Black)',\n",
       " 'casual for men (beige 10) Sneakers For Men  (Beige)',\n",
       " 'Fashionable casual sneaker shoes Sneakers For Men  (White)',\n",
       " 'Sneakers For Men  (Black)',\n",
       " 'SM-322 Sneakers For Men  (Black, Grey)',\n",
       " 'Latest Design Sneakers For Men  (White)',\n",
       " 'Fashion Outdoor Canvas Casual Light Weight Lace-up Evening Walk Running Shoes For Men Sneakers For Men  (White, Orange)',\n",
       " 'Premium quality Sneakers For Men  (Blue)',\n",
       " 'Combo Pack of 4 Casual Shoes Sneakers For Men  (Multicolor)',\n",
       " 'Sneakers For Men  (White)',\n",
       " 'Sneakers For Men  (White)',\n",
       " 'Rockstyle Trending Multicolor Ultralight canvas Sport/ Training Lace-up Morning / Evening walk Dating Running Shoes For Men | sports shoes for men | Latest Stylish Casual sneakers for men | Lace up lightweight shoes for running, walking, gym, trekking, hiking & party Sneakers For Men  (Grey, Orange)',\n",
       " 'Sneakers Sneakers For Men  (Black)',\n",
       " 'Combo Pack of 3 Casual Sneakers Shoes Sneakers For Men  (Multicolor)',\n",
       " 'Synthetic Leather Casual Sneakers Shoes For Men Sneakers For Men  (Black)',\n",
       " 'Affordable Combo Pack of 02 Pairs Sneakers Outdoor Loafer Sports for Running Rock Climbing Gym Shoes Sneakers For Men  (Multicolor)',\n",
       " 'Casual Sneakers Green Shoes For Men And Boys Sneakers For Men  (White)',\n",
       " 'Sneakers For Men  (White)',\n",
       " 'Sneakers For Men  (White, Black)',\n",
       " 'Combo Pack of 2 Casual Shoes Sneakers For Men  (Multicolor)',\n",
       " 'Sneakers For Men  (Black)',\n",
       " 'Sneakers For Men  (Black)',\n",
       " 'Trendy Sneakers For Men  (Blue, Black)',\n",
       " 'Stylish & Unique Design Combo Pack of 02 Shoes for Men Casual Sneakers & Outdoor Walking Shoes for Men Sport Shoes for Men Running Gym Cycling & Trekking Rock Climbing Shoes for Men Sneakers For Men  (White, Grey)',\n",
       " 'Shoes For Boys Dance shoes Sneakers For Men  (Multicolor)',\n",
       " 'Modern Trendy Shoes Combo pack of 4 Sneakers For Men  (Multicolor)',\n",
       " 'Smart Casuals Canvas Shoes Combo pack of 2 Sneakers For Men  (Multicolor)',\n",
       " \"Karda Casual Sneakers and Gym Shoes for Men's and Boys White Color Sneakers Sneakers For Men  (White)\",\n",
       " 'Shoes in Black Color Party wear/Outdoor/Casual Shoes For Men (Black) Sneakers For Men  (Black)',\n",
       " 'Comfort Air Net Super Quality Shoes Sneakers For Men  (White)',\n",
       " 'Speeder DP Sneakers For Men  (White)',\n",
       " 'SM-482 Sneakers For Men  (Black, Red)',\n",
       " 'Sneakers For Men  (White)',\n",
       " 'Stylish & Comfort Combo Pack of 02 Pair Shoes for Boys Casual Sneakers Outdoor Loafers Shoes for Boys Latest & Stylish Sports Shoe for Running Gym Cycling & Trekking Sneakers For Boys Sneakers For Men  (Black, Tan)',\n",
       " 'DERICO Sneakers For Men  (Black)',\n",
       " 'Hip Hop Mid Perf IDP Sneakers For Men  (Blue)',\n",
       " 'Street Smart Sneakers For Men  (White, Black)',\n",
       " 'Sneakers For Men  (Black)',\n",
       " 'EMAN Sneakers For Men  (Black)',\n",
       " 'SM-162 Sneakers For Men  (Black)',\n",
       " 'Fashionable casual sneakers shoes Sneakers For Men  (Black)',\n",
       " 'Combo Pack Of 4 Casual Sneakers For Men  (Multicolor)']"
      ]
     },
     "execution_count": 45,
     "metadata": {},
     "output_type": "execute_result"
    }
   ],
   "source": [
    "sneakers_description = pd_desc8 +pd2_desc8 + pd3_desc8[:20]\n",
    "\n",
    "sneakers_description"
   ]
  },
  {
   "cell_type": "code",
   "execution_count": 44,
   "metadata": {},
   "outputs": [
    {
     "data": {
      "text/plain": [
       "['₹499',\n",
       " '₹410',\n",
       " '₹379',\n",
       " '₹398',\n",
       " '₹499',\n",
       " '₹698',\n",
       " '₹497',\n",
       " '₹474',\n",
       " '₹748',\n",
       " '₹499',\n",
       " '₹399',\n",
       " '₹449',\n",
       " '₹349',\n",
       " '₹240',\n",
       " '₹599',\n",
       " '₹3,999',\n",
       " '₹389',\n",
       " '₹759',\n",
       " '₹449',\n",
       " '₹449',\n",
       " '₹470',\n",
       " '₹449',\n",
       " '₹399',\n",
       " '₹399',\n",
       " '₹242',\n",
       " '₹474',\n",
       " '₹449',\n",
       " '₹470',\n",
       " '₹449',\n",
       " '₹398',\n",
       " '₹240',\n",
       " '₹499',\n",
       " '₹698',\n",
       " '₹649',\n",
       " '₹449',\n",
       " '₹470',\n",
       " '₹499',\n",
       " '₹199',\n",
       " '₹279',\n",
       " '₹449',\n",
       " '₹474',\n",
       " '₹465',\n",
       " '₹649',\n",
       " '₹699',\n",
       " '₹379',\n",
       " '₹199',\n",
       " '₹240',\n",
       " '₹449',\n",
       " '₹439',\n",
       " '₹378',\n",
       " '₹418',\n",
       " '₹464',\n",
       " '₹474',\n",
       " '₹379',\n",
       " '₹240',\n",
       " '₹449',\n",
       " '₹499',\n",
       " '₹240',\n",
       " '₹468',\n",
       " '₹449',\n",
       " '₹419',\n",
       " '₹398',\n",
       " '₹799',\n",
       " '₹512',\n",
       " '₹499',\n",
       " '₹349',\n",
       " '₹799',\n",
       " '₹419',\n",
       " '₹377',\n",
       " '₹449',\n",
       " '₹275',\n",
       " '₹698',\n",
       " '₹449',\n",
       " '₹599',\n",
       " '₹499',\n",
       " '₹635',\n",
       " '₹475',\n",
       " '₹302',\n",
       " '₹399',\n",
       " '₹692',\n",
       " '₹468',\n",
       " '₹598',\n",
       " '₹555',\n",
       " '₹748',\n",
       " '₹379',\n",
       " '₹410',\n",
       " '₹360',\n",
       " '₹699',\n",
       " '₹1,549',\n",
       " '₹965',\n",
       " '₹635',\n",
       " '₹470',\n",
       " '₹1,406',\n",
       " '₹1,959',\n",
       " '₹674',\n",
       " '₹449',\n",
       " '₹1,244',\n",
       " '₹730',\n",
       " '₹399',\n",
       " '₹474']"
      ]
     },
     "execution_count": 44,
     "metadata": {},
     "output_type": "execute_result"
    }
   ],
   "source": [
    "sneakers_price = prices8 + price8_pg2 +price8_pg3[:20]\n",
    "\n",
    "sneakers_price"
   ]
  },
  {
   "cell_type": "code",
   "execution_count": 46,
   "metadata": {},
   "outputs": [
    {
     "name": "stdout",
     "output_type": "stream",
     "text": [
      "100 100 100\n"
     ]
    }
   ],
   "source": [
    "# Checking the length of all the columns which we've extracted.\n",
    "\n",
    "print (len(brand_name8),len(sneakers_description),len(sneakers_price))"
   ]
  },
  {
   "cell_type": "code",
   "execution_count": 47,
   "metadata": {},
   "outputs": [
    {
     "data": {
      "text/html": [
       "<div>\n",
       "<style scoped>\n",
       "    .dataframe tbody tr th:only-of-type {\n",
       "        vertical-align: middle;\n",
       "    }\n",
       "\n",
       "    .dataframe tbody tr th {\n",
       "        vertical-align: top;\n",
       "    }\n",
       "\n",
       "    .dataframe thead th {\n",
       "        text-align: right;\n",
       "    }\n",
       "</style>\n",
       "<table border=\"1\" class=\"dataframe\">\n",
       "  <thead>\n",
       "    <tr style=\"text-align: right;\">\n",
       "      <th></th>\n",
       "      <th>Sneaker Brand Name</th>\n",
       "      <th>Sneaker Short Description</th>\n",
       "      <th>Sneaker Prices</th>\n",
       "    </tr>\n",
       "  </thead>\n",
       "  <tbody>\n",
       "    <tr>\n",
       "      <th>0</th>\n",
       "      <td>Robbie jones</td>\n",
       "      <td>Casual Sneakers Green Shoes For Men And Boys S...</td>\n",
       "      <td>₹499</td>\n",
       "    </tr>\n",
       "    <tr>\n",
       "      <th>1</th>\n",
       "      <td>kardam&amp;sons</td>\n",
       "      <td>Fashinable casual sneaker shoes Sneakers For M...</td>\n",
       "      <td>₹410</td>\n",
       "    </tr>\n",
       "    <tr>\n",
       "      <th>2</th>\n",
       "      <td>Robbie jones</td>\n",
       "      <td>Casual Sneakers Shoes For Men Sneakers For Men...</td>\n",
       "      <td>₹379</td>\n",
       "    </tr>\n",
       "    <tr>\n",
       "      <th>3</th>\n",
       "      <td>Numenzo</td>\n",
       "      <td>Sneakers For Men  (White)</td>\n",
       "      <td>₹398</td>\n",
       "    </tr>\n",
       "    <tr>\n",
       "      <th>4</th>\n",
       "      <td>ASTEROID</td>\n",
       "      <td>Original Luxury Branded Fashionable Men's Casu...</td>\n",
       "      <td>₹499</td>\n",
       "    </tr>\n",
       "    <tr>\n",
       "      <th>...</th>\n",
       "      <td>...</td>\n",
       "      <td>...</td>\n",
       "      <td>...</td>\n",
       "    </tr>\n",
       "    <tr>\n",
       "      <th>95</th>\n",
       "      <td>bluemaker</td>\n",
       "      <td>Sneakers For Men  (Black)</td>\n",
       "      <td>₹449</td>\n",
       "    </tr>\n",
       "    <tr>\n",
       "      <th>96</th>\n",
       "      <td>FILA</td>\n",
       "      <td>EMAN Sneakers For Men  (Black)</td>\n",
       "      <td>₹1,244</td>\n",
       "    </tr>\n",
       "    <tr>\n",
       "      <th>97</th>\n",
       "      <td>SPARX</td>\n",
       "      <td>SM-162 Sneakers For Men  (Black)</td>\n",
       "      <td>₹730</td>\n",
       "    </tr>\n",
       "    <tr>\n",
       "      <th>98</th>\n",
       "      <td>India hub</td>\n",
       "      <td>Fashionable casual sneakers shoes Sneakers For...</td>\n",
       "      <td>₹399</td>\n",
       "    </tr>\n",
       "    <tr>\n",
       "      <th>99</th>\n",
       "      <td>BRUTON</td>\n",
       "      <td>Combo Pack Of 4 Casual Sneakers For Men  (Mult...</td>\n",
       "      <td>₹474</td>\n",
       "    </tr>\n",
       "  </tbody>\n",
       "</table>\n",
       "<p>100 rows × 3 columns</p>\n",
       "</div>"
      ],
      "text/plain": [
       "    Sneaker Brand Name                          Sneaker Short Description   \\\n",
       "0         Robbie jones   Casual Sneakers Green Shoes For Men And Boys S...   \n",
       "1          kardam&sons   Fashinable casual sneaker shoes Sneakers For M...   \n",
       "2         Robbie jones   Casual Sneakers Shoes For Men Sneakers For Men...   \n",
       "3              Numenzo                           Sneakers For Men  (White)   \n",
       "4             ASTEROID   Original Luxury Branded Fashionable Men's Casu...   \n",
       "..                  ...                                                ...   \n",
       "95           bluemaker                           Sneakers For Men  (Black)   \n",
       "96                FILA                      EMAN Sneakers For Men  (Black)   \n",
       "97               SPARX                    SM-162 Sneakers For Men  (Black)   \n",
       "98           India hub   Fashionable casual sneakers shoes Sneakers For...   \n",
       "99              BRUTON   Combo Pack Of 4 Casual Sneakers For Men  (Mult...   \n",
       "\n",
       "    Sneaker Prices   \n",
       "0              ₹499  \n",
       "1              ₹410  \n",
       "2              ₹379  \n",
       "3              ₹398  \n",
       "4              ₹499  \n",
       "..              ...  \n",
       "95             ₹449  \n",
       "96           ₹1,244  \n",
       "97             ₹730  \n",
       "98             ₹399  \n",
       "99             ₹474  \n",
       "\n",
       "[100 rows x 3 columns]"
      ]
     },
     "execution_count": 47,
     "metadata": {},
     "output_type": "execute_result"
    }
   ],
   "source": [
    "# Making the dataframe.\n",
    "\n",
    "sneaker_details = pd.DataFrame({})\n",
    "\n",
    "sneaker_details[' Sneaker Brand Name '] = brand_name8\n",
    "sneaker_details[' Sneaker Short Description '] = sneakers_description\n",
    "sneaker_details[' Sneaker Prices '] = sneakers_price\n",
    "\n",
    "sneaker_details"
   ]
  },
  {
   "cell_type": "markdown",
   "metadata": {},
   "source": [
    "-----------------------------------------------------------------------------------------------------------------------------"
   ]
  },
  {
   "cell_type": "markdown",
   "metadata": {},
   "source": [
    "##### Q. No. 9 :- Go to the link - https://www.myntra.com/shoes Set Price filter to “Rs. 6649 to Rs. 13099” , Color filter to “Black” "
   ]
  },
  {
   "cell_type": "markdown",
   "metadata": {},
   "source": [
    "-----------------------------------------------------------------------------------------------------------------------------"
   ]
  },
  {
   "cell_type": "code",
   "execution_count": 52,
   "metadata": {},
   "outputs": [],
   "source": [
    "# loding the web-page https://www.myntra.com/shoes\n",
    "\n",
    "url9 = 'https://www.myntra.com/shoes'\n",
    "\n",
    "driver.get(url9)"
   ]
  },
  {
   "cell_type": "code",
   "execution_count": 55,
   "metadata": {},
   "outputs": [],
   "source": [
    "# Extracting the web-element of the price filter and clicking on it to get the desired results.\n",
    "\n",
    "p_filter = driver.find_element_by_xpath('//*[@id=\"mountRoot\"]/div/div[1]/main/div[3]/div[1]/section/div/div[5]/ul/li[2]/label/div')\n",
    "\n",
    "p_filter.click()"
   ]
  },
  {
   "cell_type": "code",
   "execution_count": 54,
   "metadata": {},
   "outputs": [],
   "source": [
    "# Extracting the web-element of the color filter and clicking on it to get the desired results.\n",
    "\n",
    "c_filter = driver.find_element_by_xpath('//*[@id=\"mountRoot\"]/div/div[1]/main/div[3]/div[1]/section/div/div[6]/ul/li[1]/label/div')\n",
    "\n",
    "c_filter.click()"
   ]
  },
  {
   "cell_type": "code",
   "execution_count": 57,
   "metadata": {},
   "outputs": [
    {
     "data": {
      "text/plain": [
       "[<selenium.webdriver.remote.webelement.WebElement (session=\"d9a4e0581f46b220e4df4498ea7d73e8\", element=\"dd92ccd4-34b3-4e57-a709-30c9d1356cc0\")>,\n",
       " <selenium.webdriver.remote.webelement.WebElement (session=\"d9a4e0581f46b220e4df4498ea7d73e8\", element=\"d4b5cced-0e1a-463c-9fd2-488e1dc933f8\")>,\n",
       " <selenium.webdriver.remote.webelement.WebElement (session=\"d9a4e0581f46b220e4df4498ea7d73e8\", element=\"23ebc20e-430b-4010-b9d2-ddbb46deb6d7\")>,\n",
       " <selenium.webdriver.remote.webelement.WebElement (session=\"d9a4e0581f46b220e4df4498ea7d73e8\", element=\"237c09a7-85dc-4744-8d78-6cc4036671ae\")>,\n",
       " <selenium.webdriver.remote.webelement.WebElement (session=\"d9a4e0581f46b220e4df4498ea7d73e8\", element=\"2b2f34cf-6dfa-460c-b3df-f3ddb009bf02\")>,\n",
       " <selenium.webdriver.remote.webelement.WebElement (session=\"d9a4e0581f46b220e4df4498ea7d73e8\", element=\"0f3cb591-9018-474a-9a37-c406b5050e03\")>,\n",
       " <selenium.webdriver.remote.webelement.WebElement (session=\"d9a4e0581f46b220e4df4498ea7d73e8\", element=\"6ee6691a-26c5-44fc-94b8-1ff17515379a\")>,\n",
       " <selenium.webdriver.remote.webelement.WebElement (session=\"d9a4e0581f46b220e4df4498ea7d73e8\", element=\"37e2baba-3d2b-45fc-8958-15f7ac3ab28e\")>,\n",
       " <selenium.webdriver.remote.webelement.WebElement (session=\"d9a4e0581f46b220e4df4498ea7d73e8\", element=\"ab51e957-8063-46f0-903e-8142a5af6841\")>,\n",
       " <selenium.webdriver.remote.webelement.WebElement (session=\"d9a4e0581f46b220e4df4498ea7d73e8\", element=\"998b8848-aa71-4e8e-a43d-a35e0eef7c2f\")>,\n",
       " <selenium.webdriver.remote.webelement.WebElement (session=\"d9a4e0581f46b220e4df4498ea7d73e8\", element=\"4a7da117-006d-4904-80d5-9693e77fba09\")>,\n",
       " <selenium.webdriver.remote.webelement.WebElement (session=\"d9a4e0581f46b220e4df4498ea7d73e8\", element=\"a17efd49-37a6-4e6a-9d42-2d387a98c8cb\")>,\n",
       " <selenium.webdriver.remote.webelement.WebElement (session=\"d9a4e0581f46b220e4df4498ea7d73e8\", element=\"81b714c1-26cd-42a6-b98a-e24cba368892\")>,\n",
       " <selenium.webdriver.remote.webelement.WebElement (session=\"d9a4e0581f46b220e4df4498ea7d73e8\", element=\"441a63d6-6f4c-4631-9521-edf76814ea77\")>,\n",
       " <selenium.webdriver.remote.webelement.WebElement (session=\"d9a4e0581f46b220e4df4498ea7d73e8\", element=\"f74704ca-5e79-4535-9923-6ba335fd2aa2\")>,\n",
       " <selenium.webdriver.remote.webelement.WebElement (session=\"d9a4e0581f46b220e4df4498ea7d73e8\", element=\"58d201c0-ff62-44b6-9b99-912ccc554d11\")>,\n",
       " <selenium.webdriver.remote.webelement.WebElement (session=\"d9a4e0581f46b220e4df4498ea7d73e8\", element=\"2209d87a-0fcd-4c83-b227-bec1ae5a919d\")>,\n",
       " <selenium.webdriver.remote.webelement.WebElement (session=\"d9a4e0581f46b220e4df4498ea7d73e8\", element=\"42790255-5465-4469-9880-4c0005cb4bfc\")>,\n",
       " <selenium.webdriver.remote.webelement.WebElement (session=\"d9a4e0581f46b220e4df4498ea7d73e8\", element=\"2eb6a385-a7ad-40b7-a5e1-410f818e1683\")>,\n",
       " <selenium.webdriver.remote.webelement.WebElement (session=\"d9a4e0581f46b220e4df4498ea7d73e8\", element=\"3d313a31-083b-4a5b-8d98-7771d0203b3a\")>,\n",
       " <selenium.webdriver.remote.webelement.WebElement (session=\"d9a4e0581f46b220e4df4498ea7d73e8\", element=\"b14f7fb5-4358-4298-88f0-ff8c812e3a70\")>,\n",
       " <selenium.webdriver.remote.webelement.WebElement (session=\"d9a4e0581f46b220e4df4498ea7d73e8\", element=\"e6c8c099-3321-4dda-a1a3-d12cae17be84\")>,\n",
       " <selenium.webdriver.remote.webelement.WebElement (session=\"d9a4e0581f46b220e4df4498ea7d73e8\", element=\"af92d614-f441-472e-b067-b5ba9398a049\")>,\n",
       " <selenium.webdriver.remote.webelement.WebElement (session=\"d9a4e0581f46b220e4df4498ea7d73e8\", element=\"bb3403fd-ad6e-4778-84bb-076fba687327\")>,\n",
       " <selenium.webdriver.remote.webelement.WebElement (session=\"d9a4e0581f46b220e4df4498ea7d73e8\", element=\"8307549e-116e-4d2e-b0e5-20a561ee6b5d\")>,\n",
       " <selenium.webdriver.remote.webelement.WebElement (session=\"d9a4e0581f46b220e4df4498ea7d73e8\", element=\"220ed0a8-088f-4467-b392-664c927a3fd6\")>,\n",
       " <selenium.webdriver.remote.webelement.WebElement (session=\"d9a4e0581f46b220e4df4498ea7d73e8\", element=\"45619992-bd23-4d53-88c5-a3e0f9d31452\")>,\n",
       " <selenium.webdriver.remote.webelement.WebElement (session=\"d9a4e0581f46b220e4df4498ea7d73e8\", element=\"02df7515-dd01-47d0-b10a-ec31501920a9\")>,\n",
       " <selenium.webdriver.remote.webelement.WebElement (session=\"d9a4e0581f46b220e4df4498ea7d73e8\", element=\"23fdecb2-2bb7-4755-9dce-4df454d43378\")>,\n",
       " <selenium.webdriver.remote.webelement.WebElement (session=\"d9a4e0581f46b220e4df4498ea7d73e8\", element=\"5a088e04-83af-4db8-88e1-05168f4c5d77\")>,\n",
       " <selenium.webdriver.remote.webelement.WebElement (session=\"d9a4e0581f46b220e4df4498ea7d73e8\", element=\"bc3727d9-ce9d-45bb-af92-4572d9f50b57\")>,\n",
       " <selenium.webdriver.remote.webelement.WebElement (session=\"d9a4e0581f46b220e4df4498ea7d73e8\", element=\"2d480ea3-5ec1-4026-afc0-27f8d2ec3739\")>,\n",
       " <selenium.webdriver.remote.webelement.WebElement (session=\"d9a4e0581f46b220e4df4498ea7d73e8\", element=\"4bb11123-985f-45ed-a308-424163eb5f5a\")>,\n",
       " <selenium.webdriver.remote.webelement.WebElement (session=\"d9a4e0581f46b220e4df4498ea7d73e8\", element=\"f560501f-ea67-445e-95c4-44f15a185b50\")>,\n",
       " <selenium.webdriver.remote.webelement.WebElement (session=\"d9a4e0581f46b220e4df4498ea7d73e8\", element=\"c211430e-9362-4b24-ae69-f59cc17cf1f2\")>,\n",
       " <selenium.webdriver.remote.webelement.WebElement (session=\"d9a4e0581f46b220e4df4498ea7d73e8\", element=\"636759b9-bda7-459d-af05-0717642ffde3\")>,\n",
       " <selenium.webdriver.remote.webelement.WebElement (session=\"d9a4e0581f46b220e4df4498ea7d73e8\", element=\"7c3ee55e-2fe0-41c7-a986-2a4d1c975aaa\")>,\n",
       " <selenium.webdriver.remote.webelement.WebElement (session=\"d9a4e0581f46b220e4df4498ea7d73e8\", element=\"f7da070b-9cd6-45af-8a01-f698e5ca3cfc\")>,\n",
       " <selenium.webdriver.remote.webelement.WebElement (session=\"d9a4e0581f46b220e4df4498ea7d73e8\", element=\"06d8d8c1-dfa5-4154-b9a5-18e48ae67111\")>,\n",
       " <selenium.webdriver.remote.webelement.WebElement (session=\"d9a4e0581f46b220e4df4498ea7d73e8\", element=\"92fc964a-b948-4d1d-8197-32996a2104cf\")>,\n",
       " <selenium.webdriver.remote.webelement.WebElement (session=\"d9a4e0581f46b220e4df4498ea7d73e8\", element=\"4a3d7cd4-15e6-4558-9e21-7ff138205b83\")>,\n",
       " <selenium.webdriver.remote.webelement.WebElement (session=\"d9a4e0581f46b220e4df4498ea7d73e8\", element=\"8b859fc8-612e-42cb-8de2-ff035c591011\")>,\n",
       " <selenium.webdriver.remote.webelement.WebElement (session=\"d9a4e0581f46b220e4df4498ea7d73e8\", element=\"c2cc07cf-c514-4f37-b17b-6f2726bb7b33\")>,\n",
       " <selenium.webdriver.remote.webelement.WebElement (session=\"d9a4e0581f46b220e4df4498ea7d73e8\", element=\"30098048-04b3-4668-acca-ccdee07e2267\")>,\n",
       " <selenium.webdriver.remote.webelement.WebElement (session=\"d9a4e0581f46b220e4df4498ea7d73e8\", element=\"b8cfb80f-61a2-4dde-b5f3-fc995a5d91ed\")>,\n",
       " <selenium.webdriver.remote.webelement.WebElement (session=\"d9a4e0581f46b220e4df4498ea7d73e8\", element=\"560f1817-bfcf-428e-8bb8-dde3e7eaed74\")>,\n",
       " <selenium.webdriver.remote.webelement.WebElement (session=\"d9a4e0581f46b220e4df4498ea7d73e8\", element=\"3ef3e502-fc7f-4dfa-add0-7e00a6548e80\")>,\n",
       " <selenium.webdriver.remote.webelement.WebElement (session=\"d9a4e0581f46b220e4df4498ea7d73e8\", element=\"ab1dcea2-bf0d-4c8f-aea4-8071f764dd01\")>,\n",
       " <selenium.webdriver.remote.webelement.WebElement (session=\"d9a4e0581f46b220e4df4498ea7d73e8\", element=\"c5127dec-af23-489e-9b5d-9c46a0aabe3e\")>,\n",
       " <selenium.webdriver.remote.webelement.WebElement (session=\"d9a4e0581f46b220e4df4498ea7d73e8\", element=\"74893c40-7c3b-4cb4-8b47-f1331690daff\")>]"
      ]
     },
     "execution_count": 57,
     "metadata": {},
     "output_type": "execute_result"
    }
   ],
   "source": [
    "# Extracting the web-elements of the brands of the shoes.\n",
    "\n",
    "brand_tag1 = driver.find_elements_by_xpath('//h3[@class=\"product-brand\"]')\n",
    "\n",
    "brand_tag1"
   ]
  },
  {
   "cell_type": "code",
   "execution_count": 58,
   "metadata": {},
   "outputs": [
    {
     "data": {
      "text/plain": [
       "['Nike',\n",
       " 'Nike',\n",
       " 'Nike',\n",
       " 'ALDO',\n",
       " 'ALDO',\n",
       " 'Nike',\n",
       " 'Nike',\n",
       " 'Nike',\n",
       " 'ASICS',\n",
       " 'UNDER ARMOUR',\n",
       " 'UNDER ARMOUR',\n",
       " 'UNDER ARMOUR',\n",
       " 'FORCLAZ By Decathlon',\n",
       " 'Puma',\n",
       " 'ASICS',\n",
       " 'J.FONTINI',\n",
       " 'Puma',\n",
       " 'FILA',\n",
       " 'Kalenji By Decathlon',\n",
       " 'Quechua By Decathlon',\n",
       " 'Hush Puppies',\n",
       " 'Hush Puppies',\n",
       " 'Nike',\n",
       " 'Puma',\n",
       " 'ASICS',\n",
       " 'Cole Haan',\n",
       " 'Geox',\n",
       " 'UNDER ARMOUR',\n",
       " 'UNDER ARMOUR',\n",
       " 'Hush Puppies',\n",
       " 'Lacoste',\n",
       " 'Geox',\n",
       " 'J.FONTINI',\n",
       " 'Kenneth Cole',\n",
       " 'Hush Puppies',\n",
       " 'Hush Puppies',\n",
       " 'J.FONTINI',\n",
       " 'Geox',\n",
       " 'Ruosh',\n",
       " 'Geox',\n",
       " 'UNDER ARMOUR',\n",
       " 'Hush Puppies',\n",
       " 'Hush Puppies',\n",
       " 'Hush Puppies',\n",
       " 'ALDO',\n",
       " 'ADIDAS',\n",
       " 'DAVINCHI',\n",
       " 'RARE RABBIT',\n",
       " 'UNDER ARMOUR',\n",
       " 'Geox']"
      ]
     },
     "execution_count": 58,
     "metadata": {},
     "output_type": "execute_result"
    }
   ],
   "source": [
    "# Extracting the texts from the web-elements of the brand names.\n",
    "\n",
    "b_name1 = []\n",
    "\n",
    "for b1 in brand_tag1:\n",
    "    b_name1.append(b1.text)\n",
    "    \n",
    "b_name1"
   ]
  },
  {
   "cell_type": "code",
   "execution_count": 59,
   "metadata": {},
   "outputs": [
    {
     "data": {
      "text/plain": [
       "50"
      ]
     },
     "execution_count": 59,
     "metadata": {},
     "output_type": "execute_result"
    }
   ],
   "source": [
    "len (b_name1)"
   ]
  },
  {
   "cell_type": "code",
   "execution_count": 60,
   "metadata": {},
   "outputs": [
    {
     "data": {
      "text/plain": [
       "[<selenium.webdriver.remote.webelement.WebElement (session=\"d9a4e0581f46b220e4df4498ea7d73e8\", element=\"590c2596-0876-4afa-a702-6e91fddc0756\")>,\n",
       " <selenium.webdriver.remote.webelement.WebElement (session=\"d9a4e0581f46b220e4df4498ea7d73e8\", element=\"25c16c8a-b196-4aa1-9bb9-f9982521986c\")>,\n",
       " <selenium.webdriver.remote.webelement.WebElement (session=\"d9a4e0581f46b220e4df4498ea7d73e8\", element=\"c7ae5655-b220-4e6b-a961-e25d4908c01a\")>,\n",
       " <selenium.webdriver.remote.webelement.WebElement (session=\"d9a4e0581f46b220e4df4498ea7d73e8\", element=\"358c2c9d-1d12-49a2-8208-d764e14cc5ad\")>,\n",
       " <selenium.webdriver.remote.webelement.WebElement (session=\"d9a4e0581f46b220e4df4498ea7d73e8\", element=\"3f480f52-63d4-4c58-a4f8-511c9c028146\")>,\n",
       " <selenium.webdriver.remote.webelement.WebElement (session=\"d9a4e0581f46b220e4df4498ea7d73e8\", element=\"5b46e52e-b205-436e-bf34-f1a30c732d18\")>,\n",
       " <selenium.webdriver.remote.webelement.WebElement (session=\"d9a4e0581f46b220e4df4498ea7d73e8\", element=\"3df3e7e3-d4ae-49f5-b5f6-564b78634d0f\")>,\n",
       " <selenium.webdriver.remote.webelement.WebElement (session=\"d9a4e0581f46b220e4df4498ea7d73e8\", element=\"0b5b2c70-8a81-4414-8ac6-33030e7485e8\")>,\n",
       " <selenium.webdriver.remote.webelement.WebElement (session=\"d9a4e0581f46b220e4df4498ea7d73e8\", element=\"490d1e0c-6dda-4c3a-8e65-22dce259cf7a\")>,\n",
       " <selenium.webdriver.remote.webelement.WebElement (session=\"d9a4e0581f46b220e4df4498ea7d73e8\", element=\"8e647c93-3f9b-4280-a205-078e1ac72beb\")>,\n",
       " <selenium.webdriver.remote.webelement.WebElement (session=\"d9a4e0581f46b220e4df4498ea7d73e8\", element=\"39c3c521-3c2a-4d6c-b907-b0a3468b1e92\")>,\n",
       " <selenium.webdriver.remote.webelement.WebElement (session=\"d9a4e0581f46b220e4df4498ea7d73e8\", element=\"71913d5c-5f90-4f89-bd5c-6fb39b832484\")>,\n",
       " <selenium.webdriver.remote.webelement.WebElement (session=\"d9a4e0581f46b220e4df4498ea7d73e8\", element=\"c1bf2cc7-2ec9-4ec8-8112-70fb7b02be7c\")>,\n",
       " <selenium.webdriver.remote.webelement.WebElement (session=\"d9a4e0581f46b220e4df4498ea7d73e8\", element=\"7b573b50-6498-4f84-9ebe-cd76ad21681d\")>,\n",
       " <selenium.webdriver.remote.webelement.WebElement (session=\"d9a4e0581f46b220e4df4498ea7d73e8\", element=\"ce0bdb0b-cba5-477b-a317-ba20f7015563\")>,\n",
       " <selenium.webdriver.remote.webelement.WebElement (session=\"d9a4e0581f46b220e4df4498ea7d73e8\", element=\"42561e44-ec49-4e78-8205-5738ac049931\")>,\n",
       " <selenium.webdriver.remote.webelement.WebElement (session=\"d9a4e0581f46b220e4df4498ea7d73e8\", element=\"45158ac5-2acc-46dd-8e8d-f6d1b212f717\")>,\n",
       " <selenium.webdriver.remote.webelement.WebElement (session=\"d9a4e0581f46b220e4df4498ea7d73e8\", element=\"85e78773-858e-448f-912f-fd3c380ca867\")>,\n",
       " <selenium.webdriver.remote.webelement.WebElement (session=\"d9a4e0581f46b220e4df4498ea7d73e8\", element=\"0f5d8839-7ace-4daa-9038-c67085e10df6\")>,\n",
       " <selenium.webdriver.remote.webelement.WebElement (session=\"d9a4e0581f46b220e4df4498ea7d73e8\", element=\"e038a771-d933-42ac-8f66-0f3062e6ab6d\")>,\n",
       " <selenium.webdriver.remote.webelement.WebElement (session=\"d9a4e0581f46b220e4df4498ea7d73e8\", element=\"8043fa47-ece4-49cb-b2d2-c187e554695c\")>,\n",
       " <selenium.webdriver.remote.webelement.WebElement (session=\"d9a4e0581f46b220e4df4498ea7d73e8\", element=\"aba2ac58-d700-4fce-9424-00a092c8ac54\")>,\n",
       " <selenium.webdriver.remote.webelement.WebElement (session=\"d9a4e0581f46b220e4df4498ea7d73e8\", element=\"b770e078-2b60-418f-b1c6-0df0e3fc0b9e\")>,\n",
       " <selenium.webdriver.remote.webelement.WebElement (session=\"d9a4e0581f46b220e4df4498ea7d73e8\", element=\"3ad65edb-cad3-46e8-ba12-ddf7aa012721\")>,\n",
       " <selenium.webdriver.remote.webelement.WebElement (session=\"d9a4e0581f46b220e4df4498ea7d73e8\", element=\"a70af14e-a6ec-46b9-90eb-3b580bf458a1\")>,\n",
       " <selenium.webdriver.remote.webelement.WebElement (session=\"d9a4e0581f46b220e4df4498ea7d73e8\", element=\"5bd7f32b-6cf8-4f59-bc95-dbf93a6be733\")>,\n",
       " <selenium.webdriver.remote.webelement.WebElement (session=\"d9a4e0581f46b220e4df4498ea7d73e8\", element=\"53521bb1-52bb-43f0-98b3-5a3be506f6ff\")>,\n",
       " <selenium.webdriver.remote.webelement.WebElement (session=\"d9a4e0581f46b220e4df4498ea7d73e8\", element=\"6e09b654-a6df-4c72-880a-35a3818ba4cd\")>,\n",
       " <selenium.webdriver.remote.webelement.WebElement (session=\"d9a4e0581f46b220e4df4498ea7d73e8\", element=\"c367c428-7a84-4711-9cc0-bee9037e8488\")>,\n",
       " <selenium.webdriver.remote.webelement.WebElement (session=\"d9a4e0581f46b220e4df4498ea7d73e8\", element=\"4118d74f-0a65-4dad-bad3-9251240fbea1\")>,\n",
       " <selenium.webdriver.remote.webelement.WebElement (session=\"d9a4e0581f46b220e4df4498ea7d73e8\", element=\"24149984-1a1d-4e2c-8f41-d5a728f9a3f7\")>,\n",
       " <selenium.webdriver.remote.webelement.WebElement (session=\"d9a4e0581f46b220e4df4498ea7d73e8\", element=\"bb2983cc-ef66-449d-8dfd-45017367b784\")>,\n",
       " <selenium.webdriver.remote.webelement.WebElement (session=\"d9a4e0581f46b220e4df4498ea7d73e8\", element=\"cfd9582d-2a3a-417e-afaf-ec854aabf890\")>,\n",
       " <selenium.webdriver.remote.webelement.WebElement (session=\"d9a4e0581f46b220e4df4498ea7d73e8\", element=\"9a37d6dd-55e4-4b16-9199-0b09fd77a414\")>,\n",
       " <selenium.webdriver.remote.webelement.WebElement (session=\"d9a4e0581f46b220e4df4498ea7d73e8\", element=\"3599aa16-d590-4059-a102-c6fe2f36be1a\")>,\n",
       " <selenium.webdriver.remote.webelement.WebElement (session=\"d9a4e0581f46b220e4df4498ea7d73e8\", element=\"fa1ea9ca-5c87-4336-9de1-2cd3ef5c053a\")>,\n",
       " <selenium.webdriver.remote.webelement.WebElement (session=\"d9a4e0581f46b220e4df4498ea7d73e8\", element=\"b7a4aee2-a9b2-45ae-af8d-2c1792f4725d\")>,\n",
       " <selenium.webdriver.remote.webelement.WebElement (session=\"d9a4e0581f46b220e4df4498ea7d73e8\", element=\"ebd68b0e-5a98-4c15-baae-f29051fed3ef\")>,\n",
       " <selenium.webdriver.remote.webelement.WebElement (session=\"d9a4e0581f46b220e4df4498ea7d73e8\", element=\"acbe858c-edf8-4073-8652-dc2130097197\")>,\n",
       " <selenium.webdriver.remote.webelement.WebElement (session=\"d9a4e0581f46b220e4df4498ea7d73e8\", element=\"68f724cc-f955-4ebe-91fe-d2408bdf08bb\")>,\n",
       " <selenium.webdriver.remote.webelement.WebElement (session=\"d9a4e0581f46b220e4df4498ea7d73e8\", element=\"fb1a7132-c70b-46a1-bf10-39cc4f514233\")>,\n",
       " <selenium.webdriver.remote.webelement.WebElement (session=\"d9a4e0581f46b220e4df4498ea7d73e8\", element=\"9fc6621d-516f-412c-b256-30071947fee6\")>,\n",
       " <selenium.webdriver.remote.webelement.WebElement (session=\"d9a4e0581f46b220e4df4498ea7d73e8\", element=\"f8ba8eaa-f6d7-4c6a-993d-ba64619823ee\")>,\n",
       " <selenium.webdriver.remote.webelement.WebElement (session=\"d9a4e0581f46b220e4df4498ea7d73e8\", element=\"7a1f2b58-ca6d-4b5e-87ac-423df9c6d6f8\")>,\n",
       " <selenium.webdriver.remote.webelement.WebElement (session=\"d9a4e0581f46b220e4df4498ea7d73e8\", element=\"4bd5d6ee-0ba1-44e9-ad58-30646d559c5e\")>,\n",
       " <selenium.webdriver.remote.webelement.WebElement (session=\"d9a4e0581f46b220e4df4498ea7d73e8\", element=\"12588adb-1c8b-4fa9-b9a0-4b6864b38029\")>,\n",
       " <selenium.webdriver.remote.webelement.WebElement (session=\"d9a4e0581f46b220e4df4498ea7d73e8\", element=\"dfaec9fb-1b46-44b2-b7eb-7db359e31bc2\")>,\n",
       " <selenium.webdriver.remote.webelement.WebElement (session=\"d9a4e0581f46b220e4df4498ea7d73e8\", element=\"a0b548a1-d420-44eb-96df-78acba273e47\")>,\n",
       " <selenium.webdriver.remote.webelement.WebElement (session=\"d9a4e0581f46b220e4df4498ea7d73e8\", element=\"46e596d8-e56b-46f0-a74e-73222ab74523\")>,\n",
       " <selenium.webdriver.remote.webelement.WebElement (session=\"d9a4e0581f46b220e4df4498ea7d73e8\", element=\"2347ad32-d30f-44a5-be6c-f363c858cd91\")>]"
      ]
     },
     "execution_count": 60,
     "metadata": {},
     "output_type": "execute_result"
    }
   ],
   "source": [
    "# Extracting the web-elements of the short description.\n",
    "\n",
    "p_describtion_tag1 = driver.find_elements_by_xpath('//h4[@class=\"product-product\"]')\n",
    "\n",
    "p_describtion_tag1"
   ]
  },
  {
   "cell_type": "code",
   "execution_count": 61,
   "metadata": {},
   "outputs": [
    {
     "data": {
      "text/plain": [
       "['Men AIR ZOOM Running Shoes',\n",
       " 'Men AIR ZOOM PEGASUS 38 Run',\n",
       " 'Men Zoom Winflo 8 Running',\n",
       " 'Men Sneakers',\n",
       " 'Men Driving Shoes',\n",
       " 'AIR ZOOM PEGASUS Running Shoes',\n",
       " 'Men JORDAN WHY NOT Basketball',\n",
       " 'Men KD13 EP Basketball Shoes',\n",
       " 'Women Running Shoes',\n",
       " 'HOVR Sonic 3 Running Shoes',\n",
       " 'HOVR Sonic 3 Running Shoes',\n",
       " 'Men HOVR Infinite Running',\n",
       " 'TREKKING 100 Boots',\n",
       " 'Men Deviate Nitro Running Shoe',\n",
       " 'Women Running Shoes',\n",
       " 'Men Textured Leather Loafers',\n",
       " 'Women Velocity Nitro Running',\n",
       " 'Men Leather Sneakers',\n",
       " 'Men KD500 Running Shoe',\n",
       " 'Men Trekking Shoes',\n",
       " 'Men Leather Slip-On Sneakers',\n",
       " 'Men Leather Slip-On Shoes',\n",
       " 'Men JORDAN DELTA Sneakers',\n",
       " 'Women Deviate Nitro Running',\n",
       " 'Men Running Shoes',\n",
       " 'Leather Sneakers',\n",
       " 'Men Leather Driving Shoes',\n",
       " 'Women TriBase Reign 2 Training',\n",
       " 'Women HOVR Rise 2 Training',\n",
       " 'Men Solid Leather Formal Slip-Ons',\n",
       " 'Men Woven Design Sneakers',\n",
       " 'Men Leather Formal Derbys',\n",
       " 'Men Solid Loafers',\n",
       " 'Men Solid Leather Sneakers',\n",
       " 'Men Leather Slip-On Sneakers',\n",
       " 'Men Textured Oxfords',\n",
       " 'Men Textured Leather Loafers',\n",
       " 'Men Leather Formal Slip Ons',\n",
       " 'Men Solid Leather Formal Oxfords',\n",
       " 'Men Leather Semiformal Driving',\n",
       " 'Women HOVR Apex 2 Training',\n",
       " 'Men Solid Leather Formal Derbys',\n",
       " 'Men Formal Derbys',\n",
       " 'Men Solid Leather Formal Slip-Ons',\n",
       " 'Women Sandals',\n",
       " 'Women SUPERNOVA Running Shoes',\n",
       " 'Men Textured Formal Leather Loafers',\n",
       " 'Men Perforations Leather Brogues',\n",
       " 'Curry 7 TB Basketball Shoes',\n",
       " 'Men Leather Formal Slip-Ons']"
      ]
     },
     "execution_count": 61,
     "metadata": {},
     "output_type": "execute_result"
    }
   ],
   "source": [
    "# Extracting the texts from the web-elements of the short description.\n",
    "\n",
    "p_desc1 = []\n",
    "\n",
    "for p1 in p_describtion_tag1:\n",
    "    p_desc1.append(p1.text)\n",
    "    \n",
    "p_desc1"
   ]
  },
  {
   "cell_type": "code",
   "execution_count": 62,
   "metadata": {},
   "outputs": [
    {
     "data": {
      "text/plain": [
       "50"
      ]
     },
     "execution_count": 62,
     "metadata": {},
     "output_type": "execute_result"
    }
   ],
   "source": [
    "len (p_desc1)"
   ]
  },
  {
   "cell_type": "code",
   "execution_count": 72,
   "metadata": {},
   "outputs": [
    {
     "data": {
      "text/plain": [
       "[<selenium.webdriver.remote.webelement.WebElement (session=\"d9a4e0581f46b220e4df4498ea7d73e8\", element=\"8e43dc31-9173-48ed-a5a8-45d4298d2c7e\")>,\n",
       " <selenium.webdriver.remote.webelement.WebElement (session=\"d9a4e0581f46b220e4df4498ea7d73e8\", element=\"abf3f111-d2f2-4877-96ad-a07bdcc050e7\")>,\n",
       " <selenium.webdriver.remote.webelement.WebElement (session=\"d9a4e0581f46b220e4df4498ea7d73e8\", element=\"50e52385-0cf9-4e5f-b42d-e74e9b0bbfa0\")>,\n",
       " <selenium.webdriver.remote.webelement.WebElement (session=\"d9a4e0581f46b220e4df4498ea7d73e8\", element=\"4ec482a4-674c-41bb-8acf-05e0997e8de8\")>,\n",
       " <selenium.webdriver.remote.webelement.WebElement (session=\"d9a4e0581f46b220e4df4498ea7d73e8\", element=\"8e5262ce-6f0c-4c26-991a-a9a3fa890d0c\")>,\n",
       " <selenium.webdriver.remote.webelement.WebElement (session=\"d9a4e0581f46b220e4df4498ea7d73e8\", element=\"9c616693-29bd-4490-97be-6aa4d04238fa\")>,\n",
       " <selenium.webdriver.remote.webelement.WebElement (session=\"d9a4e0581f46b220e4df4498ea7d73e8\", element=\"b5c95814-9fbb-4ed2-9cb1-f15da88cd684\")>,\n",
       " <selenium.webdriver.remote.webelement.WebElement (session=\"d9a4e0581f46b220e4df4498ea7d73e8\", element=\"3c0c164c-55e0-47e7-a44f-2ea289777043\")>,\n",
       " <selenium.webdriver.remote.webelement.WebElement (session=\"d9a4e0581f46b220e4df4498ea7d73e8\", element=\"99064806-f385-45de-908e-49092161de35\")>,\n",
       " <selenium.webdriver.remote.webelement.WebElement (session=\"d9a4e0581f46b220e4df4498ea7d73e8\", element=\"1bc3e023-128a-4d85-a51e-208c2bc2cd24\")>,\n",
       " <selenium.webdriver.remote.webelement.WebElement (session=\"d9a4e0581f46b220e4df4498ea7d73e8\", element=\"5fdff29f-ad7c-40a9-9eef-205f5d416d45\")>,\n",
       " <selenium.webdriver.remote.webelement.WebElement (session=\"d9a4e0581f46b220e4df4498ea7d73e8\", element=\"b4fa81e6-8e9f-42bc-955b-c28e8c726756\")>,\n",
       " <selenium.webdriver.remote.webelement.WebElement (session=\"d9a4e0581f46b220e4df4498ea7d73e8\", element=\"0e9ade1f-fdd9-4f4c-afad-20ea934571f3\")>,\n",
       " <selenium.webdriver.remote.webelement.WebElement (session=\"d9a4e0581f46b220e4df4498ea7d73e8\", element=\"d76eaee4-3db5-457a-a15c-b6f31533f192\")>,\n",
       " <selenium.webdriver.remote.webelement.WebElement (session=\"d9a4e0581f46b220e4df4498ea7d73e8\", element=\"92d5b6b3-1af3-47de-b1a7-cd8801e56848\")>,\n",
       " <selenium.webdriver.remote.webelement.WebElement (session=\"d9a4e0581f46b220e4df4498ea7d73e8\", element=\"9579225d-5aea-4471-9c89-e62121658217\")>,\n",
       " <selenium.webdriver.remote.webelement.WebElement (session=\"d9a4e0581f46b220e4df4498ea7d73e8\", element=\"2cbd8b96-1703-4f06-93b9-5c86daded5c3\")>,\n",
       " <selenium.webdriver.remote.webelement.WebElement (session=\"d9a4e0581f46b220e4df4498ea7d73e8\", element=\"36bb3b48-65b8-4762-b070-e20f6c9f8ce8\")>,\n",
       " <selenium.webdriver.remote.webelement.WebElement (session=\"d9a4e0581f46b220e4df4498ea7d73e8\", element=\"761aae4a-b8bb-4d46-9535-73cba395cac2\")>,\n",
       " <selenium.webdriver.remote.webelement.WebElement (session=\"d9a4e0581f46b220e4df4498ea7d73e8\", element=\"33904e6a-96ad-45e3-b21c-5a85f9744877\")>,\n",
       " <selenium.webdriver.remote.webelement.WebElement (session=\"d9a4e0581f46b220e4df4498ea7d73e8\", element=\"8ecc2f7b-1917-4752-9d09-1d7b0081b252\")>,\n",
       " <selenium.webdriver.remote.webelement.WebElement (session=\"d9a4e0581f46b220e4df4498ea7d73e8\", element=\"45b0e142-b9c0-481f-8c3b-f8f013e0084c\")>,\n",
       " <selenium.webdriver.remote.webelement.WebElement (session=\"d9a4e0581f46b220e4df4498ea7d73e8\", element=\"e4f5abc9-c948-4de6-93c3-96cbe0ab123f\")>,\n",
       " <selenium.webdriver.remote.webelement.WebElement (session=\"d9a4e0581f46b220e4df4498ea7d73e8\", element=\"0a97058a-0d15-4204-abea-74d0faf5c1a6\")>,\n",
       " <selenium.webdriver.remote.webelement.WebElement (session=\"d9a4e0581f46b220e4df4498ea7d73e8\", element=\"6ba4ea5a-cc10-419c-b547-0ab2a08e9f2b\")>,\n",
       " <selenium.webdriver.remote.webelement.WebElement (session=\"d9a4e0581f46b220e4df4498ea7d73e8\", element=\"7c9fc0a0-2d42-4531-995e-3d537dee05cc\")>,\n",
       " <selenium.webdriver.remote.webelement.WebElement (session=\"d9a4e0581f46b220e4df4498ea7d73e8\", element=\"154cb481-4623-4abf-8874-19af0931ebf4\")>,\n",
       " <selenium.webdriver.remote.webelement.WebElement (session=\"d9a4e0581f46b220e4df4498ea7d73e8\", element=\"be3217a0-3889-4263-aa6a-348ce4bd2105\")>,\n",
       " <selenium.webdriver.remote.webelement.WebElement (session=\"d9a4e0581f46b220e4df4498ea7d73e8\", element=\"96eafbc3-ed8d-4f43-8e18-becadd38712a\")>,\n",
       " <selenium.webdriver.remote.webelement.WebElement (session=\"d9a4e0581f46b220e4df4498ea7d73e8\", element=\"a9e2fd19-dc6b-48cc-9f78-382a011182d3\")>,\n",
       " <selenium.webdriver.remote.webelement.WebElement (session=\"d9a4e0581f46b220e4df4498ea7d73e8\", element=\"b022103b-ffb2-4f84-8b17-0c3da81ca20d\")>,\n",
       " <selenium.webdriver.remote.webelement.WebElement (session=\"d9a4e0581f46b220e4df4498ea7d73e8\", element=\"c6f96764-18ec-4510-82f1-4ffd20b8c055\")>,\n",
       " <selenium.webdriver.remote.webelement.WebElement (session=\"d9a4e0581f46b220e4df4498ea7d73e8\", element=\"0a549bb9-a68b-45cf-8b2c-5a7df0287a12\")>,\n",
       " <selenium.webdriver.remote.webelement.WebElement (session=\"d9a4e0581f46b220e4df4498ea7d73e8\", element=\"d201c258-d012-4921-a164-9758fe1cfccd\")>,\n",
       " <selenium.webdriver.remote.webelement.WebElement (session=\"d9a4e0581f46b220e4df4498ea7d73e8\", element=\"e3f07c81-c155-456a-8d4a-0d4656b18fea\")>,\n",
       " <selenium.webdriver.remote.webelement.WebElement (session=\"d9a4e0581f46b220e4df4498ea7d73e8\", element=\"48148ea1-2a57-45cd-bcf6-644ff2dd6bc3\")>,\n",
       " <selenium.webdriver.remote.webelement.WebElement (session=\"d9a4e0581f46b220e4df4498ea7d73e8\", element=\"c895f26a-f051-42a4-85f6-522b7754cbf6\")>,\n",
       " <selenium.webdriver.remote.webelement.WebElement (session=\"d9a4e0581f46b220e4df4498ea7d73e8\", element=\"3d94b0d6-c39d-4263-9620-48c208851cdb\")>,\n",
       " <selenium.webdriver.remote.webelement.WebElement (session=\"d9a4e0581f46b220e4df4498ea7d73e8\", element=\"71876a60-aa9c-4e2d-a503-ed28d2bab4bb\")>,\n",
       " <selenium.webdriver.remote.webelement.WebElement (session=\"d9a4e0581f46b220e4df4498ea7d73e8\", element=\"8ae02597-625c-4f0a-b638-e9f1cb32028e\")>,\n",
       " <selenium.webdriver.remote.webelement.WebElement (session=\"d9a4e0581f46b220e4df4498ea7d73e8\", element=\"1d267943-5df1-477c-9857-4ba457697426\")>,\n",
       " <selenium.webdriver.remote.webelement.WebElement (session=\"d9a4e0581f46b220e4df4498ea7d73e8\", element=\"6b251c22-2225-46b8-ae48-e1cb7c6c557a\")>,\n",
       " <selenium.webdriver.remote.webelement.WebElement (session=\"d9a4e0581f46b220e4df4498ea7d73e8\", element=\"930981c7-b8d5-4847-8b02-5ff01809a456\")>,\n",
       " <selenium.webdriver.remote.webelement.WebElement (session=\"d9a4e0581f46b220e4df4498ea7d73e8\", element=\"99efd54e-4e51-49fc-a2b3-67218d03edd0\")>,\n",
       " <selenium.webdriver.remote.webelement.WebElement (session=\"d9a4e0581f46b220e4df4498ea7d73e8\", element=\"eba4f080-33d3-4fdf-8ca9-20277578e718\")>,\n",
       " <selenium.webdriver.remote.webelement.WebElement (session=\"d9a4e0581f46b220e4df4498ea7d73e8\", element=\"c8b84e99-ab2d-49fb-8b29-ac7a24f2efea\")>,\n",
       " <selenium.webdriver.remote.webelement.WebElement (session=\"d9a4e0581f46b220e4df4498ea7d73e8\", element=\"bbb19c2a-2af8-4a8e-9d37-95235974f24c\")>,\n",
       " <selenium.webdriver.remote.webelement.WebElement (session=\"d9a4e0581f46b220e4df4498ea7d73e8\", element=\"4cb63c36-f6b7-4285-b673-6caadf4c9626\")>,\n",
       " <selenium.webdriver.remote.webelement.WebElement (session=\"d9a4e0581f46b220e4df4498ea7d73e8\", element=\"08c8c0d8-cbe8-4a6c-bc25-85ea858943c9\")>,\n",
       " <selenium.webdriver.remote.webelement.WebElement (session=\"d9a4e0581f46b220e4df4498ea7d73e8\", element=\"755595e4-aa5c-4765-b855-41656d057bac\")>]"
      ]
     },
     "execution_count": 72,
     "metadata": {},
     "output_type": "execute_result"
    }
   ],
   "source": [
    "# Extracting the web-elements of the product prices.\n",
    "\n",
    "p_price_tag1 = driver.find_elements_by_xpath('//div[@class=\"product-price\"]')\n",
    "\n",
    "p_price_tag1"
   ]
  },
  {
   "cell_type": "code",
   "execution_count": 73,
   "metadata": {},
   "outputs": [
    {
     "data": {
      "text/plain": [
       "['Rs. 7721Rs. 10295(25% OFF)',\n",
       " 'Rs. 9995',\n",
       " 'Rs. 8295',\n",
       " 'Rs. 9999',\n",
       " 'Rs. 11999',\n",
       " 'Rs. 11495',\n",
       " 'Rs. 11495',\n",
       " 'Rs. 12995',\n",
       " 'Rs. 6999Rs. 9999(30% OFF)',\n",
       " 'Rs. 8799Rs. 10999(20% OFF)',\n",
       " 'Rs. 8799Rs. 10999(20% OFF)',\n",
       " 'Rs. 9599Rs. 11999(20% OFF)',\n",
       " 'Rs. 6999',\n",
       " 'Rs. 9749Rs. 14999(35% OFF)',\n",
       " 'Rs. 9799Rs. 13999(30% OFF)',\n",
       " 'Rs. 6990',\n",
       " 'Rs. 7149Rs. 10999(35% OFF)',\n",
       " 'Rs. 8119Rs. 11599(30% OFF)',\n",
       " 'Rs. 7857Rs. 8449(7% OFF)',\n",
       " 'Rs. 9999',\n",
       " 'Rs. 6999Rs. 9999(30% OFF)',\n",
       " 'Rs. 6999',\n",
       " 'Rs. 10995',\n",
       " 'Rs. 9749Rs. 14999(35% OFF)',\n",
       " 'Rs. 6999Rs. 9999(30% OFF)',\n",
       " 'Rs. 10999',\n",
       " 'Rs. 9990',\n",
       " 'Rs. 8999Rs. 11999(25% OFF)',\n",
       " 'Rs. 7999Rs. 9999(20% OFF)',\n",
       " 'Rs. 9999',\n",
       " 'Rs. 8500',\n",
       " 'Rs. 7349Rs. 10499(30% OFF)',\n",
       " 'Rs. 7990',\n",
       " 'Rs. 7413Rs. 10590(30% OFF)',\n",
       " 'Rs. 6999',\n",
       " 'Rs. 6999',\n",
       " 'Rs. 6990',\n",
       " 'Rs. 8999',\n",
       " 'Rs. 8094Rs. 13490(40% OFF)',\n",
       " 'Rs. 10490',\n",
       " 'Rs. 10499Rs. 13999(25% OFF)',\n",
       " 'Rs. 9999',\n",
       " 'Rs. 9999',\n",
       " 'Rs. 8999',\n",
       " 'Rs. 8999',\n",
       " 'Rs. 6999Rs. 9999(30% OFF)',\n",
       " 'Rs. 8990',\n",
       " 'Rs. 6999',\n",
       " 'Rs. 12599Rs. 13999(10% OFF)',\n",
       " 'Rs. 7495Rs. 14990(50% OFF)']"
      ]
     },
     "execution_count": 73,
     "metadata": {},
     "output_type": "execute_result"
    }
   ],
   "source": [
    "# Extracting the texts from the web-elements of the product prices.\n",
    "\n",
    "prices1 = []\n",
    "\n",
    "for p1 in p_price_tag1:\n",
    "    prices1.append(p1.text)\n",
    "    \n",
    "prices1"
   ]
  },
  {
   "cell_type": "code",
   "execution_count": 74,
   "metadata": {},
   "outputs": [
    {
     "data": {
      "text/plain": [
       "50"
      ]
     },
     "execution_count": 74,
     "metadata": {},
     "output_type": "execute_result"
    }
   ],
   "source": [
    "len (prices1)"
   ]
  },
  {
   "cell_type": "code",
   "execution_count": 75,
   "metadata": {},
   "outputs": [],
   "source": [
    "# Visiting the next page. For this we'll extract the web-element of the next page button.\n",
    "\n",
    "next_page = driver.find_element_by_xpath('//*[@id=\"desktopSearchResults\"]/div[2]/section/div[2]/ul/li[12]/a')\n",
    "\n",
    "next_page.click()"
   ]
  },
  {
   "cell_type": "code",
   "execution_count": 76,
   "metadata": {},
   "outputs": [
    {
     "data": {
      "text/plain": [
       "[<selenium.webdriver.remote.webelement.WebElement (session=\"d9a4e0581f46b220e4df4498ea7d73e8\", element=\"c5127dec-af23-489e-9b5d-9c46a0aabe3e\")>,\n",
       " <selenium.webdriver.remote.webelement.WebElement (session=\"d9a4e0581f46b220e4df4498ea7d73e8\", element=\"74893c40-7c3b-4cb4-8b47-f1331690daff\")>,\n",
       " <selenium.webdriver.remote.webelement.WebElement (session=\"d9a4e0581f46b220e4df4498ea7d73e8\", element=\"f974415d-34b3-4032-bb58-92eb0583d7d2\")>,\n",
       " <selenium.webdriver.remote.webelement.WebElement (session=\"d9a4e0581f46b220e4df4498ea7d73e8\", element=\"72f3b680-871e-4552-8df0-8715cd6a680e\")>,\n",
       " <selenium.webdriver.remote.webelement.WebElement (session=\"d9a4e0581f46b220e4df4498ea7d73e8\", element=\"d5462497-7a09-4c3b-a3dd-6ca0e67630d2\")>,\n",
       " <selenium.webdriver.remote.webelement.WebElement (session=\"d9a4e0581f46b220e4df4498ea7d73e8\", element=\"bac31d5e-0d63-48a7-b516-4d7c1de9423c\")>,\n",
       " <selenium.webdriver.remote.webelement.WebElement (session=\"d9a4e0581f46b220e4df4498ea7d73e8\", element=\"566f97a4-db61-44e4-8cda-a3f95def45d0\")>,\n",
       " <selenium.webdriver.remote.webelement.WebElement (session=\"d9a4e0581f46b220e4df4498ea7d73e8\", element=\"32ffae44-f841-41c7-8283-82d237193599\")>,\n",
       " <selenium.webdriver.remote.webelement.WebElement (session=\"d9a4e0581f46b220e4df4498ea7d73e8\", element=\"e27a935d-dd08-49b2-8a2c-a9b8f55bacda\")>,\n",
       " <selenium.webdriver.remote.webelement.WebElement (session=\"d9a4e0581f46b220e4df4498ea7d73e8\", element=\"b4b5a221-0c2b-48ee-a11b-cfc17dce9d7c\")>,\n",
       " <selenium.webdriver.remote.webelement.WebElement (session=\"d9a4e0581f46b220e4df4498ea7d73e8\", element=\"51ba9f2b-812d-4146-89b9-85abcdbf1936\")>,\n",
       " <selenium.webdriver.remote.webelement.WebElement (session=\"d9a4e0581f46b220e4df4498ea7d73e8\", element=\"b775a442-0098-46f1-b5bc-ccfbc5289e60\")>,\n",
       " <selenium.webdriver.remote.webelement.WebElement (session=\"d9a4e0581f46b220e4df4498ea7d73e8\", element=\"2330f8f1-cb9a-4376-885e-ca49a8ac8eea\")>,\n",
       " <selenium.webdriver.remote.webelement.WebElement (session=\"d9a4e0581f46b220e4df4498ea7d73e8\", element=\"eef1155b-ad9e-4340-8b5c-ac914977e4d1\")>,\n",
       " <selenium.webdriver.remote.webelement.WebElement (session=\"d9a4e0581f46b220e4df4498ea7d73e8\", element=\"30aa2d22-8994-4dfd-ac2a-49907a98fd80\")>,\n",
       " <selenium.webdriver.remote.webelement.WebElement (session=\"d9a4e0581f46b220e4df4498ea7d73e8\", element=\"a4c4b214-3779-4968-aaa4-7fd14525c703\")>,\n",
       " <selenium.webdriver.remote.webelement.WebElement (session=\"d9a4e0581f46b220e4df4498ea7d73e8\", element=\"abf57bbf-cc06-4b5c-9355-26b36799b6e0\")>,\n",
       " <selenium.webdriver.remote.webelement.WebElement (session=\"d9a4e0581f46b220e4df4498ea7d73e8\", element=\"17dd1bde-1301-4f36-94f4-55137e42c030\")>,\n",
       " <selenium.webdriver.remote.webelement.WebElement (session=\"d9a4e0581f46b220e4df4498ea7d73e8\", element=\"4634e75c-cfa2-4acb-a4b1-24c3aa055dce\")>,\n",
       " <selenium.webdriver.remote.webelement.WebElement (session=\"d9a4e0581f46b220e4df4498ea7d73e8\", element=\"1d2b5275-8966-444c-94f9-acfb42dad44d\")>,\n",
       " <selenium.webdriver.remote.webelement.WebElement (session=\"d9a4e0581f46b220e4df4498ea7d73e8\", element=\"8f1f2b39-3b97-4258-a1f1-79d55ecfd239\")>,\n",
       " <selenium.webdriver.remote.webelement.WebElement (session=\"d9a4e0581f46b220e4df4498ea7d73e8\", element=\"86fa9046-34c7-4c88-b319-a7d03dff5f66\")>,\n",
       " <selenium.webdriver.remote.webelement.WebElement (session=\"d9a4e0581f46b220e4df4498ea7d73e8\", element=\"2995b779-ed70-453b-bfd9-8562b9b17efd\")>,\n",
       " <selenium.webdriver.remote.webelement.WebElement (session=\"d9a4e0581f46b220e4df4498ea7d73e8\", element=\"932dac96-c74e-40b9-86ee-11ebb560a8b6\")>,\n",
       " <selenium.webdriver.remote.webelement.WebElement (session=\"d9a4e0581f46b220e4df4498ea7d73e8\", element=\"bbc1870c-9a25-45de-a41f-6753c56fd07c\")>,\n",
       " <selenium.webdriver.remote.webelement.WebElement (session=\"d9a4e0581f46b220e4df4498ea7d73e8\", element=\"3a6af41e-62b6-4b4d-ad58-a307db8f5e02\")>,\n",
       " <selenium.webdriver.remote.webelement.WebElement (session=\"d9a4e0581f46b220e4df4498ea7d73e8\", element=\"2c139f7b-8f4c-44bd-9aff-4af7ddbeb775\")>,\n",
       " <selenium.webdriver.remote.webelement.WebElement (session=\"d9a4e0581f46b220e4df4498ea7d73e8\", element=\"9e7e3027-48ca-4770-8b63-d81345f86ff2\")>,\n",
       " <selenium.webdriver.remote.webelement.WebElement (session=\"d9a4e0581f46b220e4df4498ea7d73e8\", element=\"909ccb52-c251-4b5f-90b0-cf77c441e427\")>,\n",
       " <selenium.webdriver.remote.webelement.WebElement (session=\"d9a4e0581f46b220e4df4498ea7d73e8\", element=\"53f7fd6d-143e-446c-b261-590ca7fce363\")>,\n",
       " <selenium.webdriver.remote.webelement.WebElement (session=\"d9a4e0581f46b220e4df4498ea7d73e8\", element=\"5c5d9121-362e-40c3-b051-d7501e1ad566\")>,\n",
       " <selenium.webdriver.remote.webelement.WebElement (session=\"d9a4e0581f46b220e4df4498ea7d73e8\", element=\"031af255-2f8e-44f9-9357-e4e98ae74c97\")>,\n",
       " <selenium.webdriver.remote.webelement.WebElement (session=\"d9a4e0581f46b220e4df4498ea7d73e8\", element=\"895d0ead-4d3d-459f-9a45-c6d55dca52fc\")>,\n",
       " <selenium.webdriver.remote.webelement.WebElement (session=\"d9a4e0581f46b220e4df4498ea7d73e8\", element=\"21331cb0-f26f-421a-a00b-670634ee2ef0\")>,\n",
       " <selenium.webdriver.remote.webelement.WebElement (session=\"d9a4e0581f46b220e4df4498ea7d73e8\", element=\"804a13d3-4bb6-4b87-9229-40b7d9957460\")>,\n",
       " <selenium.webdriver.remote.webelement.WebElement (session=\"d9a4e0581f46b220e4df4498ea7d73e8\", element=\"8ba2163f-c7a0-46fa-b1f6-ac5151605982\")>,\n",
       " <selenium.webdriver.remote.webelement.WebElement (session=\"d9a4e0581f46b220e4df4498ea7d73e8\", element=\"a684c483-ffdc-4eb1-bdb4-3841c9b23a08\")>,\n",
       " <selenium.webdriver.remote.webelement.WebElement (session=\"d9a4e0581f46b220e4df4498ea7d73e8\", element=\"7be756a5-c47e-4d32-88a6-069d4d720196\")>,\n",
       " <selenium.webdriver.remote.webelement.WebElement (session=\"d9a4e0581f46b220e4df4498ea7d73e8\", element=\"504417dc-512f-4635-adf5-6e170b1863a5\")>,\n",
       " <selenium.webdriver.remote.webelement.WebElement (session=\"d9a4e0581f46b220e4df4498ea7d73e8\", element=\"b20f4850-e78b-42a7-ac2f-254cfe51de52\")>,\n",
       " <selenium.webdriver.remote.webelement.WebElement (session=\"d9a4e0581f46b220e4df4498ea7d73e8\", element=\"68c39070-da95-47f0-9fdf-8f1095aa1d5c\")>,\n",
       " <selenium.webdriver.remote.webelement.WebElement (session=\"d9a4e0581f46b220e4df4498ea7d73e8\", element=\"42aadd76-6d80-4ab8-9bad-e51675d41bd3\")>,\n",
       " <selenium.webdriver.remote.webelement.WebElement (session=\"d9a4e0581f46b220e4df4498ea7d73e8\", element=\"ae956daa-1a55-4717-abe6-a2a831346910\")>,\n",
       " <selenium.webdriver.remote.webelement.WebElement (session=\"d9a4e0581f46b220e4df4498ea7d73e8\", element=\"75352044-dae4-4790-ba8e-ebe9bc553739\")>,\n",
       " <selenium.webdriver.remote.webelement.WebElement (session=\"d9a4e0581f46b220e4df4498ea7d73e8\", element=\"2ba6f937-e34e-427c-84e8-7e6178407fd7\")>,\n",
       " <selenium.webdriver.remote.webelement.WebElement (session=\"d9a4e0581f46b220e4df4498ea7d73e8\", element=\"1d1b2a31-c52d-43c8-91d4-266e1f41505e\")>,\n",
       " <selenium.webdriver.remote.webelement.WebElement (session=\"d9a4e0581f46b220e4df4498ea7d73e8\", element=\"6ebceb50-ac94-4939-95ab-29559e544ea9\")>,\n",
       " <selenium.webdriver.remote.webelement.WebElement (session=\"d9a4e0581f46b220e4df4498ea7d73e8\", element=\"c39d4e0c-75d8-422f-a445-84ce8fec8e30\")>,\n",
       " <selenium.webdriver.remote.webelement.WebElement (session=\"d9a4e0581f46b220e4df4498ea7d73e8\", element=\"eae7d28c-7040-4b9e-a56f-9a89e98a560b\")>,\n",
       " <selenium.webdriver.remote.webelement.WebElement (session=\"d9a4e0581f46b220e4df4498ea7d73e8\", element=\"fe666d09-3c5e-4568-be2e-6117eed98972\")>]"
      ]
     },
     "execution_count": 76,
     "metadata": {},
     "output_type": "execute_result"
    }
   ],
   "source": [
    "# Extracting the web-elements of the brands of the shoes on the 2nd page.\n",
    "\n",
    "brand_tag2 = driver.find_elements_by_xpath('//h3[@class=\"product-brand\"]')\n",
    "\n",
    "brand_tag2"
   ]
  },
  {
   "cell_type": "code",
   "execution_count": 77,
   "metadata": {},
   "outputs": [
    {
     "data": {
      "text/plain": [
       "['UNDER ARMOUR',\n",
       " 'Geox',\n",
       " 'Geox',\n",
       " 'Cole Haan',\n",
       " 'Heel & Buckle London',\n",
       " 'Saint G',\n",
       " 'Saint G',\n",
       " 'UNDER ARMOUR',\n",
       " 'Geox',\n",
       " 'Geox',\n",
       " 'RARE RABBIT',\n",
       " 'Nike',\n",
       " 'Puma',\n",
       " 'Geox',\n",
       " 'Cole Haan',\n",
       " 'Cole Haan',\n",
       " 'Geox',\n",
       " 'Ruosh',\n",
       " 'FILA',\n",
       " 'Puma',\n",
       " 'VIONIC',\n",
       " 'J.FONTINI',\n",
       " 'ADIDAS',\n",
       " 'Nike',\n",
       " 'UNDER ARMOUR',\n",
       " 'ADIDAS',\n",
       " 'Nike',\n",
       " 'Nike',\n",
       " 'KLEAT',\n",
       " 'Heel & Buckle London',\n",
       " 'Cole Haan',\n",
       " 'Saint G',\n",
       " 'Geox',\n",
       " 'Kenneth Cole',\n",
       " 'Cole Haan',\n",
       " 'Geox',\n",
       " 'Geox',\n",
       " 'Heel & Buckle London',\n",
       " 'Cole Haan',\n",
       " 'UNDER ARMOUR',\n",
       " 'FILA',\n",
       " 'Geox',\n",
       " 'Cole Haan',\n",
       " 'Cole Haan',\n",
       " 'Heel & Buckle London',\n",
       " 'Lacoste',\n",
       " 'Heel & Buckle London',\n",
       " 'ALDO',\n",
       " 'KLEAT',\n",
       " 'Puma']"
      ]
     },
     "execution_count": 77,
     "metadata": {},
     "output_type": "execute_result"
    }
   ],
   "source": [
    "# Extracting the texts from the web-elements of the brand names listed on the 2nd page.\n",
    "\n",
    "b_name2 = []\n",
    "\n",
    "for b2 in brand_tag2:\n",
    "    b_name2.append(b2.text)\n",
    "    \n",
    "b_name2"
   ]
  },
  {
   "cell_type": "code",
   "execution_count": 78,
   "metadata": {},
   "outputs": [
    {
     "data": {
      "text/plain": [
       "50"
      ]
     },
     "execution_count": 78,
     "metadata": {},
     "output_type": "execute_result"
    }
   ],
   "source": [
    "len (b_name2)"
   ]
  },
  {
   "cell_type": "code",
   "execution_count": 79,
   "metadata": {},
   "outputs": [
    {
     "data": {
      "text/plain": [
       "['Nike',\n",
       " 'Nike',\n",
       " 'Nike',\n",
       " 'ALDO',\n",
       " 'ALDO',\n",
       " 'Nike',\n",
       " 'Nike',\n",
       " 'Nike',\n",
       " 'ASICS',\n",
       " 'UNDER ARMOUR',\n",
       " 'UNDER ARMOUR',\n",
       " 'UNDER ARMOUR',\n",
       " 'FORCLAZ By Decathlon',\n",
       " 'Puma',\n",
       " 'ASICS',\n",
       " 'J.FONTINI',\n",
       " 'Puma',\n",
       " 'FILA',\n",
       " 'Kalenji By Decathlon',\n",
       " 'Quechua By Decathlon',\n",
       " 'Hush Puppies',\n",
       " 'Hush Puppies',\n",
       " 'Nike',\n",
       " 'Puma',\n",
       " 'ASICS',\n",
       " 'Cole Haan',\n",
       " 'Geox',\n",
       " 'UNDER ARMOUR',\n",
       " 'UNDER ARMOUR',\n",
       " 'Hush Puppies',\n",
       " 'Lacoste',\n",
       " 'Geox',\n",
       " 'J.FONTINI',\n",
       " 'Kenneth Cole',\n",
       " 'Hush Puppies',\n",
       " 'Hush Puppies',\n",
       " 'J.FONTINI',\n",
       " 'Geox',\n",
       " 'Ruosh',\n",
       " 'Geox',\n",
       " 'UNDER ARMOUR',\n",
       " 'Hush Puppies',\n",
       " 'Hush Puppies',\n",
       " 'Hush Puppies',\n",
       " 'ALDO',\n",
       " 'ADIDAS',\n",
       " 'DAVINCHI',\n",
       " 'RARE RABBIT',\n",
       " 'UNDER ARMOUR',\n",
       " 'Geox',\n",
       " 'UNDER ARMOUR',\n",
       " 'Geox',\n",
       " 'Geox',\n",
       " 'Cole Haan',\n",
       " 'Heel & Buckle London',\n",
       " 'Saint G',\n",
       " 'Saint G',\n",
       " 'UNDER ARMOUR',\n",
       " 'Geox',\n",
       " 'Geox',\n",
       " 'RARE RABBIT',\n",
       " 'Nike',\n",
       " 'Puma',\n",
       " 'Geox',\n",
       " 'Cole Haan',\n",
       " 'Cole Haan',\n",
       " 'Geox',\n",
       " 'Ruosh',\n",
       " 'FILA',\n",
       " 'Puma',\n",
       " 'VIONIC',\n",
       " 'J.FONTINI',\n",
       " 'ADIDAS',\n",
       " 'Nike',\n",
       " 'UNDER ARMOUR',\n",
       " 'ADIDAS',\n",
       " 'Nike',\n",
       " 'Nike',\n",
       " 'KLEAT',\n",
       " 'Heel & Buckle London',\n",
       " 'Cole Haan',\n",
       " 'Saint G',\n",
       " 'Geox',\n",
       " 'Kenneth Cole',\n",
       " 'Cole Haan',\n",
       " 'Geox',\n",
       " 'Geox',\n",
       " 'Heel & Buckle London',\n",
       " 'Cole Haan',\n",
       " 'UNDER ARMOUR',\n",
       " 'FILA',\n",
       " 'Geox',\n",
       " 'Cole Haan',\n",
       " 'Cole Haan',\n",
       " 'Heel & Buckle London',\n",
       " 'Lacoste',\n",
       " 'Heel & Buckle London',\n",
       " 'ALDO',\n",
       " 'KLEAT',\n",
       " 'Puma']"
      ]
     },
     "execution_count": 79,
     "metadata": {},
     "output_type": "execute_result"
    }
   ],
   "source": [
    "brands = b_name1 + b_name2\n",
    "\n",
    "brands"
   ]
  },
  {
   "cell_type": "code",
   "execution_count": 80,
   "metadata": {},
   "outputs": [
    {
     "data": {
      "text/plain": [
       "[<selenium.webdriver.remote.webelement.WebElement (session=\"d9a4e0581f46b220e4df4498ea7d73e8\", element=\"46e596d8-e56b-46f0-a74e-73222ab74523\")>,\n",
       " <selenium.webdriver.remote.webelement.WebElement (session=\"d9a4e0581f46b220e4df4498ea7d73e8\", element=\"2347ad32-d30f-44a5-be6c-f363c858cd91\")>,\n",
       " <selenium.webdriver.remote.webelement.WebElement (session=\"d9a4e0581f46b220e4df4498ea7d73e8\", element=\"f89595b9-eb98-4673-b27c-4f4866bbb69f\")>,\n",
       " <selenium.webdriver.remote.webelement.WebElement (session=\"d9a4e0581f46b220e4df4498ea7d73e8\", element=\"8d4f6879-8ce4-4fd5-a3c5-4b6d80b6bdcd\")>,\n",
       " <selenium.webdriver.remote.webelement.WebElement (session=\"d9a4e0581f46b220e4df4498ea7d73e8\", element=\"d9d16f86-e9c2-4320-b66f-4109a3dc06d3\")>,\n",
       " <selenium.webdriver.remote.webelement.WebElement (session=\"d9a4e0581f46b220e4df4498ea7d73e8\", element=\"07833b6b-103d-4330-b92d-67bb222a6a57\")>,\n",
       " <selenium.webdriver.remote.webelement.WebElement (session=\"d9a4e0581f46b220e4df4498ea7d73e8\", element=\"4cf942e9-4318-4ca3-85b0-4c5198c84701\")>,\n",
       " <selenium.webdriver.remote.webelement.WebElement (session=\"d9a4e0581f46b220e4df4498ea7d73e8\", element=\"a584b9ec-08a2-4529-b4e3-42a01ad27e59\")>,\n",
       " <selenium.webdriver.remote.webelement.WebElement (session=\"d9a4e0581f46b220e4df4498ea7d73e8\", element=\"368e5396-fea2-4f4c-98d9-ab41984723f4\")>,\n",
       " <selenium.webdriver.remote.webelement.WebElement (session=\"d9a4e0581f46b220e4df4498ea7d73e8\", element=\"55537072-aa18-4abd-861e-414cef4c0047\")>,\n",
       " <selenium.webdriver.remote.webelement.WebElement (session=\"d9a4e0581f46b220e4df4498ea7d73e8\", element=\"909120b6-f835-4b73-902a-936cffefc682\")>,\n",
       " <selenium.webdriver.remote.webelement.WebElement (session=\"d9a4e0581f46b220e4df4498ea7d73e8\", element=\"9ea3d1b9-e2d7-4b5f-8917-3ad42218451c\")>,\n",
       " <selenium.webdriver.remote.webelement.WebElement (session=\"d9a4e0581f46b220e4df4498ea7d73e8\", element=\"da38488f-9063-4607-9aa7-9b9c02e1df9b\")>,\n",
       " <selenium.webdriver.remote.webelement.WebElement (session=\"d9a4e0581f46b220e4df4498ea7d73e8\", element=\"011dc93e-5867-40db-9c65-2d1ebeca90f9\")>,\n",
       " <selenium.webdriver.remote.webelement.WebElement (session=\"d9a4e0581f46b220e4df4498ea7d73e8\", element=\"0a3249f4-115d-4ad3-98ce-55e86f3d2369\")>,\n",
       " <selenium.webdriver.remote.webelement.WebElement (session=\"d9a4e0581f46b220e4df4498ea7d73e8\", element=\"7791a004-0d2f-419b-8a23-41b614ec69fa\")>,\n",
       " <selenium.webdriver.remote.webelement.WebElement (session=\"d9a4e0581f46b220e4df4498ea7d73e8\", element=\"16b214c0-57ec-4cb6-b697-8ef34004f7a2\")>,\n",
       " <selenium.webdriver.remote.webelement.WebElement (session=\"d9a4e0581f46b220e4df4498ea7d73e8\", element=\"e7261f13-04d9-416c-b08d-c0656608e7bb\")>,\n",
       " <selenium.webdriver.remote.webelement.WebElement (session=\"d9a4e0581f46b220e4df4498ea7d73e8\", element=\"f3277589-de3b-461e-a79f-5f6037ae5460\")>,\n",
       " <selenium.webdriver.remote.webelement.WebElement (session=\"d9a4e0581f46b220e4df4498ea7d73e8\", element=\"105eec3e-bed8-4f64-8cb1-cf6fbd77f7e9\")>,\n",
       " <selenium.webdriver.remote.webelement.WebElement (session=\"d9a4e0581f46b220e4df4498ea7d73e8\", element=\"d49320dd-052a-452a-ae3f-1e6ad839a672\")>,\n",
       " <selenium.webdriver.remote.webelement.WebElement (session=\"d9a4e0581f46b220e4df4498ea7d73e8\", element=\"efce9fdc-94a5-42c0-848f-178e337f5bf3\")>,\n",
       " <selenium.webdriver.remote.webelement.WebElement (session=\"d9a4e0581f46b220e4df4498ea7d73e8\", element=\"e2a99910-b47e-48e4-af8f-3827a221e046\")>,\n",
       " <selenium.webdriver.remote.webelement.WebElement (session=\"d9a4e0581f46b220e4df4498ea7d73e8\", element=\"297a2ced-97ce-48ba-9260-1f206576e740\")>,\n",
       " <selenium.webdriver.remote.webelement.WebElement (session=\"d9a4e0581f46b220e4df4498ea7d73e8\", element=\"a744cef0-a142-453b-8c3a-4dbb797453a3\")>,\n",
       " <selenium.webdriver.remote.webelement.WebElement (session=\"d9a4e0581f46b220e4df4498ea7d73e8\", element=\"0f4e7d1d-cf0a-4abb-969d-25f582d870d8\")>,\n",
       " <selenium.webdriver.remote.webelement.WebElement (session=\"d9a4e0581f46b220e4df4498ea7d73e8\", element=\"fc3c323e-b404-4b5a-a0f4-0c2dea6c6c9b\")>,\n",
       " <selenium.webdriver.remote.webelement.WebElement (session=\"d9a4e0581f46b220e4df4498ea7d73e8\", element=\"869bb3a2-9599-4981-8728-317819e13e06\")>,\n",
       " <selenium.webdriver.remote.webelement.WebElement (session=\"d9a4e0581f46b220e4df4498ea7d73e8\", element=\"6c789057-b16c-4e7c-9eca-611d9ed57ad3\")>,\n",
       " <selenium.webdriver.remote.webelement.WebElement (session=\"d9a4e0581f46b220e4df4498ea7d73e8\", element=\"a7be5ef1-f770-45ca-b49c-9941dec36daf\")>,\n",
       " <selenium.webdriver.remote.webelement.WebElement (session=\"d9a4e0581f46b220e4df4498ea7d73e8\", element=\"112e099d-9da9-44ee-aae3-f166ded48a88\")>,\n",
       " <selenium.webdriver.remote.webelement.WebElement (session=\"d9a4e0581f46b220e4df4498ea7d73e8\", element=\"4b20e3e2-9e30-4c15-a0ae-3d8a162e5a12\")>,\n",
       " <selenium.webdriver.remote.webelement.WebElement (session=\"d9a4e0581f46b220e4df4498ea7d73e8\", element=\"67d93cae-928a-4560-9948-e9a16e09e732\")>,\n",
       " <selenium.webdriver.remote.webelement.WebElement (session=\"d9a4e0581f46b220e4df4498ea7d73e8\", element=\"b38db75a-0a6c-42ea-87d1-cc3975bcd400\")>,\n",
       " <selenium.webdriver.remote.webelement.WebElement (session=\"d9a4e0581f46b220e4df4498ea7d73e8\", element=\"e34c41ee-bbb1-4224-a377-2883430cc46c\")>,\n",
       " <selenium.webdriver.remote.webelement.WebElement (session=\"d9a4e0581f46b220e4df4498ea7d73e8\", element=\"c693e8f0-b6e9-42ae-8ffd-a4d7e9b5f665\")>,\n",
       " <selenium.webdriver.remote.webelement.WebElement (session=\"d9a4e0581f46b220e4df4498ea7d73e8\", element=\"72caff4c-4cc2-47c3-bbc6-77dce876365f\")>,\n",
       " <selenium.webdriver.remote.webelement.WebElement (session=\"d9a4e0581f46b220e4df4498ea7d73e8\", element=\"21d8d600-1203-4ab4-b034-0b51d2d88b07\")>,\n",
       " <selenium.webdriver.remote.webelement.WebElement (session=\"d9a4e0581f46b220e4df4498ea7d73e8\", element=\"62bf24f4-0eea-4ade-b8ae-a1fd1bf76b0d\")>,\n",
       " <selenium.webdriver.remote.webelement.WebElement (session=\"d9a4e0581f46b220e4df4498ea7d73e8\", element=\"d3ec957d-5ba7-4d66-9046-2d1f4f703ddd\")>,\n",
       " <selenium.webdriver.remote.webelement.WebElement (session=\"d9a4e0581f46b220e4df4498ea7d73e8\", element=\"4a391eef-b7d4-4de2-88a1-a00615c94e04\")>,\n",
       " <selenium.webdriver.remote.webelement.WebElement (session=\"d9a4e0581f46b220e4df4498ea7d73e8\", element=\"b2d295b2-d60a-4477-9d00-546279689ef3\")>,\n",
       " <selenium.webdriver.remote.webelement.WebElement (session=\"d9a4e0581f46b220e4df4498ea7d73e8\", element=\"fd4a7b10-b5a8-41cb-809f-27a0f1b48550\")>,\n",
       " <selenium.webdriver.remote.webelement.WebElement (session=\"d9a4e0581f46b220e4df4498ea7d73e8\", element=\"80289100-e7c1-447a-b17f-2e5ccf20f9dc\")>,\n",
       " <selenium.webdriver.remote.webelement.WebElement (session=\"d9a4e0581f46b220e4df4498ea7d73e8\", element=\"d87989b9-a0bb-4bea-a0cf-3544c2fae0ec\")>,\n",
       " <selenium.webdriver.remote.webelement.WebElement (session=\"d9a4e0581f46b220e4df4498ea7d73e8\", element=\"3e952741-be50-4fd6-9dfc-30123a62cdb4\")>,\n",
       " <selenium.webdriver.remote.webelement.WebElement (session=\"d9a4e0581f46b220e4df4498ea7d73e8\", element=\"a9ba3814-8e17-47b7-b110-94ad95d37053\")>,\n",
       " <selenium.webdriver.remote.webelement.WebElement (session=\"d9a4e0581f46b220e4df4498ea7d73e8\", element=\"1c8c37ce-65a1-4699-9410-b8cd2488b03b\")>,\n",
       " <selenium.webdriver.remote.webelement.WebElement (session=\"d9a4e0581f46b220e4df4498ea7d73e8\", element=\"7699b9bc-3c93-4f57-ac67-401764554d53\")>,\n",
       " <selenium.webdriver.remote.webelement.WebElement (session=\"d9a4e0581f46b220e4df4498ea7d73e8\", element=\"695f53f8-a8d4-4f01-8925-7d7aaf4d05bb\")>]"
      ]
     },
     "execution_count": 80,
     "metadata": {},
     "output_type": "execute_result"
    }
   ],
   "source": [
    "# Extracting the web-elements of the short description on the 2nd page.\n",
    "\n",
    "p_describtion_tag2 = driver.find_elements_by_xpath('//h4[@class=\"product-product\"]')\n",
    "\n",
    "p_describtion_tag2"
   ]
  },
  {
   "cell_type": "code",
   "execution_count": 81,
   "metadata": {},
   "outputs": [
    {
     "data": {
      "text/plain": [
       "['Curry 7 TB Basketball Shoes',\n",
       " 'Men Leather Formal Slip-Ons',\n",
       " 'Men Leather Formal Derbyacs',\n",
       " 'Women Leather Sneakers',\n",
       " 'Women Solid Leather Gladiators',\n",
       " 'Women Leather Heeled Boots',\n",
       " 'Women Solid Leather Pumps',\n",
       " 'GS SC 3Zero IV Basketball',\n",
       " 'Women Leather Ballerinas',\n",
       " 'Women Solid Leather Loafers',\n",
       " 'Men Leather Loafers',\n",
       " 'Women ZOOM FLY 3 Running Shoes',\n",
       " 'Men Football Shoes',\n",
       " 'Men Leather Driving Shoes',\n",
       " 'Men Wingtip Oxford Sneakers',\n",
       " 'Men GENERATION ZEROGRAND STITCHLITE',\n",
       " 'Men Leather Slip-On Sneakers',\n",
       " 'Men Leather Formal Brogues',\n",
       " 'Men Leather Sneakers',\n",
       " 'Men IGNITE Dual Running Shoes',\n",
       " 'Men Textured Sneakers',\n",
       " 'Men Textured Leather Loafers',\n",
       " 'Men Ultraboost DNA CC_1 Shoes',\n",
       " 'Men AIR ZOOM PEGASUS 38 Run',\n",
       " 'Project Rock 3 Training Shoes',\n",
       " 'Men Running Shoes',\n",
       " 'Men RENEW FUSION Running Shoes',\n",
       " 'Men JORDAN ONE TAKE II Shoes',\n",
       " 'Men Woven Design Loafers',\n",
       " 'Women Solid Leather Heels',\n",
       " 'Women Open Toe Flats',\n",
       " 'Women Heeled Boots',\n",
       " 'Men Leather Formal Monks',\n",
       " 'Women Leather Pumps',\n",
       " 'Women Leather Heels',\n",
       " 'Women Leather Solid Pumps',\n",
       " 'Women Solid Leather Pumps',\n",
       " 'Women Peep Toe Heels',\n",
       " 'Women Solid Leather Ballerinas',\n",
       " 'Men HOVR Rise 2 Training Shoes',\n",
       " 'Women Sneakers',\n",
       " 'Women Woven Design Slip-On Sneakers',\n",
       " 'Women Woven Design Slip-On Sneakers',\n",
       " 'Women Woven Design Sneakers',\n",
       " 'Men Leather Formal Oxfords',\n",
       " 'Woven Design Casual Sneakers',\n",
       " 'Women Leather Pumps',\n",
       " 'Women Woven Design Sneakers',\n",
       " 'Men Woven Design Sneakers',\n",
       " 'Men Duplex Evo Rise Sneakers']"
      ]
     },
     "execution_count": 81,
     "metadata": {},
     "output_type": "execute_result"
    }
   ],
   "source": [
    "# Extracting the texts from the web-elements of the short description on the 2nd page.\n",
    "\n",
    "p_desc2 = []\n",
    "\n",
    "for p2 in p_describtion_tag2:\n",
    "    p_desc2.append(p2.text)\n",
    "    \n",
    "p_desc2"
   ]
  },
  {
   "cell_type": "code",
   "execution_count": 82,
   "metadata": {},
   "outputs": [
    {
     "data": {
      "text/plain": [
       "50"
      ]
     },
     "execution_count": 82,
     "metadata": {},
     "output_type": "execute_result"
    }
   ],
   "source": [
    "len (p_desc2)"
   ]
  },
  {
   "cell_type": "code",
   "execution_count": 83,
   "metadata": {},
   "outputs": [
    {
     "data": {
      "text/plain": [
       "['Men AIR ZOOM Running Shoes',\n",
       " 'Men AIR ZOOM PEGASUS 38 Run',\n",
       " 'Men Zoom Winflo 8 Running',\n",
       " 'Men Sneakers',\n",
       " 'Men Driving Shoes',\n",
       " 'AIR ZOOM PEGASUS Running Shoes',\n",
       " 'Men JORDAN WHY NOT Basketball',\n",
       " 'Men KD13 EP Basketball Shoes',\n",
       " 'Women Running Shoes',\n",
       " 'HOVR Sonic 3 Running Shoes',\n",
       " 'HOVR Sonic 3 Running Shoes',\n",
       " 'Men HOVR Infinite Running',\n",
       " 'TREKKING 100 Boots',\n",
       " 'Men Deviate Nitro Running Shoe',\n",
       " 'Women Running Shoes',\n",
       " 'Men Textured Leather Loafers',\n",
       " 'Women Velocity Nitro Running',\n",
       " 'Men Leather Sneakers',\n",
       " 'Men KD500 Running Shoe',\n",
       " 'Men Trekking Shoes',\n",
       " 'Men Leather Slip-On Sneakers',\n",
       " 'Men Leather Slip-On Shoes',\n",
       " 'Men JORDAN DELTA Sneakers',\n",
       " 'Women Deviate Nitro Running',\n",
       " 'Men Running Shoes',\n",
       " 'Leather Sneakers',\n",
       " 'Men Leather Driving Shoes',\n",
       " 'Women TriBase Reign 2 Training',\n",
       " 'Women HOVR Rise 2 Training',\n",
       " 'Men Solid Leather Formal Slip-Ons',\n",
       " 'Men Woven Design Sneakers',\n",
       " 'Men Leather Formal Derbys',\n",
       " 'Men Solid Loafers',\n",
       " 'Men Solid Leather Sneakers',\n",
       " 'Men Leather Slip-On Sneakers',\n",
       " 'Men Textured Oxfords',\n",
       " 'Men Textured Leather Loafers',\n",
       " 'Men Leather Formal Slip Ons',\n",
       " 'Men Solid Leather Formal Oxfords',\n",
       " 'Men Leather Semiformal Driving',\n",
       " 'Women HOVR Apex 2 Training',\n",
       " 'Men Solid Leather Formal Derbys',\n",
       " 'Men Formal Derbys',\n",
       " 'Men Solid Leather Formal Slip-Ons',\n",
       " 'Women Sandals',\n",
       " 'Women SUPERNOVA Running Shoes',\n",
       " 'Men Textured Formal Leather Loafers',\n",
       " 'Men Perforations Leather Brogues',\n",
       " 'Curry 7 TB Basketball Shoes',\n",
       " 'Men Leather Formal Slip-Ons',\n",
       " 'Curry 7 TB Basketball Shoes',\n",
       " 'Men Leather Formal Slip-Ons',\n",
       " 'Men Leather Formal Derbyacs',\n",
       " 'Women Leather Sneakers',\n",
       " 'Women Solid Leather Gladiators',\n",
       " 'Women Leather Heeled Boots',\n",
       " 'Women Solid Leather Pumps',\n",
       " 'GS SC 3Zero IV Basketball',\n",
       " 'Women Leather Ballerinas',\n",
       " 'Women Solid Leather Loafers',\n",
       " 'Men Leather Loafers',\n",
       " 'Women ZOOM FLY 3 Running Shoes',\n",
       " 'Men Football Shoes',\n",
       " 'Men Leather Driving Shoes',\n",
       " 'Men Wingtip Oxford Sneakers',\n",
       " 'Men GENERATION ZEROGRAND STITCHLITE',\n",
       " 'Men Leather Slip-On Sneakers',\n",
       " 'Men Leather Formal Brogues',\n",
       " 'Men Leather Sneakers',\n",
       " 'Men IGNITE Dual Running Shoes',\n",
       " 'Men Textured Sneakers',\n",
       " 'Men Textured Leather Loafers',\n",
       " 'Men Ultraboost DNA CC_1 Shoes',\n",
       " 'Men AIR ZOOM PEGASUS 38 Run',\n",
       " 'Project Rock 3 Training Shoes',\n",
       " 'Men Running Shoes',\n",
       " 'Men RENEW FUSION Running Shoes',\n",
       " 'Men JORDAN ONE TAKE II Shoes',\n",
       " 'Men Woven Design Loafers',\n",
       " 'Women Solid Leather Heels',\n",
       " 'Women Open Toe Flats',\n",
       " 'Women Heeled Boots',\n",
       " 'Men Leather Formal Monks',\n",
       " 'Women Leather Pumps',\n",
       " 'Women Leather Heels',\n",
       " 'Women Leather Solid Pumps',\n",
       " 'Women Solid Leather Pumps',\n",
       " 'Women Peep Toe Heels',\n",
       " 'Women Solid Leather Ballerinas',\n",
       " 'Men HOVR Rise 2 Training Shoes',\n",
       " 'Women Sneakers',\n",
       " 'Women Woven Design Slip-On Sneakers',\n",
       " 'Women Woven Design Slip-On Sneakers',\n",
       " 'Women Woven Design Sneakers',\n",
       " 'Men Leather Formal Oxfords',\n",
       " 'Woven Design Casual Sneakers',\n",
       " 'Women Leather Pumps',\n",
       " 'Women Woven Design Sneakers',\n",
       " 'Men Woven Design Sneakers',\n",
       " 'Men Duplex Evo Rise Sneakers']"
      ]
     },
     "execution_count": 83,
     "metadata": {},
     "output_type": "execute_result"
    }
   ],
   "source": [
    "p_descriptions = p_desc1 + p_desc2\n",
    "\n",
    "p_descriptions"
   ]
  },
  {
   "cell_type": "code",
   "execution_count": 84,
   "metadata": {},
   "outputs": [
    {
     "data": {
      "text/plain": [
       "100"
      ]
     },
     "execution_count": 84,
     "metadata": {},
     "output_type": "execute_result"
    }
   ],
   "source": [
    "len (p_descriptions)"
   ]
  },
  {
   "cell_type": "code",
   "execution_count": 85,
   "metadata": {},
   "outputs": [
    {
     "data": {
      "text/plain": [
       "[<selenium.webdriver.remote.webelement.WebElement (session=\"d9a4e0581f46b220e4df4498ea7d73e8\", element=\"08c8c0d8-cbe8-4a6c-bc25-85ea858943c9\")>,\n",
       " <selenium.webdriver.remote.webelement.WebElement (session=\"d9a4e0581f46b220e4df4498ea7d73e8\", element=\"755595e4-aa5c-4765-b855-41656d057bac\")>,\n",
       " <selenium.webdriver.remote.webelement.WebElement (session=\"d9a4e0581f46b220e4df4498ea7d73e8\", element=\"fad1fa6d-4563-44d0-8068-9c37d2d4614e\")>,\n",
       " <selenium.webdriver.remote.webelement.WebElement (session=\"d9a4e0581f46b220e4df4498ea7d73e8\", element=\"0abe0f61-8183-45c4-996a-acce6164cf0c\")>,\n",
       " <selenium.webdriver.remote.webelement.WebElement (session=\"d9a4e0581f46b220e4df4498ea7d73e8\", element=\"0092783d-a57f-455b-bf63-84edd38a3882\")>,\n",
       " <selenium.webdriver.remote.webelement.WebElement (session=\"d9a4e0581f46b220e4df4498ea7d73e8\", element=\"329f4f5a-e0bb-41e2-9cef-41db59fc5869\")>,\n",
       " <selenium.webdriver.remote.webelement.WebElement (session=\"d9a4e0581f46b220e4df4498ea7d73e8\", element=\"319ab5fa-26f7-4a21-b016-dd0ffdcb1013\")>,\n",
       " <selenium.webdriver.remote.webelement.WebElement (session=\"d9a4e0581f46b220e4df4498ea7d73e8\", element=\"256d2842-c717-462c-9449-8682538c4163\")>,\n",
       " <selenium.webdriver.remote.webelement.WebElement (session=\"d9a4e0581f46b220e4df4498ea7d73e8\", element=\"67f4ca57-9bbe-439f-8c9d-602a3ff57bf4\")>,\n",
       " <selenium.webdriver.remote.webelement.WebElement (session=\"d9a4e0581f46b220e4df4498ea7d73e8\", element=\"ccb1e32a-de9b-4126-a0d5-ccbac3fdbe69\")>,\n",
       " <selenium.webdriver.remote.webelement.WebElement (session=\"d9a4e0581f46b220e4df4498ea7d73e8\", element=\"6a4cfcc1-6019-4539-bdf9-ccc9163882b9\")>,\n",
       " <selenium.webdriver.remote.webelement.WebElement (session=\"d9a4e0581f46b220e4df4498ea7d73e8\", element=\"8847e01e-e69c-4a59-8a84-02f24684b23a\")>,\n",
       " <selenium.webdriver.remote.webelement.WebElement (session=\"d9a4e0581f46b220e4df4498ea7d73e8\", element=\"787e9c28-1a4d-4050-9537-c8eb32a6ac7f\")>,\n",
       " <selenium.webdriver.remote.webelement.WebElement (session=\"d9a4e0581f46b220e4df4498ea7d73e8\", element=\"ad65e0bf-251c-4e35-8d9e-1a086ade4792\")>,\n",
       " <selenium.webdriver.remote.webelement.WebElement (session=\"d9a4e0581f46b220e4df4498ea7d73e8\", element=\"eb340571-1191-4351-b54b-bb104f04e9bc\")>,\n",
       " <selenium.webdriver.remote.webelement.WebElement (session=\"d9a4e0581f46b220e4df4498ea7d73e8\", element=\"b5e707a6-487c-4fba-9fcb-7843001f0fcd\")>,\n",
       " <selenium.webdriver.remote.webelement.WebElement (session=\"d9a4e0581f46b220e4df4498ea7d73e8\", element=\"6e0a9a2a-1b9d-4dd6-9488-65a3a1a7021f\")>,\n",
       " <selenium.webdriver.remote.webelement.WebElement (session=\"d9a4e0581f46b220e4df4498ea7d73e8\", element=\"04380be9-f335-4451-8932-6f86baa96464\")>,\n",
       " <selenium.webdriver.remote.webelement.WebElement (session=\"d9a4e0581f46b220e4df4498ea7d73e8\", element=\"8a3f7d83-c29d-4129-b588-853b28be7df3\")>,\n",
       " <selenium.webdriver.remote.webelement.WebElement (session=\"d9a4e0581f46b220e4df4498ea7d73e8\", element=\"9a2747de-4153-43af-a9e7-faa9a82142bc\")>,\n",
       " <selenium.webdriver.remote.webelement.WebElement (session=\"d9a4e0581f46b220e4df4498ea7d73e8\", element=\"f66bc787-ba55-46cb-9a4a-7bdca5396d22\")>,\n",
       " <selenium.webdriver.remote.webelement.WebElement (session=\"d9a4e0581f46b220e4df4498ea7d73e8\", element=\"9f8a7e0f-f14c-4777-9d22-4e9c00680042\")>,\n",
       " <selenium.webdriver.remote.webelement.WebElement (session=\"d9a4e0581f46b220e4df4498ea7d73e8\", element=\"915fca8c-694c-4e06-85e3-57faf66c3146\")>,\n",
       " <selenium.webdriver.remote.webelement.WebElement (session=\"d9a4e0581f46b220e4df4498ea7d73e8\", element=\"90fcfeda-36d3-49e9-aa29-d2d2aa220e23\")>,\n",
       " <selenium.webdriver.remote.webelement.WebElement (session=\"d9a4e0581f46b220e4df4498ea7d73e8\", element=\"543c6709-03cf-4819-9c8d-ec497c3ac097\")>,\n",
       " <selenium.webdriver.remote.webelement.WebElement (session=\"d9a4e0581f46b220e4df4498ea7d73e8\", element=\"9bb7456a-84c1-46ec-b62b-953e011fcdb5\")>,\n",
       " <selenium.webdriver.remote.webelement.WebElement (session=\"d9a4e0581f46b220e4df4498ea7d73e8\", element=\"79a02a4a-7397-4e7d-b34b-9157951ecef3\")>,\n",
       " <selenium.webdriver.remote.webelement.WebElement (session=\"d9a4e0581f46b220e4df4498ea7d73e8\", element=\"348959aa-056c-4a5d-8979-a919342cb7c8\")>,\n",
       " <selenium.webdriver.remote.webelement.WebElement (session=\"d9a4e0581f46b220e4df4498ea7d73e8\", element=\"c3142f05-3d8a-4e73-88dd-34ca6a0001d2\")>,\n",
       " <selenium.webdriver.remote.webelement.WebElement (session=\"d9a4e0581f46b220e4df4498ea7d73e8\", element=\"5f965399-5233-41b8-bfa2-bf17ab472e52\")>,\n",
       " <selenium.webdriver.remote.webelement.WebElement (session=\"d9a4e0581f46b220e4df4498ea7d73e8\", element=\"0d2d87ba-f3cf-41a6-83a1-89c87acb2ba3\")>,\n",
       " <selenium.webdriver.remote.webelement.WebElement (session=\"d9a4e0581f46b220e4df4498ea7d73e8\", element=\"23c718fa-f257-4998-9f22-f6aff3b25764\")>,\n",
       " <selenium.webdriver.remote.webelement.WebElement (session=\"d9a4e0581f46b220e4df4498ea7d73e8\", element=\"7d7fbcf7-9b3e-4d4d-a79f-cab4d49992da\")>,\n",
       " <selenium.webdriver.remote.webelement.WebElement (session=\"d9a4e0581f46b220e4df4498ea7d73e8\", element=\"fac6ab8b-a141-49d7-80fd-059fc3b3b26c\")>,\n",
       " <selenium.webdriver.remote.webelement.WebElement (session=\"d9a4e0581f46b220e4df4498ea7d73e8\", element=\"da771757-eae1-4d76-849e-8702f21c5964\")>,\n",
       " <selenium.webdriver.remote.webelement.WebElement (session=\"d9a4e0581f46b220e4df4498ea7d73e8\", element=\"e3f148e4-7db8-4bfc-8efb-5786d68dfebe\")>,\n",
       " <selenium.webdriver.remote.webelement.WebElement (session=\"d9a4e0581f46b220e4df4498ea7d73e8\", element=\"4fc4844c-2656-404d-ab04-a7a9fafa5202\")>,\n",
       " <selenium.webdriver.remote.webelement.WebElement (session=\"d9a4e0581f46b220e4df4498ea7d73e8\", element=\"bbd955d2-f2fd-42f2-a560-a86afeae5843\")>,\n",
       " <selenium.webdriver.remote.webelement.WebElement (session=\"d9a4e0581f46b220e4df4498ea7d73e8\", element=\"625312b5-5094-469e-b338-878c419aa61d\")>,\n",
       " <selenium.webdriver.remote.webelement.WebElement (session=\"d9a4e0581f46b220e4df4498ea7d73e8\", element=\"1fd1f6ad-1847-4aae-bdf4-a1865f51057c\")>,\n",
       " <selenium.webdriver.remote.webelement.WebElement (session=\"d9a4e0581f46b220e4df4498ea7d73e8\", element=\"d058cb4f-d265-455d-bcd5-93cad501bead\")>,\n",
       " <selenium.webdriver.remote.webelement.WebElement (session=\"d9a4e0581f46b220e4df4498ea7d73e8\", element=\"ddfd83fb-87f4-4efd-92f5-2bccd56493df\")>,\n",
       " <selenium.webdriver.remote.webelement.WebElement (session=\"d9a4e0581f46b220e4df4498ea7d73e8\", element=\"8ba74869-d673-4548-b34c-d62653e98c07\")>,\n",
       " <selenium.webdriver.remote.webelement.WebElement (session=\"d9a4e0581f46b220e4df4498ea7d73e8\", element=\"141dbfed-d28d-49af-9f0f-92751e361367\")>,\n",
       " <selenium.webdriver.remote.webelement.WebElement (session=\"d9a4e0581f46b220e4df4498ea7d73e8\", element=\"0169812e-2bd2-4b75-8166-f3de534d0bb5\")>,\n",
       " <selenium.webdriver.remote.webelement.WebElement (session=\"d9a4e0581f46b220e4df4498ea7d73e8\", element=\"c15bbbb1-d811-4b7a-88f8-de6d3d430004\")>,\n",
       " <selenium.webdriver.remote.webelement.WebElement (session=\"d9a4e0581f46b220e4df4498ea7d73e8\", element=\"a30c4eec-b95f-4cd1-b797-cb623f01663c\")>,\n",
       " <selenium.webdriver.remote.webelement.WebElement (session=\"d9a4e0581f46b220e4df4498ea7d73e8\", element=\"6f7582c2-950a-43d0-9b1e-ff32ca037377\")>,\n",
       " <selenium.webdriver.remote.webelement.WebElement (session=\"d9a4e0581f46b220e4df4498ea7d73e8\", element=\"cf8348d8-39b1-4738-a624-67eeb4fa0ea3\")>,\n",
       " <selenium.webdriver.remote.webelement.WebElement (session=\"d9a4e0581f46b220e4df4498ea7d73e8\", element=\"79562e42-0776-4a0b-bf66-f6bcaff62279\")>]"
      ]
     },
     "execution_count": 85,
     "metadata": {},
     "output_type": "execute_result"
    }
   ],
   "source": [
    "# Extracting the web-elements of the product prices listed on the 2nd page.\n",
    "\n",
    "p_price_tag2 = driver.find_elements_by_xpath('//div[@class=\"product-price\"]')\n",
    "\n",
    "p_price_tag2"
   ]
  },
  {
   "cell_type": "code",
   "execution_count": 86,
   "metadata": {},
   "outputs": [
    {
     "data": {
      "text/plain": [
       "['Rs. 12599Rs. 13999(10% OFF)',\n",
       " 'Rs. 7495Rs. 14990(50% OFF)',\n",
       " 'Rs. 7495Rs. 14990(50% OFF)',\n",
       " 'Rs. 7699Rs. 10999(30% OFF)',\n",
       " 'Rs. 6993Rs. 9990(30% OFF)',\n",
       " 'Rs. 6675Rs. 8900(25% OFF)',\n",
       " 'Rs. 6622Rs. 8600(23% OFF)',\n",
       " 'Rs. 7499',\n",
       " 'Rs. 9490',\n",
       " 'Rs. 7999',\n",
       " 'Rs. 8499',\n",
       " 'Rs. 9096Rs. 13995(35% OFF)',\n",
       " 'Rs. 8499Rs. 16999(50% OFF)',\n",
       " 'Rs. 9999',\n",
       " 'Rs. 12999',\n",
       " 'Rs. 11999',\n",
       " 'Rs. 9490',\n",
       " 'Rs. 6990',\n",
       " 'Rs. 7999',\n",
       " 'Rs. 6999',\n",
       " 'Rs. 7039Rs. 10999(36% OFF)',\n",
       " 'Rs. 7690',\n",
       " 'Rs. 9349Rs. 16999(45% OFF)',\n",
       " 'Rs. 9995',\n",
       " 'Rs. 12599Rs. 13999(10% OFF)',\n",
       " 'Rs. 9499Rs. 18999(50% OFF)',\n",
       " 'Rs. 6995',\n",
       " 'Rs. 8295',\n",
       " 'Rs. 7999',\n",
       " 'Rs. 6993Rs. 9990(30% OFF)',\n",
       " 'Rs. 8399Rs. 11999(30% OFF)',\n",
       " 'Rs. 7440Rs. 8000(7% OFF)',\n",
       " 'Rs. 7999Rs. 15999(50% OFF)',\n",
       " 'Rs. 10493Rs. 14990(30% OFF)',\n",
       " 'Rs. 6749Rs. 14999(55% OFF)',\n",
       " 'Rs. 11990',\n",
       " 'Rs. 10990',\n",
       " 'Rs. 7192Rs. 8990(20% OFF)',\n",
       " 'Rs. 9799Rs. 13999(30% OFF)',\n",
       " 'Rs. 7999Rs. 9999(20% OFF)',\n",
       " 'Rs. 8999',\n",
       " 'Rs. 11990',\n",
       " 'Rs. 6749Rs. 14999(55% OFF)',\n",
       " 'Rs. 6749Rs. 14999(55% OFF)',\n",
       " 'Rs. 7693Rs. 10990(30% OFF)',\n",
       " 'Rs. 7595Rs. 10850(30% OFF)',\n",
       " 'Rs. 7192Rs. 8990(20% OFF)',\n",
       " 'Rs. 8999',\n",
       " 'Rs. 7999',\n",
       " 'Rs. 7999']"
      ]
     },
     "execution_count": 86,
     "metadata": {},
     "output_type": "execute_result"
    }
   ],
   "source": [
    "# Extracting the texts from the web-elements of the product prices listed on the 2nd page.\n",
    "\n",
    "prices2 = []\n",
    "\n",
    "for p2 in p_price_tag2:\n",
    "    prices2.append(p2.text)\n",
    "    \n",
    "prices2"
   ]
  },
  {
   "cell_type": "code",
   "execution_count": 87,
   "metadata": {},
   "outputs": [
    {
     "data": {
      "text/plain": [
       "50"
      ]
     },
     "execution_count": 87,
     "metadata": {},
     "output_type": "execute_result"
    }
   ],
   "source": [
    "len (prices2)"
   ]
  },
  {
   "cell_type": "code",
   "execution_count": 88,
   "metadata": {},
   "outputs": [
    {
     "data": {
      "text/plain": [
       "['Rs. 7721Rs. 10295(25% OFF)',\n",
       " 'Rs. 9995',\n",
       " 'Rs. 8295',\n",
       " 'Rs. 9999',\n",
       " 'Rs. 11999',\n",
       " 'Rs. 11495',\n",
       " 'Rs. 11495',\n",
       " 'Rs. 12995',\n",
       " 'Rs. 6999Rs. 9999(30% OFF)',\n",
       " 'Rs. 8799Rs. 10999(20% OFF)',\n",
       " 'Rs. 8799Rs. 10999(20% OFF)',\n",
       " 'Rs. 9599Rs. 11999(20% OFF)',\n",
       " 'Rs. 6999',\n",
       " 'Rs. 9749Rs. 14999(35% OFF)',\n",
       " 'Rs. 9799Rs. 13999(30% OFF)',\n",
       " 'Rs. 6990',\n",
       " 'Rs. 7149Rs. 10999(35% OFF)',\n",
       " 'Rs. 8119Rs. 11599(30% OFF)',\n",
       " 'Rs. 7857Rs. 8449(7% OFF)',\n",
       " 'Rs. 9999',\n",
       " 'Rs. 6999Rs. 9999(30% OFF)',\n",
       " 'Rs. 6999',\n",
       " 'Rs. 10995',\n",
       " 'Rs. 9749Rs. 14999(35% OFF)',\n",
       " 'Rs. 6999Rs. 9999(30% OFF)',\n",
       " 'Rs. 10999',\n",
       " 'Rs. 9990',\n",
       " 'Rs. 8999Rs. 11999(25% OFF)',\n",
       " 'Rs. 7999Rs. 9999(20% OFF)',\n",
       " 'Rs. 9999',\n",
       " 'Rs. 8500',\n",
       " 'Rs. 7349Rs. 10499(30% OFF)',\n",
       " 'Rs. 7990',\n",
       " 'Rs. 7413Rs. 10590(30% OFF)',\n",
       " 'Rs. 6999',\n",
       " 'Rs. 6999',\n",
       " 'Rs. 6990',\n",
       " 'Rs. 8999',\n",
       " 'Rs. 8094Rs. 13490(40% OFF)',\n",
       " 'Rs. 10490',\n",
       " 'Rs. 10499Rs. 13999(25% OFF)',\n",
       " 'Rs. 9999',\n",
       " 'Rs. 9999',\n",
       " 'Rs. 8999',\n",
       " 'Rs. 8999',\n",
       " 'Rs. 6999Rs. 9999(30% OFF)',\n",
       " 'Rs. 8990',\n",
       " 'Rs. 6999',\n",
       " 'Rs. 12599Rs. 13999(10% OFF)',\n",
       " 'Rs. 7495Rs. 14990(50% OFF)',\n",
       " 'Rs. 12599Rs. 13999(10% OFF)',\n",
       " 'Rs. 7495Rs. 14990(50% OFF)',\n",
       " 'Rs. 7495Rs. 14990(50% OFF)',\n",
       " 'Rs. 7699Rs. 10999(30% OFF)',\n",
       " 'Rs. 6993Rs. 9990(30% OFF)',\n",
       " 'Rs. 6675Rs. 8900(25% OFF)',\n",
       " 'Rs. 6622Rs. 8600(23% OFF)',\n",
       " 'Rs. 7499',\n",
       " 'Rs. 9490',\n",
       " 'Rs. 7999',\n",
       " 'Rs. 8499',\n",
       " 'Rs. 9096Rs. 13995(35% OFF)',\n",
       " 'Rs. 8499Rs. 16999(50% OFF)',\n",
       " 'Rs. 9999',\n",
       " 'Rs. 12999',\n",
       " 'Rs. 11999',\n",
       " 'Rs. 9490',\n",
       " 'Rs. 6990',\n",
       " 'Rs. 7999',\n",
       " 'Rs. 6999',\n",
       " 'Rs. 7039Rs. 10999(36% OFF)',\n",
       " 'Rs. 7690',\n",
       " 'Rs. 9349Rs. 16999(45% OFF)',\n",
       " 'Rs. 9995',\n",
       " 'Rs. 12599Rs. 13999(10% OFF)',\n",
       " 'Rs. 9499Rs. 18999(50% OFF)',\n",
       " 'Rs. 6995',\n",
       " 'Rs. 8295',\n",
       " 'Rs. 7999',\n",
       " 'Rs. 6993Rs. 9990(30% OFF)',\n",
       " 'Rs. 8399Rs. 11999(30% OFF)',\n",
       " 'Rs. 7440Rs. 8000(7% OFF)',\n",
       " 'Rs. 7999Rs. 15999(50% OFF)',\n",
       " 'Rs. 10493Rs. 14990(30% OFF)',\n",
       " 'Rs. 6749Rs. 14999(55% OFF)',\n",
       " 'Rs. 11990',\n",
       " 'Rs. 10990',\n",
       " 'Rs. 7192Rs. 8990(20% OFF)',\n",
       " 'Rs. 9799Rs. 13999(30% OFF)',\n",
       " 'Rs. 7999Rs. 9999(20% OFF)',\n",
       " 'Rs. 8999',\n",
       " 'Rs. 11990',\n",
       " 'Rs. 6749Rs. 14999(55% OFF)',\n",
       " 'Rs. 6749Rs. 14999(55% OFF)',\n",
       " 'Rs. 7693Rs. 10990(30% OFF)',\n",
       " 'Rs. 7595Rs. 10850(30% OFF)',\n",
       " 'Rs. 7192Rs. 8990(20% OFF)',\n",
       " 'Rs. 8999',\n",
       " 'Rs. 7999',\n",
       " 'Rs. 7999']"
      ]
     },
     "execution_count": 88,
     "metadata": {},
     "output_type": "execute_result"
    }
   ],
   "source": [
    "prices = prices1 + prices2\n",
    "\n",
    "prices"
   ]
  },
  {
   "cell_type": "code",
   "execution_count": 89,
   "metadata": {},
   "outputs": [
    {
     "data": {
      "text/plain": [
       "100"
      ]
     },
     "execution_count": 89,
     "metadata": {},
     "output_type": "execute_result"
    }
   ],
   "source": [
    "len (prices)"
   ]
  },
  {
   "cell_type": "code",
   "execution_count": 90,
   "metadata": {},
   "outputs": [
    {
     "data": {
      "text/html": [
       "<div>\n",
       "<style scoped>\n",
       "    .dataframe tbody tr th:only-of-type {\n",
       "        vertical-align: middle;\n",
       "    }\n",
       "\n",
       "    .dataframe tbody tr th {\n",
       "        vertical-align: top;\n",
       "    }\n",
       "\n",
       "    .dataframe thead th {\n",
       "        text-align: right;\n",
       "    }\n",
       "</style>\n",
       "<table border=\"1\" class=\"dataframe\">\n",
       "  <thead>\n",
       "    <tr style=\"text-align: right;\">\n",
       "      <th></th>\n",
       "      <th>Brand Name</th>\n",
       "      <th>Short Shoe Description</th>\n",
       "      <th>Shoe Price</th>\n",
       "    </tr>\n",
       "  </thead>\n",
       "  <tbody>\n",
       "    <tr>\n",
       "      <th>0</th>\n",
       "      <td>Nike</td>\n",
       "      <td>Men AIR ZOOM Running Shoes</td>\n",
       "      <td>Rs. 7721Rs. 10295(25% OFF)</td>\n",
       "    </tr>\n",
       "    <tr>\n",
       "      <th>1</th>\n",
       "      <td>Nike</td>\n",
       "      <td>Men AIR ZOOM PEGASUS 38 Run</td>\n",
       "      <td>Rs. 9995</td>\n",
       "    </tr>\n",
       "    <tr>\n",
       "      <th>2</th>\n",
       "      <td>Nike</td>\n",
       "      <td>Men Zoom Winflo 8 Running</td>\n",
       "      <td>Rs. 8295</td>\n",
       "    </tr>\n",
       "    <tr>\n",
       "      <th>3</th>\n",
       "      <td>ALDO</td>\n",
       "      <td>Men Sneakers</td>\n",
       "      <td>Rs. 9999</td>\n",
       "    </tr>\n",
       "    <tr>\n",
       "      <th>4</th>\n",
       "      <td>ALDO</td>\n",
       "      <td>Men Driving Shoes</td>\n",
       "      <td>Rs. 11999</td>\n",
       "    </tr>\n",
       "    <tr>\n",
       "      <th>...</th>\n",
       "      <td>...</td>\n",
       "      <td>...</td>\n",
       "      <td>...</td>\n",
       "    </tr>\n",
       "    <tr>\n",
       "      <th>95</th>\n",
       "      <td>Lacoste</td>\n",
       "      <td>Woven Design Casual Sneakers</td>\n",
       "      <td>Rs. 7595Rs. 10850(30% OFF)</td>\n",
       "    </tr>\n",
       "    <tr>\n",
       "      <th>96</th>\n",
       "      <td>Heel &amp; Buckle London</td>\n",
       "      <td>Women Leather Pumps</td>\n",
       "      <td>Rs. 7192Rs. 8990(20% OFF)</td>\n",
       "    </tr>\n",
       "    <tr>\n",
       "      <th>97</th>\n",
       "      <td>ALDO</td>\n",
       "      <td>Women Woven Design Sneakers</td>\n",
       "      <td>Rs. 8999</td>\n",
       "    </tr>\n",
       "    <tr>\n",
       "      <th>98</th>\n",
       "      <td>KLEAT</td>\n",
       "      <td>Men Woven Design Sneakers</td>\n",
       "      <td>Rs. 7999</td>\n",
       "    </tr>\n",
       "    <tr>\n",
       "      <th>99</th>\n",
       "      <td>Puma</td>\n",
       "      <td>Men Duplex Evo Rise Sneakers</td>\n",
       "      <td>Rs. 7999</td>\n",
       "    </tr>\n",
       "  </tbody>\n",
       "</table>\n",
       "<p>100 rows × 3 columns</p>\n",
       "</div>"
      ],
      "text/plain": [
       "             Brand Name        Short Shoe Description   \\\n",
       "0                   Nike    Men AIR ZOOM Running Shoes   \n",
       "1                   Nike   Men AIR ZOOM PEGASUS 38 Run   \n",
       "2                   Nike     Men Zoom Winflo 8 Running   \n",
       "3                   ALDO                  Men Sneakers   \n",
       "4                   ALDO             Men Driving Shoes   \n",
       "..                   ...                           ...   \n",
       "95               Lacoste  Woven Design Casual Sneakers   \n",
       "96  Heel & Buckle London           Women Leather Pumps   \n",
       "97                  ALDO   Women Woven Design Sneakers   \n",
       "98                 KLEAT     Men Woven Design Sneakers   \n",
       "99                  Puma  Men Duplex Evo Rise Sneakers   \n",
       "\n",
       "                   Shoe Price   \n",
       "0   Rs. 7721Rs. 10295(25% OFF)  \n",
       "1                     Rs. 9995  \n",
       "2                     Rs. 8295  \n",
       "3                     Rs. 9999  \n",
       "4                    Rs. 11999  \n",
       "..                         ...  \n",
       "95  Rs. 7595Rs. 10850(30% OFF)  \n",
       "96   Rs. 7192Rs. 8990(20% OFF)  \n",
       "97                    Rs. 8999  \n",
       "98                    Rs. 7999  \n",
       "99                    Rs. 7999  \n",
       "\n",
       "[100 rows x 3 columns]"
      ]
     },
     "execution_count": 90,
     "metadata": {},
     "output_type": "execute_result"
    }
   ],
   "source": [
    "df9 = pd.DataFrame({})\n",
    "\n",
    "df9[' Brand Name ']= brands\n",
    "df9[' Short Shoe Description '] = p_descriptions\n",
    "df9[' Shoe Price ']= prices\n",
    "\n",
    "df9"
   ]
  },
  {
   "cell_type": "markdown",
   "metadata": {},
   "source": [
    "----------------------------------------------------------------------------------------------------------------------------"
   ]
  },
  {
   "cell_type": "markdown",
   "metadata": {},
   "source": [
    "##### Q. No. 10 :- Go to webpage https://www.amazon.in/ Enter “Laptop” in the search field and then click the search icon.\n"
   ]
  },
  {
   "cell_type": "markdown",
   "metadata": {},
   "source": [
    "--------------------------------------------------------------------------------------------------------------------------"
   ]
  },
  {
   "cell_type": "code",
   "execution_count": 35,
   "metadata": {},
   "outputs": [],
   "source": [
    "# Loading the web-page https://www.amazon.in/.\n",
    "\n",
    "url10 = 'https://www.amazon.in/'\n",
    "\n",
    "driver.get(url10)"
   ]
  },
  {
   "cell_type": "code",
   "execution_count": 36,
   "metadata": {},
   "outputs": [],
   "source": [
    "# Entering 'Laptops' in the search bar.\n",
    "\n",
    "src_tag10 = driver.find_element_by_xpath('//input[@id=\"twotabsearchtextbox\"]')\n",
    "\n",
    "src_tag10.send_keys('Laptops')"
   ]
  },
  {
   "cell_type": "code",
   "execution_count": 37,
   "metadata": {},
   "outputs": [],
   "source": [
    "# Extracting the web-element of the search button and clicking on it to get the desired results.\n",
    "\n",
    "src_btn10 = driver.find_element_by_xpath('//input[@id=\"nav-search-submit-button\"]')\n",
    "\n",
    "src_btn10.click()"
   ]
  },
  {
   "cell_type": "code",
   "execution_count": 38,
   "metadata": {},
   "outputs": [],
   "source": [
    "# Extracting the web element of the filter buttons and clicking on it.\n",
    "\n",
    "filter1 = driver.find_element_by_xpath('//*[@id=\"p_n_feature_thirteen_browse-bin/12598163031\"]/span/a/div/label/i')\n",
    "\n",
    "filter1.click()"
   ]
  },
  {
   "cell_type": "code",
   "execution_count": 39,
   "metadata": {},
   "outputs": [],
   "source": [
    "filter2 = driver.find_element_by_xpath('//*[@id=\"p_n_feature_thirteen_browse-bin/16757432031\"]/span/a/div/label/i')\n",
    "\n",
    "filter2.click()"
   ]
  },
  {
   "cell_type": "code",
   "execution_count": 40,
   "metadata": {},
   "outputs": [],
   "source": [
    "filter3 = driver.find_element_by_xpath('//i[@class=\"a-icon a-icon-star-medium a-star-medium-1\"]')\n",
    "\n",
    "filter3.click()"
   ]
  },
  {
   "cell_type": "code",
   "execution_count": 19,
   "metadata": {},
   "outputs": [
    {
     "data": {
      "text/plain": [
       "[<selenium.webdriver.remote.webelement.WebElement (session=\"72854d473f821b55dcfe198951dd062b\", element=\"4a6eb816-29ef-45bd-ba12-fc9226b3c798\")>,\n",
       " <selenium.webdriver.remote.webelement.WebElement (session=\"72854d473f821b55dcfe198951dd062b\", element=\"f0842bbb-cd46-4530-b51d-e74f48a86d86\")>,\n",
       " <selenium.webdriver.remote.webelement.WebElement (session=\"72854d473f821b55dcfe198951dd062b\", element=\"874c32da-b621-452d-a677-d8ce53c0ac52\")>,\n",
       " <selenium.webdriver.remote.webelement.WebElement (session=\"72854d473f821b55dcfe198951dd062b\", element=\"3006e7af-21fc-4ee7-a9ec-32c4fd381e5d\")>,\n",
       " <selenium.webdriver.remote.webelement.WebElement (session=\"72854d473f821b55dcfe198951dd062b\", element=\"066a25e9-0854-459b-a330-abc517007bd3\")>,\n",
       " <selenium.webdriver.remote.webelement.WebElement (session=\"72854d473f821b55dcfe198951dd062b\", element=\"7fd3c688-8057-4a68-b19e-16c753614df6\")>,\n",
       " <selenium.webdriver.remote.webelement.WebElement (session=\"72854d473f821b55dcfe198951dd062b\", element=\"b5f687db-547f-4266-8ca8-1f0d70c93554\")>,\n",
       " <selenium.webdriver.remote.webelement.WebElement (session=\"72854d473f821b55dcfe198951dd062b\", element=\"3184fca5-ea5b-416e-b242-8649604db131\")>,\n",
       " <selenium.webdriver.remote.webelement.WebElement (session=\"72854d473f821b55dcfe198951dd062b\", element=\"235b3973-f0f6-4ab5-bd30-d6c14e4f2eac\")>,\n",
       " <selenium.webdriver.remote.webelement.WebElement (session=\"72854d473f821b55dcfe198951dd062b\", element=\"c7bc91e8-c683-4d91-90a2-b08775722c7c\")>,\n",
       " <selenium.webdriver.remote.webelement.WebElement (session=\"72854d473f821b55dcfe198951dd062b\", element=\"28bb1713-3dea-41cb-a4e1-a4b7d6e83add\")>,\n",
       " <selenium.webdriver.remote.webelement.WebElement (session=\"72854d473f821b55dcfe198951dd062b\", element=\"a8a29578-f18d-4a43-834b-466a9ed5dffc\")>,\n",
       " <selenium.webdriver.remote.webelement.WebElement (session=\"72854d473f821b55dcfe198951dd062b\", element=\"df539274-8a86-42d9-947a-40466d6af7bc\")>,\n",
       " <selenium.webdriver.remote.webelement.WebElement (session=\"72854d473f821b55dcfe198951dd062b\", element=\"02d540d3-fe8b-4a31-88c9-b4a9a96e1d65\")>,\n",
       " <selenium.webdriver.remote.webelement.WebElement (session=\"72854d473f821b55dcfe198951dd062b\", element=\"2973dd8b-f1fe-47cf-a079-dfe0a7810626\")>,\n",
       " <selenium.webdriver.remote.webelement.WebElement (session=\"72854d473f821b55dcfe198951dd062b\", element=\"1a986310-e3aa-4508-b5bc-a8f89a194289\")>,\n",
       " <selenium.webdriver.remote.webelement.WebElement (session=\"72854d473f821b55dcfe198951dd062b\", element=\"16a08cd4-17a3-4f47-b87e-da550548dd5a\")>,\n",
       " <selenium.webdriver.remote.webelement.WebElement (session=\"72854d473f821b55dcfe198951dd062b\", element=\"6e455b33-23aa-4b39-96cc-485d6f360678\")>,\n",
       " <selenium.webdriver.remote.webelement.WebElement (session=\"72854d473f821b55dcfe198951dd062b\", element=\"a4dae942-7873-4957-91a7-a4f4037dd468\")>,\n",
       " <selenium.webdriver.remote.webelement.WebElement (session=\"72854d473f821b55dcfe198951dd062b\", element=\"befe764b-bfeb-4130-a69d-32ecf84d6c89\")>,\n",
       " <selenium.webdriver.remote.webelement.WebElement (session=\"72854d473f821b55dcfe198951dd062b\", element=\"b5ad550a-cd73-4ae1-8a36-512a5e29d018\")>,\n",
       " <selenium.webdriver.remote.webelement.WebElement (session=\"72854d473f821b55dcfe198951dd062b\", element=\"5b90859a-e73c-496b-adcb-734d6f953235\")>,\n",
       " <selenium.webdriver.remote.webelement.WebElement (session=\"72854d473f821b55dcfe198951dd062b\", element=\"6798742c-bd13-4808-8ca5-66429d2b0dea\")>,\n",
       " <selenium.webdriver.remote.webelement.WebElement (session=\"72854d473f821b55dcfe198951dd062b\", element=\"a07f3fa7-7b1c-4d11-8aaa-c7854e31956b\")>]"
      ]
     },
     "execution_count": 19,
     "metadata": {},
     "output_type": "execute_result"
    }
   ],
   "source": [
    "# Extracting the web element of the titles.\n",
    "\n",
    "laptop_title_tag = driver.find_elements_by_xpath('//span[@class=\"a-size-medium a-color-base a-text-normal\"]')\n",
    "\n",
    "laptop_title_tag"
   ]
  },
  {
   "cell_type": "code",
   "execution_count": 20,
   "metadata": {},
   "outputs": [
    {
     "data": {
      "text/plain": [
       "['HP Pavilion x360 (2021) 14\" (35.56cms) FHD Touchscreen Laptop, 11th Gen Core i7, 8 GB RAM, 512GB SSD, 2-in-1 Convertible, Windows 10, MS Office, Finger Print Reader (14-dw1040TU)',\n",
       " 'HP Pavilion (2021) Thin & Light 11th Gen Core i7 Laptop, 16 GB RAM, 1TB SSD, Iris Xe Graphics, 14\" (35.56cms) FHD Screen, Windows 10, MS Office, Backlit Keyboard (14-dv0058TU)',\n",
       " '(Renewed) Dell Intel Core i7 4th Gen 14 Inch(35.56 cms) 1366x768 HD Laptop (4GB RAM/320GB HDD/Windows 10 Pro/MS Office 2019/Intel Integrated HD Graphics 4600/2.1Kg,Silver) Latitude E6440',\n",
       " 'Mi Notebook Horizon Edition 14 Intel Core i7-10510U 10th Gen 14-inch (35.56 cms) Thin and Light Laptop(8GB/512GB SSD/Windows 10/Nvidia MX350 2GB Graphics/Grey/1.35Kg), XMA1904-AF+Webcam',\n",
       " '(Renewed) HP Envy 11th Gen Core i7 Processor 13.3-inch (33.78 cms) FHD Touchscreen Laptop (16GB/1TB SSD/Win 10/NVIDIA MX450 2GB/Natural Silver/1.3 kg), 13-ba1018TX',\n",
       " 'HP Pavilion Gaming 10th Gen Intel Core i7 Processor 15.6-inch FHD Gaming Laptop (16GB/512GB SSD + 32GB Intel Optane/Windows 10/NVIDIA 1650Ti 4GB/Shadow Black), 15-dk1509TX',\n",
       " 'Dell Inspiron 5410 14\" FHD Touch Display 2in1 Laptop (i7-1165G7 / 16GB / 512GB SSD / Integrated Graphics / Win 10 + MSO / Backlit KB + FPR + Active Pen / Silver Metal Color) D560469WIN9S',\n",
       " '(Renewed) Dell Intel Core i7 4th Gen 14 Inch(35.56 cms) 1366x768 HD Laptop (8GB RAM/1TB HDD/Windows 10 Pro/MS Office 2019/Intel Integrated HD Graphics 4600/2.1Kg,Silver) Latitude E6440',\n",
       " 'ASUS VivoBook S S14 Intel Core i7-1165G7 11th Gen 14-inch FHD Thin and Light Laptop (8GB RAM/512GB SSD + 32GB Optane Memory/Windows 10/Office 2019/Iris X Graphics ;Dreamy White;1.4 Kg), S433EA-AM702TS',\n",
       " 'HP Pavilion Gaming(2021) 10th Gen Intel Core i7 15.6-inch(39.6 cm) FHD IPS 144Hz Gaming Laptop (16GB/512GB SSD + 32GB Intel Optane/NVIDIA GTX 1650Ti 4GB/Win 10/MS Office/Shadow Black), 15-DK1511TX',\n",
       " '(Renewed) Dell XPS Intel 8th Gen Core i7 13.3-Inch (33.78 cms) 1920x1080 Thin and Light Laptop (16 GB/512 GB SSD/Windows 10/MS Office /Intel/Gold/1.21 Kg), 9370',\n",
       " 'Lenovo Yoga 7 11th Gen Intel Core i7 14\" (35.56cms) Full HD IPS 2-in-1 Touchscreen Laptop (16GB/512GB SSD/Windows 10/MS Office 2019/Fingerprint Reader/Slate Grey/Aluminium Surface/1.43Kg), 82BH004HIN',\n",
       " 'DELL Inspiron 5593 15.6\" (39.62cms) Laptop (10th Gen Core i7-1065G7/8GB/1TB HDD + 512GB SSD/Windows 10 Home Plus/4GB NVIDIA MX230 GDDR5 Graphics), Platinum Silver',\n",
       " '(Renewed) Dell Intel Core i7 4th Gen 14 Inch(35.56 cms) 1366x768 HD Laptop (16GB RAM /1TB HDD/Windows 10 Pro/MS Office 2019/Intel Integrated HD Graphics 4600/2.1Kg,Silver) Latitude E6440',\n",
       " 'MSI GF63 Thin 10SCSR-019IN Intel Core i7-10750H 10th Gen 15.6-inch 120Hz Laptop(8GB/512GB NVMe SSD /Windows 10 Home/Nvidia GeForce GTX 1650Ti Max-Q 4GB/Black/1.8Kg ) 9S7-16R412-019',\n",
       " 'Lenovo Legion Y540 Intel Core i7 9th Gen 15.6” FHD Gaming (8GB/256SSD + 1TBHDD/Win10/NVIDIA GeForce GTX 1650 4GB/Raven Black/2.3kg), 81SY00U7IN',\n",
       " 'Life Digital Laptop 15.6-inch (39.62 cms) (Intel Core i7, 4GB RAM, 256GB SSD, Windows 10), ZED AIR CX7',\n",
       " 'Dell Inspiron 5409 14.0\" (35.56cms)FHD WVA AG Display 11th Gen Laptop (i7-1165G7 / 8 GB / 512 SSD / Nvidia MX 350 2GB Graphics / 1 Yr NBD / Win 10 + MS Office H&S / Pebble) D560374WIN9PE',\n",
       " 'Dell Inspiron 15 Gaming 7567 15.6-inch Laptop (7th Gen Core i7-7700HQ/8GB/1TB/Windows 10 with Microsoft Office Home & Student 2016/4GB Graphics)',\n",
       " '(Renewed) Dell Intel Core i7 4th Gen 14 Inch(35.56cms)1366x768 HD Laptop (16GB RAM/128GB SSD & 2TB HDD/Windows 10 Pro/MS Office/Intel Integrated HD Graphics 4600/2.1Kg,Silver) Latitude E6440',\n",
       " 'NEXSTGO Primus NX201 NP15N1IN008P 15.6-inch Laptop (Core i7-8550U/8GB/256GBSSD/Windows 10 Pro/Full HD + IR/Finger Print/Integrated Graphics/Thin & Light/1.88KG), Dark Gray',\n",
       " '(Renewed) HP Intel Core i7 6700HQ 15.6-Inch (39.62 cms) 1920 X 1080 Laptop (16 GB/1.5 TB SSD/Windows/Intel HD Graphics & Nvidia 1000m/Grey/2.7 Kg), Zbook 15',\n",
       " 'Lenovo IdeaPad Flex 5 11th Gen Intel Core i7 14-inch FHD IPS 2-in-1 Touchscreen Laptop (16GB/512GB SSD/Win 10/Office 2019/Lenovo Digital Pen Stylus/Fingerprint Reader/Graphite Grey/1.5Kg), 82HS0092IN',\n",
       " 'ASUS ROG Strix G15 (2020), 15.6\" FHD 144Hz, Intel Core i7-10870H 10th Gen, GTX 1650 Ti 4GB Graphics, Gaming Laptop (8GB RAM/1TB SSD/Office 2019/Windows 10/Electro Punk/2.3 Kg), G512LI-HN331TS']"
      ]
     },
     "execution_count": 20,
     "metadata": {},
     "output_type": "execute_result"
    }
   ],
   "source": [
    "# Extracting the texts from the web-elements of the titles.\n",
    "\n",
    "title = []\n",
    "\n",
    "for t10 in laptop_title_tag:\n",
    "    title.append(t10.text)\n",
    "    \n",
    "title"
   ]
  },
  {
   "cell_type": "code",
   "execution_count": 21,
   "metadata": {},
   "outputs": [
    {
     "data": {
      "text/plain": [
       "['HP Pavilion x360 (2021) 14\" (35.56cms) FHD Touchscreen Laptop, 11th Gen Core i7, 8 GB RAM, 512GB SSD, 2-in-1 Convertible, Windows 10, MS Office, Finger Print Reader (14-dw1040TU)',\n",
       " 'HP Pavilion (2021) Thin & Light 11th Gen Core i7 Laptop, 16 GB RAM, 1TB SSD, Iris Xe Graphics, 14\" (35.56cms) FHD Screen, Windows 10, MS Office, Backlit Keyboard (14-dv0058TU)',\n",
       " '(Renewed) Dell Intel Core i7 4th Gen 14 Inch(35.56 cms) 1366x768 HD Laptop (4GB RAM/320GB HDD/Windows 10 Pro/MS Office 2019/Intel Integrated HD Graphics 4600/2.1Kg,Silver) Latitude E6440',\n",
       " 'Mi Notebook Horizon Edition 14 Intel Core i7-10510U 10th Gen 14-inch (35.56 cms) Thin and Light Laptop(8GB/512GB SSD/Windows 10/Nvidia MX350 2GB Graphics/Grey/1.35Kg), XMA1904-AF+Webcam',\n",
       " '(Renewed) HP Envy 11th Gen Core i7 Processor 13.3-inch (33.78 cms) FHD Touchscreen Laptop (16GB/1TB SSD/Win 10/NVIDIA MX450 2GB/Natural Silver/1.3 kg), 13-ba1018TX',\n",
       " 'HP Pavilion Gaming 10th Gen Intel Core i7 Processor 15.6-inch FHD Gaming Laptop (16GB/512GB SSD + 32GB Intel Optane/Windows 10/NVIDIA 1650Ti 4GB/Shadow Black), 15-dk1509TX',\n",
       " 'Dell Inspiron 5410 14\" FHD Touch Display 2in1 Laptop (i7-1165G7 / 16GB / 512GB SSD / Integrated Graphics / Win 10 + MSO / Backlit KB + FPR + Active Pen / Silver Metal Color) D560469WIN9S',\n",
       " '(Renewed) Dell Intel Core i7 4th Gen 14 Inch(35.56 cms) 1366x768 HD Laptop (8GB RAM/1TB HDD/Windows 10 Pro/MS Office 2019/Intel Integrated HD Graphics 4600/2.1Kg,Silver) Latitude E6440',\n",
       " 'ASUS VivoBook S S14 Intel Core i7-1165G7 11th Gen 14-inch FHD Thin and Light Laptop (8GB RAM/512GB SSD + 32GB Optane Memory/Windows 10/Office 2019/Iris X Graphics ;Dreamy White;1.4 Kg), S433EA-AM702TS',\n",
       " 'HP Pavilion Gaming(2021) 10th Gen Intel Core i7 15.6-inch(39.6 cm) FHD IPS 144Hz Gaming Laptop (16GB/512GB SSD + 32GB Intel Optane/NVIDIA GTX 1650Ti 4GB/Win 10/MS Office/Shadow Black), 15-DK1511TX']"
      ]
     },
     "execution_count": 21,
     "metadata": {},
     "output_type": "execute_result"
    }
   ],
   "source": [
    "# Selecting first 10 laptops titles.\n",
    "\n",
    "titles10 = title[:10]\n",
    "\n",
    "titles10"
   ]
  },
  {
   "cell_type": "code",
   "execution_count": 22,
   "metadata": {},
   "outputs": [
    {
     "data": {
      "text/plain": [
       "10"
      ]
     },
     "execution_count": 22,
     "metadata": {},
     "output_type": "execute_result"
    }
   ],
   "source": [
    "len (titles10)"
   ]
  },
  {
   "cell_type": "code",
   "execution_count": 29,
   "metadata": {},
   "outputs": [
    {
     "data": {
      "text/plain": [
       "['https://www.amazon.in/HP-Pavilion-Touchscreen-Convertible-14-dw1040TU/dp/B08R843NHL/ref=sr_1_1?dchild=1&keywords=Laptops&qid=1625593897&refinements=p_n_feature_thirteen_browse-bin%3A12598163031%7C16757432031&rnid=12598141031&s=computers&sr=1-1',\n",
       " 'https://www.amazon.in/HP-Pavilion-Graphics-35-56cms-14-dv0058TU/dp/B08WB857GB/ref=sr_1_2?dchild=1&keywords=Laptops&qid=1625593897&refinements=p_n_feature_thirteen_browse-bin%3A12598163031%7C16757432031&rnid=12598141031&s=computers&sr=1-2',\n",
       " 'https://www.amazon.in/Dell-1366x768-Integrated-Graphics-Latitude/dp/B0974W4W9W/ref=sr_1_3?dchild=1&keywords=Laptops&qid=1625593897&refinements=p_n_feature_thirteen_browse-bin%3A12598163031%7C16757432031&rnid=12598141031&s=computers&sr=1-3',\n",
       " 'https://www.amazon.in/Notebook-Horizon-i7-10510U-Graphics-XMA1904-AF/dp/B089F2W1KW/ref=sr_1_4?dchild=1&keywords=Laptops&qid=1625593897&refinements=p_n_feature_thirteen_browse-bin%3A12598163031%7C16757432031&rnid=12598141031&s=computers&sr=1-4',\n",
       " 'https://www.amazon.in/HP-Processor-13-3-inch-Touchscreen-13-ba1018TX/dp/B097Q3T8ZT/ref=sr_1_5?dchild=1&keywords=Laptops&qid=1625593897&refinements=p_n_feature_thirteen_browse-bin%3A12598163031%7C16757432031&rnid=12598141031&s=computers&sr=1-5',\n",
       " 'https://www.amazon.in/HP-Pavilion-Processor-15-6-inch-15-dk1509TX/dp/B08ZN7GBQ5/ref=sr_1_6?dchild=1&keywords=Laptops&qid=1625593897&refinements=p_n_feature_thirteen_browse-bin%3A12598163031%7C16757432031&rnid=12598141031&s=computers&sr=1-6',\n",
       " 'https://www.amazon.in/Dell-5410-i7-1165G7-Integrated-D560469WIN9S/dp/B095S9NJ4S/ref=sr_1_7?dchild=1&keywords=Laptops&qid=1625593897&refinements=p_n_feature_thirteen_browse-bin%3A12598163031%7C16757432031&rnid=12598141031&s=computers&sr=1-7',\n",
       " 'https://www.amazon.in/Dell-1366x768-Integrated-Graphics-Latitude/dp/B0974XBX64/ref=sr_1_8?dchild=1&keywords=Laptops&qid=1625593897&refinements=p_n_feature_thirteen_browse-bin%3A12598163031%7C16757432031&rnid=12598141031&s=computers&sr=1-8',\n",
       " 'https://www.amazon.in/ASUS-VivoBook-i7-1165G7-Graphics-S433EA-AM702TS/dp/B08SN9GJXH/ref=sr_1_9?dchild=1&keywords=Laptops&qid=1625593897&refinements=p_n_feature_thirteen_browse-bin%3A12598163031%7C16757432031&rnid=12598141031&s=computers&sr=1-9',\n",
       " 'https://www.amazon.in/HP-Pavilion-Gaming-Laptop-15-DK1511TX/dp/B0972H63VL/ref=sr_1_10?dchild=1&keywords=Laptops&qid=1625593897&refinements=p_n_feature_thirteen_browse-bin%3A12598163031%7C16757432031&rnid=12598141031&s=computers&sr=1-10',\n",
       " 'https://www.amazon.in/Dell-13-3-inch-i7-8550U-Integrated-Graphics/dp/B08MJDHDBL/ref=sr_1_11?dchild=1&keywords=Laptops&qid=1625593897&refinements=p_n_feature_thirteen_browse-bin%3A12598163031%7C16757432031&rnid=12598141031&s=computers&sr=1-11',\n",
       " 'https://www.amazon.in/Lenovo-Touchscreen-Fingerprint-Aluminium-82BH004HIN/dp/B08P3M22QQ/ref=sr_1_12?dchild=1&keywords=Laptops&qid=1625593897&refinements=p_n_feature_thirteen_browse-bin%3A12598163031%7C16757432031&rnid=12598141031&s=computers&sr=1-12',\n",
       " 'https://www.amazon.in/Inspiron-5593-15-6-inch-i7-1065G7-Graphics/dp/B07ZG4S91Z/ref=sr_1_13?dchild=1&keywords=Laptops&qid=1625593897&refinements=p_n_feature_thirteen_browse-bin%3A12598163031%7C16757432031&rnid=12598141031&s=computers&sr=1-13',\n",
       " 'https://www.amazon.in/Dell-1366x768-Integrated-Graphics-Latitude/dp/B0974WWK87/ref=sr_1_14?dchild=1&keywords=Laptops&qid=1625593897&refinements=p_n_feature_thirteen_browse-bin%3A12598163031%7C16757432031&rnid=12598141031&s=computers&sr=1-14',\n",
       " 'https://www.amazon.in/GF63-Thin-10SCSR-019IN-i7-10750H-9S7-16R412-019/dp/B0897SXQNN/ref=sr_1_15?dchild=1&keywords=Laptops&qid=1625593897&refinements=p_n_feature_thirteen_browse-bin%3A12598163031%7C16757432031&rnid=12598141031&s=computers&sr=1-15',\n",
       " 'https://www.amazon.in/Lenovo-Legion-Gaming-GeForce-81SY00U7IN/dp/B092MRQCJ6/ref=sr_1_16?dchild=1&keywords=Laptops&qid=1625593897&refinements=p_n_feature_thirteen_browse-bin%3A12598163031%7C16757432031&rnid=12598141031&s=computers&sr=1-16',\n",
       " 'https://www.amazon.in/LifeDigital-Laptop-Intel%C2%AE-Storage-Windows/dp/B08HRMHZ8J/ref=sr_1_17?dchild=1&keywords=Laptops&qid=1625593897&refinements=p_n_feature_thirteen_browse-bin%3A12598163031%7C16757432031&rnid=12598141031&s=computers&sr=1-17',\n",
       " 'https://www.amazon.in/Dell-Inspiron-35-56cms-i7-1165G7-D560374WIN9PE/dp/B08MQBFY23/ref=sr_1_18?dchild=1&keywords=Laptops&qid=1625593897&refinements=p_n_feature_thirteen_browse-bin%3A12598163031%7C16757432031&rnid=12598141031&s=computers&sr=1-18',\n",
       " 'https://www.amazon.in/Dell-7567-15-6-inch-i7-7700HQ-Microsoft/dp/B0749KG8XG/ref=sr_1_19?dchild=1&keywords=Laptops&qid=1625593897&refinements=p_n_feature_thirteen_browse-bin%3A12598163031%7C16757432031&rnid=12598141031&s=computers&sr=1-19',\n",
       " 'https://www.amazon.in/Dell-35-56cms-1366x768-Integrated-Graphics/dp/B097PLFY4B/ref=sr_1_20?dchild=1&keywords=Laptops&qid=1625593897&refinements=p_n_feature_thirteen_browse-bin%3A12598163031%7C16757432031&rnid=12598141031&s=computers&sr=1-20',\n",
       " 'https://www.amazon.in/Nexstgo-NP15N1IN008P-15-6-inch-i7-8550U-Integrated/dp/B07KGP3HP3/ref=sr_1_21?dchild=1&keywords=Laptops&qid=1625593897&refinements=p_n_feature_thirteen_browse-bin%3A12598163031%7C16757432031&rnid=12598141031&s=computers&sr=1-21',\n",
       " 'https://www.amazon.in/Renewed-HP-15-6-Inch-Graphics-Zbook/dp/B0912CZSHP/ref=sr_1_22?dchild=1&keywords=Laptops&qid=1625593897&refinements=p_n_feature_thirteen_browse-bin%3A12598163031%7C16757432031&rnid=12598141031&s=computers&sr=1-22',\n",
       " 'https://www.amazon.in/Lenovo-Touchscreen-Fingerprint-Graphite-82HS0092IN/dp/B08WRZQBQ6/ref=sr_1_23?dchild=1&keywords=Laptops&qid=1625593897&refinements=p_n_feature_thirteen_browse-bin%3A12598163031%7C16757432031&rnid=12598141031&s=computers&sr=1-23',\n",
       " 'https://www.amazon.in/ASUS-i7-10870H-Graphics-Windows-G512LI-HN331TS/dp/B08BL53QY8/ref=sr_1_24?dchild=1&keywords=Laptops&qid=1625593897&refinements=p_n_feature_thirteen_browse-bin%3A12598163031%7C16757432031&rnid=12598141031&s=computers&sr=1-24']"
      ]
     },
     "execution_count": 29,
     "metadata": {},
     "output_type": "execute_result"
    }
   ],
   "source": [
    "# To extract the ratings of the laptops firstly we'll extract the page urls of every laptop.\n",
    "\n",
    "laptop_ratings_urls = []\n",
    "\n",
    "url10 = driver.find_elements_by_xpath('//h2[@class=\"a-size-mini a-spacing-none a-color-base s-line-clamp-2\"]//a')\n",
    "for u10 in url10:\n",
    "    laptop_ratings_urls.append(u10.get_attribute('href'))\n",
    "    \n",
    "laptop_ratings_urls"
   ]
  },
  {
   "cell_type": "code",
   "execution_count": 32,
   "metadata": {},
   "outputs": [
    {
     "data": {
      "text/plain": [
       "['3.9 out of 5',\n",
       " '4.5 out of 5',\n",
       " '4.4 out of 5',\n",
       " '4.2 out of 5',\n",
       " '4.5 out of 5',\n",
       " '4.4 out of 5',\n",
       " '3 out of 5',\n",
       " '4.1 out of 5',\n",
       " '3.8 out of 5',\n",
       " '2.9 out of 5',\n",
       " '4.3 out of 5',\n",
       " '3.7 out of 5',\n",
       " '2.9 out of 5',\n",
       " '2.7 out of 5',\n",
       " '1.9 out of 5',\n",
       " '5 out of 5',\n",
       " '3.9 out of 5',\n",
       " '3.4 out of 5']"
      ]
     },
     "execution_count": 32,
     "metadata": {},
     "output_type": "execute_result"
    }
   ],
   "source": [
    "# Extracting texts from the page urls of the laptops.\n",
    "\n",
    "rating10 = []\n",
    "\n",
    "for r10 in laptop_ratings_urls:\n",
    "    driver.get(r10)\n",
    "    time.sleep(10)\n",
    "    try:\n",
    "        ratings_tag10 = driver.find_element_by_xpath('//span[@class=\"a-size-medium a-color-base\"]')\n",
    "        rating10.append(ratings_tag10.text)\n",
    "    except:\n",
    "        pass\n",
    "rating10"
   ]
  },
  {
   "cell_type": "code",
   "execution_count": 33,
   "metadata": {},
   "outputs": [
    {
     "data": {
      "text/plain": [
       "['3.9 out of 5',\n",
       " '4.5 out of 5',\n",
       " '4.4 out of 5',\n",
       " '4.2 out of 5',\n",
       " '4.5 out of 5',\n",
       " '4.4 out of 5',\n",
       " '3 out of 5',\n",
       " '4.1 out of 5',\n",
       " '3.8 out of 5',\n",
       " '2.9 out of 5']"
      ]
     },
     "execution_count": 33,
     "metadata": {},
     "output_type": "execute_result"
    }
   ],
   "source": [
    "rating10 = rating10[:10]\n",
    "\n",
    "rating10"
   ]
  },
  {
   "cell_type": "code",
   "execution_count": 41,
   "metadata": {},
   "outputs": [
    {
     "data": {
      "text/plain": [
       "[<selenium.webdriver.remote.webelement.WebElement (session=\"72854d473f821b55dcfe198951dd062b\", element=\"3cf2f2de-5b7a-4dd0-92b6-564c393996cb\")>,\n",
       " <selenium.webdriver.remote.webelement.WebElement (session=\"72854d473f821b55dcfe198951dd062b\", element=\"9356133d-a758-4fef-a950-42b5da937763\")>,\n",
       " <selenium.webdriver.remote.webelement.WebElement (session=\"72854d473f821b55dcfe198951dd062b\", element=\"1500a686-3138-401c-98a1-d8dd5f9432b6\")>,\n",
       " <selenium.webdriver.remote.webelement.WebElement (session=\"72854d473f821b55dcfe198951dd062b\", element=\"093cff0d-017e-4f01-a06c-703f751c5fe9\")>,\n",
       " <selenium.webdriver.remote.webelement.WebElement (session=\"72854d473f821b55dcfe198951dd062b\", element=\"4f63171c-a5d4-4c07-9cb7-541896778a82\")>,\n",
       " <selenium.webdriver.remote.webelement.WebElement (session=\"72854d473f821b55dcfe198951dd062b\", element=\"9f069a2a-c709-43fe-a3f3-75214f829594\")>,\n",
       " <selenium.webdriver.remote.webelement.WebElement (session=\"72854d473f821b55dcfe198951dd062b\", element=\"21d96681-9d2f-4fbc-9c93-92c817c1879c\")>,\n",
       " <selenium.webdriver.remote.webelement.WebElement (session=\"72854d473f821b55dcfe198951dd062b\", element=\"b84982dd-7a50-40e8-8d8e-1aa2112b4901\")>,\n",
       " <selenium.webdriver.remote.webelement.WebElement (session=\"72854d473f821b55dcfe198951dd062b\", element=\"4349cd3e-8d89-4b2e-9da3-df5502119e20\")>,\n",
       " <selenium.webdriver.remote.webelement.WebElement (session=\"72854d473f821b55dcfe198951dd062b\", element=\"4d1e20c3-32f1-4db3-9038-f000b363d12a\")>,\n",
       " <selenium.webdriver.remote.webelement.WebElement (session=\"72854d473f821b55dcfe198951dd062b\", element=\"06076b94-41f5-49cf-8cab-8ad0cc86d923\")>,\n",
       " <selenium.webdriver.remote.webelement.WebElement (session=\"72854d473f821b55dcfe198951dd062b\", element=\"fe8e758c-efdf-4685-a170-7a3ea2d252fb\")>,\n",
       " <selenium.webdriver.remote.webelement.WebElement (session=\"72854d473f821b55dcfe198951dd062b\", element=\"6f00c618-8305-4a0d-b85e-14bfd4d672c7\")>,\n",
       " <selenium.webdriver.remote.webelement.WebElement (session=\"72854d473f821b55dcfe198951dd062b\", element=\"d5332c61-90d8-447b-8037-9bfe2bd2188a\")>,\n",
       " <selenium.webdriver.remote.webelement.WebElement (session=\"72854d473f821b55dcfe198951dd062b\", element=\"d0604c6c-a343-45bd-a552-17506bc9662a\")>,\n",
       " <selenium.webdriver.remote.webelement.WebElement (session=\"72854d473f821b55dcfe198951dd062b\", element=\"d5429fe0-8bc2-4465-a459-bf042e3418a3\")>,\n",
       " <selenium.webdriver.remote.webelement.WebElement (session=\"72854d473f821b55dcfe198951dd062b\", element=\"73cf34c9-19ac-40ba-9772-ad49dca85ffe\")>,\n",
       " <selenium.webdriver.remote.webelement.WebElement (session=\"72854d473f821b55dcfe198951dd062b\", element=\"4781134e-4e82-4e4c-8792-99e43092773d\")>,\n",
       " <selenium.webdriver.remote.webelement.WebElement (session=\"72854d473f821b55dcfe198951dd062b\", element=\"5df271ca-92d1-4034-88b3-a8ea60757512\")>,\n",
       " <selenium.webdriver.remote.webelement.WebElement (session=\"72854d473f821b55dcfe198951dd062b\", element=\"6d926706-1ae4-4754-96e7-07754ef7b269\")>,\n",
       " <selenium.webdriver.remote.webelement.WebElement (session=\"72854d473f821b55dcfe198951dd062b\", element=\"69b8afde-21ce-45c5-acd0-5f3afe5510e8\")>,\n",
       " <selenium.webdriver.remote.webelement.WebElement (session=\"72854d473f821b55dcfe198951dd062b\", element=\"bad44a51-c13a-4ca6-b1b5-438819d676c0\")>,\n",
       " <selenium.webdriver.remote.webelement.WebElement (session=\"72854d473f821b55dcfe198951dd062b\", element=\"76da3ce8-ae94-4dc9-a470-40f836ddd8be\")>]"
      ]
     },
     "execution_count": 41,
     "metadata": {},
     "output_type": "execute_result"
    }
   ],
   "source": [
    "# Extracting the web elements of the prices.\n",
    "\n",
    "laptop_p_tag = driver.find_elements_by_xpath('//span[@class=\"a-price-whole\"]')\n",
    "\n",
    "laptop_p_tag"
   ]
  },
  {
   "cell_type": "code",
   "execution_count": 42,
   "metadata": {},
   "outputs": [
    {
     "data": {
      "text/plain": [
       "['78,993',\n",
       " '84,990',\n",
       " '59,999',\n",
       " '86,990',\n",
       " '91,790',\n",
       " '76,990',\n",
       " '91,990',\n",
       " '97,454',\n",
       " '82,990',\n",
       " '84,990',\n",
       " '67,990',\n",
       " '40,932',\n",
       " '2,56,074',\n",
       " '84,113',\n",
       " '79,990',\n",
       " '56,155',\n",
       " '80,990',\n",
       " '83,990',\n",
       " '46,999',\n",
       " '86,990',\n",
       " '1,18,992',\n",
       " '1,23,990',\n",
       " '78,699']"
      ]
     },
     "execution_count": 42,
     "metadata": {},
     "output_type": "execute_result"
    }
   ],
   "source": [
    "# Extracting text from the web elements of the prices.\n",
    "\n",
    "laptop_price = []\n",
    "\n",
    "for lp in laptop_p_tag:\n",
    "    laptop_price.append(lp.text)\n",
    "    \n",
    "laptop_price"
   ]
  },
  {
   "cell_type": "code",
   "execution_count": 43,
   "metadata": {},
   "outputs": [
    {
     "data": {
      "text/plain": [
       "['78,993',\n",
       " '84,990',\n",
       " '59,999',\n",
       " '86,990',\n",
       " '91,790',\n",
       " '76,990',\n",
       " '91,990',\n",
       " '97,454',\n",
       " '82,990',\n",
       " '84,990']"
      ]
     },
     "execution_count": 43,
     "metadata": {},
     "output_type": "execute_result"
    }
   ],
   "source": [
    "laptop_prices = laptop_price[:10]\n",
    "\n",
    "laptop_prices"
   ]
  },
  {
   "cell_type": "code",
   "execution_count": 44,
   "metadata": {},
   "outputs": [
    {
     "data": {
      "text/html": [
       "<div>\n",
       "<style scoped>\n",
       "    .dataframe tbody tr th:only-of-type {\n",
       "        vertical-align: middle;\n",
       "    }\n",
       "\n",
       "    .dataframe tbody tr th {\n",
       "        vertical-align: top;\n",
       "    }\n",
       "\n",
       "    .dataframe thead th {\n",
       "        text-align: right;\n",
       "    }\n",
       "</style>\n",
       "<table border=\"1\" class=\"dataframe\">\n",
       "  <thead>\n",
       "    <tr style=\"text-align: right;\">\n",
       "      <th></th>\n",
       "      <th>Laptop Title</th>\n",
       "      <th>Laptop Rating</th>\n",
       "      <th>Laptop Price</th>\n",
       "    </tr>\n",
       "  </thead>\n",
       "  <tbody>\n",
       "    <tr>\n",
       "      <th>0</th>\n",
       "      <td>HP Pavilion x360 (2021) 14\" (35.56cms) FHD Tou...</td>\n",
       "      <td>3.9 out of 5</td>\n",
       "      <td>78,993</td>\n",
       "    </tr>\n",
       "    <tr>\n",
       "      <th>1</th>\n",
       "      <td>HP Pavilion (2021) Thin &amp; Light 11th Gen Core ...</td>\n",
       "      <td>4.5 out of 5</td>\n",
       "      <td>84,990</td>\n",
       "    </tr>\n",
       "    <tr>\n",
       "      <th>2</th>\n",
       "      <td>(Renewed) Dell Intel Core i7 4th Gen 14 Inch(3...</td>\n",
       "      <td>4.4 out of 5</td>\n",
       "      <td>59,999</td>\n",
       "    </tr>\n",
       "    <tr>\n",
       "      <th>3</th>\n",
       "      <td>Mi Notebook Horizon Edition 14 Intel Core i7-1...</td>\n",
       "      <td>4.2 out of 5</td>\n",
       "      <td>86,990</td>\n",
       "    </tr>\n",
       "    <tr>\n",
       "      <th>4</th>\n",
       "      <td>(Renewed) HP Envy 11th Gen Core i7 Processor 1...</td>\n",
       "      <td>4.5 out of 5</td>\n",
       "      <td>91,790</td>\n",
       "    </tr>\n",
       "    <tr>\n",
       "      <th>5</th>\n",
       "      <td>HP Pavilion Gaming 10th Gen Intel Core i7 Proc...</td>\n",
       "      <td>4.4 out of 5</td>\n",
       "      <td>76,990</td>\n",
       "    </tr>\n",
       "    <tr>\n",
       "      <th>6</th>\n",
       "      <td>Dell Inspiron 5410 14\" FHD Touch Display 2in1 ...</td>\n",
       "      <td>3 out of 5</td>\n",
       "      <td>91,990</td>\n",
       "    </tr>\n",
       "    <tr>\n",
       "      <th>7</th>\n",
       "      <td>(Renewed) Dell Intel Core i7 4th Gen 14 Inch(3...</td>\n",
       "      <td>4.1 out of 5</td>\n",
       "      <td>97,454</td>\n",
       "    </tr>\n",
       "    <tr>\n",
       "      <th>8</th>\n",
       "      <td>ASUS VivoBook S S14 Intel Core i7-1165G7 11th ...</td>\n",
       "      <td>3.8 out of 5</td>\n",
       "      <td>82,990</td>\n",
       "    </tr>\n",
       "    <tr>\n",
       "      <th>9</th>\n",
       "      <td>HP Pavilion Gaming(2021) 10th Gen Intel Core i...</td>\n",
       "      <td>2.9 out of 5</td>\n",
       "      <td>84,990</td>\n",
       "    </tr>\n",
       "  </tbody>\n",
       "</table>\n",
       "</div>"
      ],
      "text/plain": [
       "                                       Laptop Title  Laptop Rating  \\\n",
       "0  HP Pavilion x360 (2021) 14\" (35.56cms) FHD Tou...  3.9 out of 5   \n",
       "1  HP Pavilion (2021) Thin & Light 11th Gen Core ...  4.5 out of 5   \n",
       "2  (Renewed) Dell Intel Core i7 4th Gen 14 Inch(3...  4.4 out of 5   \n",
       "3  Mi Notebook Horizon Edition 14 Intel Core i7-1...  4.2 out of 5   \n",
       "4  (Renewed) HP Envy 11th Gen Core i7 Processor 1...  4.5 out of 5   \n",
       "5  HP Pavilion Gaming 10th Gen Intel Core i7 Proc...  4.4 out of 5   \n",
       "6  Dell Inspiron 5410 14\" FHD Touch Display 2in1 ...    3 out of 5   \n",
       "7  (Renewed) Dell Intel Core i7 4th Gen 14 Inch(3...  4.1 out of 5   \n",
       "8  ASUS VivoBook S S14 Intel Core i7-1165G7 11th ...  3.8 out of 5   \n",
       "9  HP Pavilion Gaming(2021) 10th Gen Intel Core i...  2.9 out of 5   \n",
       "\n",
       "  Laptop Price  \n",
       "0       78,993  \n",
       "1       84,990  \n",
       "2       59,999  \n",
       "3       86,990  \n",
       "4       91,790  \n",
       "5       76,990  \n",
       "6       91,990  \n",
       "7       97,454  \n",
       "8       82,990  \n",
       "9       84,990  "
      ]
     },
     "execution_count": 44,
     "metadata": {},
     "output_type": "execute_result"
    }
   ],
   "source": [
    "laptops10 = pd.DataFrame({})\n",
    "\n",
    "laptops10['Laptop Title ']= titles10\n",
    "laptops10['Laptop Rating']= rating10\n",
    "laptops10['Laptop Price']=laptop_prices\n",
    "laptops10"
   ]
  },
  {
   "cell_type": "code",
   "execution_count": null,
   "metadata": {},
   "outputs": [],
   "source": []
  }
 ],
 "metadata": {
  "kernelspec": {
   "display_name": "Python 3",
   "language": "python",
   "name": "python3"
  },
  "language_info": {
   "codemirror_mode": {
    "name": "ipython",
    "version": 3
   },
   "file_extension": ".py",
   "mimetype": "text/x-python",
   "name": "python",
   "nbconvert_exporter": "python",
   "pygments_lexer": "ipython3",
   "version": "3.8.5"
  }
 },
 "nbformat": 4,
 "nbformat_minor": 4
}
